{
 "cells": [
  {
   "cell_type": "code",
   "execution_count": 1,
   "id": "cb8a21f9-0cf9-4474-9c9f-855b5ef6aa6e",
   "metadata": {},
   "outputs": [],
   "source": [
    "import torch\n",
    "import torch.nn as nn\n",
    "import json\n",
    "from torch_geometric.loader import DataLoader\n",
    "from pathlib import Path\n",
    "import numpy as np\n",
    "from tqdm import tqdm\n",
    "from typing import Set\n",
    "import matplotlib.pyplot as plt\n",
    "import seaborn as sns\n",
    "from collections import defaultdict\n",
    "import os\n",
    "\n",
    "# Import your existing modules\n",
    "from src.models import CoGraphNet\n",
    "from src.data.document_dataset import DocumentGraphDataset\n",
    "from src.train import FocalLoss\n"
   ]
  },
  {
   "cell_type": "code",
   "execution_count": 2,
   "id": "e18a1a57-2472-4264-9c28-05d16fac3c20",
   "metadata": {},
   "outputs": [],
   "source": [
    "# -------------------------\n",
    "# Create Plots Folder\n",
    "# -------------------------\n",
    "PLOT_DIR = \"plots\"\n",
    "if not os.path.exists(PLOT_DIR):\n",
    "    os.makedirs(PLOT_DIR)"
   ]
  },
  {
   "cell_type": "code",
   "execution_count": 3,
   "id": "879cb262-76b6-4b23-9b72-c9715546ccbb",
   "metadata": {},
   "outputs": [],
   "source": [
    "# -------------------------\n",
    "# Helper Functions for Calibration\n",
    "# -------------------------\n",
    "def compute_ece(probs, labels, n_bins=10):\n",
    "    bins = np.linspace(0.0, 1.0, n_bins + 1)\n",
    "    ece = 0.0\n",
    "    max_probs = probs.max(axis=1)\n",
    "    pred_labels = probs.argmax(axis=1)\n",
    "    for i in range(n_bins):\n",
    "        bin_lower = bins[i]\n",
    "        bin_upper = bins[i+1]\n",
    "        in_bin = (max_probs > bin_lower) & (max_probs <= bin_upper)\n",
    "        prop_in_bin = np.mean(in_bin)\n",
    "        if prop_in_bin > 0:\n",
    "            accuracy_in_bin = np.mean(labels[in_bin] == pred_labels[in_bin])\n",
    "            avg_confidence_in_bin = np.mean(max_probs[in_bin])\n",
    "            ece += np.abs(avg_confidence_in_bin - accuracy_in_bin) * prop_in_bin\n",
    "    return ece"
   ]
  },
  {
   "cell_type": "code",
   "execution_count": 4,
   "id": "9809c667-abd5-40ee-af04-7254c8429d99",
   "metadata": {},
   "outputs": [],
   "source": [
    "def plot_reliability_diagram(probs, labels, n_bins=10, save_path=None):\n",
    "    bins = np.linspace(0.0, 1.0, n_bins + 1)\n",
    "    bin_centers = (bins[:-1] + bins[1:]) / 2.0\n",
    "    max_probs = probs.max(axis=1)\n",
    "    pred_labels = probs.argmax(axis=1)\n",
    "    accuracies = []\n",
    "    confidences = []\n",
    "    for i in range(n_bins):\n",
    "        bin_lower = bins[i]\n",
    "        bin_upper = bins[i+1]\n",
    "        in_bin = (max_probs > bin_lower) & (max_probs <= bin_upper)\n",
    "        if np.sum(in_bin) > 0:\n",
    "            accuracy = np.mean(labels[in_bin] == pred_labels[in_bin])\n",
    "            confidence = np.mean(max_probs[in_bin])\n",
    "        else:\n",
    "            accuracy = 0.0\n",
    "            confidence = 0.0\n",
    "        accuracies.append(accuracy)\n",
    "        confidences.append(confidence)\n",
    "    plt.figure(figsize=(8, 6))\n",
    "    plt.plot(bin_centers, accuracies, marker='o', label=\"Empirical Accuracy\")\n",
    "    plt.plot(bin_centers, confidences, marker='s', label=\"Average Confidence\")\n",
    "    plt.plot([0, 1], [0, 1], linestyle='--', color='gray', label=\"Perfect Calibration\")\n",
    "    plt.xlabel(\"Confidence\")\n",
    "    plt.ylabel(\"Accuracy\")\n",
    "    plt.title(\"Reliability Diagram\")\n",
    "    plt.legend()\n",
    "    plt.grid(True)\n",
    "    if save_path:\n",
    "        plt.savefig(save_path)\n",
    "    plt.close()"
   ]
  },
  {
   "cell_type": "code",
   "execution_count": 5,
   "id": "022e0c95-fb27-4e84-8a3d-36fb71ca74e0",
   "metadata": {},
   "outputs": [],
   "source": [
    "# -------------------------\n",
    "# Utility Functions\n",
    "# -------------------------\n",
    "def get_all_categories(train_dir: str, test_dir: str) -> Set[str]:\n",
    "    \"\"\"Get all unique categories across all datasets.\"\"\"\n",
    "    categories = set()\n",
    "    for data_dir in [train_dir, test_dir]:\n",
    "        for file in Path(data_dir).glob('*.json'):\n",
    "            with open(file, 'r', encoding='utf-8') as f:\n",
    "                doc = json.load(f)\n",
    "                if 'text' in doc and 'category' in doc and doc['text'].strip() and doc['category'].strip():\n",
    "                    categories.add(doc['category'])\n",
    "    return categories"
   ]
  },
  {
   "cell_type": "code",
   "execution_count": 6,
   "id": "49a4b56a-8095-433a-a891-89cd9276b823",
   "metadata": {},
   "outputs": [],
   "source": [
    "def create_dataloaders(root: str, train_dir: str, test_dir: str, batch_size: int):\n",
    "    \"\"\"Create DataLoader instances with a train/validation split.\"\"\"\n",
    "    all_categories = get_all_categories(train_dir, test_dir)\n",
    "    category_to_idx = {cat: idx for idx, cat in enumerate(sorted(all_categories))}\n",
    "    num_classes = len(category_to_idx)\n",
    "    \n",
    "    full_train_dataset = DocumentGraphDataset(\n",
    "        f\"{root}/train\", \n",
    "        train_dir, \n",
    "        category_to_idx=category_to_idx\n",
    "    )\n",
    "    \n",
    "    dataset_size = len(full_train_dataset)\n",
    "    val_size = int(dataset_size * 0.1)  # 10% for validation\n",
    "    train_size = dataset_size - val_size\n",
    "    \n",
    "    generator = torch.Generator().manual_seed(42)\n",
    "    train_dataset, val_dataset = torch.utils.data.random_split(\n",
    "        full_train_dataset, \n",
    "        [train_size, val_size],\n",
    "        generator=generator\n",
    "    )\n",
    "    \n",
    "    train_loader = DataLoader(\n",
    "        train_dataset,\n",
    "        batch_size=batch_size,\n",
    "        shuffle=True,\n",
    "        num_workers=4,\n",
    "        pin_memory=True\n",
    "    )\n",
    "    \n",
    "    val_loader = DataLoader(\n",
    "        val_dataset,\n",
    "        batch_size=batch_size,\n",
    "        shuffle=False,\n",
    "        num_workers=4,\n",
    "        pin_memory=True\n",
    "    )\n",
    "    \n",
    "    print(\"\\nClass Distribution:\")\n",
    "    train_labels = [data.y.item() for data in train_dataset]\n",
    "    val_labels = [data.y.item() for data in val_dataset]\n",
    "    print(\"Training set:\", {cls: train_labels.count(cls) for cls in set(train_labels)})\n",
    "    print(\"Validation set:\", {cls: val_labels.count(cls) for cls in set(val_labels)})\n",
    "    \n",
    "    return train_loader, val_loader, num_classes, category_to_idx"
   ]
  },
  {
   "cell_type": "code",
   "execution_count": 7,
   "id": "f3313181-b70c-4a49-8ce2-d6556ca115d6",
   "metadata": {},
   "outputs": [],
   "source": [
    "def validate(model, val_loader, criterion, device, category_to_idx, epoch, phase):\n",
    "    \"\"\"Validate the model and generate diagnostic plots including predicted vs true class counts.\"\"\"\n",
    "    model.eval()\n",
    "    total_loss = 0\n",
    "    correct = 0\n",
    "    total = 0\n",
    "    \n",
    "    all_preds = []\n",
    "    all_labels = []\n",
    "    all_logits = []\n",
    "    \n",
    "    with torch.no_grad():\n",
    "        for batch in val_loader:\n",
    "            word_x = batch['word'].x.to(device)\n",
    "            word_edge_index = batch['word', 'co_occurs', 'word'].edge_index.to(device)\n",
    "            word_edge_weight = batch['word', 'co_occurs', 'word'].edge_attr.to(device)\n",
    "            word_batch = batch['word'].batch.to(device)\n",
    "            \n",
    "            sent_x = batch['sentence'].x.to(device)\n",
    "            sent_edge_index = batch['sentence', 'related_to', 'sentence'].edge_index.to(device)\n",
    "            sent_edge_weight = batch['sentence', 'related_to', 'sentence'].edge_attr.to(device)\n",
    "            sent_batch = batch['sentence'].batch.to(device)\n",
    "            \n",
    "            outputs = model(\n",
    "                word_x, word_edge_index, word_batch, word_edge_weight,\n",
    "                sent_x, sent_edge_index, sent_batch, sent_edge_weight\n",
    "            )\n",
    "            \n",
    "            curr_logits = outputs[:batch.y.size(0)].cpu()\n",
    "            all_logits.append(curr_logits)\n",
    "            \n",
    "            batch = batch.to(device)\n",
    "            curr_batch_size = batch.y.size(0)\n",
    "            loss = criterion(outputs[:curr_batch_size], batch.y)\n",
    "            total_loss += loss.item() * curr_batch_size\n",
    "            preds = outputs[:curr_batch_size].argmax(dim=1)\n",
    "            correct += (preds == batch.y).sum().item()\n",
    "            total += curr_batch_size\n",
    "            \n",
    "            all_preds.extend(preds.cpu().numpy())\n",
    "            all_labels.extend(batch.y.cpu().numpy())\n",
    "    \n",
    "    # Concatenate logits and compute probabilities\n",
    "    all_logits = torch.cat(all_logits, dim=0)\n",
    "    all_probs = torch.softmax(all_logits, dim=1).numpy()\n",
    "    all_labels_np = np.array(all_labels)\n",
    "    \n",
    "    # Plot histogram of predicted classes\n",
    "    plt.figure(figsize=(8, 6))\n",
    "    sns.histplot(all_preds, bins=np.arange(len(category_to_idx)+1)-0.5, kde=False)\n",
    "    plt.xlabel(\"Predicted Class\")\n",
    "    plt.ylabel(\"Count\")\n",
    "    plt.title(f\"Validation Prediction Distribution (Phase {phase}, Epoch {epoch+1})\")\n",
    "    plt.savefig(os.path.join(PLOT_DIR, f\"val_pred_distribution_phase_{phase}_epoch_{epoch+1}.png\"))\n",
    "    plt.close()\n",
    "    \n",
    "    # NEW: Plot bar chart comparing predicted vs. true class counts\n",
    "    indices = np.arange(len(category_to_idx))\n",
    "    pred_counts = [np.sum(np.array(all_preds)==i) for i in range(len(category_to_idx))]\n",
    "    true_counts = [np.sum(np.array(all_labels)==i) for i in range(len(category_to_idx))]\n",
    "    width = 0.35\n",
    "    plt.figure(figsize=(8,6))\n",
    "    plt.bar(indices - width/2, pred_counts, width=width, label=\"Predicted\")\n",
    "    plt.bar(indices + width/2, true_counts, width=width, label=\"True\")\n",
    "    plt.xlabel(\"Class\")\n",
    "    plt.ylabel(\"Count\")\n",
    "    plt.title(f\"Validation Class Distribution (Phase {phase}, Epoch {epoch+1})\")\n",
    "    plt.xticks(indices, list(range(len(category_to_idx))))\n",
    "    plt.legend()\n",
    "    plt.savefig(os.path.join(PLOT_DIR, f\"val_class_distribution_phase_{phase}_epoch_{epoch+1}.png\"))\n",
    "    plt.close()\n",
    "    \n",
    "    # Calibration diagnostics\n",
    "    logits_mean = all_logits.mean().item()\n",
    "    logits_std = all_logits.std().item()\n",
    "    print(f\"[Phase {phase}, Epoch {epoch+1}] Logits Mean: {logits_mean:.4f}, Std: {logits_std:.4f}\")\n",
    "    ece = compute_ece(all_probs, all_labels_np, n_bins=10)\n",
    "    print(f\"[Phase {phase}, Epoch {epoch+1}] Expected Calibration Error (ECE): {ece:.4f}\")\n",
    "    plot_reliability_diagram(all_probs, all_labels_np, n_bins=10,\n",
    "                             save_path=os.path.join(PLOT_DIR, f\"reliability_diagram_phase_{phase}_epoch_{epoch+1}.png\"))\n",
    "    \n",
    "    val_loss = total_loss / total\n",
    "    val_acc = correct / total\n",
    "    return val_loss, val_acc, all_preds, all_labels"
   ]
  },
  {
   "cell_type": "code",
   "execution_count": 8,
   "id": "7f0e0bf7-c58a-4bd2-a17a-fa7df44d7129",
   "metadata": {},
   "outputs": [],
   "source": [
    "def freeze_module(module):\n",
    "    for param in module.parameters():\n",
    "        param.requires_grad = False\n",
    "\n",
    "def unfreeze_module(module):\n",
    "    for param in module.parameters():\n",
    "        param.requires_grad = True"
   ]
  },
  {
   "cell_type": "code",
   "execution_count": 9,
   "id": "84be4225-7811-4cce-af44-aa4aaeb7f3b4",
   "metadata": {},
   "outputs": [],
   "source": [
    "def train_one_epoch(model, train_loader, optimizer, criterion, device, epoch, phase, num_classes):\n",
    "    model.train()\n",
    "    total_loss = 0\n",
    "    batch_indices = []\n",
    "    batch_unique_pred = []\n",
    "    batch_unique_true = []\n",
    "    \n",
    "    for batch_idx, batch in enumerate(tqdm(train_loader, desc=f\"Phase {phase} - Epoch {epoch+1}\")):\n",
    "        word_x = batch['word'].x.to(device)\n",
    "        word_edge_index = batch['word', 'co_occurs', 'word'].edge_index.to(device)\n",
    "        word_edge_weight = batch['word', 'co_occurs', 'word'].edge_attr.to(device)\n",
    "        word_batch = batch['word'].batch.to(device)\n",
    "        \n",
    "        sent_x = batch['sentence'].x.to(device)\n",
    "        sent_edge_index = batch['sentence', 'related_to', 'sentence'].edge_index.to(device)\n",
    "        sent_edge_weight = batch['sentence', 'related_to', 'sentence'].edge_attr.to(device)\n",
    "        sent_batch = batch['sentence'].batch.to(device)\n",
    "        \n",
    "        optimizer.zero_grad()\n",
    "        outputs = model(\n",
    "            word_x, word_edge_index, word_batch, word_edge_weight,\n",
    "            sent_x, sent_edge_index, sent_batch, sent_edge_weight\n",
    "        )\n",
    "        \n",
    "        batch = batch.to(device)\n",
    "        curr_batch_size = batch.y.size(0)\n",
    "        loss = criterion(outputs[:curr_batch_size], batch.y)\n",
    "        loss.backward()\n",
    "        optimizer.step()\n",
    "        \n",
    "        total_loss += loss.item()\n",
    "        \n",
    "        preds = outputs[:curr_batch_size].argmax(dim=1)\n",
    "        unique_pred = len(torch.unique(preds).cpu().numpy())\n",
    "        unique_true = len(torch.unique(batch.y).cpu().numpy())\n",
    "        batch_indices.append(batch_idx + 1)\n",
    "        batch_unique_pred.append(unique_pred)\n",
    "        batch_unique_true.append(unique_true)\n",
    "    \n",
    "    plt.figure(figsize=(10,6))\n",
    "    plt.plot(batch_indices, batch_unique_pred, marker='o', linestyle='-', label='Unique Predicted Classes')\n",
    "    plt.plot(batch_indices, batch_unique_true, marker='s', linestyle='-', label='Unique True Classes')\n",
    "    plt.xlabel(\"Batch Index\")\n",
    "    plt.ylabel(\"Number of Unique Classes\")\n",
    "    plt.title(f\"Training Unique Classes per Batch (Phase {phase}, Epoch {epoch+1})\")\n",
    "    plt.ylim(0, num_classes + 1)\n",
    "    plt.legend()\n",
    "    plt.grid(True)\n",
    "    plt.savefig(os.path.join(PLOT_DIR, f\"train_unique_classes_phase_{phase}_epoch_{epoch+1}.png\"))\n",
    "    plt.close()\n",
    "    \n",
    "    avg_loss = total_loss / len(train_loader)\n",
    "    return avg_loss"
   ]
  },
  {
   "cell_type": "code",
   "execution_count": 10,
   "id": "7814595b-9ca0-4ede-b58d-5143f09515ec",
   "metadata": {},
   "outputs": [
    {
     "name": "stdout",
     "output_type": "stream",
     "text": [
      "Loading existing valid indices from metadata\n",
      "Found 10409 processed documents\n",
      "\n",
      "Class Distribution:\n",
      "Training set: {0: 379, 1: 144, 2: 58, 3: 1048, 4: 250, 5: 527, 6: 85, 7: 432, 8: 114, 9: 550, 10: 143, 11: 431, 12: 249, 13: 1127, 14: 198, 15: 172, 16: 265, 17: 358, 18: 171, 19: 469, 20: 499, 21: 79, 22: 1621}\n",
      "Validation set: {0: 44, 1: 14, 2: 7, 3: 112, 4: 33, 5: 61, 6: 15, 7: 41, 8: 11, 9: 70, 10: 19, 11: 58, 12: 31, 13: 116, 14: 17, 15: 25, 16: 29, 17: 30, 18: 19, 19: 55, 20: 46, 21: 13, 22: 174}\n",
      "\n",
      "--- Phase 1: Train Sentence Network Only ---\n"
     ]
    },
    {
     "name": "stderr",
     "output_type": "stream",
     "text": [
      "Phase 1 - Epoch 1: 100%|█████████████████████████████████████████████████████████████████████████████████████████████████████████████████████████████████████████████████████████| 586/586 [05:06<00:00,  1.91it/s]\n"
     ]
    },
    {
     "name": "stdout",
     "output_type": "stream",
     "text": [
      "[Phase 1, Epoch 1] Logits Mean: 0.0133, Std: 0.1327\n",
      "[Phase 1, Epoch 1] Expected Calibration Error (ECE): 0.0075\n",
      "Phase 1, Epoch 1: Train Loss = 2.4678, Val Loss = 2.6417, Val Acc = 0.0490\n"
     ]
    },
    {
     "name": "stderr",
     "output_type": "stream",
     "text": [
      "Phase 1 - Epoch 2: 100%|█████████████████████████████████████████████████████████████████████████████████████████████████████████████████████████████████████████████████████████| 586/586 [06:02<00:00,  1.62it/s]\n"
     ]
    },
    {
     "name": "stdout",
     "output_type": "stream",
     "text": [
      "[Phase 1, Epoch 2] Logits Mean: 0.0144, Std: 0.1115\n",
      "[Phase 1, Epoch 2] Expected Calibration Error (ECE): 0.0104\n",
      "Phase 1, Epoch 2: Train Loss = 2.4609, Val Loss = 2.6554, Val Acc = 0.0423\n"
     ]
    },
    {
     "name": "stderr",
     "output_type": "stream",
     "text": [
      "Phase 1 - Epoch 3: 100%|█████████████████████████████████████████████████████████████████████████████████████████████████████████████████████████████████████████████████████████| 586/586 [11:17<00:00,  1.16s/it]\n"
     ]
    },
    {
     "name": "stdout",
     "output_type": "stream",
     "text": [
      "[Phase 1, Epoch 3] Logits Mean: 0.0086, Std: 0.1209\n",
      "[Phase 1, Epoch 3] Expected Calibration Error (ECE): 0.0120\n",
      "Phase 1, Epoch 3: Train Loss = 2.4613, Val Loss = 2.6470, Val Acc = 0.0423\n"
     ]
    },
    {
     "name": "stderr",
     "output_type": "stream",
     "text": [
      "Phase 1 - Epoch 4: 100%|█████████████████████████████████████████████████████████████████████████████████████████████████████████████████████████████████████████████████████████| 586/586 [11:22<00:00,  1.16s/it]\n"
     ]
    },
    {
     "name": "stdout",
     "output_type": "stream",
     "text": [
      "[Phase 1, Epoch 4] Logits Mean: -0.0008, Std: 0.2438\n",
      "[Phase 1, Epoch 4] Expected Calibration Error (ECE): 0.0045\n",
      "Phase 1, Epoch 4: Train Loss = 2.4428, Val Loss = 2.5841, Val Acc = 0.0615\n"
     ]
    },
    {
     "name": "stderr",
     "output_type": "stream",
     "text": [
      "Phase 1 - Epoch 5: 100%|█████████████████████████████████████████████████████████████████████████████████████████████████████████████████████████████████████████████████████████| 586/586 [11:50<00:00,  1.21s/it]\n"
     ]
    },
    {
     "name": "stdout",
     "output_type": "stream",
     "text": [
      "[Phase 1, Epoch 5] Logits Mean: -0.0472, Std: 0.2895\n",
      "[Phase 1, Epoch 5] Expected Calibration Error (ECE): 0.0074\n",
      "Phase 1, Epoch 5: Train Loss = 2.4403, Val Loss = 2.5760, Val Acc = 0.0644\n"
     ]
    },
    {
     "name": "stderr",
     "output_type": "stream",
     "text": [
      "Phase 1 - Epoch 6: 100%|█████████████████████████████████████████████████████████████████████████████████████████████████████████████████████████████████████████████████████████| 586/586 [12:17<00:00,  1.26s/it]\n"
     ]
    },
    {
     "name": "stdout",
     "output_type": "stream",
     "text": [
      "[Phase 1, Epoch 6] Logits Mean: -0.0173, Std: 0.2112\n",
      "[Phase 1, Epoch 6] Expected Calibration Error (ECE): 0.0100\n",
      "Phase 1, Epoch 6: Train Loss = 2.4052, Val Loss = 2.5729, Val Acc = 0.0731\n"
     ]
    },
    {
     "name": "stderr",
     "output_type": "stream",
     "text": [
      "Phase 1 - Epoch 7: 100%|█████████████████████████████████████████████████████████████████████████████████████████████████████████████████████████████████████████████████████████| 586/586 [10:03<00:00,  1.03s/it]\n"
     ]
    },
    {
     "name": "stdout",
     "output_type": "stream",
     "text": [
      "[Phase 1, Epoch 7] Logits Mean: -0.0313, Std: 0.5062\n",
      "[Phase 1, Epoch 7] Expected Calibration Error (ECE): 0.0500\n",
      "Phase 1, Epoch 7: Train Loss = 2.3923, Val Loss = 2.5227, Val Acc = 0.0452\n"
     ]
    },
    {
     "name": "stderr",
     "output_type": "stream",
     "text": [
      "Phase 1 - Epoch 8: 100%|█████████████████████████████████████████████████████████████████████████████████████████████████████████████████████████████████████████████████████████| 586/586 [11:05<00:00,  1.14s/it]\n"
     ]
    },
    {
     "name": "stdout",
     "output_type": "stream",
     "text": [
      "[Phase 1, Epoch 8] Logits Mean: -0.0126, Std: 0.4187\n",
      "[Phase 1, Epoch 8] Expected Calibration Error (ECE): 0.0374\n",
      "Phase 1, Epoch 8: Train Loss = 2.3844, Val Loss = 2.4902, Val Acc = 0.0423\n"
     ]
    },
    {
     "name": "stderr",
     "output_type": "stream",
     "text": [
      "Phase 1 - Epoch 9: 100%|█████████████████████████████████████████████████████████████████████████████████████████████████████████████████████████████████████████████████████████| 586/586 [11:17<00:00,  1.16s/it]\n"
     ]
    },
    {
     "name": "stdout",
     "output_type": "stream",
     "text": [
      "[Phase 1, Epoch 9] Logits Mean: 0.0001, Std: 0.2562\n",
      "[Phase 1, Epoch 9] Expected Calibration Error (ECE): 0.0203\n",
      "Phase 1, Epoch 9: Train Loss = 2.3647, Val Loss = 2.5206, Val Acc = 0.0856\n"
     ]
    },
    {
     "name": "stderr",
     "output_type": "stream",
     "text": [
      "Phase 1 - Epoch 10: 100%|████████████████████████████████████████████████████████████████████████████████████████████████████████████████████████████████████████████████████████| 586/586 [04:53<00:00,  1.99it/s]\n"
     ]
    },
    {
     "name": "stdout",
     "output_type": "stream",
     "text": [
      "[Phase 1, Epoch 10] Logits Mean: 0.0184, Std: 0.2867\n",
      "[Phase 1, Epoch 10] Expected Calibration Error (ECE): 0.0192\n",
      "Phase 1, Epoch 10: Train Loss = 2.3510, Val Loss = 2.4889, Val Acc = 0.0817\n"
     ]
    },
    {
     "name": "stderr",
     "output_type": "stream",
     "text": [
      "Phase 1 - Epoch 11: 100%|████████████████████████████████████████████████████████████████████████████████████████████████████████████████████████████████████████████████████████| 586/586 [04:00<00:00,  2.44it/s]\n"
     ]
    },
    {
     "name": "stdout",
     "output_type": "stream",
     "text": [
      "[Phase 1, Epoch 11] Logits Mean: -0.0214, Std: 0.2859\n",
      "[Phase 1, Epoch 11] Expected Calibration Error (ECE): 0.0089\n",
      "Phase 1, Epoch 11: Train Loss = 2.3424, Val Loss = 2.5042, Val Acc = 0.0635\n"
     ]
    },
    {
     "name": "stderr",
     "output_type": "stream",
     "text": [
      "Phase 1 - Epoch 12: 100%|████████████████████████████████████████████████████████████████████████████████████████████████████████████████████████████████████████████████████████| 586/586 [04:24<00:00,  2.22it/s]\n"
     ]
    },
    {
     "name": "stdout",
     "output_type": "stream",
     "text": [
      "[Phase 1, Epoch 12] Logits Mean: 0.0043, Std: 0.2902\n",
      "[Phase 1, Epoch 12] Expected Calibration Error (ECE): 0.0065\n",
      "Phase 1, Epoch 12: Train Loss = 2.3251, Val Loss = 2.4839, Val Acc = 0.0740\n"
     ]
    },
    {
     "name": "stderr",
     "output_type": "stream",
     "text": [
      "Phase 1 - Epoch 13: 100%|████████████████████████████████████████████████████████████████████████████████████████████████████████████████████████████████████████████████████████| 586/586 [03:53<00:00,  2.51it/s]\n"
     ]
    },
    {
     "name": "stdout",
     "output_type": "stream",
     "text": [
      "[Phase 1, Epoch 13] Logits Mean: 0.0027, Std: 0.3560\n",
      "[Phase 1, Epoch 13] Expected Calibration Error (ECE): 0.0193\n",
      "Phase 1, Epoch 13: Train Loss = 2.3242, Val Loss = 2.4470, Val Acc = 0.0538\n"
     ]
    },
    {
     "name": "stderr",
     "output_type": "stream",
     "text": [
      "Phase 1 - Epoch 14: 100%|████████████████████████████████████████████████████████████████████████████████████████████████████████████████████████████████████████████████████████| 586/586 [05:08<00:00,  1.90it/s]\n"
     ]
    },
    {
     "name": "stdout",
     "output_type": "stream",
     "text": [
      "[Phase 1, Epoch 14] Logits Mean: -0.0049, Std: 0.3919\n",
      "[Phase 1, Epoch 14] Expected Calibration Error (ECE): 0.0293\n",
      "Phase 1, Epoch 14: Train Loss = 2.3022, Val Loss = 2.4204, Val Acc = 0.0587\n"
     ]
    },
    {
     "name": "stderr",
     "output_type": "stream",
     "text": [
      "Phase 1 - Epoch 15: 100%|████████████████████████████████████████████████████████████████████████████████████████████████████████████████████████████████████████████████████████| 586/586 [10:00<00:00,  1.03s/it]\n"
     ]
    },
    {
     "name": "stdout",
     "output_type": "stream",
     "text": [
      "[Phase 1, Epoch 15] Logits Mean: 0.0341, Std: 0.3620\n",
      "[Phase 1, Epoch 15] Expected Calibration Error (ECE): 0.0040\n",
      "Phase 1, Epoch 15: Train Loss = 2.2884, Val Loss = 2.4425, Val Acc = 0.0837\n"
     ]
    },
    {
     "name": "stderr",
     "output_type": "stream",
     "text": [
      "Phase 1 - Epoch 16: 100%|████████████████████████████████████████████████████████████████████████████████████████████████████████████████████████████████████████████████████████| 586/586 [08:42<00:00,  1.12it/s]\n"
     ]
    },
    {
     "name": "stdout",
     "output_type": "stream",
     "text": [
      "[Phase 1, Epoch 16] Logits Mean: -0.0053, Std: 0.4112\n",
      "[Phase 1, Epoch 16] Expected Calibration Error (ECE): 0.0221\n",
      "Phase 1, Epoch 16: Train Loss = 2.2766, Val Loss = 2.3788, Val Acc = 0.0654\n"
     ]
    },
    {
     "name": "stderr",
     "output_type": "stream",
     "text": [
      "Phase 1 - Epoch 17: 100%|████████████████████████████████████████████████████████████████████████████████████████████████████████████████████████████████████████████████████████| 586/586 [04:05<00:00,  2.38it/s]\n"
     ]
    },
    {
     "name": "stdout",
     "output_type": "stream",
     "text": [
      "[Phase 1, Epoch 17] Logits Mean: -0.0198, Std: 0.3609\n",
      "[Phase 1, Epoch 17] Expected Calibration Error (ECE): 0.0309\n",
      "Phase 1, Epoch 17: Train Loss = 2.2680, Val Loss = 2.4120, Val Acc = 0.0510\n"
     ]
    },
    {
     "name": "stderr",
     "output_type": "stream",
     "text": [
      "Phase 1 - Epoch 18: 100%|████████████████████████████████████████████████████████████████████████████████████████████████████████████████████████████████████████████████████████| 586/586 [07:51<00:00,  1.24it/s]\n"
     ]
    },
    {
     "name": "stdout",
     "output_type": "stream",
     "text": [
      "[Phase 1, Epoch 18] Logits Mean: 0.0020, Std: 0.4530\n",
      "[Phase 1, Epoch 18] Expected Calibration Error (ECE): 0.0232\n",
      "Phase 1, Epoch 18: Train Loss = 2.2450, Val Loss = 2.3818, Val Acc = 0.0673\n"
     ]
    },
    {
     "name": "stderr",
     "output_type": "stream",
     "text": [
      "Phase 1 - Epoch 19: 100%|████████████████████████████████████████████████████████████████████████████████████████████████████████████████████████████████████████████████████████| 586/586 [10:34<00:00,  1.08s/it]\n"
     ]
    },
    {
     "name": "stdout",
     "output_type": "stream",
     "text": [
      "[Phase 1, Epoch 19] Logits Mean: 0.0100, Std: 0.4689\n",
      "[Phase 1, Epoch 19] Expected Calibration Error (ECE): 0.0326\n",
      "Phase 1, Epoch 19: Train Loss = 2.2352, Val Loss = 2.3677, Val Acc = 0.0779\n"
     ]
    },
    {
     "name": "stderr",
     "output_type": "stream",
     "text": [
      "Phase 1 - Epoch 20: 100%|████████████████████████████████████████████████████████████████████████████████████████████████████████████████████████████████████████████████████████| 586/586 [11:41<00:00,  1.20s/it]\n"
     ]
    },
    {
     "name": "stdout",
     "output_type": "stream",
     "text": [
      "[Phase 1, Epoch 20] Logits Mean: 0.0160, Std: 0.4443\n",
      "[Phase 1, Epoch 20] Expected Calibration Error (ECE): 0.0073\n",
      "Phase 1, Epoch 20: Train Loss = 2.2355, Val Loss = 2.3949, Val Acc = 0.0875\n"
     ]
    },
    {
     "name": "stderr",
     "output_type": "stream",
     "text": [
      "Phase 1 - Epoch 21: 100%|████████████████████████████████████████████████████████████████████████████████████████████████████████████████████████████████████████████████████████| 586/586 [11:41<00:00,  1.20s/it]\n"
     ]
    },
    {
     "name": "stdout",
     "output_type": "stream",
     "text": [
      "[Phase 1, Epoch 21] Logits Mean: 0.0194, Std: 0.4860\n",
      "[Phase 1, Epoch 21] Expected Calibration Error (ECE): 0.0259\n",
      "Phase 1, Epoch 21: Train Loss = 2.2221, Val Loss = 2.3354, Val Acc = 0.0808\n"
     ]
    },
    {
     "name": "stderr",
     "output_type": "stream",
     "text": [
      "Phase 1 - Epoch 22: 100%|████████████████████████████████████████████████████████████████████████████████████████████████████████████████████████████████████████████████████████| 586/586 [10:36<00:00,  1.09s/it]\n"
     ]
    },
    {
     "name": "stdout",
     "output_type": "stream",
     "text": [
      "[Phase 1, Epoch 22] Logits Mean: 0.0625, Std: 0.4674\n",
      "[Phase 1, Epoch 22] Expected Calibration Error (ECE): 0.0239\n",
      "Phase 1, Epoch 22: Train Loss = 2.2149, Val Loss = 2.3603, Val Acc = 0.0808\n"
     ]
    },
    {
     "name": "stderr",
     "output_type": "stream",
     "text": [
      "Phase 1 - Epoch 23: 100%|████████████████████████████████████████████████████████████████████████████████████████████████████████████████████████████████████████████████████████| 586/586 [08:22<00:00,  1.17it/s]\n"
     ]
    },
    {
     "name": "stdout",
     "output_type": "stream",
     "text": [
      "[Phase 1, Epoch 23] Logits Mean: -0.0098, Std: 0.4413\n",
      "[Phase 1, Epoch 23] Expected Calibration Error (ECE): 0.0189\n",
      "Phase 1, Epoch 23: Train Loss = 2.1921, Val Loss = 2.3437, Val Acc = 0.0779\n"
     ]
    },
    {
     "name": "stderr",
     "output_type": "stream",
     "text": [
      "Phase 1 - Epoch 24: 100%|████████████████████████████████████████████████████████████████████████████████████████████████████████████████████████████████████████████████████████| 586/586 [10:48<00:00,  1.11s/it]\n"
     ]
    },
    {
     "name": "stdout",
     "output_type": "stream",
     "text": [
      "[Phase 1, Epoch 24] Logits Mean: 0.0026, Std: 0.4503\n",
      "[Phase 1, Epoch 24] Expected Calibration Error (ECE): 0.0153\n",
      "Phase 1, Epoch 24: Train Loss = 2.1780, Val Loss = 2.3253, Val Acc = 0.0875\n"
     ]
    },
    {
     "name": "stderr",
     "output_type": "stream",
     "text": [
      "Phase 1 - Epoch 25: 100%|████████████████████████████████████████████████████████████████████████████████████████████████████████████████████████████████████████████████████████| 586/586 [12:44<00:00,  1.30s/it]\n"
     ]
    },
    {
     "name": "stdout",
     "output_type": "stream",
     "text": [
      "[Phase 1, Epoch 25] Logits Mean: -0.0354, Std: 0.5128\n",
      "[Phase 1, Epoch 25] Expected Calibration Error (ECE): 0.0188\n",
      "Phase 1, Epoch 25: Train Loss = 2.1515, Val Loss = 2.3635, Val Acc = 0.0971\n"
     ]
    },
    {
     "name": "stderr",
     "output_type": "stream",
     "text": [
      "Phase 1 - Epoch 26: 100%|████████████████████████████████████████████████████████████████████████████████████████████████████████████████████████████████████████████████████████| 586/586 [03:57<00:00,  2.47it/s]\n"
     ]
    },
    {
     "name": "stdout",
     "output_type": "stream",
     "text": [
      "[Phase 1, Epoch 26] Logits Mean: 0.0195, Std: 0.5113\n",
      "[Phase 1, Epoch 26] Expected Calibration Error (ECE): 0.0221\n",
      "Phase 1, Epoch 26: Train Loss = 2.1499, Val Loss = 2.2990, Val Acc = 0.1106\n"
     ]
    },
    {
     "name": "stderr",
     "output_type": "stream",
     "text": [
      "Phase 1 - Epoch 27: 100%|████████████████████████████████████████████████████████████████████████████████████████████████████████████████████████████████████████████████████████| 586/586 [04:21<00:00,  2.24it/s]\n"
     ]
    },
    {
     "name": "stdout",
     "output_type": "stream",
     "text": [
      "[Phase 1, Epoch 27] Logits Mean: -0.0150, Std: 0.5364\n",
      "[Phase 1, Epoch 27] Expected Calibration Error (ECE): 0.0165\n",
      "Phase 1, Epoch 27: Train Loss = 2.1478, Val Loss = 2.2980, Val Acc = 0.1029\n"
     ]
    },
    {
     "name": "stderr",
     "output_type": "stream",
     "text": [
      "Phase 1 - Epoch 28: 100%|████████████████████████████████████████████████████████████████████████████████████████████████████████████████████████████████████████████████████████| 586/586 [09:00<00:00,  1.08it/s]\n"
     ]
    },
    {
     "name": "stdout",
     "output_type": "stream",
     "text": [
      "[Phase 1, Epoch 28] Logits Mean: 0.0301, Std: 0.4913\n",
      "[Phase 1, Epoch 28] Expected Calibration Error (ECE): 0.0193\n",
      "Phase 1, Epoch 28: Train Loss = 2.1296, Val Loss = 2.3083, Val Acc = 0.1048\n"
     ]
    },
    {
     "name": "stderr",
     "output_type": "stream",
     "text": [
      "Phase 1 - Epoch 29: 100%|████████████████████████████████████████████████████████████████████████████████████████████████████████████████████████████████████████████████████████| 586/586 [10:30<00:00,  1.08s/it]\n"
     ]
    },
    {
     "name": "stdout",
     "output_type": "stream",
     "text": [
      "[Phase 1, Epoch 29] Logits Mean: -0.0493, Std: 0.5285\n",
      "[Phase 1, Epoch 29] Expected Calibration Error (ECE): 0.0231\n",
      "Phase 1, Epoch 29: Train Loss = 2.1322, Val Loss = 2.2948, Val Acc = 0.0933\n"
     ]
    },
    {
     "name": "stderr",
     "output_type": "stream",
     "text": [
      "Phase 1 - Epoch 30: 100%|████████████████████████████████████████████████████████████████████████████████████████████████████████████████████████████████████████████████████████| 586/586 [04:21<00:00,  2.24it/s]\n"
     ]
    },
    {
     "name": "stdout",
     "output_type": "stream",
     "text": [
      "[Phase 1, Epoch 30] Logits Mean: 0.0238, Std: 0.5317\n",
      "[Phase 1, Epoch 30] Expected Calibration Error (ECE): 0.0101\n",
      "Phase 1, Epoch 30: Train Loss = 2.1021, Val Loss = 2.2948, Val Acc = 0.1135\n"
     ]
    },
    {
     "name": "stderr",
     "output_type": "stream",
     "text": [
      "Phase 1 - Epoch 31: 100%|████████████████████████████████████████████████████████████████████████████████████████████████████████████████████████████████████████████████████████| 586/586 [04:31<00:00,  2.16it/s]\n"
     ]
    },
    {
     "name": "stdout",
     "output_type": "stream",
     "text": [
      "[Phase 1, Epoch 31] Logits Mean: -0.0072, Std: 0.4641\n",
      "[Phase 1, Epoch 31] Expected Calibration Error (ECE): 0.0201\n",
      "Phase 1, Epoch 31: Train Loss = 2.1334, Val Loss = 2.3293, Val Acc = 0.1038\n"
     ]
    },
    {
     "name": "stderr",
     "output_type": "stream",
     "text": [
      "Phase 1 - Epoch 32: 100%|████████████████████████████████████████████████████████████████████████████████████████████████████████████████████████████████████████████████████████| 586/586 [10:50<00:00,  1.11s/it]\n"
     ]
    },
    {
     "name": "stdout",
     "output_type": "stream",
     "text": [
      "[Phase 1, Epoch 32] Logits Mean: 0.0239, Std: 0.5137\n",
      "[Phase 1, Epoch 32] Expected Calibration Error (ECE): 0.0063\n",
      "Phase 1, Epoch 32: Train Loss = 2.1325, Val Loss = 2.3231, Val Acc = 0.1087\n"
     ]
    },
    {
     "name": "stderr",
     "output_type": "stream",
     "text": [
      "Phase 1 - Epoch 33: 100%|████████████████████████████████████████████████████████████████████████████████████████████████████████████████████████████████████████████████████████| 586/586 [09:41<00:00,  1.01it/s]\n"
     ]
    },
    {
     "name": "stdout",
     "output_type": "stream",
     "text": [
      "[Phase 1, Epoch 33] Logits Mean: 0.0141, Std: 0.4940\n",
      "[Phase 1, Epoch 33] Expected Calibration Error (ECE): 0.0225\n",
      "Phase 1, Epoch 33: Train Loss = 2.1141, Val Loss = 2.3142, Val Acc = 0.0962\n"
     ]
    },
    {
     "name": "stderr",
     "output_type": "stream",
     "text": [
      "Phase 1 - Epoch 34: 100%|████████████████████████████████████████████████████████████████████████████████████████████████████████████████████████████████████████████████████████| 586/586 [04:18<00:00,  2.27it/s]\n"
     ]
    },
    {
     "name": "stdout",
     "output_type": "stream",
     "text": [
      "[Phase 1, Epoch 34] Logits Mean: -0.0020, Std: 0.5718\n",
      "[Phase 1, Epoch 34] Expected Calibration Error (ECE): 0.0244\n",
      "Phase 1, Epoch 34: Train Loss = 2.0325, Val Loss = 2.2561, Val Acc = 0.1038\n"
     ]
    },
    {
     "name": "stderr",
     "output_type": "stream",
     "text": [
      "Phase 1 - Epoch 35: 100%|████████████████████████████████████████████████████████████████████████████████████████████████████████████████████████████████████████████████████████| 586/586 [04:53<00:00,  2.00it/s]\n"
     ]
    },
    {
     "name": "stdout",
     "output_type": "stream",
     "text": [
      "[Phase 1, Epoch 35] Logits Mean: 0.0135, Std: 0.5789\n",
      "[Phase 1, Epoch 35] Expected Calibration Error (ECE): 0.0232\n",
      "Phase 1, Epoch 35: Train Loss = 1.9806, Val Loss = 2.2387, Val Acc = 0.1106\n"
     ]
    },
    {
     "name": "stderr",
     "output_type": "stream",
     "text": [
      "Phase 1 - Epoch 36: 100%|████████████████████████████████████████████████████████████████████████████████████████████████████████████████████████████████████████████████████████| 586/586 [04:11<00:00,  2.33it/s]\n"
     ]
    },
    {
     "name": "stdout",
     "output_type": "stream",
     "text": [
      "[Phase 1, Epoch 36] Logits Mean: 0.0189, Std: 0.5713\n",
      "[Phase 1, Epoch 36] Expected Calibration Error (ECE): 0.0192\n",
      "Phase 1, Epoch 36: Train Loss = 1.9830, Val Loss = 2.2463, Val Acc = 0.1125\n"
     ]
    },
    {
     "name": "stderr",
     "output_type": "stream",
     "text": [
      "Phase 1 - Epoch 37: 100%|████████████████████████████████████████████████████████████████████████████████████████████████████████████████████████████████████████████████████████| 586/586 [05:11<00:00,  1.88it/s]\n"
     ]
    },
    {
     "name": "stdout",
     "output_type": "stream",
     "text": [
      "[Phase 1, Epoch 37] Logits Mean: 0.0172, Std: 0.5878\n",
      "[Phase 1, Epoch 37] Expected Calibration Error (ECE): 0.0306\n",
      "Phase 1, Epoch 37: Train Loss = 1.9589, Val Loss = 2.2459, Val Acc = 0.1067\n"
     ]
    },
    {
     "name": "stderr",
     "output_type": "stream",
     "text": [
      "Phase 1 - Epoch 38: 100%|████████████████████████████████████████████████████████████████████████████████████████████████████████████████████████████████████████████████████████| 586/586 [09:25<00:00,  1.04it/s]\n"
     ]
    },
    {
     "name": "stdout",
     "output_type": "stream",
     "text": [
      "[Phase 1, Epoch 38] Logits Mean: 0.0047, Std: 0.5853\n",
      "[Phase 1, Epoch 38] Expected Calibration Error (ECE): 0.0288\n",
      "Phase 1, Epoch 38: Train Loss = 1.9674, Val Loss = 2.2512, Val Acc = 0.1067\n"
     ]
    },
    {
     "name": "stderr",
     "output_type": "stream",
     "text": [
      "Phase 1 - Epoch 39: 100%|████████████████████████████████████████████████████████████████████████████████████████████████████████████████████████████████████████████████████████| 586/586 [10:44<00:00,  1.10s/it]\n"
     ]
    },
    {
     "name": "stdout",
     "output_type": "stream",
     "text": [
      "[Phase 1, Epoch 39] Logits Mean: 0.0092, Std: 0.5859\n",
      "[Phase 1, Epoch 39] Expected Calibration Error (ECE): 0.0296\n",
      "Phase 1, Epoch 39: Train Loss = 1.9414, Val Loss = 2.2387, Val Acc = 0.1115\n"
     ]
    },
    {
     "name": "stderr",
     "output_type": "stream",
     "text": [
      "Phase 1 - Epoch 40: 100%|████████████████████████████████████████████████████████████████████████████████████████████████████████████████████████████████████████████████████████| 586/586 [05:11<00:00,  1.88it/s]\n"
     ]
    },
    {
     "name": "stdout",
     "output_type": "stream",
     "text": [
      "[Phase 1, Epoch 40] Logits Mean: 0.0080, Std: 0.5911\n",
      "[Phase 1, Epoch 40] Expected Calibration Error (ECE): 0.0289\n",
      "Phase 1, Epoch 40: Train Loss = 1.9142, Val Loss = 2.2376, Val Acc = 0.1096\n"
     ]
    },
    {
     "name": "stderr",
     "output_type": "stream",
     "text": [
      "Phase 1 - Epoch 41: 100%|████████████████████████████████████████████████████████████████████████████████████████████████████████████████████████████████████████████████████████| 586/586 [05:07<00:00,  1.91it/s]\n"
     ]
    },
    {
     "name": "stdout",
     "output_type": "stream",
     "text": [
      "[Phase 1, Epoch 41] Logits Mean: 0.0075, Std: 0.5985\n",
      "[Phase 1, Epoch 41] Expected Calibration Error (ECE): 0.0285\n",
      "Phase 1, Epoch 41: Train Loss = 1.8855, Val Loss = 2.2354, Val Acc = 0.1115\n"
     ]
    },
    {
     "name": "stderr",
     "output_type": "stream",
     "text": [
      "Phase 1 - Epoch 42: 100%|████████████████████████████████████████████████████████████████████████████████████████████████████████████████████████████████████████████████████████| 586/586 [04:37<00:00,  2.11it/s]\n"
     ]
    },
    {
     "name": "stdout",
     "output_type": "stream",
     "text": [
      "[Phase 1, Epoch 42] Logits Mean: 0.0032, Std: 0.6029\n",
      "[Phase 1, Epoch 42] Expected Calibration Error (ECE): 0.0334\n",
      "Phase 1, Epoch 42: Train Loss = 1.9092, Val Loss = 2.2360, Val Acc = 0.1077\n"
     ]
    },
    {
     "name": "stderr",
     "output_type": "stream",
     "text": [
      "Phase 1 - Epoch 43: 100%|████████████████████████████████████████████████████████████████████████████████████████████████████████████████████████████████████████████████████████| 586/586 [04:00<00:00,  2.44it/s]\n"
     ]
    },
    {
     "name": "stdout",
     "output_type": "stream",
     "text": [
      "[Phase 1, Epoch 43] Logits Mean: 0.0058, Std: 0.6009\n",
      "[Phase 1, Epoch 43] Expected Calibration Error (ECE): 0.0346\n",
      "Phase 1, Epoch 43: Train Loss = 1.9309, Val Loss = 2.2375, Val Acc = 0.1058\n"
     ]
    },
    {
     "name": "stderr",
     "output_type": "stream",
     "text": [
      "Phase 1 - Epoch 44: 100%|████████████████████████████████████████████████████████████████████████████████████████████████████████████████████████████████████████████████████████| 586/586 [04:23<00:00,  2.22it/s]\n"
     ]
    },
    {
     "name": "stdout",
     "output_type": "stream",
     "text": [
      "[Phase 1, Epoch 44] Logits Mean: 0.0036, Std: 0.6029\n",
      "[Phase 1, Epoch 44] Expected Calibration Error (ECE): 0.0330\n",
      "Phase 1, Epoch 44: Train Loss = 1.9161, Val Loss = 2.2383, Val Acc = 0.1077\n"
     ]
    },
    {
     "name": "stderr",
     "output_type": "stream",
     "text": [
      "Phase 1 - Epoch 45: 100%|████████████████████████████████████████████████████████████████████████████████████████████████████████████████████████████████████████████████████████| 586/586 [09:41<00:00,  1.01it/s]\n"
     ]
    },
    {
     "name": "stdout",
     "output_type": "stream",
     "text": [
      "[Phase 1, Epoch 45] Logits Mean: 0.0061, Std: 0.6010\n",
      "[Phase 1, Epoch 45] Expected Calibration Error (ECE): 0.0326\n",
      "Phase 1, Epoch 45: Train Loss = 1.9256, Val Loss = 2.2391, Val Acc = 0.1077\n"
     ]
    },
    {
     "name": "stderr",
     "output_type": "stream",
     "text": [
      "Phase 1 - Epoch 46: 100%|████████████████████████████████████████████████████████████████████████████████████████████████████████████████████████████████████████████████████████| 586/586 [04:32<00:00,  2.15it/s]\n"
     ]
    },
    {
     "name": "stdout",
     "output_type": "stream",
     "text": [
      "[Phase 1, Epoch 46] Logits Mean: 0.0059, Std: 0.6016\n",
      "[Phase 1, Epoch 46] Expected Calibration Error (ECE): 0.0328\n",
      "Phase 1, Epoch 46: Train Loss = 1.8946, Val Loss = 2.2391, Val Acc = 0.1077\n"
     ]
    },
    {
     "name": "stderr",
     "output_type": "stream",
     "text": [
      "Phase 1 - Epoch 47: 100%|████████████████████████████████████████████████████████████████████████████████████████████████████████████████████████████████████████████████████████| 586/586 [04:33<00:00,  2.14it/s]\n"
     ]
    },
    {
     "name": "stdout",
     "output_type": "stream",
     "text": [
      "[Phase 1, Epoch 47] Logits Mean: 0.0063, Std: 0.6014\n",
      "[Phase 1, Epoch 47] Expected Calibration Error (ECE): 0.0328\n",
      "Phase 1, Epoch 47: Train Loss = 1.9204, Val Loss = 2.2390, Val Acc = 0.1077\n"
     ]
    },
    {
     "name": "stderr",
     "output_type": "stream",
     "text": [
      "Phase 1 - Epoch 48: 100%|████████████████████████████████████████████████████████████████████████████████████████████████████████████████████████████████████████████████████████| 586/586 [04:04<00:00,  2.40it/s]\n"
     ]
    },
    {
     "name": "stdout",
     "output_type": "stream",
     "text": [
      "[Phase 1, Epoch 48] Logits Mean: 0.0060, Std: 0.6019\n",
      "[Phase 1, Epoch 48] Expected Calibration Error (ECE): 0.0338\n",
      "Phase 1, Epoch 48: Train Loss = 1.8968, Val Loss = 2.2391, Val Acc = 0.1067\n"
     ]
    },
    {
     "name": "stderr",
     "output_type": "stream",
     "text": [
      "Phase 1 - Epoch 49: 100%|████████████████████████████████████████████████████████████████████████████████████████████████████████████████████████████████████████████████████████| 586/586 [04:06<00:00,  2.38it/s]\n"
     ]
    },
    {
     "name": "stdout",
     "output_type": "stream",
     "text": [
      "[Phase 1, Epoch 49] Logits Mean: 0.0055, Std: 0.6026\n",
      "[Phase 1, Epoch 49] Expected Calibration Error (ECE): 0.0340\n",
      "Phase 1, Epoch 49: Train Loss = 1.9150, Val Loss = 2.2390, Val Acc = 0.1067\n"
     ]
    },
    {
     "name": "stderr",
     "output_type": "stream",
     "text": [
      "Phase 1 - Epoch 50: 100%|████████████████████████████████████████████████████████████████████████████████████████████████████████████████████████████████████████████████████████| 586/586 [04:18<00:00,  2.27it/s]\n"
     ]
    },
    {
     "name": "stdout",
     "output_type": "stream",
     "text": [
      "[Phase 1, Epoch 50] Logits Mean: 0.0055, Std: 0.6026\n",
      "[Phase 1, Epoch 50] Expected Calibration Error (ECE): 0.0341\n",
      "Phase 1, Epoch 50: Train Loss = 1.9053, Val Loss = 2.2389, Val Acc = 0.1067\n",
      "\n",
      "--- Phase 2: Train Word Network Only ---\n"
     ]
    },
    {
     "name": "stderr",
     "output_type": "stream",
     "text": [
      "Phase 2 - Epoch 1: 100%|█████████████████████████████████████████████████████████████████████████████████████████████████████████████████████████████████████████████████████████| 586/586 [01:17<00:00,  7.53it/s]\n"
     ]
    },
    {
     "name": "stdout",
     "output_type": "stream",
     "text": [
      "[Phase 2, Epoch 1] Logits Mean: 0.0053, Std: 0.6019\n",
      "[Phase 2, Epoch 1] Expected Calibration Error (ECE): 0.0350\n",
      "Phase 2, Epoch 1: Train Loss = 1.9159, Val Loss = 2.2390, Val Acc = 0.1058\n"
     ]
    },
    {
     "name": "stderr",
     "output_type": "stream",
     "text": [
      "Phase 2 - Epoch 2: 100%|█████████████████████████████████████████████████████████████████████████████████████████████████████████████████████████████████████████████████████████| 586/586 [01:16<00:00,  7.64it/s]\n"
     ]
    },
    {
     "name": "stdout",
     "output_type": "stream",
     "text": [
      "[Phase 2, Epoch 2] Logits Mean: 0.0070, Std: 0.6017\n",
      "[Phase 2, Epoch 2] Expected Calibration Error (ECE): 0.0331\n",
      "Phase 2, Epoch 2: Train Loss = 1.8935, Val Loss = 2.2392, Val Acc = 0.1077\n"
     ]
    },
    {
     "name": "stderr",
     "output_type": "stream",
     "text": [
      "Phase 2 - Epoch 3: 100%|█████████████████████████████████████████████████████████████████████████████████████████████████████████████████████████████████████████████████████████| 586/586 [01:15<00:00,  7.72it/s]\n"
     ]
    },
    {
     "name": "stdout",
     "output_type": "stream",
     "text": [
      "[Phase 2, Epoch 3] Logits Mean: 0.0066, Std: 0.6023\n",
      "[Phase 2, Epoch 3] Expected Calibration Error (ECE): 0.0332\n",
      "Phase 2, Epoch 3: Train Loss = 1.9005, Val Loss = 2.2395, Val Acc = 0.1077\n"
     ]
    },
    {
     "name": "stderr",
     "output_type": "stream",
     "text": [
      "Phase 2 - Epoch 4: 100%|█████████████████████████████████████████████████████████████████████████████████████████████████████████████████████████████████████████████████████████| 586/586 [01:16<00:00,  7.65it/s]\n"
     ]
    },
    {
     "name": "stdout",
     "output_type": "stream",
     "text": [
      "[Phase 2, Epoch 4] Logits Mean: 0.0066, Std: 0.6024\n",
      "[Phase 2, Epoch 4] Expected Calibration Error (ECE): 0.0333\n",
      "Phase 2, Epoch 4: Train Loss = 1.9139, Val Loss = 2.2393, Val Acc = 0.1077\n"
     ]
    },
    {
     "name": "stderr",
     "output_type": "stream",
     "text": [
      "Phase 2 - Epoch 5: 100%|█████████████████████████████████████████████████████████████████████████████████████████████████████████████████████████████████████████████████████████| 586/586 [01:20<00:00,  7.25it/s]\n"
     ]
    },
    {
     "name": "stdout",
     "output_type": "stream",
     "text": [
      "[Phase 2, Epoch 5] Logits Mean: 0.0066, Std: 0.6020\n",
      "[Phase 2, Epoch 5] Expected Calibration Error (ECE): 0.0323\n",
      "Phase 2, Epoch 5: Train Loss = 1.8967, Val Loss = 2.2391, Val Acc = 0.1087\n"
     ]
    },
    {
     "name": "stderr",
     "output_type": "stream",
     "text": [
      "Phase 2 - Epoch 6: 100%|█████████████████████████████████████████████████████████████████████████████████████████████████████████████████████████████████████████████████████████| 586/586 [01:14<00:00,  7.90it/s]\n"
     ]
    },
    {
     "name": "stdout",
     "output_type": "stream",
     "text": [
      "[Phase 2, Epoch 6] Logits Mean: 0.0067, Std: 0.6020\n",
      "[Phase 2, Epoch 6] Expected Calibration Error (ECE): 0.0323\n",
      "Phase 2, Epoch 6: Train Loss = 1.8929, Val Loss = 2.2389, Val Acc = 0.1087\n"
     ]
    },
    {
     "name": "stderr",
     "output_type": "stream",
     "text": [
      "Phase 2 - Epoch 7: 100%|█████████████████████████████████████████████████████████████████████████████████████████████████████████████████████████████████████████████████████████| 586/586 [01:16<00:00,  7.64it/s]\n"
     ]
    },
    {
     "name": "stdout",
     "output_type": "stream",
     "text": [
      "[Phase 2, Epoch 7] Logits Mean: 0.0067, Std: 0.6019\n",
      "[Phase 2, Epoch 7] Expected Calibration Error (ECE): 0.0305\n",
      "Phase 2, Epoch 7: Train Loss = 1.8777, Val Loss = 2.2385, Val Acc = 0.1106\n"
     ]
    },
    {
     "name": "stderr",
     "output_type": "stream",
     "text": [
      "Phase 2 - Epoch 8: 100%|█████████████████████████████████████████████████████████████████████████████████████████████████████████████████████████████████████████████████████████| 586/586 [01:14<00:00,  7.82it/s]\n"
     ]
    },
    {
     "name": "stdout",
     "output_type": "stream",
     "text": [
      "[Phase 2, Epoch 8] Logits Mean: 0.0069, Std: 0.6026\n",
      "[Phase 2, Epoch 8] Expected Calibration Error (ECE): 0.0309\n",
      "Phase 2, Epoch 8: Train Loss = 1.8971, Val Loss = 2.2373, Val Acc = 0.1106\n"
     ]
    },
    {
     "name": "stderr",
     "output_type": "stream",
     "text": [
      "Phase 2 - Epoch 9: 100%|█████████████████████████████████████████████████████████████████████████████████████████████████████████████████████████████████████████████████████████| 586/586 [01:15<00:00,  7.81it/s]\n"
     ]
    },
    {
     "name": "stdout",
     "output_type": "stream",
     "text": [
      "[Phase 2, Epoch 9] Logits Mean: 0.0074, Std: 0.6049\n",
      "[Phase 2, Epoch 9] Expected Calibration Error (ECE): 0.0326\n",
      "Phase 2, Epoch 9: Train Loss = 1.8705, Val Loss = 2.2350, Val Acc = 0.1096\n"
     ]
    },
    {
     "name": "stderr",
     "output_type": "stream",
     "text": [
      "Phase 2 - Epoch 10: 100%|████████████████████████████████████████████████████████████████████████████████████████████████████████████████████████████████████████████████████████| 586/586 [01:15<00:00,  7.73it/s]\n"
     ]
    },
    {
     "name": "stdout",
     "output_type": "stream",
     "text": [
      "[Phase 2, Epoch 10] Logits Mean: 0.0097, Std: 0.6112\n",
      "[Phase 2, Epoch 10] Expected Calibration Error (ECE): 0.0285\n",
      "Phase 2, Epoch 10: Train Loss = 1.8872, Val Loss = 2.2359, Val Acc = 0.1154\n"
     ]
    },
    {
     "name": "stderr",
     "output_type": "stream",
     "text": [
      "Phase 2 - Epoch 11: 100%|████████████████████████████████████████████████████████████████████████████████████████████████████████████████████████████████████████████████████████| 586/586 [01:15<00:00,  7.80it/s]\n"
     ]
    },
    {
     "name": "stdout",
     "output_type": "stream",
     "text": [
      "[Phase 2, Epoch 11] Logits Mean: 0.0076, Std: 0.6078\n",
      "[Phase 2, Epoch 11] Expected Calibration Error (ECE): 0.0272\n",
      "Phase 2, Epoch 11: Train Loss = 1.8567, Val Loss = 2.2320, Val Acc = 0.1163\n"
     ]
    },
    {
     "name": "stderr",
     "output_type": "stream",
     "text": [
      "Phase 2 - Epoch 12: 100%|████████████████████████████████████████████████████████████████████████████████████████████████████████████████████████████████████████████████████████| 586/586 [01:19<00:00,  7.38it/s]\n"
     ]
    },
    {
     "name": "stdout",
     "output_type": "stream",
     "text": [
      "[Phase 2, Epoch 12] Logits Mean: 0.0058, Std: 0.6081\n",
      "[Phase 2, Epoch 12] Expected Calibration Error (ECE): 0.0264\n",
      "Phase 2, Epoch 12: Train Loss = 1.8756, Val Loss = 2.2300, Val Acc = 0.1173\n"
     ]
    },
    {
     "name": "stderr",
     "output_type": "stream",
     "text": [
      "Phase 2 - Epoch 13: 100%|████████████████████████████████████████████████████████████████████████████████████████████████████████████████████████████████████████████████████████| 586/586 [01:23<00:00,  7.04it/s]\n"
     ]
    },
    {
     "name": "stdout",
     "output_type": "stream",
     "text": [
      "[Phase 2, Epoch 13] Logits Mean: 0.0049, Std: 0.6093\n",
      "[Phase 2, Epoch 13] Expected Calibration Error (ECE): 0.0240\n",
      "Phase 2, Epoch 13: Train Loss = 1.9063, Val Loss = 2.2271, Val Acc = 0.1202\n"
     ]
    },
    {
     "name": "stderr",
     "output_type": "stream",
     "text": [
      "Phase 2 - Epoch 14: 100%|████████████████████████████████████████████████████████████████████████████████████████████████████████████████████████████████████████████████████████| 586/586 [01:34<00:00,  6.20it/s]\n"
     ]
    },
    {
     "name": "stdout",
     "output_type": "stream",
     "text": [
      "[Phase 2, Epoch 14] Logits Mean: 0.0025, Std: 0.6105\n",
      "[Phase 2, Epoch 14] Expected Calibration Error (ECE): 0.0207\n",
      "Phase 2, Epoch 14: Train Loss = 1.8749, Val Loss = 2.2243, Val Acc = 0.1240\n"
     ]
    },
    {
     "name": "stderr",
     "output_type": "stream",
     "text": [
      "Phase 2 - Epoch 15: 100%|████████████████████████████████████████████████████████████████████████████████████████████████████████████████████████████████████████████████████████| 586/586 [01:23<00:00,  7.00it/s]\n"
     ]
    },
    {
     "name": "stdout",
     "output_type": "stream",
     "text": [
      "[Phase 2, Epoch 15] Logits Mean: 0.0045, Std: 0.6123\n",
      "[Phase 2, Epoch 15] Expected Calibration Error (ECE): 0.0241\n",
      "Phase 2, Epoch 15: Train Loss = 1.8884, Val Loss = 2.2240, Val Acc = 0.1221\n"
     ]
    },
    {
     "name": "stderr",
     "output_type": "stream",
     "text": [
      "Phase 2 - Epoch 16: 100%|████████████████████████████████████████████████████████████████████████████████████████████████████████████████████████████████████████████████████████| 586/586 [01:27<00:00,  6.72it/s]\n"
     ]
    },
    {
     "name": "stdout",
     "output_type": "stream",
     "text": [
      "[Phase 2, Epoch 16] Logits Mean: -0.0014, Std: 0.6152\n",
      "[Phase 2, Epoch 16] Expected Calibration Error (ECE): 0.0202\n",
      "Phase 2, Epoch 16: Train Loss = 1.8869, Val Loss = 2.2207, Val Acc = 0.1250\n"
     ]
    },
    {
     "name": "stderr",
     "output_type": "stream",
     "text": [
      "Phase 2 - Epoch 17: 100%|████████████████████████████████████████████████████████████████████████████████████████████████████████████████████████████████████████████████████████| 586/586 [01:21<00:00,  7.17it/s]\n"
     ]
    },
    {
     "name": "stdout",
     "output_type": "stream",
     "text": [
      "[Phase 2, Epoch 17] Logits Mean: -0.0009, Std: 0.6163\n",
      "[Phase 2, Epoch 17] Expected Calibration Error (ECE): 0.0188\n",
      "Phase 2, Epoch 17: Train Loss = 1.8582, Val Loss = 2.2186, Val Acc = 0.1288\n"
     ]
    },
    {
     "name": "stderr",
     "output_type": "stream",
     "text": [
      "Phase 2 - Epoch 18: 100%|████████████████████████████████████████████████████████████████████████████████████████████████████████████████████████████████████████████████████████| 586/586 [01:21<00:00,  7.20it/s]\n"
     ]
    },
    {
     "name": "stdout",
     "output_type": "stream",
     "text": [
      "[Phase 2, Epoch 18] Logits Mean: -0.0022, Std: 0.6290\n",
      "[Phase 2, Epoch 18] Expected Calibration Error (ECE): 0.0200\n",
      "Phase 2, Epoch 18: Train Loss = 1.8769, Val Loss = 2.2082, Val Acc = 0.1288\n"
     ]
    },
    {
     "name": "stderr",
     "output_type": "stream",
     "text": [
      "Phase 2 - Epoch 19: 100%|████████████████████████████████████████████████████████████████████████████████████████████████████████████████████████████████████████████████████████| 586/586 [01:20<00:00,  7.25it/s]\n"
     ]
    },
    {
     "name": "stdout",
     "output_type": "stream",
     "text": [
      "[Phase 2, Epoch 19] Logits Mean: 0.0051, Std: 0.6248\n",
      "[Phase 2, Epoch 19] Expected Calibration Error (ECE): 0.0229\n",
      "Phase 2, Epoch 19: Train Loss = 1.8641, Val Loss = 2.2080, Val Acc = 0.1308\n"
     ]
    },
    {
     "name": "stderr",
     "output_type": "stream",
     "text": [
      "Phase 2 - Epoch 20: 100%|████████████████████████████████████████████████████████████████████████████████████████████████████████████████████████████████████████████████████████| 586/586 [01:22<00:00,  7.10it/s]\n"
     ]
    },
    {
     "name": "stdout",
     "output_type": "stream",
     "text": [
      "[Phase 2, Epoch 20] Logits Mean: -0.0022, Std: 0.6220\n",
      "[Phase 2, Epoch 20] Expected Calibration Error (ECE): 0.0229\n",
      "Phase 2, Epoch 20: Train Loss = 1.8901, Val Loss = 2.2059, Val Acc = 0.1327\n"
     ]
    },
    {
     "name": "stderr",
     "output_type": "stream",
     "text": [
      "Phase 2 - Epoch 21: 100%|████████████████████████████████████████████████████████████████████████████████████████████████████████████████████████████████████████████████████████| 586/586 [01:31<00:00,  6.38it/s]\n"
     ]
    },
    {
     "name": "stdout",
     "output_type": "stream",
     "text": [
      "[Phase 2, Epoch 21] Logits Mean: -0.0005, Std: 0.6269\n",
      "[Phase 2, Epoch 21] Expected Calibration Error (ECE): 0.0238\n",
      "Phase 2, Epoch 21: Train Loss = 1.8597, Val Loss = 2.2023, Val Acc = 0.1317\n"
     ]
    },
    {
     "name": "stderr",
     "output_type": "stream",
     "text": [
      "Phase 2 - Epoch 22: 100%|████████████████████████████████████████████████████████████████████████████████████████████████████████████████████████████████████████████████████████| 586/586 [01:19<00:00,  7.38it/s]\n"
     ]
    },
    {
     "name": "stdout",
     "output_type": "stream",
     "text": [
      "[Phase 2, Epoch 22] Logits Mean: -0.0115, Std: 0.6404\n",
      "[Phase 2, Epoch 22] Expected Calibration Error (ECE): 0.0237\n",
      "Phase 2, Epoch 22: Train Loss = 1.8551, Val Loss = 2.1980, Val Acc = 0.1317\n"
     ]
    },
    {
     "name": "stderr",
     "output_type": "stream",
     "text": [
      "Phase 2 - Epoch 23: 100%|████████████████████████████████████████████████████████████████████████████████████████████████████████████████████████████████████████████████████████| 586/586 [01:19<00:00,  7.36it/s]\n"
     ]
    },
    {
     "name": "stdout",
     "output_type": "stream",
     "text": [
      "[Phase 2, Epoch 23] Logits Mean: -0.0047, Std: 0.6316\n",
      "[Phase 2, Epoch 23] Expected Calibration Error (ECE): 0.0254\n",
      "Phase 2, Epoch 23: Train Loss = 1.8697, Val Loss = 2.1952, Val Acc = 0.1337\n"
     ]
    },
    {
     "name": "stderr",
     "output_type": "stream",
     "text": [
      "Phase 2 - Epoch 24: 100%|████████████████████████████████████████████████████████████████████████████████████████████████████████████████████████████████████████████████████████| 586/586 [01:22<00:00,  7.07it/s]\n"
     ]
    },
    {
     "name": "stdout",
     "output_type": "stream",
     "text": [
      "[Phase 2, Epoch 24] Logits Mean: -0.0052, Std: 0.6374\n",
      "[Phase 2, Epoch 24] Expected Calibration Error (ECE): 0.0234\n",
      "Phase 2, Epoch 24: Train Loss = 1.8298, Val Loss = 2.1900, Val Acc = 0.1346\n"
     ]
    },
    {
     "name": "stderr",
     "output_type": "stream",
     "text": [
      "Phase 2 - Epoch 25: 100%|████████████████████████████████████████████████████████████████████████████████████████████████████████████████████████████████████████████████████████| 586/586 [01:20<00:00,  7.31it/s]\n"
     ]
    },
    {
     "name": "stdout",
     "output_type": "stream",
     "text": [
      "[Phase 2, Epoch 25] Logits Mean: -0.0022, Std: 0.6375\n",
      "[Phase 2, Epoch 25] Expected Calibration Error (ECE): 0.0228\n",
      "Phase 2, Epoch 25: Train Loss = 1.8437, Val Loss = 2.1900, Val Acc = 0.1337\n"
     ]
    },
    {
     "name": "stderr",
     "output_type": "stream",
     "text": [
      "Phase 2 - Epoch 26: 100%|████████████████████████████████████████████████████████████████████████████████████████████████████████████████████████████████████████████████████████| 586/586 [01:19<00:00,  7.38it/s]\n"
     ]
    },
    {
     "name": "stdout",
     "output_type": "stream",
     "text": [
      "[Phase 2, Epoch 26] Logits Mean: -0.0031, Std: 0.6298\n",
      "[Phase 2, Epoch 26] Expected Calibration Error (ECE): 0.0240\n",
      "Phase 2, Epoch 26: Train Loss = 1.8654, Val Loss = 2.1937, Val Acc = 0.1327\n"
     ]
    },
    {
     "name": "stderr",
     "output_type": "stream",
     "text": [
      "Phase 2 - Epoch 27: 100%|████████████████████████████████████████████████████████████████████████████████████████████████████████████████████████████████████████████████████████| 586/586 [01:21<00:00,  7.21it/s]\n"
     ]
    },
    {
     "name": "stdout",
     "output_type": "stream",
     "text": [
      "[Phase 2, Epoch 27] Logits Mean: -0.0068, Std: 0.6476\n",
      "[Phase 2, Epoch 27] Expected Calibration Error (ECE): 0.0216\n",
      "Phase 2, Epoch 27: Train Loss = 1.8506, Val Loss = 2.1834, Val Acc = 0.1288\n"
     ]
    },
    {
     "name": "stderr",
     "output_type": "stream",
     "text": [
      "Phase 2 - Epoch 28: 100%|████████████████████████████████████████████████████████████████████████████████████████████████████████████████████████████████████████████████████████| 586/586 [01:18<00:00,  7.48it/s]\n"
     ]
    },
    {
     "name": "stdout",
     "output_type": "stream",
     "text": [
      "[Phase 2, Epoch 28] Logits Mean: -0.0178, Std: 0.6494\n",
      "[Phase 2, Epoch 28] Expected Calibration Error (ECE): 0.0246\n",
      "Phase 2, Epoch 28: Train Loss = 1.8458, Val Loss = 2.1828, Val Acc = 0.1279\n"
     ]
    },
    {
     "name": "stderr",
     "output_type": "stream",
     "text": [
      "Phase 2 - Epoch 29: 100%|████████████████████████████████████████████████████████████████████████████████████████████████████████████████████████████████████████████████████████| 586/586 [01:21<00:00,  7.16it/s]\n"
     ]
    },
    {
     "name": "stdout",
     "output_type": "stream",
     "text": [
      "[Phase 2, Epoch 29] Logits Mean: -0.0072, Std: 0.6525\n",
      "[Phase 2, Epoch 29] Expected Calibration Error (ECE): 0.0226\n",
      "Phase 2, Epoch 29: Train Loss = 1.8191, Val Loss = 2.1837, Val Acc = 0.1298\n"
     ]
    },
    {
     "name": "stderr",
     "output_type": "stream",
     "text": [
      "Phase 2 - Epoch 30: 100%|████████████████████████████████████████████████████████████████████████████████████████████████████████████████████████████████████████████████████████| 586/586 [01:20<00:00,  7.31it/s]\n"
     ]
    },
    {
     "name": "stdout",
     "output_type": "stream",
     "text": [
      "[Phase 2, Epoch 30] Logits Mean: -0.0258, Std: 0.6564\n",
      "[Phase 2, Epoch 30] Expected Calibration Error (ECE): 0.0339\n",
      "Phase 2, Epoch 30: Train Loss = 1.8223, Val Loss = 2.1773, Val Acc = 0.1308\n"
     ]
    },
    {
     "name": "stderr",
     "output_type": "stream",
     "text": [
      "Phase 2 - Epoch 31: 100%|████████████████████████████████████████████████████████████████████████████████████████████████████████████████████████████████████████████████████████| 586/586 [01:19<00:00,  7.38it/s]\n"
     ]
    },
    {
     "name": "stdout",
     "output_type": "stream",
     "text": [
      "[Phase 2, Epoch 31] Logits Mean: -0.0069, Std: 0.6551\n",
      "[Phase 2, Epoch 31] Expected Calibration Error (ECE): 0.0285\n",
      "Phase 2, Epoch 31: Train Loss = 1.8288, Val Loss = 2.1731, Val Acc = 0.1279\n"
     ]
    },
    {
     "name": "stderr",
     "output_type": "stream",
     "text": [
      "Phase 2 - Epoch 32: 100%|████████████████████████████████████████████████████████████████████████████████████████████████████████████████████████████████████████████████████████| 586/586 [01:21<00:00,  7.19it/s]\n"
     ]
    },
    {
     "name": "stdout",
     "output_type": "stream",
     "text": [
      "[Phase 2, Epoch 32] Logits Mean: 0.0203, Std: 0.6548\n",
      "[Phase 2, Epoch 32] Expected Calibration Error (ECE): 0.0282\n",
      "Phase 2, Epoch 32: Train Loss = 1.8180, Val Loss = 2.1791, Val Acc = 0.1250\n"
     ]
    },
    {
     "name": "stderr",
     "output_type": "stream",
     "text": [
      "Phase 2 - Epoch 33: 100%|████████████████████████████████████████████████████████████████████████████████████████████████████████████████████████████████████████████████████████| 586/586 [01:23<00:00,  7.02it/s]\n"
     ]
    },
    {
     "name": "stdout",
     "output_type": "stream",
     "text": [
      "[Phase 2, Epoch 33] Logits Mean: -0.0104, Std: 0.6546\n",
      "[Phase 2, Epoch 33] Expected Calibration Error (ECE): 0.0320\n",
      "Phase 2, Epoch 33: Train Loss = 1.8473, Val Loss = 2.1716, Val Acc = 0.1298\n"
     ]
    },
    {
     "name": "stderr",
     "output_type": "stream",
     "text": [
      "Phase 2 - Epoch 34: 100%|████████████████████████████████████████████████████████████████████████████████████████████████████████████████████████████████████████████████████████| 586/586 [01:21<00:00,  7.20it/s]\n"
     ]
    },
    {
     "name": "stdout",
     "output_type": "stream",
     "text": [
      "[Phase 2, Epoch 34] Logits Mean: -0.0076, Std: 0.6760\n",
      "[Phase 2, Epoch 34] Expected Calibration Error (ECE): 0.0295\n",
      "Phase 2, Epoch 34: Train Loss = 1.8403, Val Loss = 2.1657, Val Acc = 0.1327\n"
     ]
    },
    {
     "name": "stderr",
     "output_type": "stream",
     "text": [
      "Phase 2 - Epoch 35: 100%|████████████████████████████████████████████████████████████████████████████████████████████████████████████████████████████████████████████████████████| 586/586 [01:21<00:00,  7.18it/s]\n"
     ]
    },
    {
     "name": "stdout",
     "output_type": "stream",
     "text": [
      "[Phase 2, Epoch 35] Logits Mean: -0.0056, Std: 0.6710\n",
      "[Phase 2, Epoch 35] Expected Calibration Error (ECE): 0.0297\n",
      "Phase 2, Epoch 35: Train Loss = 1.8080, Val Loss = 2.1680, Val Acc = 0.1298\n"
     ]
    },
    {
     "name": "stderr",
     "output_type": "stream",
     "text": [
      "Phase 2 - Epoch 36: 100%|████████████████████████████████████████████████████████████████████████████████████████████████████████████████████████████████████████████████████████| 586/586 [01:15<00:00,  7.72it/s]\n"
     ]
    },
    {
     "name": "stdout",
     "output_type": "stream",
     "text": [
      "[Phase 2, Epoch 36] Logits Mean: -0.0125, Std: 0.6523\n",
      "[Phase 2, Epoch 36] Expected Calibration Error (ECE): 0.0355\n",
      "Phase 2, Epoch 36: Train Loss = 1.8017, Val Loss = 2.1680, Val Acc = 0.1337\n"
     ]
    },
    {
     "name": "stderr",
     "output_type": "stream",
     "text": [
      "Phase 2 - Epoch 37: 100%|████████████████████████████████████████████████████████████████████████████████████████████████████████████████████████████████████████████████████████| 586/586 [01:16<00:00,  7.70it/s]\n"
     ]
    },
    {
     "name": "stdout",
     "output_type": "stream",
     "text": [
      "[Phase 2, Epoch 37] Logits Mean: -0.0015, Std: 0.6680\n",
      "[Phase 2, Epoch 37] Expected Calibration Error (ECE): 0.0316\n",
      "Phase 2, Epoch 37: Train Loss = 1.8082, Val Loss = 2.1608, Val Acc = 0.1337\n"
     ]
    },
    {
     "name": "stderr",
     "output_type": "stream",
     "text": [
      "Phase 2 - Epoch 38: 100%|████████████████████████████████████████████████████████████████████████████████████████████████████████████████████████████████████████████████████████| 586/586 [01:16<00:00,  7.62it/s]\n"
     ]
    },
    {
     "name": "stdout",
     "output_type": "stream",
     "text": [
      "[Phase 2, Epoch 38] Logits Mean: -0.0039, Std: 0.6723\n",
      "[Phase 2, Epoch 38] Expected Calibration Error (ECE): 0.0287\n",
      "Phase 2, Epoch 38: Train Loss = 1.7990, Val Loss = 2.1588, Val Acc = 0.1346\n"
     ]
    },
    {
     "name": "stderr",
     "output_type": "stream",
     "text": [
      "Phase 2 - Epoch 39: 100%|████████████████████████████████████████████████████████████████████████████████████████████████████████████████████████████████████████████████████████| 586/586 [01:16<00:00,  7.69it/s]\n"
     ]
    },
    {
     "name": "stdout",
     "output_type": "stream",
     "text": [
      "[Phase 2, Epoch 39] Logits Mean: 0.0095, Std: 0.6697\n",
      "[Phase 2, Epoch 39] Expected Calibration Error (ECE): 0.0263\n",
      "Phase 2, Epoch 39: Train Loss = 1.7806, Val Loss = 2.1591, Val Acc = 0.1356\n"
     ]
    },
    {
     "name": "stderr",
     "output_type": "stream",
     "text": [
      "Phase 2 - Epoch 40: 100%|████████████████████████████████████████████████████████████████████████████████████████████████████████████████████████████████████████████████████████| 586/586 [01:16<00:00,  7.70it/s]\n"
     ]
    },
    {
     "name": "stdout",
     "output_type": "stream",
     "text": [
      "[Phase 2, Epoch 40] Logits Mean: 0.0134, Std: 0.6626\n",
      "[Phase 2, Epoch 40] Expected Calibration Error (ECE): 0.0245\n",
      "Phase 2, Epoch 40: Train Loss = 1.7942, Val Loss = 2.1609, Val Acc = 0.1327\n"
     ]
    },
    {
     "name": "stderr",
     "output_type": "stream",
     "text": [
      "Phase 2 - Epoch 41: 100%|████████████████████████████████████████████████████████████████████████████████████████████████████████████████████████████████████████████████████████| 586/586 [01:26<00:00,  6.74it/s]\n"
     ]
    },
    {
     "name": "stdout",
     "output_type": "stream",
     "text": [
      "[Phase 2, Epoch 41] Logits Mean: 0.0076, Std: 0.6872\n",
      "[Phase 2, Epoch 41] Expected Calibration Error (ECE): 0.0280\n",
      "Phase 2, Epoch 41: Train Loss = 1.7858, Val Loss = 2.1536, Val Acc = 0.1298\n"
     ]
    },
    {
     "name": "stderr",
     "output_type": "stream",
     "text": [
      "Phase 2 - Epoch 42: 100%|████████████████████████████████████████████████████████████████████████████████████████████████████████████████████████████████████████████████████████| 586/586 [01:18<00:00,  7.49it/s]\n"
     ]
    },
    {
     "name": "stdout",
     "output_type": "stream",
     "text": [
      "[Phase 2, Epoch 42] Logits Mean: 0.0085, Std: 0.6726\n",
      "[Phase 2, Epoch 42] Expected Calibration Error (ECE): 0.0253\n",
      "Phase 2, Epoch 42: Train Loss = 1.8147, Val Loss = 2.1580, Val Acc = 0.1346\n"
     ]
    },
    {
     "name": "stderr",
     "output_type": "stream",
     "text": [
      "Phase 2 - Epoch 43: 100%|████████████████████████████████████████████████████████████████████████████████████████████████████████████████████████████████████████████████████████| 586/586 [01:18<00:00,  7.48it/s]\n"
     ]
    },
    {
     "name": "stdout",
     "output_type": "stream",
     "text": [
      "[Phase 2, Epoch 43] Logits Mean: -0.0039, Std: 0.6755\n",
      "[Phase 2, Epoch 43] Expected Calibration Error (ECE): 0.0292\n",
      "Phase 2, Epoch 43: Train Loss = 1.7872, Val Loss = 2.1489, Val Acc = 0.1365\n"
     ]
    },
    {
     "name": "stderr",
     "output_type": "stream",
     "text": [
      "Phase 2 - Epoch 44: 100%|████████████████████████████████████████████████████████████████████████████████████████████████████████████████████████████████████████████████████████| 586/586 [01:16<00:00,  7.69it/s]\n"
     ]
    },
    {
     "name": "stdout",
     "output_type": "stream",
     "text": [
      "[Phase 2, Epoch 44] Logits Mean: -0.0133, Std: 0.6790\n",
      "[Phase 2, Epoch 44] Expected Calibration Error (ECE): 0.0305\n",
      "Phase 2, Epoch 44: Train Loss = 1.7776, Val Loss = 2.1450, Val Acc = 0.1346\n"
     ]
    },
    {
     "name": "stderr",
     "output_type": "stream",
     "text": [
      "Phase 2 - Epoch 45: 100%|████████████████████████████████████████████████████████████████████████████████████████████████████████████████████████████████████████████████████████| 586/586 [01:16<00:00,  7.64it/s]\n"
     ]
    },
    {
     "name": "stdout",
     "output_type": "stream",
     "text": [
      "[Phase 2, Epoch 45] Logits Mean: 0.0186, Std: 0.6830\n",
      "[Phase 2, Epoch 45] Expected Calibration Error (ECE): 0.0278\n",
      "Phase 2, Epoch 45: Train Loss = 1.7942, Val Loss = 2.1517, Val Acc = 0.1346\n"
     ]
    },
    {
     "name": "stderr",
     "output_type": "stream",
     "text": [
      "Phase 2 - Epoch 46: 100%|████████████████████████████████████████████████████████████████████████████████████████████████████████████████████████████████████████████████████████| 586/586 [01:16<00:00,  7.70it/s]\n"
     ]
    },
    {
     "name": "stdout",
     "output_type": "stream",
     "text": [
      "[Phase 2, Epoch 46] Logits Mean: 0.0071, Std: 0.6786\n",
      "[Phase 2, Epoch 46] Expected Calibration Error (ECE): 0.0278\n",
      "Phase 2, Epoch 46: Train Loss = 1.7983, Val Loss = 2.1488, Val Acc = 0.1423\n"
     ]
    },
    {
     "name": "stderr",
     "output_type": "stream",
     "text": [
      "Phase 2 - Epoch 47: 100%|████████████████████████████████████████████████████████████████████████████████████████████████████████████████████████████████████████████████████████| 586/586 [01:16<00:00,  7.63it/s]\n"
     ]
    },
    {
     "name": "stdout",
     "output_type": "stream",
     "text": [
      "[Phase 2, Epoch 47] Logits Mean: 0.0096, Std: 0.6894\n",
      "[Phase 2, Epoch 47] Expected Calibration Error (ECE): 0.0256\n",
      "Phase 2, Epoch 47: Train Loss = 1.7668, Val Loss = 2.1484, Val Acc = 0.1413\n"
     ]
    },
    {
     "name": "stderr",
     "output_type": "stream",
     "text": [
      "Phase 2 - Epoch 48: 100%|████████████████████████████████████████████████████████████████████████████████████████████████████████████████████████████████████████████████████████| 586/586 [01:14<00:00,  7.87it/s]\n"
     ]
    },
    {
     "name": "stdout",
     "output_type": "stream",
     "text": [
      "[Phase 2, Epoch 48] Logits Mean: -0.0020, Std: 0.6744\n",
      "[Phase 2, Epoch 48] Expected Calibration Error (ECE): 0.0267\n",
      "Phase 2, Epoch 48: Train Loss = 1.8065, Val Loss = 2.1449, Val Acc = 0.1375\n"
     ]
    },
    {
     "name": "stderr",
     "output_type": "stream",
     "text": [
      "Phase 2 - Epoch 49: 100%|████████████████████████████████████████████████████████████████████████████████████████████████████████████████████████████████████████████████████████| 586/586 [01:17<00:00,  7.58it/s]\n"
     ]
    },
    {
     "name": "stdout",
     "output_type": "stream",
     "text": [
      "[Phase 2, Epoch 49] Logits Mean: -0.0011, Std: 0.6808\n",
      "[Phase 2, Epoch 49] Expected Calibration Error (ECE): 0.0221\n",
      "Phase 2, Epoch 49: Train Loss = 1.7637, Val Loss = 2.1443, Val Acc = 0.1385\n"
     ]
    },
    {
     "name": "stderr",
     "output_type": "stream",
     "text": [
      "Phase 2 - Epoch 50: 100%|████████████████████████████████████████████████████████████████████████████████████████████████████████████████████████████████████████████████████████| 586/586 [01:22<00:00,  7.14it/s]\n"
     ]
    },
    {
     "name": "stdout",
     "output_type": "stream",
     "text": [
      "[Phase 2, Epoch 50] Logits Mean: -0.0032, Std: 0.6848\n",
      "[Phase 2, Epoch 50] Expected Calibration Error (ECE): 0.0222\n",
      "Phase 2, Epoch 50: Train Loss = 1.7911, Val Loss = 2.1436, Val Acc = 0.1404\n",
      "\n",
      "--- Phase 3: Train Fusion Layer Only ---\n"
     ]
    },
    {
     "name": "stderr",
     "output_type": "stream",
     "text": [
      "Phase 3 - Epoch 1: 100%|█████████████████████████████████████████████████████████████████████████████████████████████████████████████████████████████████████████████████████████| 586/586 [01:04<00:00,  9.11it/s]\n"
     ]
    },
    {
     "name": "stdout",
     "output_type": "stream",
     "text": [
      "[Phase 3, Epoch 1] Logits Mean: -0.0034, Std: 0.6848\n",
      "[Phase 3, Epoch 1] Expected Calibration Error (ECE): 0.0229\n",
      "Phase 3, Epoch 1: Train Loss = 1.7981, Val Loss = 2.1437, Val Acc = 0.1404\n"
     ]
    },
    {
     "name": "stderr",
     "output_type": "stream",
     "text": [
      "Phase 3 - Epoch 2: 100%|█████████████████████████████████████████████████████████████████████████████████████████████████████████████████████████████████████████████████████████| 586/586 [01:10<00:00,  8.37it/s]\n"
     ]
    },
    {
     "name": "stdout",
     "output_type": "stream",
     "text": [
      "[Phase 3, Epoch 2] Logits Mean: -0.0039, Std: 0.6966\n",
      "[Phase 3, Epoch 2] Expected Calibration Error (ECE): 0.0250\n",
      "Phase 3, Epoch 2: Train Loss = 1.7744, Val Loss = 2.1406, Val Acc = 0.1385\n"
     ]
    },
    {
     "name": "stderr",
     "output_type": "stream",
     "text": [
      "Phase 3 - Epoch 3: 100%|█████████████████████████████████████████████████████████████████████████████████████████████████████████████████████████████████████████████████████████| 586/586 [01:07<00:00,  8.74it/s]\n"
     ]
    },
    {
     "name": "stdout",
     "output_type": "stream",
     "text": [
      "[Phase 3, Epoch 3] Logits Mean: -0.0037, Std: 0.6896\n",
      "[Phase 3, Epoch 3] Expected Calibration Error (ECE): 0.0250\n",
      "Phase 3, Epoch 3: Train Loss = 1.7776, Val Loss = 2.1426, Val Acc = 0.1385\n"
     ]
    },
    {
     "name": "stderr",
     "output_type": "stream",
     "text": [
      "Phase 3 - Epoch 4: 100%|█████████████████████████████████████████████████████████████████████████████████████████████████████████████████████████████████████████████████████████| 586/586 [01:09<00:00,  8.40it/s]\n"
     ]
    },
    {
     "name": "stdout",
     "output_type": "stream",
     "text": [
      "[Phase 3, Epoch 4] Logits Mean: -0.0041, Std: 0.7021\n",
      "[Phase 3, Epoch 4] Expected Calibration Error (ECE): 0.0277\n",
      "Phase 3, Epoch 4: Train Loss = 1.7593, Val Loss = 2.1391, Val Acc = 0.1385\n"
     ]
    },
    {
     "name": "stderr",
     "output_type": "stream",
     "text": [
      "Phase 3 - Epoch 5: 100%|█████████████████████████████████████████████████████████████████████████████████████████████████████████████████████████████████████████████████████████| 586/586 [01:09<00:00,  8.38it/s]\n"
     ]
    },
    {
     "name": "stdout",
     "output_type": "stream",
     "text": [
      "[Phase 3, Epoch 5] Logits Mean: -0.0039, Std: 0.7010\n",
      "[Phase 3, Epoch 5] Expected Calibration Error (ECE): 0.0272\n",
      "Phase 3, Epoch 5: Train Loss = 1.7784, Val Loss = 2.1392, Val Acc = 0.1385\n"
     ]
    },
    {
     "name": "stderr",
     "output_type": "stream",
     "text": [
      "Phase 3 - Epoch 6: 100%|█████████████████████████████████████████████████████████████████████████████████████████████████████████████████████████████████████████████████████████| 586/586 [01:08<00:00,  8.59it/s]\n"
     ]
    },
    {
     "name": "stdout",
     "output_type": "stream",
     "text": [
      "[Phase 3, Epoch 6] Logits Mean: -0.0039, Std: 0.7027\n",
      "[Phase 3, Epoch 6] Expected Calibration Error (ECE): 0.0279\n",
      "Phase 3, Epoch 6: Train Loss = 1.7800, Val Loss = 2.1387, Val Acc = 0.1385\n"
     ]
    },
    {
     "name": "stderr",
     "output_type": "stream",
     "text": [
      "Phase 3 - Epoch 7: 100%|█████████████████████████████████████████████████████████████████████████████████████████████████████████████████████████████████████████████████████████| 586/586 [01:04<00:00,  9.03it/s]\n"
     ]
    },
    {
     "name": "stdout",
     "output_type": "stream",
     "text": [
      "[Phase 3, Epoch 7] Logits Mean: -0.0041, Std: 0.7081\n",
      "[Phase 3, Epoch 7] Expected Calibration Error (ECE): 0.0288\n",
      "Phase 3, Epoch 7: Train Loss = 1.7425, Val Loss = 2.1374, Val Acc = 0.1385\n"
     ]
    },
    {
     "name": "stderr",
     "output_type": "stream",
     "text": [
      "Phase 3 - Epoch 8: 100%|█████████████████████████████████████████████████████████████████████████████████████████████████████████████████████████████████████████████████████████| 586/586 [01:07<00:00,  8.65it/s]\n"
     ]
    },
    {
     "name": "stdout",
     "output_type": "stream",
     "text": [
      "[Phase 3, Epoch 8] Logits Mean: -0.0038, Std: 0.6930\n",
      "[Phase 3, Epoch 8] Expected Calibration Error (ECE): 0.0263\n",
      "Phase 3, Epoch 8: Train Loss = 1.7828, Val Loss = 2.1416, Val Acc = 0.1385\n"
     ]
    },
    {
     "name": "stderr",
     "output_type": "stream",
     "text": [
      "Phase 3 - Epoch 9: 100%|█████████████████████████████████████████████████████████████████████████████████████████████████████████████████████████████████████████████████████████| 586/586 [01:06<00:00,  8.77it/s]\n"
     ]
    },
    {
     "name": "stdout",
     "output_type": "stream",
     "text": [
      "[Phase 3, Epoch 9] Logits Mean: -0.0038, Std: 0.6971\n",
      "[Phase 3, Epoch 9] Expected Calibration Error (ECE): 0.0288\n",
      "Phase 3, Epoch 9: Train Loss = 1.7845, Val Loss = 2.1404, Val Acc = 0.1385\n"
     ]
    },
    {
     "name": "stderr",
     "output_type": "stream",
     "text": [
      "Phase 3 - Epoch 10: 100%|████████████████████████████████████████████████████████████████████████████████████████████████████████████████████████████████████████████████████████| 586/586 [01:08<00:00,  8.54it/s]\n"
     ]
    },
    {
     "name": "stdout",
     "output_type": "stream",
     "text": [
      "[Phase 3, Epoch 10] Logits Mean: -0.0039, Std: 0.7008\n",
      "[Phase 3, Epoch 10] Expected Calibration Error (ECE): 0.0274\n",
      "Phase 3, Epoch 10: Train Loss = 1.7725, Val Loss = 2.1392, Val Acc = 0.1385\n"
     ]
    },
    {
     "name": "stderr",
     "output_type": "stream",
     "text": [
      "Phase 3 - Epoch 11: 100%|████████████████████████████████████████████████████████████████████████████████████████████████████████████████████████████████████████████████████████| 586/586 [01:09<00:00,  8.44it/s]\n"
     ]
    },
    {
     "name": "stdout",
     "output_type": "stream",
     "text": [
      "[Phase 3, Epoch 11] Logits Mean: -0.0038, Std: 0.6986\n",
      "[Phase 3, Epoch 11] Expected Calibration Error (ECE): 0.0284\n",
      "Phase 3, Epoch 11: Train Loss = 1.7705, Val Loss = 2.1398, Val Acc = 0.1385\n"
     ]
    },
    {
     "name": "stderr",
     "output_type": "stream",
     "text": [
      "Phase 3 - Epoch 12: 100%|████████████████████████████████████████████████████████████████████████████████████████████████████████████████████████████████████████████████████████| 586/586 [01:08<00:00,  8.49it/s]\n"
     ]
    },
    {
     "name": "stdout",
     "output_type": "stream",
     "text": [
      "[Phase 3, Epoch 12] Logits Mean: -0.0039, Std: 0.7049\n",
      "[Phase 3, Epoch 12] Expected Calibration Error (ECE): 0.0290\n",
      "Phase 3, Epoch 12: Train Loss = 1.7625, Val Loss = 2.1381, Val Acc = 0.1385\n"
     ]
    },
    {
     "name": "stderr",
     "output_type": "stream",
     "text": [
      "Phase 3 - Epoch 13: 100%|████████████████████████████████████████████████████████████████████████████████████████████████████████████████████████████████████████████████████████| 586/586 [01:09<00:00,  8.40it/s]\n"
     ]
    },
    {
     "name": "stdout",
     "output_type": "stream",
     "text": [
      "[Phase 3, Epoch 13] Logits Mean: -0.0039, Std: 0.7052\n",
      "[Phase 3, Epoch 13] Expected Calibration Error (ECE): 0.0285\n",
      "Phase 3, Epoch 13: Train Loss = 1.7857, Val Loss = 2.1380, Val Acc = 0.1394\n"
     ]
    },
    {
     "name": "stderr",
     "output_type": "stream",
     "text": [
      "Phase 3 - Epoch 14: 100%|████████████████████████████████████████████████████████████████████████████████████████████████████████████████████████████████████████████████████████| 586/586 [01:10<00:00,  8.32it/s]\n"
     ]
    },
    {
     "name": "stdout",
     "output_type": "stream",
     "text": [
      "[Phase 3, Epoch 14] Logits Mean: -0.0040, Std: 0.7070\n",
      "[Phase 3, Epoch 14] Expected Calibration Error (ECE): 0.0301\n",
      "Phase 3, Epoch 14: Train Loss = 1.7511, Val Loss = 2.1376, Val Acc = 0.1385\n"
     ]
    },
    {
     "name": "stderr",
     "output_type": "stream",
     "text": [
      "Phase 3 - Epoch 15: 100%|████████████████████████████████████████████████████████████████████████████████████████████████████████████████████████████████████████████████████████| 586/586 [01:11<00:00,  8.24it/s]\n"
     ]
    },
    {
     "name": "stdout",
     "output_type": "stream",
     "text": [
      "[Phase 3, Epoch 15] Logits Mean: -0.0040, Std: 0.7035\n",
      "[Phase 3, Epoch 15] Expected Calibration Error (ECE): 0.0281\n",
      "Phase 3, Epoch 15: Train Loss = 1.7665, Val Loss = 2.1386, Val Acc = 0.1385\n"
     ]
    },
    {
     "name": "stderr",
     "output_type": "stream",
     "text": [
      "Phase 3 - Epoch 16: 100%|████████████████████████████████████████████████████████████████████████████████████████████████████████████████████████████████████████████████████████| 586/586 [01:10<00:00,  8.35it/s]\n"
     ]
    },
    {
     "name": "stdout",
     "output_type": "stream",
     "text": [
      "[Phase 3, Epoch 16] Logits Mean: -0.0039, Std: 0.6979\n",
      "[Phase 3, Epoch 16] Expected Calibration Error (ECE): 0.0274\n",
      "Phase 3, Epoch 16: Train Loss = 1.7852, Val Loss = 2.1402, Val Acc = 0.1385\n"
     ]
    },
    {
     "name": "stderr",
     "output_type": "stream",
     "text": [
      "Phase 3 - Epoch 17: 100%|████████████████████████████████████████████████████████████████████████████████████████████████████████████████████████████████████████████████████████| 586/586 [01:10<00:00,  8.27it/s]\n"
     ]
    },
    {
     "name": "stdout",
     "output_type": "stream",
     "text": [
      "[Phase 3, Epoch 17] Logits Mean: -0.0038, Std: 0.6974\n",
      "[Phase 3, Epoch 17] Expected Calibration Error (ECE): 0.0290\n",
      "Phase 3, Epoch 17: Train Loss = 1.7880, Val Loss = 2.1402, Val Acc = 0.1385\n"
     ]
    },
    {
     "name": "stderr",
     "output_type": "stream",
     "text": [
      "Phase 3 - Epoch 18: 100%|████████████████████████████████████████████████████████████████████████████████████████████████████████████████████████████████████████████████████████| 586/586 [01:11<00:00,  8.25it/s]\n"
     ]
    },
    {
     "name": "stdout",
     "output_type": "stream",
     "text": [
      "[Phase 3, Epoch 18] Logits Mean: -0.0039, Std: 0.6998\n",
      "[Phase 3, Epoch 18] Expected Calibration Error (ECE): 0.0284\n",
      "Phase 3, Epoch 18: Train Loss = 1.7574, Val Loss = 2.1396, Val Acc = 0.1385\n"
     ]
    },
    {
     "name": "stderr",
     "output_type": "stream",
     "text": [
      "Phase 3 - Epoch 19: 100%|████████████████████████████████████████████████████████████████████████████████████████████████████████████████████████████████████████████████████████| 586/586 [01:11<00:00,  8.21it/s]\n"
     ]
    },
    {
     "name": "stdout",
     "output_type": "stream",
     "text": [
      "[Phase 3, Epoch 19] Logits Mean: -0.0038, Std: 0.6963\n",
      "[Phase 3, Epoch 19] Expected Calibration Error (ECE): 0.0286\n",
      "Phase 3, Epoch 19: Train Loss = 1.7931, Val Loss = 2.1406, Val Acc = 0.1385\n"
     ]
    },
    {
     "name": "stderr",
     "output_type": "stream",
     "text": [
      "Phase 3 - Epoch 20: 100%|████████████████████████████████████████████████████████████████████████████████████████████████████████████████████████████████████████████████████████| 586/586 [01:12<00:00,  8.07it/s]\n"
     ]
    },
    {
     "name": "stdout",
     "output_type": "stream",
     "text": [
      "[Phase 3, Epoch 20] Logits Mean: -0.0038, Std: 0.6970\n",
      "[Phase 3, Epoch 20] Expected Calibration Error (ECE): 0.0288\n",
      "Phase 3, Epoch 20: Train Loss = 1.7728, Val Loss = 2.1404, Val Acc = 0.1385\n"
     ]
    },
    {
     "name": "stderr",
     "output_type": "stream",
     "text": [
      "Phase 3 - Epoch 21: 100%|████████████████████████████████████████████████████████████████████████████████████████████████████████████████████████████████████████████████████████| 586/586 [01:15<00:00,  7.81it/s]\n"
     ]
    },
    {
     "name": "stdout",
     "output_type": "stream",
     "text": [
      "[Phase 3, Epoch 21] Logits Mean: -0.0038, Std: 0.6948\n",
      "[Phase 3, Epoch 21] Expected Calibration Error (ECE): 0.0284\n",
      "Phase 3, Epoch 21: Train Loss = 1.8116, Val Loss = 2.1410, Val Acc = 0.1385\n"
     ]
    },
    {
     "name": "stderr",
     "output_type": "stream",
     "text": [
      "Phase 3 - Epoch 22: 100%|████████████████████████████████████████████████████████████████████████████████████████████████████████████████████████████████████████████████████████| 586/586 [01:12<00:00,  8.06it/s]\n"
     ]
    },
    {
     "name": "stdout",
     "output_type": "stream",
     "text": [
      "[Phase 3, Epoch 22] Logits Mean: -0.0038, Std: 0.6956\n",
      "[Phase 3, Epoch 22] Expected Calibration Error (ECE): 0.0285\n",
      "Phase 3, Epoch 22: Train Loss = 1.7797, Val Loss = 2.1408, Val Acc = 0.1385\n"
     ]
    },
    {
     "name": "stderr",
     "output_type": "stream",
     "text": [
      "Phase 3 - Epoch 23: 100%|████████████████████████████████████████████████████████████████████████████████████████████████████████████████████████████████████████████████████████| 586/586 [01:11<00:00,  8.23it/s]\n"
     ]
    },
    {
     "name": "stdout",
     "output_type": "stream",
     "text": [
      "[Phase 3, Epoch 23] Logits Mean: -0.0038, Std: 0.6954\n",
      "[Phase 3, Epoch 23] Expected Calibration Error (ECE): 0.0285\n",
      "Phase 3, Epoch 23: Train Loss = 1.7809, Val Loss = 2.1408, Val Acc = 0.1385\n"
     ]
    },
    {
     "name": "stderr",
     "output_type": "stream",
     "text": [
      "Phase 3 - Epoch 24: 100%|████████████████████████████████████████████████████████████████████████████████████████████████████████████████████████████████████████████████████████| 586/586 [01:08<00:00,  8.51it/s]\n"
     ]
    },
    {
     "name": "stdout",
     "output_type": "stream",
     "text": [
      "[Phase 3, Epoch 24] Logits Mean: -0.0038, Std: 0.6983\n",
      "[Phase 3, Epoch 24] Expected Calibration Error (ECE): 0.0295\n",
      "Phase 3, Epoch 24: Train Loss = 1.7663, Val Loss = 2.1400, Val Acc = 0.1385\n"
     ]
    },
    {
     "name": "stderr",
     "output_type": "stream",
     "text": [
      "Phase 3 - Epoch 25: 100%|████████████████████████████████████████████████████████████████████████████████████████████████████████████████████████████████████████████████████████| 586/586 [01:08<00:00,  8.59it/s]\n"
     ]
    },
    {
     "name": "stdout",
     "output_type": "stream",
     "text": [
      "[Phase 3, Epoch 25] Logits Mean: -0.0038, Std: 0.6974\n",
      "[Phase 3, Epoch 25] Expected Calibration Error (ECE): 0.0289\n",
      "Phase 3, Epoch 25: Train Loss = 1.7822, Val Loss = 2.1402, Val Acc = 0.1385\n"
     ]
    },
    {
     "name": "stderr",
     "output_type": "stream",
     "text": [
      "Phase 3 - Epoch 26: 100%|████████████████████████████████████████████████████████████████████████████████████████████████████████████████████████████████████████████████████████| 586/586 [01:09<00:00,  8.39it/s]\n"
     ]
    },
    {
     "name": "stdout",
     "output_type": "stream",
     "text": [
      "[Phase 3, Epoch 26] Logits Mean: -0.0038, Std: 0.6976\n",
      "[Phase 3, Epoch 26] Expected Calibration Error (ECE): 0.0290\n",
      "Phase 3, Epoch 26: Train Loss = 1.7796, Val Loss = 2.1402, Val Acc = 0.1385\n"
     ]
    },
    {
     "name": "stderr",
     "output_type": "stream",
     "text": [
      "Phase 3 - Epoch 27: 100%|████████████████████████████████████████████████████████████████████████████████████████████████████████████████████████████████████████████████████████| 586/586 [01:09<00:00,  8.38it/s]\n"
     ]
    },
    {
     "name": "stdout",
     "output_type": "stream",
     "text": [
      "[Phase 3, Epoch 27] Logits Mean: -0.0039, Std: 0.6988\n",
      "[Phase 3, Epoch 27] Expected Calibration Error (ECE): 0.0263\n",
      "Phase 3, Epoch 27: Train Loss = 1.7659, Val Loss = 2.1398, Val Acc = 0.1385\n"
     ]
    },
    {
     "name": "stderr",
     "output_type": "stream",
     "text": [
      "Phase 3 - Epoch 28: 100%|████████████████████████████████████████████████████████████████████████████████████████████████████████████████████████████████████████████████████████| 586/586 [01:18<00:00,  7.50it/s]\n"
     ]
    },
    {
     "name": "stdout",
     "output_type": "stream",
     "text": [
      "[Phase 3, Epoch 28] Logits Mean: -0.0039, Std: 0.6990\n",
      "[Phase 3, Epoch 28] Expected Calibration Error (ECE): 0.0264\n",
      "Phase 3, Epoch 28: Train Loss = 1.7815, Val Loss = 2.1398, Val Acc = 0.1385\n"
     ]
    },
    {
     "name": "stderr",
     "output_type": "stream",
     "text": [
      "Phase 3 - Epoch 29: 100%|████████████████████████████████████████████████████████████████████████████████████████████████████████████████████████████████████████████████████████| 586/586 [01:08<00:00,  8.60it/s]\n"
     ]
    },
    {
     "name": "stdout",
     "output_type": "stream",
     "text": [
      "[Phase 3, Epoch 29] Logits Mean: -0.0038, Std: 0.6986\n",
      "[Phase 3, Epoch 29] Expected Calibration Error (ECE): 0.0278\n",
      "Phase 3, Epoch 29: Train Loss = 1.7980, Val Loss = 2.1399, Val Acc = 0.1385\n"
     ]
    },
    {
     "name": "stderr",
     "output_type": "stream",
     "text": [
      "Phase 3 - Epoch 30: 100%|████████████████████████████████████████████████████████████████████████████████████████████████████████████████████████████████████████████████████████| 586/586 [01:05<00:00,  8.90it/s]\n"
     ]
    },
    {
     "name": "stdout",
     "output_type": "stream",
     "text": [
      "[Phase 3, Epoch 30] Logits Mean: -0.0039, Std: 0.6991\n",
      "[Phase 3, Epoch 30] Expected Calibration Error (ECE): 0.0283\n",
      "Phase 3, Epoch 30: Train Loss = 1.7689, Val Loss = 2.1398, Val Acc = 0.1385\n"
     ]
    },
    {
     "name": "stderr",
     "output_type": "stream",
     "text": [
      "Phase 3 - Epoch 31: 100%|████████████████████████████████████████████████████████████████████████████████████████████████████████████████████████████████████████████████████████| 586/586 [01:05<00:00,  8.90it/s]\n"
     ]
    },
    {
     "name": "stdout",
     "output_type": "stream",
     "text": [
      "[Phase 3, Epoch 31] Logits Mean: -0.0039, Std: 0.6988\n",
      "[Phase 3, Epoch 31] Expected Calibration Error (ECE): 0.0281\n",
      "Phase 3, Epoch 31: Train Loss = 1.7832, Val Loss = 2.1399, Val Acc = 0.1385\n"
     ]
    },
    {
     "name": "stderr",
     "output_type": "stream",
     "text": [
      "Phase 3 - Epoch 32: 100%|████████████████████████████████████████████████████████████████████████████████████████████████████████████████████████████████████████████████████████| 586/586 [01:06<00:00,  8.83it/s]\n"
     ]
    },
    {
     "name": "stdout",
     "output_type": "stream",
     "text": [
      "[Phase 3, Epoch 32] Logits Mean: -0.0039, Std: 0.6988\n",
      "[Phase 3, Epoch 32] Expected Calibration Error (ECE): 0.0281\n",
      "Phase 3, Epoch 32: Train Loss = 1.7820, Val Loss = 2.1398, Val Acc = 0.1385\n"
     ]
    },
    {
     "name": "stderr",
     "output_type": "stream",
     "text": [
      "Phase 3 - Epoch 33: 100%|████████████████████████████████████████████████████████████████████████████████████████████████████████████████████████████████████████████████████████| 586/586 [01:06<00:00,  8.80it/s]\n"
     ]
    },
    {
     "name": "stdout",
     "output_type": "stream",
     "text": [
      "[Phase 3, Epoch 33] Logits Mean: -0.0038, Std: 0.6986\n",
      "[Phase 3, Epoch 33] Expected Calibration Error (ECE): 0.0278\n",
      "Phase 3, Epoch 33: Train Loss = 1.7780, Val Loss = 2.1399, Val Acc = 0.1385\n"
     ]
    },
    {
     "name": "stderr",
     "output_type": "stream",
     "text": [
      "Phase 3 - Epoch 34: 100%|████████████████████████████████████████████████████████████████████████████████████████████████████████████████████████████████████████████████████████| 586/586 [01:06<00:00,  8.85it/s]\n"
     ]
    },
    {
     "name": "stdout",
     "output_type": "stream",
     "text": [
      "[Phase 3, Epoch 34] Logits Mean: -0.0039, Std: 0.6993\n",
      "[Phase 3, Epoch 34] Expected Calibration Error (ECE): 0.0266\n",
      "Phase 3, Epoch 34: Train Loss = 1.7561, Val Loss = 2.1397, Val Acc = 0.1385\n"
     ]
    },
    {
     "name": "stderr",
     "output_type": "stream",
     "text": [
      "Phase 3 - Epoch 35: 100%|████████████████████████████████████████████████████████████████████████████████████████████████████████████████████████████████████████████████████████| 586/586 [01:05<00:00,  8.96it/s]\n"
     ]
    },
    {
     "name": "stdout",
     "output_type": "stream",
     "text": [
      "[Phase 3, Epoch 35] Logits Mean: -0.0039, Std: 0.6998\n",
      "[Phase 3, Epoch 35] Expected Calibration Error (ECE): 0.0267\n",
      "Phase 3, Epoch 35: Train Loss = 1.7699, Val Loss = 2.1396, Val Acc = 0.1385\n"
     ]
    },
    {
     "name": "stderr",
     "output_type": "stream",
     "text": [
      "Phase 3 - Epoch 36: 100%|████████████████████████████████████████████████████████████████████████████████████████████████████████████████████████████████████████████████████████| 586/586 [01:07<00:00,  8.70it/s]\n"
     ]
    },
    {
     "name": "stdout",
     "output_type": "stream",
     "text": [
      "[Phase 3, Epoch 36] Logits Mean: -0.0039, Std: 0.6998\n",
      "[Phase 3, Epoch 36] Expected Calibration Error (ECE): 0.0268\n",
      "Phase 3, Epoch 36: Train Loss = 1.7796, Val Loss = 2.1396, Val Acc = 0.1385\n"
     ]
    },
    {
     "name": "stderr",
     "output_type": "stream",
     "text": [
      "Phase 3 - Epoch 37: 100%|████████████████████████████████████████████████████████████████████████████████████████████████████████████████████████████████████████████████████████| 586/586 [01:05<00:00,  8.89it/s]\n"
     ]
    },
    {
     "name": "stdout",
     "output_type": "stream",
     "text": [
      "[Phase 3, Epoch 37] Logits Mean: -0.0039, Std: 0.7003\n",
      "[Phase 3, Epoch 37] Expected Calibration Error (ECE): 0.0270\n",
      "Phase 3, Epoch 37: Train Loss = 1.7710, Val Loss = 2.1394, Val Acc = 0.1385\n"
     ]
    },
    {
     "name": "stderr",
     "output_type": "stream",
     "text": [
      "Phase 3 - Epoch 38: 100%|████████████████████████████████████████████████████████████████████████████████████████████████████████████████████████████████████████████████████████| 586/586 [01:13<00:00,  7.94it/s]\n"
     ]
    },
    {
     "name": "stdout",
     "output_type": "stream",
     "text": [
      "[Phase 3, Epoch 38] Logits Mean: -0.0039, Std: 0.7003\n",
      "[Phase 3, Epoch 38] Expected Calibration Error (ECE): 0.0271\n",
      "Phase 3, Epoch 38: Train Loss = 1.7807, Val Loss = 2.1394, Val Acc = 0.1385\n"
     ]
    },
    {
     "name": "stderr",
     "output_type": "stream",
     "text": [
      "Phase 3 - Epoch 39: 100%|████████████████████████████████████████████████████████████████████████████████████████████████████████████████████████████████████████████████████████| 586/586 [01:07<00:00,  8.72it/s]\n"
     ]
    },
    {
     "name": "stdout",
     "output_type": "stream",
     "text": [
      "[Phase 3, Epoch 39] Logits Mean: -0.0039, Std: 0.7005\n",
      "[Phase 3, Epoch 39] Expected Calibration Error (ECE): 0.0271\n",
      "Phase 3, Epoch 39: Train Loss = 1.7615, Val Loss = 2.1394, Val Acc = 0.1385\n"
     ]
    },
    {
     "name": "stderr",
     "output_type": "stream",
     "text": [
      "Phase 3 - Epoch 40: 100%|████████████████████████████████████████████████████████████████████████████████████████████████████████████████████████████████████████████████████████| 586/586 [01:12<00:00,  8.09it/s]\n"
     ]
    },
    {
     "name": "stdout",
     "output_type": "stream",
     "text": [
      "[Phase 3, Epoch 40] Logits Mean: -0.0039, Std: 0.7006\n",
      "[Phase 3, Epoch 40] Expected Calibration Error (ECE): 0.0271\n",
      "Phase 3, Epoch 40: Train Loss = 1.7678, Val Loss = 2.1393, Val Acc = 0.1385\n"
     ]
    },
    {
     "name": "stderr",
     "output_type": "stream",
     "text": [
      "Phase 3 - Epoch 41: 100%|████████████████████████████████████████████████████████████████████████████████████████████████████████████████████████████████████████████████████████| 586/586 [01:09<00:00,  8.40it/s]\n"
     ]
    },
    {
     "name": "stdout",
     "output_type": "stream",
     "text": [
      "[Phase 3, Epoch 41] Logits Mean: -0.0039, Std: 0.7006\n",
      "[Phase 3, Epoch 41] Expected Calibration Error (ECE): 0.0271\n",
      "Phase 3, Epoch 41: Train Loss = 1.7762, Val Loss = 2.1393, Val Acc = 0.1385\n"
     ]
    },
    {
     "name": "stderr",
     "output_type": "stream",
     "text": [
      "Phase 3 - Epoch 42: 100%|████████████████████████████████████████████████████████████████████████████████████████████████████████████████████████████████████████████████████████| 586/586 [01:10<00:00,  8.36it/s]\n"
     ]
    },
    {
     "name": "stdout",
     "output_type": "stream",
     "text": [
      "[Phase 3, Epoch 42] Logits Mean: -0.0039, Std: 0.7007\n",
      "[Phase 3, Epoch 42] Expected Calibration Error (ECE): 0.0273\n",
      "Phase 3, Epoch 42: Train Loss = 1.7713, Val Loss = 2.1393, Val Acc = 0.1385\n"
     ]
    },
    {
     "name": "stderr",
     "output_type": "stream",
     "text": [
      "Phase 3 - Epoch 43: 100%|████████████████████████████████████████████████████████████████████████████████████████████████████████████████████████████████████████████████████████| 586/586 [01:12<00:00,  8.03it/s]\n"
     ]
    },
    {
     "name": "stdout",
     "output_type": "stream",
     "text": [
      "[Phase 3, Epoch 43] Logits Mean: -0.0039, Std: 0.7007\n",
      "[Phase 3, Epoch 43] Expected Calibration Error (ECE): 0.0273\n",
      "Phase 3, Epoch 43: Train Loss = 1.7704, Val Loss = 2.1393, Val Acc = 0.1385\n"
     ]
    },
    {
     "name": "stderr",
     "output_type": "stream",
     "text": [
      "Phase 3 - Epoch 44: 100%|████████████████████████████████████████████████████████████████████████████████████████████████████████████████████████████████████████████████████████| 586/586 [01:11<00:00,  8.17it/s]\n"
     ]
    },
    {
     "name": "stdout",
     "output_type": "stream",
     "text": [
      "[Phase 3, Epoch 44] Logits Mean: -0.0039, Std: 0.7007\n",
      "[Phase 3, Epoch 44] Expected Calibration Error (ECE): 0.0273\n",
      "Phase 3, Epoch 44: Train Loss = 1.7845, Val Loss = 2.1393, Val Acc = 0.1385\n"
     ]
    },
    {
     "name": "stderr",
     "output_type": "stream",
     "text": [
      "Phase 3 - Epoch 45: 100%|████████████████████████████████████████████████████████████████████████████████████████████████████████████████████████████████████████████████████████| 586/586 [01:09<00:00,  8.46it/s]\n"
     ]
    },
    {
     "name": "stdout",
     "output_type": "stream",
     "text": [
      "[Phase 3, Epoch 45] Logits Mean: -0.0039, Std: 0.7005\n",
      "[Phase 3, Epoch 45] Expected Calibration Error (ECE): 0.0271\n",
      "Phase 3, Epoch 45: Train Loss = 1.7935, Val Loss = 2.1394, Val Acc = 0.1385\n"
     ]
    },
    {
     "name": "stderr",
     "output_type": "stream",
     "text": [
      "Phase 3 - Epoch 46: 100%|████████████████████████████████████████████████████████████████████████████████████████████████████████████████████████████████████████████████████████| 586/586 [01:14<00:00,  7.91it/s]\n"
     ]
    },
    {
     "name": "stdout",
     "output_type": "stream",
     "text": [
      "[Phase 3, Epoch 46] Logits Mean: -0.0039, Std: 0.7007\n",
      "[Phase 3, Epoch 46] Expected Calibration Error (ECE): 0.0274\n",
      "Phase 3, Epoch 46: Train Loss = 1.7658, Val Loss = 2.1393, Val Acc = 0.1385\n"
     ]
    },
    {
     "name": "stderr",
     "output_type": "stream",
     "text": [
      "Phase 3 - Epoch 47: 100%|████████████████████████████████████████████████████████████████████████████████████████████████████████████████████████████████████████████████████████| 586/586 [01:10<00:00,  8.30it/s]\n"
     ]
    },
    {
     "name": "stdout",
     "output_type": "stream",
     "text": [
      "[Phase 3, Epoch 47] Logits Mean: -0.0039, Std: 0.7006\n",
      "[Phase 3, Epoch 47] Expected Calibration Error (ECE): 0.0273\n",
      "Phase 3, Epoch 47: Train Loss = 1.7811, Val Loss = 2.1393, Val Acc = 0.1385\n"
     ]
    },
    {
     "name": "stderr",
     "output_type": "stream",
     "text": [
      "Phase 3 - Epoch 48: 100%|████████████████████████████████████████████████████████████████████████████████████████████████████████████████████████████████████████████████████████| 586/586 [01:12<00:00,  8.09it/s]\n"
     ]
    },
    {
     "name": "stdout",
     "output_type": "stream",
     "text": [
      "[Phase 3, Epoch 48] Logits Mean: -0.0039, Std: 0.7004\n",
      "[Phase 3, Epoch 48] Expected Calibration Error (ECE): 0.0271\n",
      "Phase 3, Epoch 48: Train Loss = 1.7834, Val Loss = 2.1394, Val Acc = 0.1385\n"
     ]
    },
    {
     "name": "stderr",
     "output_type": "stream",
     "text": [
      "Phase 3 - Epoch 49: 100%|████████████████████████████████████████████████████████████████████████████████████████████████████████████████████████████████████████████████████████| 586/586 [01:10<00:00,  8.30it/s]\n"
     ]
    },
    {
     "name": "stdout",
     "output_type": "stream",
     "text": [
      "[Phase 3, Epoch 49] Logits Mean: -0.0039, Std: 0.7004\n",
      "[Phase 3, Epoch 49] Expected Calibration Error (ECE): 0.0271\n",
      "Phase 3, Epoch 49: Train Loss = 1.7942, Val Loss = 2.1394, Val Acc = 0.1385\n"
     ]
    },
    {
     "name": "stderr",
     "output_type": "stream",
     "text": [
      "Phase 3 - Epoch 50: 100%|████████████████████████████████████████████████████████████████████████████████████████████████████████████████████████████████████████████████████████| 586/586 [01:08<00:00,  8.51it/s]\n"
     ]
    },
    {
     "name": "stdout",
     "output_type": "stream",
     "text": [
      "[Phase 3, Epoch 50] Logits Mean: -0.0039, Std: 0.7002\n",
      "[Phase 3, Epoch 50] Expected Calibration Error (ECE): 0.0271\n",
      "Phase 3, Epoch 50: Train Loss = 1.8258, Val Loss = 2.1394, Val Acc = 0.1385\n",
      "\n",
      "--- Phase 4: Fine Tune Entire Model ---\n"
     ]
    },
    {
     "name": "stderr",
     "output_type": "stream",
     "text": [
      "Phase 4 - Epoch 1: 100%|█████████████████████████████████████████████████████████████████████████████████████████████████████████████████████████████████████████████████████████| 586/586 [04:33<00:00,  2.14it/s]\n"
     ]
    },
    {
     "name": "stdout",
     "output_type": "stream",
     "text": [
      "[Phase 4, Epoch 1] Logits Mean: -0.0929, Std: 0.6681\n",
      "[Phase 4, Epoch 1] Expected Calibration Error (ECE): 0.0236\n",
      "Phase 4, Epoch 1: Train Loss = 1.9520, Val Loss = 2.1611, Val Acc = 0.1308\n"
     ]
    },
    {
     "name": "stderr",
     "output_type": "stream",
     "text": [
      "Phase 4 - Epoch 2: 100%|█████████████████████████████████████████████████████████████████████████████████████████████████████████████████████████████████████████████████████████| 586/586 [04:33<00:00,  2.14it/s]\n"
     ]
    },
    {
     "name": "stdout",
     "output_type": "stream",
     "text": [
      "[Phase 4, Epoch 2] Logits Mean: -0.0410, Std: 0.6003\n",
      "[Phase 4, Epoch 2] Expected Calibration Error (ECE): 0.0160\n",
      "Phase 4, Epoch 2: Train Loss = 1.9542, Val Loss = 2.1595, Val Acc = 0.1385\n"
     ]
    },
    {
     "name": "stderr",
     "output_type": "stream",
     "text": [
      "Phase 4 - Epoch 3: 100%|█████████████████████████████████████████████████████████████████████████████████████████████████████████████████████████████████████████████████████████| 586/586 [04:42<00:00,  2.08it/s]\n"
     ]
    },
    {
     "name": "stdout",
     "output_type": "stream",
     "text": [
      "[Phase 4, Epoch 3] Logits Mean: -0.1305, Std: 0.6603\n",
      "[Phase 4, Epoch 3] Expected Calibration Error (ECE): 0.0234\n",
      "Phase 4, Epoch 3: Train Loss = 2.0067, Val Loss = 2.0823, Val Acc = 0.1192\n"
     ]
    },
    {
     "name": "stderr",
     "output_type": "stream",
     "text": [
      "Phase 4 - Epoch 4: 100%|█████████████████████████████████████████████████████████████████████████████████████████████████████████████████████████████████████████████████████████| 586/586 [04:30<00:00,  2.16it/s]\n"
     ]
    },
    {
     "name": "stdout",
     "output_type": "stream",
     "text": [
      "[Phase 4, Epoch 4] Logits Mean: -0.1207, Std: 0.7436\n",
      "[Phase 4, Epoch 4] Expected Calibration Error (ECE): 0.0252\n",
      "Phase 4, Epoch 4: Train Loss = 1.9012, Val Loss = 1.9856, Val Acc = 0.1490\n"
     ]
    },
    {
     "name": "stderr",
     "output_type": "stream",
     "text": [
      "Phase 4 - Epoch 5: 100%|█████████████████████████████████████████████████████████████████████████████████████████████████████████████████████████████████████████████████████████| 586/586 [04:28<00:00,  2.19it/s]\n"
     ]
    },
    {
     "name": "stdout",
     "output_type": "stream",
     "text": [
      "[Phase 4, Epoch 5] Logits Mean: -0.1034, Std: 0.7312\n",
      "[Phase 4, Epoch 5] Expected Calibration Error (ECE): 0.0151\n",
      "Phase 4, Epoch 5: Train Loss = 1.8719, Val Loss = 1.9478, Val Acc = 0.1587\n"
     ]
    },
    {
     "name": "stderr",
     "output_type": "stream",
     "text": [
      "Phase 4 - Epoch 6: 100%|█████████████████████████████████████████████████████████████████████████████████████████████████████████████████████████████████████████████████████████| 586/586 [04:45<00:00,  2.05it/s]\n"
     ]
    },
    {
     "name": "stdout",
     "output_type": "stream",
     "text": [
      "[Phase 4, Epoch 6] Logits Mean: -0.1265, Std: 0.6676\n",
      "[Phase 4, Epoch 6] Expected Calibration Error (ECE): 0.0264\n",
      "Phase 4, Epoch 6: Train Loss = 1.9688, Val Loss = 2.0920, Val Acc = 0.1192\n"
     ]
    },
    {
     "name": "stderr",
     "output_type": "stream",
     "text": [
      "Phase 4 - Epoch 7: 100%|█████████████████████████████████████████████████████████████████████████████████████████████████████████████████████████████████████████████████████████| 586/586 [04:26<00:00,  2.20it/s]\n"
     ]
    },
    {
     "name": "stdout",
     "output_type": "stream",
     "text": [
      "[Phase 4, Epoch 7] Logits Mean: -0.1257, Std: 0.5585\n",
      "[Phase 4, Epoch 7] Expected Calibration Error (ECE): 0.0557\n",
      "Phase 4, Epoch 7: Train Loss = 2.0550, Val Loss = 2.1540, Val Acc = 0.1635\n"
     ]
    },
    {
     "name": "stderr",
     "output_type": "stream",
     "text": [
      "Phase 4 - Epoch 8: 100%|█████████████████████████████████████████████████████████████████████████████████████████████████████████████████████████████████████████████████████████| 586/586 [04:45<00:00,  2.05it/s]\n"
     ]
    },
    {
     "name": "stdout",
     "output_type": "stream",
     "text": [
      "[Phase 4, Epoch 8] Logits Mean: -0.1293, Std: 0.6249\n",
      "[Phase 4, Epoch 8] Expected Calibration Error (ECE): 0.0638\n",
      "Phase 4, Epoch 8: Train Loss = 2.0053, Val Loss = 2.0391, Val Acc = 0.1779\n"
     ]
    },
    {
     "name": "stderr",
     "output_type": "stream",
     "text": [
      "Phase 4 - Epoch 9: 100%|█████████████████████████████████████████████████████████████████████████████████████████████████████████████████████████████████████████████████████████| 586/586 [04:36<00:00,  2.12it/s]\n"
     ]
    },
    {
     "name": "stdout",
     "output_type": "stream",
     "text": [
      "[Phase 4, Epoch 9] Logits Mean: -0.1348, Std: 0.6605\n",
      "[Phase 4, Epoch 9] Expected Calibration Error (ECE): 0.0354\n",
      "Phase 4, Epoch 9: Train Loss = 1.9255, Val Loss = 2.0244, Val Acc = 0.1615\n"
     ]
    },
    {
     "name": "stderr",
     "output_type": "stream",
     "text": [
      "Phase 4 - Epoch 10: 100%|████████████████████████████████████████████████████████████████████████████████████████████████████████████████████████████████████████████████████████| 586/586 [04:39<00:00,  2.09it/s]\n"
     ]
    },
    {
     "name": "stdout",
     "output_type": "stream",
     "text": [
      "[Phase 4, Epoch 10] Logits Mean: -0.1896, Std: 0.7875\n",
      "[Phase 4, Epoch 10] Expected Calibration Error (ECE): 0.0315\n",
      "Phase 4, Epoch 10: Train Loss = 1.8041, Val Loss = 1.9149, Val Acc = 0.1673\n"
     ]
    },
    {
     "name": "stderr",
     "output_type": "stream",
     "text": [
      "Phase 4 - Epoch 11: 100%|████████████████████████████████████████████████████████████████████████████████████████████████████████████████████████████████████████████████████████| 586/586 [04:29<00:00,  2.17it/s]\n"
     ]
    },
    {
     "name": "stdout",
     "output_type": "stream",
     "text": [
      "[Phase 4, Epoch 11] Logits Mean: -0.1955, Std: 0.8041\n",
      "[Phase 4, Epoch 11] Expected Calibration Error (ECE): 0.0336\n",
      "Phase 4, Epoch 11: Train Loss = 1.7687, Val Loss = 1.8780, Val Acc = 0.1779\n"
     ]
    },
    {
     "name": "stderr",
     "output_type": "stream",
     "text": [
      "Phase 4 - Epoch 12: 100%|████████████████████████████████████████████████████████████████████████████████████████████████████████████████████████████████████████████████████████| 586/586 [04:30<00:00,  2.17it/s]\n"
     ]
    },
    {
     "name": "stdout",
     "output_type": "stream",
     "text": [
      "[Phase 4, Epoch 12] Logits Mean: -0.2129, Std: 0.8008\n",
      "[Phase 4, Epoch 12] Expected Calibration Error (ECE): 0.0295\n",
      "Phase 4, Epoch 12: Train Loss = 1.7619, Val Loss = 1.8616, Val Acc = 0.1731\n"
     ]
    },
    {
     "name": "stderr",
     "output_type": "stream",
     "text": [
      "Phase 4 - Epoch 13: 100%|████████████████████████████████████████████████████████████████████████████████████████████████████████████████████████████████████████████████████████| 586/586 [05:47<00:00,  1.68it/s]\n"
     ]
    },
    {
     "name": "stdout",
     "output_type": "stream",
     "text": [
      "[Phase 4, Epoch 13] Logits Mean: -0.2495, Std: 0.8541\n",
      "[Phase 4, Epoch 13] Expected Calibration Error (ECE): 0.0268\n",
      "Phase 4, Epoch 13: Train Loss = 1.7400, Val Loss = 1.8468, Val Acc = 0.1740\n"
     ]
    },
    {
     "name": "stderr",
     "output_type": "stream",
     "text": [
      "Phase 4 - Epoch 14: 100%|████████████████████████████████████████████████████████████████████████████████████████████████████████████████████████████████████████████████████████| 586/586 [09:55<00:00,  1.02s/it]\n"
     ]
    },
    {
     "name": "stdout",
     "output_type": "stream",
     "text": [
      "[Phase 4, Epoch 14] Logits Mean: -0.2411, Std: 0.8560\n",
      "[Phase 4, Epoch 14] Expected Calibration Error (ECE): 0.0184\n",
      "Phase 4, Epoch 14: Train Loss = 1.7220, Val Loss = 1.8493, Val Acc = 0.1702\n"
     ]
    },
    {
     "name": "stderr",
     "output_type": "stream",
     "text": [
      "Phase 4 - Epoch 15: 100%|████████████████████████████████████████████████████████████████████████████████████████████████████████████████████████████████████████████████████████| 586/586 [06:58<00:00,  1.40it/s]\n"
     ]
    },
    {
     "name": "stdout",
     "output_type": "stream",
     "text": [
      "[Phase 4, Epoch 15] Logits Mean: -0.2377, Std: 0.8430\n",
      "[Phase 4, Epoch 15] Expected Calibration Error (ECE): 0.0412\n",
      "Phase 4, Epoch 15: Train Loss = 1.7267, Val Loss = 1.8501, Val Acc = 0.1827\n"
     ]
    },
    {
     "name": "stderr",
     "output_type": "stream",
     "text": [
      "Phase 4 - Epoch 16: 100%|████████████████████████████████████████████████████████████████████████████████████████████████████████████████████████████████████████████████████████| 586/586 [10:36<00:00,  1.09s/it]\n"
     ]
    },
    {
     "name": "stdout",
     "output_type": "stream",
     "text": [
      "[Phase 4, Epoch 16] Logits Mean: -0.2716, Std: 0.8402\n",
      "[Phase 4, Epoch 16] Expected Calibration Error (ECE): 0.0386\n",
      "Phase 4, Epoch 16: Train Loss = 1.7416, Val Loss = 1.8535, Val Acc = 0.1885\n"
     ]
    },
    {
     "name": "stderr",
     "output_type": "stream",
     "text": [
      "Phase 4 - Epoch 17: 100%|████████████████████████████████████████████████████████████████████████████████████████████████████████████████████████████████████████████████████████| 586/586 [11:15<00:00,  1.15s/it]\n"
     ]
    },
    {
     "name": "stdout",
     "output_type": "stream",
     "text": [
      "[Phase 4, Epoch 17] Logits Mean: -0.2797, Std: 0.8657\n",
      "[Phase 4, Epoch 17] Expected Calibration Error (ECE): 0.0324\n",
      "Phase 4, Epoch 17: Train Loss = 1.7051, Val Loss = 1.8404, Val Acc = 0.1769\n"
     ]
    },
    {
     "name": "stderr",
     "output_type": "stream",
     "text": [
      "Phase 4 - Epoch 18: 100%|████████████████████████████████████████████████████████████████████████████████████████████████████████████████████████████████████████████████████████| 586/586 [10:06<00:00,  1.04s/it]\n"
     ]
    },
    {
     "name": "stdout",
     "output_type": "stream",
     "text": [
      "[Phase 4, Epoch 18] Logits Mean: -0.2729, Std: 0.8735\n",
      "[Phase 4, Epoch 18] Expected Calibration Error (ECE): 0.0322\n",
      "Phase 4, Epoch 18: Train Loss = 1.6865, Val Loss = 1.8325, Val Acc = 0.1808\n"
     ]
    },
    {
     "name": "stderr",
     "output_type": "stream",
     "text": [
      "Phase 4 - Epoch 19: 100%|████████████████████████████████████████████████████████████████████████████████████████████████████████████████████████████████████████████████████████| 586/586 [12:57<00:00,  1.33s/it]\n"
     ]
    },
    {
     "name": "stdout",
     "output_type": "stream",
     "text": [
      "[Phase 4, Epoch 19] Logits Mean: -0.2818, Std: 0.8617\n",
      "[Phase 4, Epoch 19] Expected Calibration Error (ECE): 0.0347\n",
      "Phase 4, Epoch 19: Train Loss = 1.6951, Val Loss = 1.8407, Val Acc = 0.1731\n"
     ]
    },
    {
     "name": "stderr",
     "output_type": "stream",
     "text": [
      "Phase 4 - Epoch 20: 100%|████████████████████████████████████████████████████████████████████████████████████████████████████████████████████████████████████████████████████████| 586/586 [07:19<00:00,  1.33it/s]\n"
     ]
    },
    {
     "name": "stdout",
     "output_type": "stream",
     "text": [
      "[Phase 4, Epoch 20] Logits Mean: -0.3350, Std: 0.9291\n",
      "[Phase 4, Epoch 20] Expected Calibration Error (ECE): 0.0206\n",
      "Phase 4, Epoch 20: Train Loss = 1.6416, Val Loss = 1.8220, Val Acc = 0.1654\n"
     ]
    },
    {
     "name": "stderr",
     "output_type": "stream",
     "text": [
      "Phase 4 - Epoch 21: 100%|████████████████████████████████████████████████████████████████████████████████████████████████████████████████████████████████████████████████████████| 586/586 [07:13<00:00,  1.35it/s]\n"
     ]
    },
    {
     "name": "stdout",
     "output_type": "stream",
     "text": [
      "[Phase 4, Epoch 21] Logits Mean: -0.3301, Std: 0.8995\n",
      "[Phase 4, Epoch 21] Expected Calibration Error (ECE): 0.0231\n",
      "Phase 4, Epoch 21: Train Loss = 1.6447, Val Loss = 1.8136, Val Acc = 0.1731\n"
     ]
    },
    {
     "name": "stderr",
     "output_type": "stream",
     "text": [
      "Phase 4 - Epoch 22: 100%|████████████████████████████████████████████████████████████████████████████████████████████████████████████████████████████████████████████████████████| 586/586 [11:49<00:00,  1.21s/it]\n"
     ]
    },
    {
     "name": "stdout",
     "output_type": "stream",
     "text": [
      "[Phase 4, Epoch 22] Logits Mean: -0.3267, Std: 0.9500\n",
      "[Phase 4, Epoch 22] Expected Calibration Error (ECE): 0.0170\n",
      "Phase 4, Epoch 22: Train Loss = 1.6360, Val Loss = 1.8167, Val Acc = 0.1663\n"
     ]
    },
    {
     "name": "stderr",
     "output_type": "stream",
     "text": [
      "Phase 4 - Epoch 23: 100%|████████████████████████████████████████████████████████████████████████████████████████████████████████████████████████████████████████████████████████| 586/586 [09:58<00:00,  1.02s/it]\n"
     ]
    },
    {
     "name": "stdout",
     "output_type": "stream",
     "text": [
      "[Phase 4, Epoch 23] Logits Mean: -0.3239, Std: 0.9210\n",
      "[Phase 4, Epoch 23] Expected Calibration Error (ECE): 0.0235\n",
      "Phase 4, Epoch 23: Train Loss = 1.6305, Val Loss = 1.8061, Val Acc = 0.1712\n"
     ]
    },
    {
     "name": "stderr",
     "output_type": "stream",
     "text": [
      "Phase 4 - Epoch 24: 100%|████████████████████████████████████████████████████████████████████████████████████████████████████████████████████████████████████████████████████████| 586/586 [10:23<00:00,  1.06s/it]\n"
     ]
    },
    {
     "name": "stdout",
     "output_type": "stream",
     "text": [
      "[Phase 4, Epoch 24] Logits Mean: -0.3188, Std: 0.9087\n",
      "[Phase 4, Epoch 24] Expected Calibration Error (ECE): 0.0261\n",
      "Phase 4, Epoch 24: Train Loss = 1.6269, Val Loss = 1.8088, Val Acc = 0.1769\n"
     ]
    },
    {
     "name": "stderr",
     "output_type": "stream",
     "text": [
      "Phase 4 - Epoch 25: 100%|████████████████████████████████████████████████████████████████████████████████████████████████████████████████████████████████████████████████████████| 586/586 [10:58<00:00,  1.12s/it]\n"
     ]
    },
    {
     "name": "stdout",
     "output_type": "stream",
     "text": [
      "[Phase 4, Epoch 25] Logits Mean: -0.3539, Std: 0.9361\n",
      "[Phase 4, Epoch 25] Expected Calibration Error (ECE): 0.0255\n",
      "Phase 4, Epoch 25: Train Loss = 1.6243, Val Loss = 1.8032, Val Acc = 0.1750\n"
     ]
    },
    {
     "name": "stderr",
     "output_type": "stream",
     "text": [
      "Phase 4 - Epoch 26: 100%|████████████████████████████████████████████████████████████████████████████████████████████████████████████████████████████████████████████████████████| 586/586 [10:18<00:00,  1.05s/it]\n"
     ]
    },
    {
     "name": "stdout",
     "output_type": "stream",
     "text": [
      "[Phase 4, Epoch 26] Logits Mean: -0.3313, Std: 0.9097\n",
      "[Phase 4, Epoch 26] Expected Calibration Error (ECE): 0.0382\n",
      "Phase 4, Epoch 26: Train Loss = 1.6136, Val Loss = 1.8091, Val Acc = 0.1683\n"
     ]
    },
    {
     "name": "stderr",
     "output_type": "stream",
     "text": [
      "Phase 4 - Epoch 27: 100%|████████████████████████████████████████████████████████████████████████████████████████████████████████████████████████████████████████████████████████| 586/586 [09:24<00:00,  1.04it/s]\n"
     ]
    },
    {
     "name": "stdout",
     "output_type": "stream",
     "text": [
      "[Phase 4, Epoch 27] Logits Mean: -0.3453, Std: 0.9046\n",
      "[Phase 4, Epoch 27] Expected Calibration Error (ECE): 0.0243\n",
      "Phase 4, Epoch 27: Train Loss = 1.6071, Val Loss = 1.8080, Val Acc = 0.1712\n"
     ]
    },
    {
     "name": "stderr",
     "output_type": "stream",
     "text": [
      "Phase 4 - Epoch 28: 100%|████████████████████████████████████████████████████████████████████████████████████████████████████████████████████████████████████████████████████████| 586/586 [11:47<00:00,  1.21s/it]\n"
     ]
    },
    {
     "name": "stdout",
     "output_type": "stream",
     "text": [
      "[Phase 4, Epoch 28] Logits Mean: -0.3512, Std: 0.9140\n",
      "[Phase 4, Epoch 28] Expected Calibration Error (ECE): 0.0283\n",
      "Phase 4, Epoch 28: Train Loss = 1.6254, Val Loss = 1.8142, Val Acc = 0.1683\n"
     ]
    },
    {
     "name": "stderr",
     "output_type": "stream",
     "text": [
      "Phase 4 - Epoch 29: 100%|████████████████████████████████████████████████████████████████████████████████████████████████████████████████████████████████████████████████████████| 586/586 [11:01<00:00,  1.13s/it]\n"
     ]
    },
    {
     "name": "stdout",
     "output_type": "stream",
     "text": [
      "[Phase 4, Epoch 29] Logits Mean: -0.3504, Std: 0.9061\n",
      "[Phase 4, Epoch 29] Expected Calibration Error (ECE): 0.0390\n",
      "Phase 4, Epoch 29: Train Loss = 1.5905, Val Loss = 1.8137, Val Acc = 0.1817\n"
     ]
    },
    {
     "name": "stderr",
     "output_type": "stream",
     "text": [
      "Phase 4 - Epoch 30: 100%|████████████████████████████████████████████████████████████████████████████████████████████████████████████████████████████████████████████████████████| 586/586 [11:11<00:00,  1.15s/it]\n"
     ]
    },
    {
     "name": "stdout",
     "output_type": "stream",
     "text": [
      "[Phase 4, Epoch 30] Logits Mean: -0.3541, Std: 0.9199\n",
      "[Phase 4, Epoch 30] Expected Calibration Error (ECE): 0.0383\n",
      "Phase 4, Epoch 30: Train Loss = 1.5878, Val Loss = 1.8034, Val Acc = 0.1875\n"
     ]
    },
    {
     "name": "stderr",
     "output_type": "stream",
     "text": [
      "Phase 4 - Epoch 31: 100%|████████████████████████████████████████████████████████████████████████████████████████████████████████████████████████████████████████████████████████| 586/586 [08:59<00:00,  1.09it/s]\n"
     ]
    },
    {
     "name": "stdout",
     "output_type": "stream",
     "text": [
      "[Phase 4, Epoch 31] Logits Mean: -0.3582, Std: 0.9296\n",
      "[Phase 4, Epoch 31] Expected Calibration Error (ECE): 0.0453\n",
      "Phase 4, Epoch 31: Train Loss = 1.5814, Val Loss = 1.7932, Val Acc = 0.1865\n"
     ]
    },
    {
     "name": "stderr",
     "output_type": "stream",
     "text": [
      "Phase 4 - Epoch 32: 100%|████████████████████████████████████████████████████████████████████████████████████████████████████████████████████████████████████████████████████████| 586/586 [10:09<00:00,  1.04s/it]\n"
     ]
    },
    {
     "name": "stdout",
     "output_type": "stream",
     "text": [
      "[Phase 4, Epoch 32] Logits Mean: -0.3627, Std: 0.9355\n",
      "[Phase 4, Epoch 32] Expected Calibration Error (ECE): 0.0424\n",
      "Phase 4, Epoch 32: Train Loss = 1.5730, Val Loss = 1.7888, Val Acc = 0.1856\n"
     ]
    },
    {
     "name": "stderr",
     "output_type": "stream",
     "text": [
      "Phase 4 - Epoch 33: 100%|████████████████████████████████████████████████████████████████████████████████████████████████████████████████████████████████████████████████████████| 586/586 [12:52<00:00,  1.32s/it]\n"
     ]
    },
    {
     "name": "stdout",
     "output_type": "stream",
     "text": [
      "[Phase 4, Epoch 33] Logits Mean: -0.3671, Std: 0.9391\n",
      "[Phase 4, Epoch 33] Expected Calibration Error (ECE): 0.0373\n",
      "Phase 4, Epoch 33: Train Loss = 1.5833, Val Loss = 1.7912, Val Acc = 0.1779\n"
     ]
    },
    {
     "name": "stderr",
     "output_type": "stream",
     "text": [
      "Phase 4 - Epoch 34: 100%|████████████████████████████████████████████████████████████████████████████████████████████████████████████████████████████████████████████████████████| 586/586 [10:24<00:00,  1.06s/it]\n"
     ]
    },
    {
     "name": "stdout",
     "output_type": "stream",
     "text": [
      "[Phase 4, Epoch 34] Logits Mean: -0.3700, Std: 0.9394\n",
      "[Phase 4, Epoch 34] Expected Calibration Error (ECE): 0.0435\n",
      "Phase 4, Epoch 34: Train Loss = 1.5655, Val Loss = 1.7915, Val Acc = 0.1827\n"
     ]
    },
    {
     "name": "stderr",
     "output_type": "stream",
     "text": [
      "Phase 4 - Epoch 35: 100%|████████████████████████████████████████████████████████████████████████████████████████████████████████████████████████████████████████████████████████| 586/586 [10:56<00:00,  1.12s/it]\n"
     ]
    },
    {
     "name": "stdout",
     "output_type": "stream",
     "text": [
      "[Phase 4, Epoch 35] Logits Mean: -0.3653, Std: 0.9379\n",
      "[Phase 4, Epoch 35] Expected Calibration Error (ECE): 0.0436\n",
      "Phase 4, Epoch 35: Train Loss = 1.5802, Val Loss = 1.7912, Val Acc = 0.1769\n"
     ]
    },
    {
     "name": "stderr",
     "output_type": "stream",
     "text": [
      "Phase 4 - Epoch 36: 100%|████████████████████████████████████████████████████████████████████████████████████████████████████████████████████████████████████████████████████████| 586/586 [10:19<00:00,  1.06s/it]\n"
     ]
    },
    {
     "name": "stdout",
     "output_type": "stream",
     "text": [
      "[Phase 4, Epoch 36] Logits Mean: -0.3728, Std: 0.9423\n",
      "[Phase 4, Epoch 36] Expected Calibration Error (ECE): 0.0417\n",
      "Phase 4, Epoch 36: Train Loss = 1.5570, Val Loss = 1.7897, Val Acc = 0.1779\n"
     ]
    },
    {
     "name": "stderr",
     "output_type": "stream",
     "text": [
      "Phase 4 - Epoch 37: 100%|████████████████████████████████████████████████████████████████████████████████████████████████████████████████████████████████████████████████████████| 586/586 [12:29<00:00,  1.28s/it]\n"
     ]
    },
    {
     "name": "stdout",
     "output_type": "stream",
     "text": [
      "[Phase 4, Epoch 37] Logits Mean: -0.3728, Std: 0.9424\n",
      "[Phase 4, Epoch 37] Expected Calibration Error (ECE): 0.0442\n",
      "Phase 4, Epoch 37: Train Loss = 1.5807, Val Loss = 1.7886, Val Acc = 0.1808\n"
     ]
    },
    {
     "name": "stderr",
     "output_type": "stream",
     "text": [
      "Phase 4 - Epoch 38: 100%|████████████████████████████████████████████████████████████████████████████████████████████████████████████████████████████████████████████████████████| 586/586 [09:00<00:00,  1.08it/s]\n"
     ]
    },
    {
     "name": "stdout",
     "output_type": "stream",
     "text": [
      "[Phase 4, Epoch 38] Logits Mean: -0.3732, Std: 0.9424\n",
      "[Phase 4, Epoch 38] Expected Calibration Error (ECE): 0.0405\n",
      "Phase 4, Epoch 38: Train Loss = 1.5836, Val Loss = 1.7898, Val Acc = 0.1808\n"
     ]
    },
    {
     "name": "stderr",
     "output_type": "stream",
     "text": [
      "Phase 4 - Epoch 39: 100%|████████████████████████████████████████████████████████████████████████████████████████████████████████████████████████████████████████████████████████| 586/586 [10:00<00:00,  1.03s/it]\n"
     ]
    },
    {
     "name": "stdout",
     "output_type": "stream",
     "text": [
      "[Phase 4, Epoch 39] Logits Mean: -0.3734, Std: 0.9429\n",
      "[Phase 4, Epoch 39] Expected Calibration Error (ECE): 0.0406\n",
      "Phase 4, Epoch 39: Train Loss = 1.5575, Val Loss = 1.7895, Val Acc = 0.1788\n"
     ]
    },
    {
     "name": "stderr",
     "output_type": "stream",
     "text": [
      "Phase 4 - Epoch 40: 100%|████████████████████████████████████████████████████████████████████████████████████████████████████████████████████████████████████████████████████████| 586/586 [10:24<00:00,  1.07s/it]\n"
     ]
    },
    {
     "name": "stdout",
     "output_type": "stream",
     "text": [
      "[Phase 4, Epoch 40] Logits Mean: -0.3730, Std: 0.9434\n",
      "[Phase 4, Epoch 40] Expected Calibration Error (ECE): 0.0408\n",
      "Phase 4, Epoch 40: Train Loss = 1.5651, Val Loss = 1.7884, Val Acc = 0.1788\n"
     ]
    },
    {
     "name": "stderr",
     "output_type": "stream",
     "text": [
      "Phase 4 - Epoch 41: 100%|████████████████████████████████████████████████████████████████████████████████████████████████████████████████████████████████████████████████████████| 586/586 [10:29<00:00,  1.07s/it]\n"
     ]
    },
    {
     "name": "stdout",
     "output_type": "stream",
     "text": [
      "[Phase 4, Epoch 41] Logits Mean: -0.3726, Std: 0.9436\n",
      "[Phase 4, Epoch 41] Expected Calibration Error (ECE): 0.0390\n",
      "Phase 4, Epoch 41: Train Loss = 1.5662, Val Loss = 1.7898, Val Acc = 0.1788\n"
     ]
    },
    {
     "name": "stderr",
     "output_type": "stream",
     "text": [
      "Phase 4 - Epoch 42: 100%|████████████████████████████████████████████████████████████████████████████████████████████████████████████████████████████████████████████████████████| 586/586 [08:33<00:00,  1.14it/s]\n"
     ]
    },
    {
     "name": "stdout",
     "output_type": "stream",
     "text": [
      "[Phase 4, Epoch 42] Logits Mean: -0.3730, Std: 0.9431\n",
      "[Phase 4, Epoch 42] Expected Calibration Error (ECE): 0.0404\n",
      "Phase 4, Epoch 42: Train Loss = 1.5725, Val Loss = 1.7911, Val Acc = 0.1788\n"
     ]
    },
    {
     "name": "stderr",
     "output_type": "stream",
     "text": [
      "Phase 4 - Epoch 43: 100%|████████████████████████████████████████████████████████████████████████████████████████████████████████████████████████████████████████████████████████| 586/586 [12:31<00:00,  1.28s/it]\n"
     ]
    },
    {
     "name": "stdout",
     "output_type": "stream",
     "text": [
      "[Phase 4, Epoch 43] Logits Mean: -0.3731, Std: 0.9445\n",
      "[Phase 4, Epoch 43] Expected Calibration Error (ECE): 0.0413\n",
      "Phase 4, Epoch 43: Train Loss = 1.5631, Val Loss = 1.7898, Val Acc = 0.1779\n"
     ]
    },
    {
     "name": "stderr",
     "output_type": "stream",
     "text": [
      "Phase 4 - Epoch 44: 100%|████████████████████████████████████████████████████████████████████████████████████████████████████████████████████████████████████████████████████████| 586/586 [07:08<00:00,  1.37it/s]\n"
     ]
    },
    {
     "name": "stdout",
     "output_type": "stream",
     "text": [
      "[Phase 4, Epoch 44] Logits Mean: -0.3725, Std: 0.9450\n",
      "[Phase 4, Epoch 44] Expected Calibration Error (ECE): 0.0382\n",
      "Phase 4, Epoch 44: Train Loss = 1.5717, Val Loss = 1.7899, Val Acc = 0.1798\n"
     ]
    },
    {
     "name": "stderr",
     "output_type": "stream",
     "text": [
      "Phase 4 - Epoch 45: 100%|████████████████████████████████████████████████████████████████████████████████████████████████████████████████████████████████████████████████████████| 586/586 [08:49<00:00,  1.11it/s]\n"
     ]
    },
    {
     "name": "stdout",
     "output_type": "stream",
     "text": [
      "[Phase 4, Epoch 45] Logits Mean: -0.3727, Std: 0.9448\n",
      "[Phase 4, Epoch 45] Expected Calibration Error (ECE): 0.0376\n",
      "Phase 4, Epoch 45: Train Loss = 1.5496, Val Loss = 1.7902, Val Acc = 0.1808\n"
     ]
    },
    {
     "name": "stderr",
     "output_type": "stream",
     "text": [
      "Phase 4 - Epoch 46: 100%|████████████████████████████████████████████████████████████████████████████████████████████████████████████████████████████████████████████████████████| 586/586 [10:13<00:00,  1.05s/it]\n"
     ]
    },
    {
     "name": "stdout",
     "output_type": "stream",
     "text": [
      "[Phase 4, Epoch 46] Logits Mean: -0.3724, Std: 0.9449\n",
      "[Phase 4, Epoch 46] Expected Calibration Error (ECE): 0.0391\n",
      "Phase 4, Epoch 46: Train Loss = 1.5899, Val Loss = 1.7894, Val Acc = 0.1808\n"
     ]
    },
    {
     "name": "stderr",
     "output_type": "stream",
     "text": [
      "Phase 4 - Epoch 47: 100%|████████████████████████████████████████████████████████████████████████████████████████████████████████████████████████████████████████████████████████| 586/586 [11:07<00:00,  1.14s/it]\n"
     ]
    },
    {
     "name": "stdout",
     "output_type": "stream",
     "text": [
      "[Phase 4, Epoch 47] Logits Mean: -0.3725, Std: 0.9447\n",
      "[Phase 4, Epoch 47] Expected Calibration Error (ECE): 0.0391\n",
      "Phase 4, Epoch 47: Train Loss = 1.5859, Val Loss = 1.7903, Val Acc = 0.1808\n"
     ]
    },
    {
     "name": "stderr",
     "output_type": "stream",
     "text": [
      "Phase 4 - Epoch 48: 100%|████████████████████████████████████████████████████████████████████████████████████████████████████████████████████████████████████████████████████████| 586/586 [10:28<00:00,  1.07s/it]\n"
     ]
    },
    {
     "name": "stdout",
     "output_type": "stream",
     "text": [
      "[Phase 4, Epoch 48] Logits Mean: -0.3726, Std: 0.9449\n",
      "[Phase 4, Epoch 48] Expected Calibration Error (ECE): 0.0391\n",
      "Phase 4, Epoch 48: Train Loss = 1.5880, Val Loss = 1.7894, Val Acc = 0.1808\n"
     ]
    },
    {
     "name": "stderr",
     "output_type": "stream",
     "text": [
      "Phase 4 - Epoch 49: 100%|████████████████████████████████████████████████████████████████████████████████████████████████████████████████████████████████████████████████████████| 586/586 [12:33<00:00,  1.29s/it]\n"
     ]
    },
    {
     "name": "stdout",
     "output_type": "stream",
     "text": [
      "[Phase 4, Epoch 49] Logits Mean: -0.3726, Std: 0.9449\n",
      "[Phase 4, Epoch 49] Expected Calibration Error (ECE): 0.0391\n",
      "Phase 4, Epoch 49: Train Loss = 1.5620, Val Loss = 1.7894, Val Acc = 0.1808\n"
     ]
    },
    {
     "name": "stderr",
     "output_type": "stream",
     "text": [
      "Phase 4 - Epoch 50: 100%|████████████████████████████████████████████████████████████████████████████████████████████████████████████████████████████████████████████████████████| 586/586 [07:25<00:00,  1.32it/s]\n"
     ]
    },
    {
     "name": "stdout",
     "output_type": "stream",
     "text": [
      "[Phase 4, Epoch 50] Logits Mean: -0.3726, Std: 0.9449\n",
      "[Phase 4, Epoch 50] Expected Calibration Error (ECE): 0.0391\n",
      "Phase 4, Epoch 50: Train Loss = 1.5736, Val Loss = 1.7895, Val Acc = 0.1808\n",
      "Best Validation Accuracy: 0.1885\n"
     ]
    }
   ],
   "source": [
    "# -------------------------\n",
    "# Main Training Function with Phased Training\n",
    "# -------------------------\n",
    "def main():\n",
    "    device = torch.device(\"cuda\" if torch.cuda.is_available() else \"cpu\")\n",
    "    # Use best hyperparameters:\n",
    "    batch_size = 16\n",
    "    hidden_dim = 148\n",
    "    learning_rate = 0.000363022060695821\n",
    "    total_phases = 4\n",
    "    epochs_per_phase = 50  # 50 epochs per phase\n",
    "    \n",
    "    # Create dataloaders\n",
    "    train_loader, val_loader, num_classes, category_to_idx = create_dataloaders(\n",
    "        root=\"processed_graphs_ohsumed\",\n",
    "        train_dir=\"processed_data_ohsumed/train\",\n",
    "        test_dir=\"processed_data_ohsumed/test\",\n",
    "        batch_size=batch_size\n",
    "    )\n",
    "\n",
    "    dropout_rate = {\n",
    "        'word': 0.3,\n",
    "        'sent': 0.3,\n",
    "        'fusion': 0.3,\n",
    "        'co_graph': 0.3,\n",
    "        'final': 0.3\n",
    "    }\n",
    "\n",
    "    dropout_config = {\n",
    "        'word': True,\n",
    "        'sent': True,\n",
    "        'fusion': True,\n",
    "        'co_graph': True,\n",
    "        'final': True\n",
    "    }\n",
    "    \n",
    "    # Create model with best params (note: num_layers set to 3, dropout_rate added)\n",
    "    model = CoGraphNet(\n",
    "        word_in_channels=768,\n",
    "        sent_in_channels=768,\n",
    "        hidden_channels=hidden_dim,\n",
    "        num_word_layers=3,\n",
    "        num_sent_layers=3,\n",
    "        num_classes=num_classes,\n",
    "        dropout_rate=dropout_rate,\n",
    "        dropout_config=dropout_config\n",
    "    ).to(device)\n",
    "    \n",
    "    # Compute separate class weights for training and validation sets\n",
    "    train_labels = torch.tensor([data.y.item() for data in train_loader.dataset])\n",
    "    train_class_counts = torch.bincount(train_labels, minlength=num_classes)\n",
    "    train_total_samples = len(train_labels)\n",
    "    train_class_weights = train_total_samples / (num_classes * train_class_counts.float())\n",
    "    train_class_weights = train_class_weights.to(device)\n",
    "\n",
    "    val_labels = torch.tensor([data.y.item() for data in val_loader.dataset])\n",
    "    val_class_counts = torch.bincount(val_labels, minlength=num_classes)\n",
    "    val_total_samples = len(val_labels)\n",
    "    val_class_weights = val_total_samples / (num_classes * val_class_counts.float())\n",
    "    val_class_weights = val_class_weights.to(device)\n",
    "    \n",
    "    # Create separate loss functions for training and validation\n",
    "    train_criterion = FocalLoss(gamma=params['gamma'], weight=train_class_weights)\n",
    "    val_criterion = FocalLoss(gamma=params['gamma'], weight=val_class_weights)\n",
    "    \n",
    "    overall_train_losses = defaultdict(list)\n",
    "    overall_val_losses = defaultdict(list)\n",
    "    overall_val_accs = defaultdict(list)\n",
    "    \n",
    "    best_val_acc = 0\n",
    "    best_model_state = None\n",
    "    \n",
    "    # PHASE 1: Train Sentence Network Only\n",
    "    print(\"\\n--- Phase 1: Train Sentence Network Only ---\")\n",
    "    freeze_module(model.word_net)\n",
    "    freeze_module(model.fusion)\n",
    "    freeze_module(model.final_mlp)\n",
    "    unfreeze_module(model.sent_net)\n",
    "    \n",
    "    optimizer = torch.optim.Adam(filter(lambda p: p.requires_grad, model.parameters()),\n",
    "                                 lr=learning_rate, weight_decay=2.7910370279837748e-08)\n",
    "    scheduler = torch.optim.lr_scheduler.ReduceLROnPlateau(optimizer, mode='min', patience=3, factor=0.1)\n",
    "    \n",
    "    for epoch in range(epochs_per_phase):\n",
    "        train_loss = train_one_epoch(model, train_loader, optimizer, train_criterion, device, epoch, phase=1, num_classes=num_classes)\n",
    "        val_loss, val_acc, all_preds, all_labels = validate(model, val_loader, val_criterion, device, category_to_idx, epoch, phase=1)\n",
    "        scheduler.step(val_loss)\n",
    "        overall_train_losses['Phase 1'].append(train_loss)\n",
    "        overall_val_losses['Phase 1'].append(val_loss)\n",
    "        overall_val_accs['Phase 1'].append(val_acc)\n",
    "        print(f\"Phase 1, Epoch {epoch+1}: Train Loss = {train_loss:.4f}, Val Loss = {val_loss:.4f}, Val Acc = {val_acc:.4f}\")\n",
    "    \n",
    "    # PHASE 2: Train Word Network Only\n",
    "    print(\"\\n--- Phase 2: Train Word Network Only ---\")\n",
    "    freeze_module(model.sent_net)\n",
    "    freeze_module(model.fusion)\n",
    "    freeze_module(model.final_mlp)\n",
    "    unfreeze_module(model.word_net)\n",
    "    \n",
    "    optimizer = torch.optim.Adam(filter(lambda p: p.requires_grad, model.parameters()),\n",
    "                                 lr=learning_rate, weight_decay=2.7910370279837748e-08)\n",
    "    scheduler = torch.optim.lr_scheduler.ReduceLROnPlateau(optimizer, mode='min', patience=3, factor=0.1)\n",
    "    \n",
    "    for epoch in range(epochs_per_phase):\n",
    "        train_loss = train_one_epoch(model, train_loader, optimizer, train_criterion, device, epoch, phase=2, num_classes=num_classes)\n",
    "        val_loss, val_acc, all_preds, all_labels = validate(model, val_loader, val_criterion, device, category_to_idx, epoch, phase=2)\n",
    "        scheduler.step(val_loss)\n",
    "        overall_train_losses['Phase 2'].append(train_loss)\n",
    "        overall_val_losses['Phase 2'].append(val_loss)\n",
    "        overall_val_accs['Phase 2'].append(val_acc)\n",
    "        print(f\"Phase 2, Epoch {epoch+1}: Train Loss = {train_loss:.4f}, Val Loss = {val_loss:.4f}, Val Acc = {val_acc:.4f}\")\n",
    "    \n",
    "    # PHASE 3: Train Fusion Layer Only\n",
    "    print(\"\\n--- Phase 3: Train Fusion Layer Only ---\")\n",
    "    freeze_module(model.word_net)\n",
    "    freeze_module(model.sent_net)\n",
    "    freeze_module(model.final_mlp)\n",
    "    unfreeze_module(model.fusion)\n",
    "    \n",
    "    optimizer = torch.optim.Adam(filter(lambda p: p.requires_grad, model.parameters()),\n",
    "                                 lr=learning_rate, weight_decay=2.7910370279837748e-08)\n",
    "    scheduler = torch.optim.lr_scheduler.ReduceLROnPlateau(optimizer, mode='min', patience=5, factor=0.5)\n",
    "    \n",
    "    for epoch in range(epochs_per_phase):\n",
    "        train_loss = train_one_epoch(model, train_loader, optimizer, train_criterion, device, epoch, phase=3, num_classes=num_classes)\n",
    "        val_loss, val_acc, all_preds, all_labels = validate(model, val_loader, val_criterion, device, category_to_idx, epoch, phase=3)\n",
    "        scheduler.step(val_loss)\n",
    "        overall_train_losses['Phase 3'].append(train_loss)\n",
    "        overall_val_losses['Phase 3'].append(val_loss)\n",
    "        overall_val_accs['Phase 3'].append(val_acc)\n",
    "        print(f\"Phase 3, Epoch {epoch+1}: Train Loss = {train_loss:.4f}, Val Loss = {val_loss:.4f}, Val Acc = {val_acc:.4f}\")\n",
    "    \n",
    "    # PHASE 4: Fine-Tune Entire Model\n",
    "    print(\"\\n--- Phase 4: Fine Tune Entire Model ---\")\n",
    "    unfreeze_module(model.word_net)\n",
    "    unfreeze_module(model.sent_net)\n",
    "    unfreeze_module(model.fusion)\n",
    "    unfreeze_module(model.final_mlp)\n",
    "    \n",
    "    optimizer = torch.optim.Adam(filter(lambda p: p.requires_grad, model.parameters()),\n",
    "                                 lr=learning_rate, weight_decay=2.7910370279837748e-08)\n",
    "    scheduler = torch.optim.lr_scheduler.ReduceLROnPlateau(optimizer, mode='min', patience=3, factor=0.1)\n",
    "    \n",
    "    for epoch in range(epochs_per_phase):\n",
    "        train_loss = train_one_epoch(model, train_loader, optimizer, train_criterion, device, epoch, phase=4, num_classes=num_classes)\n",
    "        val_loss, val_acc, all_preds, all_labels = validate(model, val_loader, val_criterion, device, category_to_idx, epoch, phase=4)\n",
    "        scheduler.step(val_loss)\n",
    "        overall_train_losses['Phase 4'].append(train_loss)\n",
    "        overall_val_losses['Phase 4'].append(val_loss)\n",
    "        overall_val_accs['Phase 4'].append(val_acc)\n",
    "        print(f\"Phase 4, Epoch {epoch+1}: Train Loss = {train_loss:.4f}, Val Loss = {val_loss:.4f}, Val Acc = {val_acc:.4f}\")\n",
    "        \n",
    "        if val_acc > best_val_acc:\n",
    "            best_val_acc = val_acc\n",
    "            best_model_state = {\n",
    "                'phase': 4,\n",
    "                'epoch': epoch,\n",
    "                'model_state_dict': model.state_dict(),\n",
    "                'optimizer_state_dict': optimizer.state_dict(),\n",
    "                'val_acc': val_acc,\n",
    "            }\n",
    "            torch.save(best_model_state, os.path.join(PLOT_DIR, 'best_model.pt'))\n",
    "    \n",
    "    # Plot Overall Training and Validation Loss Across Phases\n",
    "    phases = list(overall_train_losses.keys())\n",
    "    plt.figure(figsize=(12, 5))\n",
    "    for phase in phases:\n",
    "        plt.plot(range(1, epochs_per_phase+1), overall_train_losses[phase], label=f'{phase} Train Loss')\n",
    "        plt.plot(range(1, epochs_per_phase+1), overall_val_losses[phase], label=f'{phase} Val Loss')\n",
    "    plt.xlabel(\"Epoch (per phase)\")\n",
    "    plt.ylabel(\"Loss\")\n",
    "    plt.title(\"Training vs. Validation Loss Across Phases\")\n",
    "    plt.legend()\n",
    "    plt.grid(True)\n",
    "    plt.savefig(os.path.join(PLOT_DIR, \"overall_loss_across_phases.png\"))\n",
    "    plt.close()\n",
    "    \n",
    "    plt.figure(figsize=(12, 5))\n",
    "    for phase in phases:\n",
    "        plt.plot(range(1, epochs_per_phase+1), overall_val_accs[phase], label=f'{phase} Val Accuracy')\n",
    "    plt.xlabel(\"Epoch (per phase)\")\n",
    "    plt.ylabel(\"Validation Accuracy\")\n",
    "    plt.title(\"Validation Accuracy Across Phases\")\n",
    "    plt.legend()\n",
    "    plt.grid(True)\n",
    "    plt.savefig(os.path.join(PLOT_DIR, \"overall_val_accuracy_across_phases.png\"))\n",
    "    plt.close()\n",
    "    \n",
    "    print(f\"Best Validation Accuracy: {best_val_acc:.4f}\")\n",
    "\n",
    "if __name__ == \"__main__\":\n",
    "    main()\n"
   ]
  },
  {
   "cell_type": "code",
   "execution_count": 17,
   "id": "07f366b6-4434-4adc-b0f1-fec0e2e4def9",
   "metadata": {},
   "outputs": [
    {
     "name": "stdout",
     "output_type": "stream",
     "text": [
      "Loading existing valid indices from metadata\n",
      "Found 10409 processed documents\n",
      "\n",
      "Class Distribution:\n",
      "Training set: {0: 379, 1: 144, 2: 58, 3: 1048, 4: 250, 5: 527, 6: 85, 7: 432, 8: 114, 9: 550, 10: 143, 11: 431, 12: 249, 13: 1127, 14: 198, 15: 172, 16: 265, 17: 358, 18: 171, 19: 469, 20: 499, 21: 79, 22: 1621}\n",
      "Validation set: {0: 44, 1: 14, 2: 7, 3: 112, 4: 33, 5: 61, 6: 15, 7: 41, 8: 11, 9: 70, 10: 19, 11: 58, 12: 31, 13: 116, 14: 17, 15: 25, 16: 29, 17: 30, 18: 19, 19: 55, 20: 46, 21: 13, 22: 174}\n",
      "Loading existing valid indices from metadata\n",
      "Found 12699 processed documents\n",
      "Test Accuracy: 0.1785967399007796\n"
     ]
    }
   ],
   "source": [
    "from sklearn.metrics import confusion_matrix\n",
    "\n",
    "def create_test_loader(root: str, test_dir: str, batch_size: int, category_to_idx):\n",
    "    \"\"\"Create a DataLoader for the test dataset.\"\"\"\n",
    "    test_dataset = DocumentGraphDataset(\n",
    "        f\"{root}/test\", \n",
    "        test_dir, \n",
    "        category_to_idx=category_to_idx\n",
    "    )\n",
    "    test_loader = DataLoader(\n",
    "        test_dataset,\n",
    "        batch_size=batch_size,\n",
    "        shuffle=False,\n",
    "        num_workers=4,\n",
    "        pin_memory=True\n",
    "    )\n",
    "    return test_loader\n",
    "\n",
    "def test_model(model, test_loader, device, category_to_idx):\n",
    "    \"\"\"Test the model on the test dataset, print accuracy, and plot the confusion matrix.\"\"\"\n",
    "    model.eval()\n",
    "    total = 0\n",
    "    correct = 0\n",
    "    all_preds = []\n",
    "    all_labels = []\n",
    "    with torch.no_grad():\n",
    "        for batch in test_loader:\n",
    "            word_x = batch['word'].x.to(device)\n",
    "            word_edge_index = batch['word', 'co_occurs', 'word'].edge_index.to(device)\n",
    "            word_edge_weight = batch['word', 'co_occurs', 'word'].edge_attr.to(device)\n",
    "            word_batch = batch['word'].batch.to(device)\n",
    "            \n",
    "            sent_x = batch['sentence'].x.to(device)\n",
    "            sent_edge_index = batch['sentence', 'related_to', 'sentence'].edge_index.to(device)\n",
    "            sent_edge_weight = batch['sentence', 'related_to', 'sentence'].edge_attr.to(device)\n",
    "            sent_batch = batch['sentence'].batch.to(device)\n",
    "            \n",
    "            outputs = model(\n",
    "                word_x, word_edge_index, word_batch, word_edge_weight,\n",
    "                sent_x, sent_edge_index, sent_batch, sent_edge_weight\n",
    "            )\n",
    "            curr_batch_size = batch.y.size(0)\n",
    "            preds = outputs[:curr_batch_size].argmax(dim=1)\n",
    "            correct += (preds == batch.y.to(device)).sum().item()\n",
    "            total += curr_batch_size\n",
    "            all_preds.extend(preds.cpu().numpy())\n",
    "            all_labels.extend(batch.y.cpu().numpy())\n",
    "    \n",
    "    test_acc = correct / total\n",
    "    print(\"Test Accuracy:\", test_acc)\n",
    "    \n",
    "    # Plot confusion matrix\n",
    "    cm = confusion_matrix(all_labels, all_preds)\n",
    "    plt.figure(figsize=(8, 8))\n",
    "    sns.heatmap(cm, annot=True, fmt=\"d\", cmap=\"Blues\")\n",
    "    plt.xlabel(\"Predicted Class\")\n",
    "    plt.ylabel(\"True Class\")\n",
    "    plt.title(\"Confusion Matrix on Test Data\")\n",
    "    plt.savefig(os.path.join(PLOT_DIR, \"confusion_matrix_test.png\"))\n",
    "    plt.close()\n",
    "\n",
    "# -------------------------\n",
    "# Load the Test Dataset and Evaluate\n",
    "# -------------------------\n",
    "if __name__ == \"__main__\":\n",
    "    # Create test loader using the same root and test_dir as in training\n",
    "    root = \"processed_graphs_ohsumed\"\n",
    "    test_dir = \"processed_data_ohsumed/test\"\n",
    "    # Use best hyperparameters:\n",
    "    batch_size = 16\n",
    "    hidden_dim = 148\n",
    "    learning_rate = 0.000363022060695821\n",
    "    total_phases = 4\n",
    "    epochs_per_phase = 50  # 50 epochs per phase\n",
    "    device=\"cpu\"\n",
    "    # Re-use create_dataloaders to get the category mapping\n",
    "    _, _, num_classes, category_to_idx = create_dataloaders(root, \"processed_data_ohsumed/train\", test_dir, batch_size)\n",
    "    test_loader = create_test_loader(root, test_dir, batch_size, category_to_idx)\n",
    "    \n",
    "    # Load the best model state (assumed saved in the plots folder as \"best_model.pt\")\n",
    "    best_state = torch.load(os.path.join(PLOT_DIR, \"best_model.pt\"), map_location=device)\n",
    "    # Create model with best params (note: num_layers set to 3, dropout_rate added)\n",
    "    model = CoGraphNet(\n",
    "        word_in_channels=768,\n",
    "        sent_in_channels=768,\n",
    "        hidden_channels=hidden_dim,\n",
    "        num_layers=3,\n",
    "        num_classes=num_classes,\n",
    "        dropout_rate=0.16716698278231815\n",
    "    ).to(device)\n",
    "    model.load_state_dict(best_state['model_state_dict'])\n",
    "    \n",
    "    # Evaluate the model on the test set and plot confusion matrix\n",
    "    test_model(model, test_loader, device, category_to_idx)\n"
   ]
  },
  {
   "cell_type": "code",
   "execution_count": null,
   "id": "c65e1ce1-60c9-4afd-bb04-79229d8c67a3",
   "metadata": {},
   "outputs": [],
   "source": []
  }
 ],
 "metadata": {
  "kernelspec": {
   "display_name": "Python 3 (ipykernel)",
   "language": "python",
   "name": "python3"
  },
  "language_info": {
   "codemirror_mode": {
    "name": "ipython",
    "version": 3
   },
   "file_extension": ".py",
   "mimetype": "text/x-python",
   "name": "python",
   "nbconvert_exporter": "python",
   "pygments_lexer": "ipython3",
   "version": "3.12.9"
  }
 },
 "nbformat": 4,
 "nbformat_minor": 5
}
