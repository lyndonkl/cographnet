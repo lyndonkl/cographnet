{
 "cells": [
  {
   "cell_type": "code",
   "execution_count": 1,
   "id": "ad1e6afa-43c2-4f1a-bbc8-432a18246783",
   "metadata": {},
   "outputs": [
    {
     "name": "stdout",
     "output_type": "stream",
     "text": [
      "Hyperparameters:                                                                                                                                                                                                   \n",
      "{'batch_size': 512.0, 'dropout_rate': 0.6037106901485139, 'gamma': 4.25950192586529, 'hidden_dim': 168.0, 'learning_rate': 1.9235966024783293e-05, 'num_layers': 1.0, 'weight_decay': 1.4362245674796542e-05}      \n",
      "Loading existing valid indices from metadata                                                                                                                                                                       \n",
      "Found 10409 processed documents                                                                                                                                                                                    \n",
      "  0%|                                                                                                                                                                       | 0/40 [00:06<?, ?trial/s, best loss=?]"
     ]
    },
    {
     "data": {
      "application/vnd.jupyter.widget-view+json": {
       "model_id": "7a6b3213178d457cb8b1481214775629",
       "version_major": 2,
       "version_minor": 0
      },
      "text/plain": [
       "Epoch 1:   0%|                                                               | 0/17 [00:00<?, ?it/s]"
      ]
     },
     "metadata": {},
     "output_type": "display_data"
    },
    {
     "name": "stdout",
     "output_type": "stream",
     "text": [
      "Epoch 1 Training Loss: 2.5336                                                                                                                                                                                      \n",
      "  0%|                                                                                                                                                                       | 0/40 [05:47<?, ?trial/s, best loss=?]"
     ]
    },
    {
     "data": {
      "application/vnd.jupyter.widget-view+json": {
       "model_id": "d1ef9a231127422d8924fb0d26adfea0",
       "version_major": 2,
       "version_minor": 0
      },
      "text/plain": [
       "Epoch 2:   0%|                                                               | 0/17 [00:00<?, ?it/s]"
      ]
     },
     "metadata": {},
     "output_type": "display_data"
    },
    {
     "name": "stdout",
     "output_type": "stream",
     "text": [
      "Epoch 2 Training Loss: 2.5460                                                                                                                                                                                      \n",
      "  0%|                                                                                                                                                                       | 0/40 [11:26<?, ?trial/s, best loss=?]"
     ]
    },
    {
     "data": {
      "application/vnd.jupyter.widget-view+json": {
       "model_id": "31b8ac81826a4fc889231a5b0641f342",
       "version_major": 2,
       "version_minor": 0
      },
      "text/plain": [
       "Epoch 3:   0%|                                                               | 0/17 [00:00<?, ?it/s]"
      ]
     },
     "metadata": {},
     "output_type": "display_data"
    },
    {
     "name": "stdout",
     "output_type": "stream",
     "text": [
      "Epoch 3 Training Loss: 2.5409                                                                                                                                                                                      \n",
      "  0%|                                                                                                                                                                       | 0/40 [17:15<?, ?trial/s, best loss=?]"
     ]
    },
    {
     "data": {
      "application/vnd.jupyter.widget-view+json": {
       "model_id": "603bbd965cd2441eaec1d1f9d33692a1",
       "version_major": 2,
       "version_minor": 0
      },
      "text/plain": [
       "Epoch 4:   0%|                                                               | 0/17 [00:00<?, ?it/s]"
      ]
     },
     "metadata": {},
     "output_type": "display_data"
    },
    {
     "name": "stdout",
     "output_type": "stream",
     "text": [
      "Epoch 4 Training Loss: 2.5428                                                                                                                                                                                      \n",
      "  0%|                                                                                                                                                                       | 0/40 [23:41<?, ?trial/s, best loss=?]"
     ]
    },
    {
     "data": {
      "application/vnd.jupyter.widget-view+json": {
       "model_id": "29a9d2c68bd642ff845fec522a32d173",
       "version_major": 2,
       "version_minor": 0
      },
      "text/plain": [
       "Epoch 5:   0%|                                                               | 0/17 [00:00<?, ?it/s]"
      ]
     },
     "metadata": {},
     "output_type": "display_data"
    },
    {
     "name": "stdout",
     "output_type": "stream",
     "text": [
      "Epoch 5 Training Loss: 2.5349                                                                                                                                                                                      \n",
      "Validation Loss:                                                                                                                                                                                                   \n",
      "2.5745019289463085                                                                                                                                                                                                 \n",
      "Validation Accuracy:                                                                                                                                                                                               \n",
      "0.012974531475252283                                                                                                                                                                                               \n",
      "Hyperparameters:                                                                                                                                                                                                   \n",
      "{'batch_size': 464.0, 'dropout_rate': 0.12758735049516062, 'gamma': 2.255440749539407, 'hidden_dim': 87.0, 'learning_rate': 2.1140074621018587e-05, 'num_layers': 2.0, 'weight_decay': 1.7408497284291953e-08}     \n",
      "Loading existing valid indices from metadata                                                                                                                                                                       \n",
      "Found 10409 processed documents                                                                                                                                                                                    \n",
      "  2%|███▍                                                                                                                                    | 1/40 [30:09<19:31:43, 1802.66s/trial, best loss: 2.5745019289463085]"
     ]
    },
    {
     "data": {
      "application/vnd.jupyter.widget-view+json": {
       "model_id": "d3219cbb217d4bc281a25e584155201b",
       "version_major": 2,
       "version_minor": 0
      },
      "text/plain": [
       "Epoch 1:   0%|                                                               | 0/18 [00:00<?, ?it/s]"
      ]
     },
     "metadata": {},
     "output_type": "display_data"
    },
    {
     "name": "stdout",
     "output_type": "stream",
     "text": [
      "Epoch 1 Training Loss: 2.7346                                                                                                                                                                                      \n",
      "  2%|███▍                                                                                                                                    | 1/40 [34:30<19:31:43, 1802.66s/trial, best loss: 2.5745019289463085]"
     ]
    },
    {
     "data": {
      "application/vnd.jupyter.widget-view+json": {
       "model_id": "8286bbd7912c4d2eb567820fd875fb70",
       "version_major": 2,
       "version_minor": 0
      },
      "text/plain": [
       "Epoch 2:   0%|                                                               | 0/18 [00:00<?, ?it/s]"
      ]
     },
     "metadata": {},
     "output_type": "display_data"
    },
    {
     "name": "stdout",
     "output_type": "stream",
     "text": [
      "Epoch 2 Training Loss: 2.7339                                                                                                                                                                                      \n",
      "  2%|███▍                                                                                                                                    | 1/40 [38:24<19:31:43, 1802.66s/trial, best loss: 2.5745019289463085]"
     ]
    },
    {
     "data": {
      "application/vnd.jupyter.widget-view+json": {
       "model_id": "56f6f013a87b44fba68342e7663594b4",
       "version_major": 2,
       "version_minor": 0
      },
      "text/plain": [
       "Epoch 3:   0%|                                                               | 0/18 [00:00<?, ?it/s]"
      ]
     },
     "metadata": {},
     "output_type": "display_data"
    },
    {
     "name": "stdout",
     "output_type": "stream",
     "text": [
      "Epoch 3 Training Loss: 2.7333                                                                                                                                                                                      \n",
      "  2%|███▍                                                                                                                                    | 1/40 [42:03<19:31:43, 1802.66s/trial, best loss: 2.5745019289463085]"
     ]
    },
    {
     "data": {
      "application/vnd.jupyter.widget-view+json": {
       "model_id": "6dd892d915524d8badc0105ab1fbdbd3",
       "version_major": 2,
       "version_minor": 0
      },
      "text/plain": [
       "Epoch 4:   0%|                                                               | 0/18 [00:00<?, ?it/s]"
      ]
     },
     "metadata": {},
     "output_type": "display_data"
    },
    {
     "name": "stdout",
     "output_type": "stream",
     "text": [
      "Epoch 4 Training Loss: 2.7336                                                                                                                                                                                      \n",
      "  2%|███▍                                                                                                                                    | 1/40 [45:40<19:31:43, 1802.66s/trial, best loss: 2.5745019289463085]"
     ]
    },
    {
     "data": {
      "application/vnd.jupyter.widget-view+json": {
       "model_id": "8764a5b5b77e48ffae9a43629ec3bddf",
       "version_major": 2,
       "version_minor": 0
      },
      "text/plain": [
       "Epoch 5:   0%|                                                               | 0/18 [00:00<?, ?it/s]"
      ]
     },
     "metadata": {},
     "output_type": "display_data"
    },
    {
     "name": "stdout",
     "output_type": "stream",
     "text": [
      "Epoch 5 Training Loss: 2.7325                                                                                                                                                                                      \n",
      "Validation Loss:                                                                                                                                                                                                   \n",
      "2.782845129020394                                                                                                                                                                                                  \n",
      "Validation Accuracy:                                                                                                                                                                                               \n",
      "0.03988467083133109                                                                                                                                                                                                \n",
      "Hyperparameters:                                                                                                                                                                                                   \n",
      "{'batch_size': 112.0, 'dropout_rate': 0.02871377683439141, 'gamma': 4.955900188473752, 'hidden_dim': 108.0, 'learning_rate': 0.00032381066809683784, 'num_layers': 2.0, 'weight_decay': 1.3222104222850965e-08}    \n",
      "Loading existing valid indices from metadata                                                                                                                                                                       \n",
      "Found 10409 processed documents                                                                                                                                                                                    \n",
      "  5%|██████▊                                                                                                                                 | 2/40 [49:42<15:07:12, 1432.44s/trial, best loss: 2.5745019289463085]"
     ]
    },
    {
     "data": {
      "application/vnd.jupyter.widget-view+json": {
       "model_id": "fa9751d6ef304384a6b9800fb3e9863f",
       "version_major": 2,
       "version_minor": 0
      },
      "text/plain": [
       "Epoch 1:   0%|                                                               | 0/75 [00:00<?, ?it/s]"
      ]
     },
     "metadata": {},
     "output_type": "display_data"
    },
    {
     "name": "stdout",
     "output_type": "stream",
     "text": [
      "Epoch 1 Training Loss: 2.4579                                                                                                                                                                                      \n",
      "  5%|██████▊                                                                                                                                 | 2/40 [56:08<15:07:12, 1432.44s/trial, best loss: 2.5745019289463085]"
     ]
    },
    {
     "data": {
      "application/vnd.jupyter.widget-view+json": {
       "model_id": "b1a041ced4a9420c91127da4ec9fb2b5",
       "version_major": 2,
       "version_minor": 0
      },
      "text/plain": [
       "Epoch 2:   0%|                                                               | 0/75 [00:00<?, ?it/s]"
      ]
     },
     "metadata": {},
     "output_type": "display_data"
    },
    {
     "name": "stdout",
     "output_type": "stream",
     "text": [
      "Epoch 2 Training Loss: 2.4276                                                                                                                                                                                      \n",
      "  5%|██████▋                                                                                                                               | 2/40 [1:02:16<15:07:12, 1432.44s/trial, best loss: 2.5745019289463085]"
     ]
    },
    {
     "data": {
      "application/vnd.jupyter.widget-view+json": {
       "model_id": "b044ca1f941f4ba4a018b6dbf1b85b9d",
       "version_major": 2,
       "version_minor": 0
      },
      "text/plain": [
       "Epoch 3:   0%|                                                               | 0/75 [00:00<?, ?it/s]"
      ]
     },
     "metadata": {},
     "output_type": "display_data"
    },
    {
     "name": "stdout",
     "output_type": "stream",
     "text": [
      "Epoch 3 Training Loss: 2.3860                                                                                                                                                                                      \n",
      "  5%|██████▋                                                                                                                               | 2/40 [1:05:53<15:07:12, 1432.44s/trial, best loss: 2.5745019289463085]"
     ]
    },
    {
     "data": {
      "application/vnd.jupyter.widget-view+json": {
       "model_id": "7f3d6c565ae8483d9dc8f5714ee091d0",
       "version_major": 2,
       "version_minor": 0
      },
      "text/plain": [
       "Epoch 4:   0%|                                                               | 0/75 [00:00<?, ?it/s]"
      ]
     },
     "metadata": {},
     "output_type": "display_data"
    },
    {
     "name": "stdout",
     "output_type": "stream",
     "text": [
      "Epoch 4 Training Loss: 2.3321                                                                                                                                                                                      \n",
      "  5%|██████▋                                                                                                                               | 2/40 [1:13:10<15:07:12, 1432.44s/trial, best loss: 2.5745019289463085]"
     ]
    },
    {
     "data": {
      "application/vnd.jupyter.widget-view+json": {
       "model_id": "a7b29f963d144fcb89daf92e3ad80021",
       "version_major": 2,
       "version_minor": 0
      },
      "text/plain": [
       "Epoch 5:   0%|                                                               | 0/75 [00:00<?, ?it/s]"
      ]
     },
     "metadata": {},
     "output_type": "display_data"
    },
    {
     "name": "stdout",
     "output_type": "stream",
     "text": [
      "Epoch 5 Training Loss: 2.2344                                                                                                                                                                                      \n",
      "Validation Loss:                                                                                                                                                                                                   \n",
      "2.3539324856216894                                                                                                                                                                                                 \n",
      "Validation Accuracy:                                                                                                                                                                                               \n",
      "0.06583373378183566                                                                                                                                                                                                \n",
      "Hyperparameters:                                                                                                                                                                                                   \n",
      "{'batch_size': 256.0, 'dropout_rate': 0.4185629730696177, 'gamma': 2.4038288918142157, 'hidden_dim': 65.0, 'learning_rate': 2.0534530972339908e-05, 'num_layers': 3.0, 'weight_decay': 1.557048821076598e-05}      \n",
      "Loading existing valid indices from metadata                                                                                                                                                                       \n",
      "Found 10409 processed documents                                                                                                                                                                                    \n",
      "  8%|██████████                                                                                                                            | 3/40 [1:25:35<18:06:09, 1761.35s/trial, best loss: 2.3539324856216894]"
     ]
    },
    {
     "data": {
      "application/vnd.jupyter.widget-view+json": {
       "model_id": "c5c8f6da72b1404d8f84e2ea1752277e",
       "version_major": 2,
       "version_minor": 0
      },
      "text/plain": [
       "Epoch 1:   0%|                                                               | 0/33 [00:00<?, ?it/s]"
      ]
     },
     "metadata": {},
     "output_type": "display_data"
    },
    {
     "name": "stdout",
     "output_type": "stream",
     "text": [
      "Epoch 1 Training Loss: 2.7272                                                                                                                                                                                      \n",
      "  8%|██████████                                                                                                                            | 3/40 [1:30:17<18:06:09, 1761.35s/trial, best loss: 2.3539324856216894]"
     ]
    },
    {
     "data": {
      "application/vnd.jupyter.widget-view+json": {
       "model_id": "0edbb1cd1b1742069feb21353ede9bdc",
       "version_major": 2,
       "version_minor": 0
      },
      "text/plain": [
       "Epoch 2:   0%|                                                               | 0/33 [00:00<?, ?it/s]"
      ]
     },
     "metadata": {},
     "output_type": "display_data"
    },
    {
     "name": "stdout",
     "output_type": "stream",
     "text": [
      "Epoch 2 Training Loss: 2.7264                                                                                                                                                                                      \n",
      "  8%|██████████                                                                                                                            | 3/40 [1:34:55<18:06:09, 1761.35s/trial, best loss: 2.3539324856216894]"
     ]
    },
    {
     "data": {
      "application/vnd.jupyter.widget-view+json": {
       "model_id": "e31aa14286a4435aa2f73344d8b7d6ba",
       "version_major": 2,
       "version_minor": 0
      },
      "text/plain": [
       "Epoch 3:   0%|                                                               | 0/33 [00:00<?, ?it/s]"
      ]
     },
     "metadata": {},
     "output_type": "display_data"
    },
    {
     "name": "stdout",
     "output_type": "stream",
     "text": [
      "Epoch 3 Training Loss: 2.7167                                                                                                                                                                                      \n",
      "  8%|██████████                                                                                                                            | 3/40 [1:38:30<18:06:09, 1761.35s/trial, best loss: 2.3539324856216894]"
     ]
    },
    {
     "data": {
      "application/vnd.jupyter.widget-view+json": {
       "model_id": "9be1674d1bd043fca6befc127c0afe83",
       "version_major": 2,
       "version_minor": 0
      },
      "text/plain": [
       "Epoch 4:   0%|                                                               | 0/33 [00:00<?, ?it/s]"
      ]
     },
     "metadata": {},
     "output_type": "display_data"
    },
    {
     "name": "stdout",
     "output_type": "stream",
     "text": [
      "Epoch 4 Training Loss: 2.7249                                                                                                                                                                                      \n",
      "  8%|██████████                                                                                                                            | 3/40 [1:41:34<18:06:09, 1761.35s/trial, best loss: 2.3539324856216894]"
     ]
    },
    {
     "data": {
      "application/vnd.jupyter.widget-view+json": {
       "model_id": "42fd4bb0868042d59ad2d2b297e225a1",
       "version_major": 2,
       "version_minor": 0
      },
      "text/plain": [
       "Epoch 5:   0%|                                                               | 0/33 [00:00<?, ?it/s]"
      ]
     },
     "metadata": {},
     "output_type": "display_data"
    },
    {
     "name": "stdout",
     "output_type": "stream",
     "text": [
      "Epoch 5 Training Loss: 2.7182                                                                                                                                                                                      \n",
      "Validation Loss:                                                                                                                                                                                                   \n",
      "2.59081368249291                                                                                                                                                                                                   \n",
      "Validation Accuracy:                                                                                                                                                                                               \n",
      "0.04757328207592504                                                                                                                                                                                                \n",
      "Hyperparameters:                                                                                                                                                                                                   \n",
      "{'batch_size': 112.0, 'dropout_rate': 0.5577310566339871, 'gamma': 1.8091348149782918, 'hidden_dim': 220.0, 'learning_rate': 1.9575738704327645e-05, 'num_layers': 2.0, 'weight_decay': 1.9268219995600353e-05}    \n",
      "Loading existing valid indices from metadata                                                                                                                                                                       \n",
      "Found 10409 processed documents                                                                                                                                                                                    \n",
      " 10%|█████████████▍                                                                                                                        | 4/40 [1:45:03<15:16:01, 1526.71s/trial, best loss: 2.3539324856216894]"
     ]
    },
    {
     "data": {
      "application/vnd.jupyter.widget-view+json": {
       "model_id": "fb91a2dc459a4574aa256be1ffdebf4f",
       "version_major": 2,
       "version_minor": 0
      },
      "text/plain": [
       "Epoch 1:   0%|                                                               | 0/75 [00:00<?, ?it/s]"
      ]
     },
     "metadata": {},
     "output_type": "display_data"
    },
    {
     "name": "stdout",
     "output_type": "stream",
     "text": [
      "Epoch 1 Training Loss: 2.8050                                                                                                                                                                                      \n",
      " 10%|█████████████▍                                                                                                                        | 4/40 [2:01:02<15:16:01, 1526.71s/trial, best loss: 2.3539324856216894]"
     ]
    },
    {
     "data": {
      "application/vnd.jupyter.widget-view+json": {
       "model_id": "595afb404ef44edf92760fd1f7edd037",
       "version_major": 2,
       "version_minor": 0
      },
      "text/plain": [
       "Epoch 2:   0%|                                                               | 0/75 [00:00<?, ?it/s]"
      ]
     },
     "metadata": {},
     "output_type": "display_data"
    },
    {
     "name": "stdout",
     "output_type": "stream",
     "text": [
      "Epoch 2 Training Loss: 2.7946                                                                                                                                                                                      \n",
      " 10%|█████████████▍                                                                                                                        | 4/40 [2:13:18<15:16:01, 1526.71s/trial, best loss: 2.3539324856216894]"
     ]
    },
    {
     "data": {
      "application/vnd.jupyter.widget-view+json": {
       "model_id": "cb187040d6a647abb4441f60db123b65",
       "version_major": 2,
       "version_minor": 0
      },
      "text/plain": [
       "Epoch 3:   0%|                                                               | 0/75 [00:00<?, ?it/s]"
      ]
     },
     "metadata": {},
     "output_type": "display_data"
    },
    {
     "name": "stdout",
     "output_type": "stream",
     "text": [
      "Epoch 3 Training Loss: 2.7993                                                                                                                                                                                      \n",
      " 10%|█████████████▍                                                                                                                        | 4/40 [2:23:13<15:16:01, 1526.71s/trial, best loss: 2.3539324856216894]"
     ]
    },
    {
     "data": {
      "application/vnd.jupyter.widget-view+json": {
       "model_id": "83e221ccf6cb41ca9a2fb4365d3a110e",
       "version_major": 2,
       "version_minor": 0
      },
      "text/plain": [
       "Epoch 4:   0%|                                                               | 0/75 [00:00<?, ?it/s]"
      ]
     },
     "metadata": {},
     "output_type": "display_data"
    },
    {
     "name": "stdout",
     "output_type": "stream",
     "text": [
      "Epoch 4 Training Loss: 2.7975                                                                                                                                                                                      \n",
      " 10%|█████████████▍                                                                                                                        | 4/40 [2:30:22<15:16:01, 1526.71s/trial, best loss: 2.3539324856216894]"
     ]
    },
    {
     "data": {
      "application/vnd.jupyter.widget-view+json": {
       "model_id": "6f899deb1e9c4095b1a8efe8efcd0d05",
       "version_major": 2,
       "version_minor": 0
      },
      "text/plain": [
       "Epoch 5:   0%|                                                               | 0/75 [00:00<?, ?it/s]"
      ]
     },
     "metadata": {},
     "output_type": "display_data"
    },
    {
     "name": "stdout",
     "output_type": "stream",
     "text": [
      "Epoch 5 Training Loss: 2.8070                                                                                                                                                                                      \n",
      "Validation Loss:                                                                                                                                                                                                   \n",
      "2.813529790450265                                                                                                                                                                                                  \n",
      "Validation Accuracy:                                                                                                                                                                                               \n",
      "0.060067275348390195                                                                                                                                                                                               \n",
      "Hyperparameters:                                                                                                                                                                                                   \n",
      "{'batch_size': 224.0, 'dropout_rate': 0.32220638429337656, 'gamma': 3.2102162189964263, 'hidden_dim': 97.0, 'learning_rate': 0.0008697328736110064, 'num_layers': 2.0, 'weight_decay': 1.1187755919168999e-06}     \n",
      "Loading existing valid indices from metadata                                                                                                                                                                       \n",
      "Found 10409 processed documents                                                                                                                                                                                    \n",
      " 12%|████████████████▊                                                                                                                     | 5/40 [2:51:15<23:25:17, 2409.06s/trial, best loss: 2.3539324856216894]"
     ]
    },
    {
     "data": {
      "application/vnd.jupyter.widget-view+json": {
       "model_id": "a4a86b24515942928329667991dbd665",
       "version_major": 2,
       "version_minor": 0
      },
      "text/plain": [
       "Epoch 1:   0%|                                                               | 0/38 [00:00<?, ?it/s]"
      ]
     },
     "metadata": {},
     "output_type": "display_data"
    },
    {
     "name": "stdout",
     "output_type": "stream",
     "text": [
      "Epoch 1 Training Loss: 2.6391                                                                                                                                                                                      \n",
      " 12%|████████████████▊                                                                                                                     | 5/40 [3:04:14<23:25:17, 2409.06s/trial, best loss: 2.3539324856216894]"
     ]
    },
    {
     "data": {
      "application/vnd.jupyter.widget-view+json": {
       "model_id": "f09473471315483fb8f5a9e2e611c66a",
       "version_major": 2,
       "version_minor": 0
      },
      "text/plain": [
       "Epoch 2:   0%|                                                               | 0/38 [00:00<?, ?it/s]"
      ]
     },
     "metadata": {},
     "output_type": "display_data"
    },
    {
     "name": "stdout",
     "output_type": "stream",
     "text": [
      "Epoch 2 Training Loss: 2.6341                                                                                                                                                                                      \n",
      " 12%|████████████████▊                                                                                                                     | 5/40 [3:16:19<23:25:17, 2409.06s/trial, best loss: 2.3539324856216894]"
     ]
    },
    {
     "data": {
      "application/vnd.jupyter.widget-view+json": {
       "model_id": "6a917c368bd94b399840582854789dcd",
       "version_major": 2,
       "version_minor": 0
      },
      "text/plain": [
       "Epoch 3:   0%|                                                               | 0/38 [00:00<?, ?it/s]"
      ]
     },
     "metadata": {},
     "output_type": "display_data"
    },
    {
     "name": "stdout",
     "output_type": "stream",
     "text": [
      "Epoch 3 Training Loss: 2.6207                                                                                                                                                                                      \n",
      " 12%|████████████████▊                                                                                                                     | 5/40 [3:27:51<23:25:17, 2409.06s/trial, best loss: 2.3539324856216894]"
     ]
    },
    {
     "data": {
      "application/vnd.jupyter.widget-view+json": {
       "model_id": "0eaf276323e941f19f059fbf5b728722",
       "version_major": 2,
       "version_minor": 0
      },
      "text/plain": [
       "Epoch 4:   0%|                                                               | 0/38 [00:00<?, ?it/s]"
      ]
     },
     "metadata": {},
     "output_type": "display_data"
    },
    {
     "name": "stdout",
     "output_type": "stream",
     "text": [
      "Epoch 4 Training Loss: 2.6097                                                                                                                                                                                      \n",
      " 12%|████████████████▊                                                                                                                     | 5/40 [3:33:28<23:25:17, 2409.06s/trial, best loss: 2.3539324856216894]"
     ]
    },
    {
     "data": {
      "application/vnd.jupyter.widget-view+json": {
       "model_id": "da4b9b9edb924a219ade8b94bb511a18",
       "version_major": 2,
       "version_minor": 0
      },
      "text/plain": [
       "Epoch 5:   0%|                                                               | 0/38 [00:00<?, ?it/s]"
      ]
     },
     "metadata": {},
     "output_type": "display_data"
    },
    {
     "name": "stdout",
     "output_type": "stream",
     "text": [
      "Epoch 5 Training Loss: 2.5811                                                                                                                                                                                      \n",
      "Validation Loss:                                                                                                                                                                                                   \n",
      "2.631158409068242                                                                                                                                                                                                  \n",
      "Validation Accuracy:                                                                                                                                                                                               \n",
      "0.05670350792888035                                                                                                                                                                                                \n",
      "Hyperparameters:                                                                                                                                                                                                   \n",
      "{'batch_size': 336.0, 'dropout_rate': 0.011262236703907257, 'gamma': 1.8502244189510026, 'hidden_dim': 198.0, 'learning_rate': 1.9931564139003266e-05, 'num_layers': 2.0, 'weight_decay': 1.23670974317324e-08}    \n",
      "Loading existing valid indices from metadata                                                                                                                                                                       \n",
      "Found 10409 processed documents                                                                                                                                                                                    \n",
      " 15%|████████████████████                                                                                                                  | 6/40 [3:37:38<23:57:04, 2536.02s/trial, best loss: 2.3539324856216894]"
     ]
    },
    {
     "data": {
      "application/vnd.jupyter.widget-view+json": {
       "model_id": "c1f82c80dbba4271ac2bfb69efa7ec5a",
       "version_major": 2,
       "version_minor": 0
      },
      "text/plain": [
       "Epoch 1:   0%|                                                               | 0/25 [00:00<?, ?it/s]"
      ]
     },
     "metadata": {},
     "output_type": "display_data"
    },
    {
     "name": "stdout",
     "output_type": "stream",
     "text": [
      "Epoch 1 Training Loss: 2.7862                                                                                                                                                                                      \n",
      " 15%|████████████████████                                                                                                                  | 6/40 [3:44:39<23:57:04, 2536.02s/trial, best loss: 2.3539324856216894]"
     ]
    },
    {
     "data": {
      "application/vnd.jupyter.widget-view+json": {
       "model_id": "4f382ae4589245588ca697b50b4b4982",
       "version_major": 2,
       "version_minor": 0
      },
      "text/plain": [
       "Epoch 2:   0%|                                                               | 0/25 [00:00<?, ?it/s]"
      ]
     },
     "metadata": {},
     "output_type": "display_data"
    },
    {
     "name": "stdout",
     "output_type": "stream",
     "text": [
      "Epoch 2 Training Loss: 2.7858                                                                                                                                                                                      \n",
      " 15%|████████████████████                                                                                                                  | 6/40 [3:51:42<23:57:04, 2536.02s/trial, best loss: 2.3539324856216894]"
     ]
    },
    {
     "data": {
      "application/vnd.jupyter.widget-view+json": {
       "model_id": "9b1986c15b1e45deb10e5228d2ad2108",
       "version_major": 2,
       "version_minor": 0
      },
      "text/plain": [
       "Epoch 3:   0%|                                                               | 0/25 [00:00<?, ?it/s]"
      ]
     },
     "metadata": {},
     "output_type": "display_data"
    },
    {
     "name": "stdout",
     "output_type": "stream",
     "text": [
      "Epoch 3 Training Loss: 2.7867                                                                                                                                                                                      \n",
      " 15%|████████████████████                                                                                                                  | 6/40 [3:58:48<23:57:04, 2536.02s/trial, best loss: 2.3539324856216894]"
     ]
    },
    {
     "data": {
      "application/vnd.jupyter.widget-view+json": {
       "model_id": "73b77a6f1ec5442894926e6ff37fda49",
       "version_major": 2,
       "version_minor": 0
      },
      "text/plain": [
       "Epoch 4:   0%|                                                               | 0/25 [00:00<?, ?it/s]"
      ]
     },
     "metadata": {},
     "output_type": "display_data"
    },
    {
     "name": "stdout",
     "output_type": "stream",
     "text": [
      "Epoch 4 Training Loss: 2.7847                                                                                                                                                                                      \n",
      " 15%|████████████████████                                                                                                                  | 6/40 [4:05:54<23:57:04, 2536.02s/trial, best loss: 2.3539324856216894]"
     ]
    },
    {
     "data": {
      "application/vnd.jupyter.widget-view+json": {
       "model_id": "61fabd9761d545fc90bffd4f671a28bb",
       "version_major": 2,
       "version_minor": 0
      },
      "text/plain": [
       "Epoch 5:   0%|                                                               | 0/25 [00:00<?, ?it/s]"
      ]
     },
     "metadata": {},
     "output_type": "display_data"
    },
    {
     "name": "stdout",
     "output_type": "stream",
     "text": [
      "Epoch 5 Training Loss: 2.7887                                                                                                                                                                                      \n",
      "Validation Loss:                                                                                                                                                                                                   \n",
      "2.881798980214285                                                                                                                                                                                                  \n",
      "Validation Accuracy:                                                                                                                                                                                               \n",
      "0.035079288803459875                                                                                                                                                                                               \n",
      "Hyperparameters:                                                                                                                                                                                                   \n",
      "{'batch_size': 480.0, 'dropout_rate': 0.6555272808923895, 'gamma': 0.7352570227043909, 'hidden_dim': 134.0, 'learning_rate': 0.00015792164855573244, 'num_layers': 3.0, 'weight_decay': 0.0009113357549816041}     \n",
      "Loading existing valid indices from metadata                                                                                                                                                                       \n",
      "Found 10409 processed documents                                                                                                                                                                                    \n",
      " 18%|███████████████████████▍                                                                                                              | 7/40 [4:13:43<22:08:05, 2414.70s/trial, best loss: 2.3539324856216894]"
     ]
    },
    {
     "data": {
      "application/vnd.jupyter.widget-view+json": {
       "model_id": "bbbfd7bb73b14f0da7abc043cda7608b",
       "version_major": 2,
       "version_minor": 0
      },
      "text/plain": [
       "Epoch 1:   0%|                                                               | 0/18 [00:00<?, ?it/s]"
      ]
     },
     "metadata": {},
     "output_type": "display_data"
    },
    {
     "name": "stdout",
     "output_type": "stream",
     "text": [
      "Epoch 1 Training Loss: 3.0079                                                                                                                                                                                      \n",
      " 18%|███████████████████████▍                                                                                                              | 7/40 [4:18:42<22:08:05, 2414.70s/trial, best loss: 2.3539324856216894]"
     ]
    },
    {
     "data": {
      "application/vnd.jupyter.widget-view+json": {
       "model_id": "2a7ce1f73d554cab83198c982e230e4e",
       "version_major": 2,
       "version_minor": 0
      },
      "text/plain": [
       "Epoch 2:   0%|                                                               | 0/18 [00:00<?, ?it/s]"
      ]
     },
     "metadata": {},
     "output_type": "display_data"
    },
    {
     "name": "stdout",
     "output_type": "stream",
     "text": [
      "Epoch 2 Training Loss: 3.0164                                                                                                                                                                                      \n",
      " 18%|███████████████████████▍                                                                                                              | 7/40 [4:26:39<22:08:05, 2414.70s/trial, best loss: 2.3539324856216894]"
     ]
    },
    {
     "data": {
      "application/vnd.jupyter.widget-view+json": {
       "model_id": "a669251abace4a229789bffbe84ab0ab",
       "version_major": 2,
       "version_minor": 0
      },
      "text/plain": [
       "Epoch 3:   0%|                                                               | 0/18 [00:00<?, ?it/s]"
      ]
     },
     "metadata": {},
     "output_type": "display_data"
    },
    {
     "name": "stdout",
     "output_type": "stream",
     "text": [
      "Epoch 3 Training Loss: 2.9984                                                                                                                                                                                      \n",
      " 18%|███████████████████████▍                                                                                                              | 7/40 [4:37:36<22:08:05, 2414.70s/trial, best loss: 2.3539324856216894]"
     ]
    },
    {
     "data": {
      "application/vnd.jupyter.widget-view+json": {
       "model_id": "ecfc8f8213924c1497d3eec795ed62c1",
       "version_major": 2,
       "version_minor": 0
      },
      "text/plain": [
       "Epoch 4:   0%|                                                               | 0/18 [00:00<?, ?it/s]"
      ]
     },
     "metadata": {},
     "output_type": "display_data"
    },
    {
     "name": "stdout",
     "output_type": "stream",
     "text": [
      "Epoch 4 Training Loss: 2.9777                                                                                                                                                                                      \n",
      " 18%|███████████████████████▍                                                                                                              | 7/40 [4:50:46<22:08:05, 2414.70s/trial, best loss: 2.3539324856216894]"
     ]
    },
    {
     "data": {
      "application/vnd.jupyter.widget-view+json": {
       "model_id": "9335267609b74515b8d6149a1cbc0ceb",
       "version_major": 2,
       "version_minor": 0
      },
      "text/plain": [
       "Epoch 5:   0%|                                                               | 0/18 [00:00<?, ?it/s]"
      ]
     },
     "metadata": {},
     "output_type": "display_data"
    },
    {
     "name": "stdout",
     "output_type": "stream",
     "text": [
      "Epoch 5 Training Loss: 2.9810                                                                                                                                                                                      \n",
      "Validation Loss:                                                                                                                                                                                                   \n",
      "2.891816770955956                                                                                                                                                                                                  \n",
      "Validation Accuracy:                                                                                                                                                                                               \n",
      "0.0422873618452667                                                                                                                                                                                                 \n",
      "Hyperparameters:                                                                                                                                                                                                   \n",
      "{'batch_size': 176.0, 'dropout_rate': 0.062194273089272716, 'gamma': 3.9342285858217565, 'hidden_dim': 168.0, 'learning_rate': 3.430144140137551e-05, 'num_layers': 2.0, 'weight_decay': 1.0592763591698285e-07}   \n",
      "Loading existing valid indices from metadata                                                                                                                                                                       \n",
      "Found 10409 processed documents                                                                                                                                                                                    \n",
      " 20%|██████████████████████████▊                                                                                                           | 8/40 [5:04:13<23:12:21, 2610.67s/trial, best loss: 2.3539324856216894]"
     ]
    },
    {
     "data": {
      "application/vnd.jupyter.widget-view+json": {
       "model_id": "b97e16e524d04bd4ae0077a30e8f5552",
       "version_major": 2,
       "version_minor": 0
      },
      "text/plain": [
       "Epoch 1:   0%|                                                               | 0/48 [00:00<?, ?it/s]"
      ]
     },
     "metadata": {},
     "output_type": "display_data"
    },
    {
     "name": "stdout",
     "output_type": "stream",
     "text": [
      "Epoch 1 Training Loss: 2.5420                                                                                                                                                                                      \n",
      " 20%|██████████████████████████▊                                                                                                           | 8/40 [5:19:14<23:12:21, 2610.67s/trial, best loss: 2.3539324856216894]"
     ]
    },
    {
     "data": {
      "application/vnd.jupyter.widget-view+json": {
       "model_id": "cdd5410a21fc4cd7bf38ddc86a278e6a",
       "version_major": 2,
       "version_minor": 0
      },
      "text/plain": [
       "Epoch 2:   0%|                                                               | 0/48 [00:00<?, ?it/s]"
      ]
     },
     "metadata": {},
     "output_type": "display_data"
    },
    {
     "name": "stdout",
     "output_type": "stream",
     "text": [
      "Epoch 2 Training Loss: 2.5418                                                                                                                                                                                      \n",
      " 20%|██████████████████████████▊                                                                                                           | 8/40 [5:25:37<23:12:21, 2610.67s/trial, best loss: 2.3539324856216894]"
     ]
    },
    {
     "data": {
      "application/vnd.jupyter.widget-view+json": {
       "model_id": "26822747b5034f3d8433d6a8d7c6f82f",
       "version_major": 2,
       "version_minor": 0
      },
      "text/plain": [
       "Epoch 3:   0%|                                                               | 0/48 [00:00<?, ?it/s]"
      ]
     },
     "metadata": {},
     "output_type": "display_data"
    },
    {
     "name": "stdout",
     "output_type": "stream",
     "text": [
      "Epoch 3 Training Loss: 2.5265                                                                                                                                                                                      \n",
      " 20%|██████████████████████████▊                                                                                                           | 8/40 [5:33:34<23:12:21, 2610.67s/trial, best loss: 2.3539324856216894]"
     ]
    },
    {
     "data": {
      "application/vnd.jupyter.widget-view+json": {
       "model_id": "76ee850d2af94aaa8048abe98c6fa400",
       "version_major": 2,
       "version_minor": 0
      },
      "text/plain": [
       "Epoch 4:   0%|                                                               | 0/48 [00:00<?, ?it/s]"
      ]
     },
     "metadata": {},
     "output_type": "display_data"
    },
    {
     "name": "stdout",
     "output_type": "stream",
     "text": [
      "Epoch 4 Training Loss: 2.5266                                                                                                                                                                                      \n",
      " 20%|██████████████████████████▊                                                                                                           | 8/40 [5:44:35<23:12:21, 2610.67s/trial, best loss: 2.3539324856216894]"
     ]
    },
    {
     "data": {
      "application/vnd.jupyter.widget-view+json": {
       "model_id": "e0dcc4fe245e4e029c725070279baa89",
       "version_major": 2,
       "version_minor": 0
      },
      "text/plain": [
       "Epoch 5:   0%|                                                               | 0/48 [00:00<?, ?it/s]"
      ]
     },
     "metadata": {},
     "output_type": "display_data"
    },
    {
     "name": "stdout",
     "output_type": "stream",
     "text": [
      "Epoch 5 Training Loss: 2.5199                                                                                                                                                                                      \n",
      "Validation Loss:                                                                                                                                                                                                   \n",
      "2.360807617142589                                                                                                                                                                                                  \n",
      "Validation Accuracy:                                                                                                                                                                                               \n",
      "0.03652090341182124                                                                                                                                                                                                \n",
      "Hyperparameters:                                                                                                                                                                                                   \n",
      "{'batch_size': 384.0, 'dropout_rate': 0.06993833526935919, 'gamma': 1.1410179298355914, 'hidden_dim': 230.0, 'learning_rate': 0.0007148324584880792, 'num_layers': 2.0, 'weight_decay': 6.20609941041626e-08}      \n",
      "Loading existing valid indices from metadata                                                                                                                                                                       \n",
      "Found 10409 processed documents                                                                                                                                                                                    \n",
      " 22%|██████████████████████████████▏                                                                                                       | 9/40 [5:56:16<23:51:24, 2770.47s/trial, best loss: 2.3539324856216894]"
     ]
    },
    {
     "data": {
      "application/vnd.jupyter.widget-view+json": {
       "model_id": "564c8bc4e6544bf7ba6bba1207da37fb",
       "version_major": 2,
       "version_minor": 0
      },
      "text/plain": [
       "Epoch 1:   0%|                                                               | 0/22 [00:00<?, ?it/s]"
      ]
     },
     "metadata": {},
     "output_type": "display_data"
    },
    {
     "name": "stdout",
     "output_type": "stream",
     "text": [
      "Epoch 1 Training Loss: 2.8887                                                                                                                                                                                      \n",
      " 22%|██████████████████████████████▏                                                                                                       | 9/40 [6:06:55<23:51:24, 2770.47s/trial, best loss: 2.3539324856216894]"
     ]
    },
    {
     "data": {
      "application/vnd.jupyter.widget-view+json": {
       "model_id": "d6e7a6bbd9cc4ceeb5854a586b4cd437",
       "version_major": 2,
       "version_minor": 0
      },
      "text/plain": [
       "Epoch 2:   0%|                                                               | 0/22 [00:00<?, ?it/s]"
      ]
     },
     "metadata": {},
     "output_type": "display_data"
    },
    {
     "name": "stdout",
     "output_type": "stream",
     "text": [
      "Epoch 2 Training Loss: 2.8597                                                                                                                                                                                      \n",
      " 22%|██████████████████████████████▏                                                                                                       | 9/40 [6:22:33<23:51:24, 2770.47s/trial, best loss: 2.3539324856216894]"
     ]
    },
    {
     "data": {
      "application/vnd.jupyter.widget-view+json": {
       "model_id": "3db333b23ee0439788135a7616bc99f7",
       "version_major": 2,
       "version_minor": 0
      },
      "text/plain": [
       "Epoch 3:   0%|                                                               | 0/22 [00:00<?, ?it/s]"
      ]
     },
     "metadata": {},
     "output_type": "display_data"
    },
    {
     "name": "stdout",
     "output_type": "stream",
     "text": [
      "Epoch 3 Training Loss: 2.8499                                                                                                                                                                                      \n",
      " 22%|██████████████████████████████▏                                                                                                       | 9/40 [6:32:07<23:51:24, 2770.47s/trial, best loss: 2.3539324856216894]"
     ]
    },
    {
     "data": {
      "application/vnd.jupyter.widget-view+json": {
       "model_id": "708ccfe171ba44d39bb74638ad94d920",
       "version_major": 2,
       "version_minor": 0
      },
      "text/plain": [
       "Epoch 4:   0%|                                                               | 0/22 [00:00<?, ?it/s]"
      ]
     },
     "metadata": {},
     "output_type": "display_data"
    },
    {
     "name": "stdout",
     "output_type": "stream",
     "text": [
      "Epoch 4 Training Loss: 2.8036                                                                                                                                                                                      \n",
      " 22%|██████████████████████████████▏                                                                                                       | 9/40 [6:41:06<23:51:24, 2770.47s/trial, best loss: 2.3539324856216894]"
     ]
    },
    {
     "data": {
      "application/vnd.jupyter.widget-view+json": {
       "model_id": "5a9e26467671493fa7e9c9810ab28f08",
       "version_major": 2,
       "version_minor": 0
      },
      "text/plain": [
       "Epoch 5:   0%|                                                               | 0/22 [00:00<?, ?it/s]"
      ]
     },
     "metadata": {},
     "output_type": "display_data"
    },
    {
     "name": "stdout",
     "output_type": "stream",
     "text": [
      "Epoch 5 Training Loss: 2.7618                                                                                                                                                                                      \n",
      "Validation Loss:                                                                                                                                                                                                   \n",
      "2.923387174592575                                                                                                                                                                                                  \n",
      "Validation Accuracy:                                                                                                                                                                                               \n",
      "0.10379625180201826                                                                                                                                                                                                \n",
      "Hyperparameters:                                                                                                                                                                                                   \n",
      "{'batch_size': 128.0, 'dropout_rate': 0.3808699795831522, 'gamma': 4.473790670705561, 'hidden_dim': 96.0, 'learning_rate': 6.970106204650194e-05, 'num_layers': 2.0, 'weight_decay': 0.00028118314154765734}       \n",
      "Loading existing valid indices from metadata                                                                                                                                                                       \n",
      "Found 10409 processed documents                                                                                                                                                                                    \n",
      " 25%|█████████████████████████████████▎                                                                                                   | 10/40 [6:50:33<24:20:24, 2920.81s/trial, best loss: 2.3539324856216894]"
     ]
    },
    {
     "data": {
      "application/vnd.jupyter.widget-view+json": {
       "model_id": "cd99d226ffa14173951abb550d46d39f",
       "version_major": 2,
       "version_minor": 0
      },
      "text/plain": [
       "Epoch 1:   0%|                                                               | 0/66 [00:00<?, ?it/s]"
      ]
     },
     "metadata": {},
     "output_type": "display_data"
    },
    {
     "name": "stdout",
     "output_type": "stream",
     "text": [
      "Epoch 1 Training Loss: 2.5366                                                                                                                                                                                      \n",
      " 25%|█████████████████████████████████▎                                                                                                   | 10/40 [6:55:30<24:20:24, 2920.81s/trial, best loss: 2.3539324856216894]"
     ]
    },
    {
     "data": {
      "application/vnd.jupyter.widget-view+json": {
       "model_id": "02e4bd10f9cd40c299567983dd8c6aef",
       "version_major": 2,
       "version_minor": 0
      },
      "text/plain": [
       "Epoch 2:   0%|                                                               | 0/66 [00:00<?, ?it/s]"
      ]
     },
     "metadata": {},
     "output_type": "display_data"
    },
    {
     "name": "stdout",
     "output_type": "stream",
     "text": [
      "Epoch 2 Training Loss: 2.5195                                                                                                                                                                                      \n",
      " 25%|█████████████████████████████████▎                                                                                                   | 10/40 [7:00:19<24:20:24, 2920.81s/trial, best loss: 2.3539324856216894]"
     ]
    },
    {
     "data": {
      "application/vnd.jupyter.widget-view+json": {
       "model_id": "9e0353c2071949f68b3ea0701e7eaba8",
       "version_major": 2,
       "version_minor": 0
      },
      "text/plain": [
       "Epoch 3:   0%|                                                               | 0/66 [00:00<?, ?it/s]"
      ]
     },
     "metadata": {},
     "output_type": "display_data"
    },
    {
     "name": "stdout",
     "output_type": "stream",
     "text": [
      "Epoch 3 Training Loss: 2.5340                                                                                                                                                                                      \n",
      " 25%|█████████████████████████████████▎                                                                                                   | 10/40 [7:05:12<24:20:24, 2920.81s/trial, best loss: 2.3539324856216894]"
     ]
    },
    {
     "data": {
      "application/vnd.jupyter.widget-view+json": {
       "model_id": "487754e348594a07ad475b39461e1e06",
       "version_major": 2,
       "version_minor": 0
      },
      "text/plain": [
       "Epoch 4:   0%|                                                               | 0/66 [00:00<?, ?it/s]"
      ]
     },
     "metadata": {},
     "output_type": "display_data"
    },
    {
     "name": "stdout",
     "output_type": "stream",
     "text": [
      "Epoch 4 Training Loss: 2.5092                                                                                                                                                                                      \n",
      " 25%|█████████████████████████████████▎                                                                                                   | 10/40 [7:08:52<24:20:24, 2920.81s/trial, best loss: 2.3539324856216894]"
     ]
    },
    {
     "data": {
      "application/vnd.jupyter.widget-view+json": {
       "model_id": "d6461518857543e796a603875b71190c",
       "version_major": 2,
       "version_minor": 0
      },
      "text/plain": [
       "Epoch 5:   0%|                                                               | 0/66 [00:00<?, ?it/s]"
      ]
     },
     "metadata": {},
     "output_type": "display_data"
    },
    {
     "name": "stdout",
     "output_type": "stream",
     "text": [
      "Epoch 5 Training Loss: 2.5076                                                                                                                                                                                      \n",
      "Validation Loss:                                                                                                                                                                                                   \n",
      "2.489916045524821                                                                                                                                                                                                  \n",
      "Validation Accuracy:                                                                                                                                                                                               \n",
      "0.005285920230658337                                                                                                                                                                                               \n",
      "Hyperparameters:                                                                                                                                                                                                   \n",
      "{'batch_size': 256.0, 'dropout_rate': 0.07141092406739558, 'gamma': 3.6943336719784496, 'hidden_dim': 248.0, 'learning_rate': 0.00019321878640680628, 'num_layers': 2.0, 'weight_decay': 7.517347196706883e-05}    \n",
      "Loading existing valid indices from metadata                                                                                                                                                                       \n",
      "Found 10409 processed documents                                                                                                                                                                                    \n",
      " 28%|████████████████████████████████████▌                                                                                                | 11/40 [7:13:08<19:40:04, 2441.52s/trial, best loss: 2.3539324856216894]"
     ]
    },
    {
     "data": {
      "application/vnd.jupyter.widget-view+json": {
       "model_id": "c3a9569413c64460ac11c2b66dad4c76",
       "version_major": 2,
       "version_minor": 0
      },
      "text/plain": [
       "Epoch 1:   0%|                                                               | 0/33 [00:00<?, ?it/s]"
      ]
     },
     "metadata": {},
     "output_type": "display_data"
    },
    {
     "name": "stdout",
     "output_type": "stream",
     "text": [
      "Epoch 1 Training Loss: 2.5915                                                                                                                                                                                      \n",
      " 28%|████████████████████████████████████▌                                                                                                | 11/40 [7:23:12<19:40:04, 2441.52s/trial, best loss: 2.3539324856216894]"
     ]
    },
    {
     "data": {
      "application/vnd.jupyter.widget-view+json": {
       "model_id": "f7797c0f90df4c769e4dbff40d833f90",
       "version_major": 2,
       "version_minor": 0
      },
      "text/plain": [
       "Epoch 2:   0%|                                                               | 0/33 [00:00<?, ?it/s]"
      ]
     },
     "metadata": {},
     "output_type": "display_data"
    },
    {
     "name": "stdout",
     "output_type": "stream",
     "text": [
      "Epoch 2 Training Loss: 2.5725                                                                                                                                                                                      \n",
      " 28%|████████████████████████████████████▌                                                                                                | 11/40 [7:33:14<19:40:04, 2441.52s/trial, best loss: 2.3539324856216894]"
     ]
    },
    {
     "data": {
      "application/vnd.jupyter.widget-view+json": {
       "model_id": "5dd885adb0344f478ce09cef1330ab31",
       "version_major": 2,
       "version_minor": 0
      },
      "text/plain": [
       "Epoch 3:   0%|                                                               | 0/33 [00:00<?, ?it/s]"
      ]
     },
     "metadata": {},
     "output_type": "display_data"
    },
    {
     "name": "stdout",
     "output_type": "stream",
     "text": [
      "Epoch 3 Training Loss: 2.5477                                                                                                                                                                                      \n",
      " 28%|████████████████████████████████████▌                                                                                                | 11/40 [7:44:10<19:40:04, 2441.52s/trial, best loss: 2.3539324856216894]"
     ]
    },
    {
     "data": {
      "application/vnd.jupyter.widget-view+json": {
       "model_id": "15895921c1f34b97a9942d59129a1a85",
       "version_major": 2,
       "version_minor": 0
      },
      "text/plain": [
       "Epoch 4:   0%|                                                               | 0/33 [00:00<?, ?it/s]"
      ]
     },
     "metadata": {},
     "output_type": "display_data"
    },
    {
     "name": "stdout",
     "output_type": "stream",
     "text": [
      "Epoch 4 Training Loss: 2.5560                                                                                                                                                                                      \n",
      " 28%|████████████████████████████████████▌                                                                                                | 11/40 [7:53:53<19:40:04, 2441.52s/trial, best loss: 2.3539324856216894]"
     ]
    },
    {
     "data": {
      "application/vnd.jupyter.widget-view+json": {
       "model_id": "0a621f84345945d2822f1d8130aa5328",
       "version_major": 2,
       "version_minor": 0
      },
      "text/plain": [
       "Epoch 5:   0%|                                                               | 0/33 [00:00<?, ?it/s]"
      ]
     },
     "metadata": {},
     "output_type": "display_data"
    },
    {
     "name": "stdout",
     "output_type": "stream",
     "text": [
      "Epoch 5 Training Loss: 2.5423                                                                                                                                                                                      \n",
      "Validation Loss:                                                                                                                                                                                                   \n",
      "2.47734780737782                                                                                                                                                                                                   \n",
      "Validation Accuracy:                                                                                                                                                                                               \n",
      "0.06823642479577126                                                                                                                                                                                                \n",
      "Hyperparameters:                                                                                                                                                                                                   \n",
      "{'batch_size': 368.0, 'dropout_rate': 0.1085550706165796, 'gamma': 2.3505867657194965, 'hidden_dim': 131.0, 'learning_rate': 7.058988370895077e-05, 'num_layers': 1.0, 'weight_decay': 1.0350351597678988e-07}     \n",
      "Loading existing valid indices from metadata                                                                                                                                                                       \n",
      "Found 10409 processed documents                                                                                                                                                                                    \n",
      " 30%|███████████████████████████████████████▉                                                                                             | 12/40 [8:04:16<20:28:31, 2632.56s/trial, best loss: 2.3539324856216894]"
     ]
    },
    {
     "data": {
      "application/vnd.jupyter.widget-view+json": {
       "model_id": "144a4912ffb040e2ab3778fcabfef947",
       "version_major": 2,
       "version_minor": 0
      },
      "text/plain": [
       "Epoch 1:   0%|                                                               | 0/23 [00:00<?, ?it/s]"
      ]
     },
     "metadata": {},
     "output_type": "display_data"
    },
    {
     "name": "stdout",
     "output_type": "stream",
     "text": [
      "Epoch 1 Training Loss: 2.7298                                                                                                                                                                                      \n",
      " 30%|███████████████████████████████████████▉                                                                                             | 12/40 [8:09:20<20:28:31, 2632.56s/trial, best loss: 2.3539324856216894]"
     ]
    },
    {
     "data": {
      "application/vnd.jupyter.widget-view+json": {
       "model_id": "927fa74da9194994bbc276962a5f65c9",
       "version_major": 2,
       "version_minor": 0
      },
      "text/plain": [
       "Epoch 2:   0%|                                                               | 0/23 [00:00<?, ?it/s]"
      ]
     },
     "metadata": {},
     "output_type": "display_data"
    },
    {
     "name": "stdout",
     "output_type": "stream",
     "text": [
      "Epoch 2 Training Loss: 2.7273                                                                                                                                                                                      \n",
      " 30%|███████████████████████████████████████▉                                                                                             | 12/40 [8:14:08<20:28:31, 2632.56s/trial, best loss: 2.3539324856216894]"
     ]
    },
    {
     "data": {
      "application/vnd.jupyter.widget-view+json": {
       "model_id": "f47aa2c149dc4efa85524cf26c73ae39",
       "version_major": 2,
       "version_minor": 0
      },
      "text/plain": [
       "Epoch 3:   0%|                                                               | 0/23 [00:00<?, ?it/s]"
      ]
     },
     "metadata": {},
     "output_type": "display_data"
    },
    {
     "name": "stdout",
     "output_type": "stream",
     "text": [
      "Epoch 3 Training Loss: 2.7275                                                                                                                                                                                      \n",
      " 30%|███████████████████████████████████████▉                                                                                             | 12/40 [8:18:55<20:28:31, 2632.56s/trial, best loss: 2.3539324856216894]"
     ]
    },
    {
     "data": {
      "application/vnd.jupyter.widget-view+json": {
       "model_id": "86b4013cac1442a5a72ebc49c19cf373",
       "version_major": 2,
       "version_minor": 0
      },
      "text/plain": [
       "Epoch 4:   0%|                                                               | 0/23 [00:00<?, ?it/s]"
      ]
     },
     "metadata": {},
     "output_type": "display_data"
    },
    {
     "name": "stdout",
     "output_type": "stream",
     "text": [
      "Epoch 4 Training Loss: 2.7170                                                                                                                                                                                      \n",
      " 30%|███████████████████████████████████████▉                                                                                             | 12/40 [8:23:50<20:28:31, 2632.56s/trial, best loss: 2.3539324856216894]"
     ]
    },
    {
     "data": {
      "application/vnd.jupyter.widget-view+json": {
       "model_id": "f277d67c1d644875a0f536a0937722c6",
       "version_major": 2,
       "version_minor": 0
      },
      "text/plain": [
       "Epoch 5:   0%|                                                               | 0/23 [00:00<?, ?it/s]"
      ]
     },
     "metadata": {},
     "output_type": "display_data"
    },
    {
     "name": "stdout",
     "output_type": "stream",
     "text": [
      "Epoch 5 Training Loss: 2.7172                                                                                                                                                                                      \n",
      "Validation Loss:                                                                                                                                                                                                   \n",
      "2.5277098472848185                                                                                                                                                                                                 \n",
      "Validation Accuracy:                                                                                                                                                                                               \n",
      "0.03748197981739548                                                                                                                                                                                                \n",
      "Hyperparameters:                                                                                                                                                                                                   \n",
      "{'batch_size': 384.0, 'dropout_rate': 0.23921486080861568, 'gamma': 3.364574427711087, 'hidden_dim': 190.0, 'learning_rate': 2.2660136533925076e-05, 'num_layers': 3.0, 'weight_decay': 1.2254767200239265e-08}    \n",
      "Loading existing valid indices from metadata                                                                                                                                                                       \n",
      "Found 10409 processed documents                                                                                                                                                                                    \n",
      " 32%|███████████████████████████████████████████▏                                                                                         | 13/40 [8:29:19<17:10:34, 2290.18s/trial, best loss: 2.3539324856216894]"
     ]
    },
    {
     "data": {
      "application/vnd.jupyter.widget-view+json": {
       "model_id": "caac38fab4ec4d769f9130020a2097df",
       "version_major": 2,
       "version_minor": 0
      },
      "text/plain": [
       "Epoch 1:   0%|                                                               | 0/22 [00:00<?, ?it/s]"
      ]
     },
     "metadata": {},
     "output_type": "display_data"
    },
    {
     "name": "stdout",
     "output_type": "stream",
     "text": [
      "Epoch 1 Training Loss: 2.6152                                                                                                                                                                                      \n",
      " 32%|███████████████████████████████████████████▏                                                                                         | 13/40 [8:36:14<17:10:34, 2290.18s/trial, best loss: 2.3539324856216894]"
     ]
    },
    {
     "data": {
      "application/vnd.jupyter.widget-view+json": {
       "model_id": "9fcac87e71c944c1bf672eced448316a",
       "version_major": 2,
       "version_minor": 0
      },
      "text/plain": [
       "Epoch 2:   0%|                                                               | 0/22 [00:00<?, ?it/s]"
      ]
     },
     "metadata": {},
     "output_type": "display_data"
    },
    {
     "name": "stdout",
     "output_type": "stream",
     "text": [
      "Epoch 2 Training Loss: 2.6146                                                                                                                                                                                      \n",
      " 32%|███████████████████████████████████████████▏                                                                                         | 13/40 [8:43:16<17:10:34, 2290.18s/trial, best loss: 2.3539324856216894]"
     ]
    },
    {
     "data": {
      "application/vnd.jupyter.widget-view+json": {
       "model_id": "8345b79a816a4c95a4a468826a8253fd",
       "version_major": 2,
       "version_minor": 0
      },
      "text/plain": [
       "Epoch 3:   0%|                                                               | 0/22 [00:00<?, ?it/s]"
      ]
     },
     "metadata": {},
     "output_type": "display_data"
    },
    {
     "name": "stdout",
     "output_type": "stream",
     "text": [
      "Epoch 3 Training Loss: 2.6142                                                                                                                                                                                      \n",
      " 32%|███████████████████████████████████████████▏                                                                                         | 13/40 [8:49:57<17:10:34, 2290.18s/trial, best loss: 2.3539324856216894]"
     ]
    },
    {
     "data": {
      "application/vnd.jupyter.widget-view+json": {
       "model_id": "7d6d2caba13e462c9907c59fc58226f4",
       "version_major": 2,
       "version_minor": 0
      },
      "text/plain": [
       "Epoch 4:   0%|                                                               | 0/22 [00:00<?, ?it/s]"
      ]
     },
     "metadata": {},
     "output_type": "display_data"
    },
    {
     "name": "stdout",
     "output_type": "stream",
     "text": [
      "Epoch 4 Training Loss: 2.6135                                                                                                                                                                                      \n",
      " 32%|███████████████████████████████████████████▏                                                                                         | 13/40 [8:56:57<17:10:34, 2290.18s/trial, best loss: 2.3539324856216894]"
     ]
    },
    {
     "data": {
      "application/vnd.jupyter.widget-view+json": {
       "model_id": "fe8068b233cc424b87deff1b0a4ad492",
       "version_major": 2,
       "version_minor": 0
      },
      "text/plain": [
       "Epoch 5:   0%|                                                               | 0/22 [00:00<?, ?it/s]"
      ]
     },
     "metadata": {},
     "output_type": "display_data"
    },
    {
     "name": "stdout",
     "output_type": "stream",
     "text": [
      "Epoch 5 Training Loss: 2.6192                                                                                                                                                                                      \n",
      "Validation Loss:                                                                                                                                                                                                   \n",
      "2.7894489269082445                                                                                                                                                                                                 \n",
      "Validation Accuracy:                                                                                                                                                                                               \n",
      "0.05670350792888035                                                                                                                                                                                                \n",
      "Hyperparameters:                                                                                                                                                                                                   \n",
      "{'batch_size': 64.0, 'dropout_rate': 0.09112305622145557, 'gamma': 3.162210319224841, 'hidden_dim': 112.0, 'learning_rate': 0.0009028195412158178, 'num_layers': 3.0, 'weight_decay': 2.6022040491282017e-08}      \n",
      "Loading existing valid indices from metadata                                                                                                                                                                       \n",
      "Found 10409 processed documents                                                                                                                                                                                    \n",
      " 35%|██████████████████████████████████████████████▌                                                                                      | 14/40 [9:04:13<16:06:41, 2230.82s/trial, best loss: 2.3539324856216894]"
     ]
    },
    {
     "data": {
      "application/vnd.jupyter.widget-view+json": {
       "model_id": "9aa353d45f0a432089e849150714e367",
       "version_major": 2,
       "version_minor": 0
      },
      "text/plain": [
       "Epoch 1:   0%|                                                              | 0/131 [00:00<?, ?it/s]"
      ]
     },
     "metadata": {},
     "output_type": "display_data"
    },
    {
     "name": "stdout",
     "output_type": "stream",
     "text": [
      "Epoch 1 Training Loss: 2.6187                                                                                                                                                                                      \n",
      " 35%|██████████████████████████████████████████████▌                                                                                      | 14/40 [9:08:34<16:06:41, 2230.82s/trial, best loss: 2.3539324856216894]"
     ]
    },
    {
     "data": {
      "application/vnd.jupyter.widget-view+json": {
       "model_id": "f0313b0288d54f16a96950f2de855a2d",
       "version_major": 2,
       "version_minor": 0
      },
      "text/plain": [
       "Epoch 2:   0%|                                                              | 0/131 [00:00<?, ?it/s]"
      ]
     },
     "metadata": {},
     "output_type": "display_data"
    },
    {
     "name": "stdout",
     "output_type": "stream",
     "text": [
      "Epoch 2 Training Loss: 2.5435                                                                                                                                                                                      \n",
      " 35%|██████████████████████████████████████████████▌                                                                                      | 14/40 [9:12:45<16:06:41, 2230.82s/trial, best loss: 2.3539324856216894]"
     ]
    },
    {
     "data": {
      "application/vnd.jupyter.widget-view+json": {
       "model_id": "b45885ccd32e457b8dfcef7799515687",
       "version_major": 2,
       "version_minor": 0
      },
      "text/plain": [
       "Epoch 3:   0%|                                                              | 0/131 [00:00<?, ?it/s]"
      ]
     },
     "metadata": {},
     "output_type": "display_data"
    },
    {
     "name": "stdout",
     "output_type": "stream",
     "text": [
      "Epoch 3 Training Loss: 2.5256                                                                                                                                                                                      \n",
      " 35%|██████████████████████████████████████████████▌                                                                                      | 14/40 [9:16:43<16:06:41, 2230.82s/trial, best loss: 2.3539324856216894]"
     ]
    },
    {
     "data": {
      "application/vnd.jupyter.widget-view+json": {
       "model_id": "13b5ba76fbc84d5eacbac54e6c16e45d",
       "version_major": 2,
       "version_minor": 0
      },
      "text/plain": [
       "Epoch 4:   0%|                                                              | 0/131 [00:00<?, ?it/s]"
      ]
     },
     "metadata": {},
     "output_type": "display_data"
    },
    {
     "name": "stdout",
     "output_type": "stream",
     "text": [
      "Epoch 4 Training Loss: 2.4738                                                                                                                                                                                      \n",
      " 35%|██████████████████████████████████████████████▌                                                                                      | 14/40 [9:20:30<16:06:41, 2230.82s/trial, best loss: 2.3539324856216894]"
     ]
    },
    {
     "data": {
      "application/vnd.jupyter.widget-view+json": {
       "model_id": "7753bc5cf3234e929afaf7072c7fbd62",
       "version_major": 2,
       "version_minor": 0
      },
      "text/plain": [
       "Epoch 5:   0%|                                                              | 0/131 [00:00<?, ?it/s]"
      ]
     },
     "metadata": {},
     "output_type": "display_data"
    },
    {
     "name": "stdout",
     "output_type": "stream",
     "text": [
      "Epoch 5 Training Loss: 2.4034                                                                                                                                                                                      \n",
      "Validation Loss:                                                                                                                                                                                                   \n",
      "2.296322183961882                                                                                                                                                                                                  \n",
      "Validation Accuracy:                                                                                                                                                                                               \n",
      "0.0802498798654493                                                                                                                                                                                                 \n",
      "Hyperparameters:                                                                                                                                                                                                   \n",
      "{'batch_size': 512.0, 'dropout_rate': 0.2680983909739715, 'gamma': 1.7801458625195534, 'hidden_dim': 119.0, 'learning_rate': 1.7301912534952413e-05, 'num_layers': 1.0, 'weight_decay': 1.3718894134555567e-06}    \n",
      "Loading existing valid indices from metadata                                                                                                                                                                       \n",
      "Found 10409 processed documents                                                                                                                                                                                    \n",
      " 38%|██████████████████████████████████████████████████▎                                                                                   | 15/40 [9:25:14<13:27:45, 1938.61s/trial, best loss: 2.296322183961882]"
     ]
    },
    {
     "data": {
      "application/vnd.jupyter.widget-view+json": {
       "model_id": "e575a1d391b64e918e287218507e85d6",
       "version_major": 2,
       "version_minor": 0
      },
      "text/plain": [
       "Epoch 1:   0%|                                                               | 0/17 [00:00<?, ?it/s]"
      ]
     },
     "metadata": {},
     "output_type": "display_data"
    },
    {
     "name": "stdout",
     "output_type": "stream",
     "text": [
      "Epoch 1 Training Loss: 2.7955                                                                                                                                                                                      \n",
      " 38%|██████████████████████████████████████████████████▎                                                                                   | 15/40 [9:30:04<13:27:45, 1938.61s/trial, best loss: 2.296322183961882]"
     ]
    },
    {
     "data": {
      "application/vnd.jupyter.widget-view+json": {
       "model_id": "8231d51ab4d4498ea9d330a599dc8bd1",
       "version_major": 2,
       "version_minor": 0
      },
      "text/plain": [
       "Epoch 2:   0%|                                                               | 0/17 [00:00<?, ?it/s]"
      ]
     },
     "metadata": {},
     "output_type": "display_data"
    },
    {
     "name": "stdout",
     "output_type": "stream",
     "text": [
      "Epoch 2 Training Loss: 2.8166                                                                                                                                                                                      \n",
      " 38%|██████████████████████████████████████████████████▎                                                                                   | 15/40 [9:34:50<13:27:45, 1938.61s/trial, best loss: 2.296322183961882]"
     ]
    },
    {
     "data": {
      "application/vnd.jupyter.widget-view+json": {
       "model_id": "8fa313f94b8f489fb72c21ad91ab5140",
       "version_major": 2,
       "version_minor": 0
      },
      "text/plain": [
       "Epoch 3:   0%|                                                               | 0/17 [00:00<?, ?it/s]"
      ]
     },
     "metadata": {},
     "output_type": "display_data"
    },
    {
     "name": "stdout",
     "output_type": "stream",
     "text": [
      "Epoch 3 Training Loss: 2.8167                                                                                                                                                                                      \n",
      " 38%|██████████████████████████████████████████████████▎                                                                                   | 15/40 [9:39:58<13:27:45, 1938.61s/trial, best loss: 2.296322183961882]"
     ]
    },
    {
     "data": {
      "application/vnd.jupyter.widget-view+json": {
       "model_id": "ce61fd63b5bd418fb6d0e1336c4235b5",
       "version_major": 2,
       "version_minor": 0
      },
      "text/plain": [
       "Epoch 4:   0%|                                                               | 0/17 [00:00<?, ?it/s]"
      ]
     },
     "metadata": {},
     "output_type": "display_data"
    },
    {
     "name": "stdout",
     "output_type": "stream",
     "text": [
      "Epoch 4 Training Loss: 2.8289                                                                                                                                                                                      \n",
      " 38%|██████████████████████████████████████████████████▎                                                                                   | 15/40 [9:44:37<13:27:45, 1938.61s/trial, best loss: 2.296322183961882]"
     ]
    },
    {
     "data": {
      "application/vnd.jupyter.widget-view+json": {
       "model_id": "21e224cfd0a349108026861b3bd3cb98",
       "version_major": 2,
       "version_minor": 0
      },
      "text/plain": [
       "Epoch 5:   0%|                                                               | 0/17 [00:00<?, ?it/s]"
      ]
     },
     "metadata": {},
     "output_type": "display_data"
    },
    {
     "name": "stdout",
     "output_type": "stream",
     "text": [
      "Epoch 5 Training Loss: 2.8075                                                                                                                                                                                      \n",
      "Validation Loss:                                                                                                                                                                                                   \n",
      "2.812467719888756                                                                                                                                                                                                  \n",
      "Validation Accuracy:                                                                                                                                                                                               \n",
      "0.053339740509370494                                                                                                                                                                                               \n",
      "Hyperparameters:                                                                                                                                                                                                   \n",
      "{'batch_size': 400.0, 'dropout_rate': 0.42285560302948333, 'gamma': 1.5873814136566122, 'hidden_dim': 199.0, 'learning_rate': 0.00024458795923809065, 'num_layers': 1.0, 'weight_decay': 1.0700082897084778e-07}   \n",
      "Loading existing valid indices from metadata                                                                                                                                                                       \n",
      "Found 10409 processed documents                                                                                                                                                                                    \n",
      " 40%|█████████████████████████████████████████████████████▌                                                                                | 16/40 [9:49:55<12:00:21, 1800.89s/trial, best loss: 2.296322183961882]"
     ]
    },
    {
     "data": {
      "application/vnd.jupyter.widget-view+json": {
       "model_id": "6cf5786744b9463eb9d92a98bb50808f",
       "version_major": 2,
       "version_minor": 0
      },
      "text/plain": [
       "Epoch 1:   0%|                                                               | 0/21 [00:00<?, ?it/s]"
      ]
     },
     "metadata": {},
     "output_type": "display_data"
    },
    {
     "name": "stdout",
     "output_type": "stream",
     "text": [
      "Epoch 1 Training Loss: 2.8325                                                                                                                                                                                      \n",
      " 40%|█████████████████████████████████████████████████████▌                                                                                | 16/40 [9:57:01<12:00:21, 1800.89s/trial, best loss: 2.296322183961882]"
     ]
    },
    {
     "data": {
      "application/vnd.jupyter.widget-view+json": {
       "model_id": "ee267406365a49aeaf5b7046708a26c2",
       "version_major": 2,
       "version_minor": 0
      },
      "text/plain": [
       "Epoch 2:   0%|                                                               | 0/21 [00:00<?, ?it/s]"
      ]
     },
     "metadata": {},
     "output_type": "display_data"
    },
    {
     "name": "stdout",
     "output_type": "stream",
     "text": [
      "Epoch 2 Training Loss: 2.8248                                                                                                                                                                                      \n",
      " 40%|█████████████████████████████████████████████████████▏                                                                               | 16/40 [10:03:37<12:00:21, 1800.89s/trial, best loss: 2.296322183961882]"
     ]
    },
    {
     "data": {
      "application/vnd.jupyter.widget-view+json": {
       "model_id": "cbb91a6622c34333b346dc76d29996a6",
       "version_major": 2,
       "version_minor": 0
      },
      "text/plain": [
       "Epoch 3:   0%|                                                               | 0/21 [00:00<?, ?it/s]"
      ]
     },
     "metadata": {},
     "output_type": "display_data"
    },
    {
     "name": "stdout",
     "output_type": "stream",
     "text": [
      "Epoch 3 Training Loss: 2.8294                                                                                                                                                                                      \n",
      " 40%|█████████████████████████████████████████████████████▏                                                                               | 16/40 [10:19:32<12:00:21, 1800.89s/trial, best loss: 2.296322183961882]"
     ]
    },
    {
     "data": {
      "application/vnd.jupyter.widget-view+json": {
       "model_id": "0663285bbe81419b88847c752229ca80",
       "version_major": 2,
       "version_minor": 0
      },
      "text/plain": [
       "Epoch 4:   0%|                                                               | 0/21 [00:00<?, ?it/s]"
      ]
     },
     "metadata": {},
     "output_type": "display_data"
    },
    {
     "name": "stdout",
     "output_type": "stream",
     "text": [
      "Epoch 4 Training Loss: 2.8273                                                                                                                                                                                      \n",
      " 40%|█████████████████████████████████████████████████████▏                                                                               | 16/40 [10:26:14<12:00:21, 1800.89s/trial, best loss: 2.296322183961882]"
     ]
    },
    {
     "data": {
      "application/vnd.jupyter.widget-view+json": {
       "model_id": "741051c81fb24ea6850795a8ed52f285",
       "version_major": 2,
       "version_minor": 0
      },
      "text/plain": [
       "Epoch 5:   0%|                                                               | 0/21 [00:00<?, ?it/s]"
      ]
     },
     "metadata": {},
     "output_type": "display_data"
    },
    {
     "name": "stdout",
     "output_type": "stream",
     "text": [
      "Epoch 5 Training Loss: 2.8262                                                                                                                                                                                      \n",
      "Validation Loss:                                                                                                                                                                                                   \n",
      "2.7480814184264917                                                                                                                                                                                                 \n",
      "Validation Accuracy:                                                                                                                                                                                               \n",
      "0.061508889956751564                                                                                                                                                                                               \n",
      "Hyperparameters:                                                                                                                                                                                                   \n",
      "{'batch_size': 256.0, 'dropout_rate': 0.007750722781131313, 'gamma': 1.3627907621013693, 'hidden_dim': 203.0, 'learning_rate': 2.9681833621385397e-05, 'num_layers': 2.0, 'weight_decay': 4.0091807374554174e-07}  \n",
      "Loading existing valid indices from metadata                                                                                                                                                                       \n",
      "Found 10409 processed documents                                                                                                                                                                                    \n",
      " 42%|████████████████████████████████████████████████████████▌                                                                            | 17/40 [10:33:30<13:04:12, 2045.75s/trial, best loss: 2.296322183961882]"
     ]
    },
    {
     "data": {
      "application/vnd.jupyter.widget-view+json": {
       "model_id": "df8c589aa7f34ee7b2a8925905e2e03a",
       "version_major": 2,
       "version_minor": 0
      },
      "text/plain": [
       "Epoch 1:   0%|                                                               | 0/33 [00:00<?, ?it/s]"
      ]
     },
     "metadata": {},
     "output_type": "display_data"
    },
    {
     "name": "stdout",
     "output_type": "stream",
     "text": [
      "Epoch 1 Training Loss: 2.8581                                                                                                                                                                                      \n",
      " 42%|████████████████████████████████████████████████████████▌                                                                            | 17/40 [10:41:10<13:04:12, 2045.75s/trial, best loss: 2.296322183961882]"
     ]
    },
    {
     "data": {
      "application/vnd.jupyter.widget-view+json": {
       "model_id": "fbaa4fc73364468283b1d67aedee021e",
       "version_major": 2,
       "version_minor": 0
      },
      "text/plain": [
       "Epoch 2:   0%|                                                               | 0/33 [00:00<?, ?it/s]"
      ]
     },
     "metadata": {},
     "output_type": "display_data"
    },
    {
     "name": "stdout",
     "output_type": "stream",
     "text": [
      "Epoch 2 Training Loss: 2.8604                                                                                                                                                                                      \n",
      " 42%|████████████████████████████████████████████████████████▌                                                                            | 17/40 [10:48:09<13:04:12, 2045.75s/trial, best loss: 2.296322183961882]"
     ]
    },
    {
     "data": {
      "application/vnd.jupyter.widget-view+json": {
       "model_id": "aa6db981db214371b9cfcf2c7750ac95",
       "version_major": 2,
       "version_minor": 0
      },
      "text/plain": [
       "Epoch 3:   0%|                                                               | 0/33 [00:00<?, ?it/s]"
      ]
     },
     "metadata": {},
     "output_type": "display_data"
    },
    {
     "name": "stdout",
     "output_type": "stream",
     "text": [
      "Epoch 3 Training Loss: 2.8592                                                                                                                                                                                      \n",
      " 42%|████████████████████████████████████████████████████████▌                                                                            | 17/40 [10:55:03<13:04:12, 2045.75s/trial, best loss: 2.296322183961882]"
     ]
    },
    {
     "data": {
      "application/vnd.jupyter.widget-view+json": {
       "model_id": "f7c89dcf7421493c91c5c860481279b2",
       "version_major": 2,
       "version_minor": 0
      },
      "text/plain": [
       "Epoch 4:   0%|                                                               | 0/33 [00:00<?, ?it/s]"
      ]
     },
     "metadata": {},
     "output_type": "display_data"
    },
    {
     "name": "stdout",
     "output_type": "stream",
     "text": [
      "Epoch 4 Training Loss: 2.8598                                                                                                                                                                                      \n",
      " 42%|████████████████████████████████████████████████████████▌                                                                            | 17/40 [11:01:52<13:04:12, 2045.75s/trial, best loss: 2.296322183961882]"
     ]
    },
    {
     "data": {
      "application/vnd.jupyter.widget-view+json": {
       "model_id": "07eaff048ca844ecafb32967aef06825",
       "version_major": 2,
       "version_minor": 0
      },
      "text/plain": [
       "Epoch 5:   0%|                                                               | 0/33 [00:00<?, ?it/s]"
      ]
     },
     "metadata": {},
     "output_type": "display_data"
    },
    {
     "name": "stdout",
     "output_type": "stream",
     "text": [
      "Epoch 5 Training Loss: 2.8506                                                                                                                                                                                      \n",
      "Validation Loss:                                                                                                                                                                                                   \n",
      "2.8191276224458064                                                                                                                                                                                                 \n",
      "Validation Accuracy:                                                                                                                                                                                               \n",
      "0.03363767419509851                                                                                                                                                                                                \n",
      "Hyperparameters:                                                                                                                                                                                                   \n",
      "{'batch_size': 480.0, 'dropout_rate': 0.5594084663365468, 'gamma': 1.3506077964718275, 'hidden_dim': 176.0, 'learning_rate': 0.0005145284355843461, 'num_layers': 1.0, 'weight_decay': 1.6320539152716935e-07}     \n",
      "Loading existing valid indices from metadata                                                                                                                                                                       \n",
      "Found 10409 processed documents                                                                                                                                                                                    \n",
      " 45%|███████████████████████████████████████████████████████████▊                                                                         | 18/40 [11:09:24<12:42:00, 2078.20s/trial, best loss: 2.296322183961882]"
     ]
    },
    {
     "data": {
      "application/vnd.jupyter.widget-view+json": {
       "model_id": "6d79eee3ddca4bceac40e56105a326cb",
       "version_major": 2,
       "version_minor": 0
      },
      "text/plain": [
       "Epoch 1:   0%|                                                               | 0/18 [00:00<?, ?it/s]"
      ]
     },
     "metadata": {},
     "output_type": "display_data"
    },
    {
     "name": "stdout",
     "output_type": "stream",
     "text": [
      "Epoch 1 Training Loss: 2.8810                                                                                                                                                                                      \n",
      " 45%|███████████████████████████████████████████████████████████▊                                                                         | 18/40 [11:15:29<12:42:00, 2078.20s/trial, best loss: 2.296322183961882]"
     ]
    },
    {
     "data": {
      "application/vnd.jupyter.widget-view+json": {
       "model_id": "27345bd4d91543198375198fb9b27d13",
       "version_major": 2,
       "version_minor": 0
      },
      "text/plain": [
       "Epoch 2:   0%|                                                               | 0/18 [00:00<?, ?it/s]"
      ]
     },
     "metadata": {},
     "output_type": "display_data"
    },
    {
     "name": "stdout",
     "output_type": "stream",
     "text": [
      "Epoch 2 Training Loss: 2.8607                                                                                                                                                                                      \n",
      " 45%|███████████████████████████████████████████████████████████▊                                                                         | 18/40 [11:21:12<12:42:00, 2078.20s/trial, best loss: 2.296322183961882]"
     ]
    },
    {
     "data": {
      "application/vnd.jupyter.widget-view+json": {
       "model_id": "7233a194bc604375b66be5f506d0002d",
       "version_major": 2,
       "version_minor": 0
      },
      "text/plain": [
       "Epoch 3:   0%|                                                               | 0/18 [00:00<?, ?it/s]"
      ]
     },
     "metadata": {},
     "output_type": "display_data"
    },
    {
     "name": "stdout",
     "output_type": "stream",
     "text": [
      "Epoch 3 Training Loss: 2.8805                                                                                                                                                                                      \n",
      " 45%|███████████████████████████████████████████████████████████▊                                                                         | 18/40 [11:26:52<12:42:00, 2078.20s/trial, best loss: 2.296322183961882]"
     ]
    },
    {
     "data": {
      "application/vnd.jupyter.widget-view+json": {
       "model_id": "ef5c6609548e43f5a81126fc46222ffe",
       "version_major": 2,
       "version_minor": 0
      },
      "text/plain": [
       "Epoch 4:   0%|                                                               | 0/18 [00:00<?, ?it/s]"
      ]
     },
     "metadata": {},
     "output_type": "display_data"
    },
    {
     "name": "stdout",
     "output_type": "stream",
     "text": [
      "Epoch 4 Training Loss: 2.8642                                                                                                                                                                                      \n",
      " 45%|███████████████████████████████████████████████████████████▊                                                                         | 18/40 [11:32:26<12:42:00, 2078.20s/trial, best loss: 2.296322183961882]"
     ]
    },
    {
     "data": {
      "application/vnd.jupyter.widget-view+json": {
       "model_id": "ae7f5341065642c4ad9e6d7d54b388b4",
       "version_major": 2,
       "version_minor": 0
      },
      "text/plain": [
       "Epoch 5:   0%|                                                               | 0/18 [00:00<?, ?it/s]"
      ]
     },
     "metadata": {},
     "output_type": "display_data"
    },
    {
     "name": "stdout",
     "output_type": "stream",
     "text": [
      "Epoch 5 Training Loss: 2.8692                                                                                                                                                                                      \n",
      "Validation Loss:                                                                                                                                                                                                   \n",
      "2.9810342668398593                                                                                                                                                                                                 \n",
      "Validation Accuracy:                                                                                                                                                                                               \n",
      "0.005766458433445459                                                                                                                                                                                               \n",
      "Hyperparameters:                                                                                                                                                                                                   \n",
      "{'batch_size': 480.0, 'dropout_rate': 0.5155224864205822, 'gamma': 2.908988076242665, 'hidden_dim': 116.0, 'learning_rate': 0.000903613511884689, 'num_layers': 3.0, 'weight_decay': 2.2672978919541627e-07}       \n",
      "Loading existing valid indices from metadata                                                                                                                                                                       \n",
      "Found 10409 processed documents                                                                                                                                                                                    \n",
      " 48%|███████████████████████████████████████████████████████████████▏                                                                     | 19/40 [11:38:50<11:34:31, 1984.38s/trial, best loss: 2.296322183961882]"
     ]
    },
    {
     "data": {
      "application/vnd.jupyter.widget-view+json": {
       "model_id": "f50cfff430ee409180488dd4de17ddbb",
       "version_major": 2,
       "version_minor": 0
      },
      "text/plain": [
       "Epoch 1:   0%|                                                               | 0/18 [00:00<?, ?it/s]"
      ]
     },
     "metadata": {},
     "output_type": "display_data"
    },
    {
     "name": "stdout",
     "output_type": "stream",
     "text": [
      "Epoch 1 Training Loss: 2.6737                                                                                                                                                                                      \n",
      " 48%|███████████████████████████████████████████████████████████████▏                                                                     | 19/40 [11:43:32<11:34:31, 1984.38s/trial, best loss: 2.296322183961882]"
     ]
    },
    {
     "data": {
      "application/vnd.jupyter.widget-view+json": {
       "model_id": "70eee967204d4a56a1e951f724d8d43e",
       "version_major": 2,
       "version_minor": 0
      },
      "text/plain": [
       "Epoch 2:   0%|                                                               | 0/18 [00:00<?, ?it/s]"
      ]
     },
     "metadata": {},
     "output_type": "display_data"
    },
    {
     "name": "stdout",
     "output_type": "stream",
     "text": [
      "Epoch 2 Training Loss: 2.6612                                                                                                                                                                                      \n",
      " 48%|███████████████████████████████████████████████████████████████▏                                                                     | 19/40 [11:47:56<11:34:31, 1984.38s/trial, best loss: 2.296322183961882]"
     ]
    },
    {
     "data": {
      "application/vnd.jupyter.widget-view+json": {
       "model_id": "37f19602f3a34e04a585cd7dd3c2363d",
       "version_major": 2,
       "version_minor": 0
      },
      "text/plain": [
       "Epoch 3:   0%|                                                               | 0/18 [00:00<?, ?it/s]"
      ]
     },
     "metadata": {},
     "output_type": "display_data"
    },
    {
     "name": "stdout",
     "output_type": "stream",
     "text": [
      "Epoch 3 Training Loss: 2.6627                                                                                                                                                                                      \n",
      " 48%|███████████████████████████████████████████████████████████████▏                                                                     | 19/40 [11:52:23<11:34:31, 1984.38s/trial, best loss: 2.296322183961882]"
     ]
    },
    {
     "data": {
      "application/vnd.jupyter.widget-view+json": {
       "model_id": "1a835edbea2b4e5cbdeab35dc9b45d3f",
       "version_major": 2,
       "version_minor": 0
      },
      "text/plain": [
       "Epoch 4:   0%|                                                               | 0/18 [00:00<?, ?it/s]"
      ]
     },
     "metadata": {},
     "output_type": "display_data"
    },
    {
     "name": "stdout",
     "output_type": "stream",
     "text": [
      "Epoch 4 Training Loss: 2.6741                                                                                                                                                                                      \n",
      " 48%|███████████████████████████████████████████████████████████████▏                                                                     | 19/40 [11:56:58<11:34:31, 1984.38s/trial, best loss: 2.296322183961882]"
     ]
    },
    {
     "data": {
      "application/vnd.jupyter.widget-view+json": {
       "model_id": "b81ad330b31346dabda0ecaa82391a78",
       "version_major": 2,
       "version_minor": 0
      },
      "text/plain": [
       "Epoch 5:   0%|                                                               | 0/18 [00:00<?, ?it/s]"
      ]
     },
     "metadata": {},
     "output_type": "display_data"
    },
    {
     "name": "stdout",
     "output_type": "stream",
     "text": [
      "Epoch 5 Training Loss: 2.6542                                                                                                                                                                                      \n",
      "Validation Loss:                                                                                                                                                                                                   \n",
      "2.5901706578466883                                                                                                                                                                                                 \n",
      "Validation Accuracy:                                                                                                                                                                                               \n",
      "0.06343104276790004                                                                                                                                                                                                \n",
      "Hyperparameters:                                                                                                                                                                                                   \n",
      "{'batch_size': 16.0, 'dropout_rate': 0.16716698278231815, 'gamma': 4.872290015122648, 'hidden_dim': 148.0, 'learning_rate': 0.000363022060695821, 'num_layers': 3.0, 'weight_decay': 2.7910370279837748e-08}       \n",
      "Loading existing valid indices from metadata                                                                                                                                                                       \n",
      "Found 10409 processed documents                                                                                                                                                                                    \n",
      " 50%|██████████████████████████████████████████████████████████████████▌                                                                  | 20/40 [12:02:00<10:01:59, 1805.99s/trial, best loss: 2.296322183961882]"
     ]
    },
    {
     "data": {
      "application/vnd.jupyter.widget-view+json": {
       "model_id": "a5831fe0dabe493fac9d21d4c0dcc902",
       "version_major": 2,
       "version_minor": 0
      },
      "text/plain": [
       "Epoch 1:   0%|                                                              | 0/521 [00:00<?, ?it/s]"
      ]
     },
     "metadata": {},
     "output_type": "display_data"
    },
    {
     "name": "stdout",
     "output_type": "stream",
     "text": [
      "Epoch 1 Training Loss: 2.4625                                                                                                                                                                                      \n",
      " 50%|██████████████████████████████████████████████████████████████████▌                                                                  | 20/40 [12:07:45<10:01:59, 1805.99s/trial, best loss: 2.296322183961882]"
     ]
    },
    {
     "data": {
      "application/vnd.jupyter.widget-view+json": {
       "model_id": "b456e6a98067456ebaf961d15ce83294",
       "version_major": 2,
       "version_minor": 0
      },
      "text/plain": [
       "Epoch 2:   0%|                                                              | 0/521 [00:00<?, ?it/s]"
      ]
     },
     "metadata": {},
     "output_type": "display_data"
    },
    {
     "name": "stdout",
     "output_type": "stream",
     "text": [
      "Epoch 2 Training Loss: 2.4457                                                                                                                                                                                      \n",
      " 50%|██████████████████████████████████████████████████████████████████▌                                                                  | 20/40 [12:13:15<10:01:59, 1805.99s/trial, best loss: 2.296322183961882]"
     ]
    },
    {
     "data": {
      "application/vnd.jupyter.widget-view+json": {
       "model_id": "81aa35eaa3904394b530470e6fee9d32",
       "version_major": 2,
       "version_minor": 0
      },
      "text/plain": [
       "Epoch 3:   0%|                                                              | 0/521 [00:00<?, ?it/s]"
      ]
     },
     "metadata": {},
     "output_type": "display_data"
    },
    {
     "name": "stdout",
     "output_type": "stream",
     "text": [
      "Epoch 3 Training Loss: 2.4072                                                                                                                                                                                      \n",
      " 50%|██████████████████████████████████████████████████████████████████▌                                                                  | 20/40 [12:18:48<10:01:59, 1805.99s/trial, best loss: 2.296322183961882]"
     ]
    },
    {
     "data": {
      "application/vnd.jupyter.widget-view+json": {
       "model_id": "13dda106d4ca448482101166ea433c66",
       "version_major": 2,
       "version_minor": 0
      },
      "text/plain": [
       "Epoch 4:   0%|                                                              | 0/521 [00:00<?, ?it/s]"
      ]
     },
     "metadata": {},
     "output_type": "display_data"
    },
    {
     "name": "stdout",
     "output_type": "stream",
     "text": [
      "Epoch 4 Training Loss: 2.3049                                                                                                                                                                                      \n",
      " 50%|██████████████████████████████████████████████████████████████████▌                                                                  | 20/40 [12:24:30<10:01:59, 1805.99s/trial, best loss: 2.296322183961882]"
     ]
    },
    {
     "data": {
      "application/vnd.jupyter.widget-view+json": {
       "model_id": "70de22dffea244cbb2be8d9fcf11d95a",
       "version_major": 2,
       "version_minor": 0
      },
      "text/plain": [
       "Epoch 5:   0%|                                                              | 0/521 [00:00<?, ?it/s]"
      ]
     },
     "metadata": {},
     "output_type": "display_data"
    },
    {
     "name": "stdout",
     "output_type": "stream",
     "text": [
      "Epoch 5 Training Loss: 2.2331                                                                                                                                                                                      \n",
      "Validation Loss:                                                                                                                                                                                                   \n",
      "2.182446499331418                                                                                                                                                                                                  \n",
      "Validation Accuracy:                                                                                                                                                                                               \n",
      "0.0802498798654493                                                                                                                                                                                                 \n",
      "Hyperparameters:                                                                                                                                                                                                   \n",
      "{'batch_size': 32.0, 'dropout_rate': 0.1867723267124442, 'gamma': 4.997095998471859, 'hidden_dim': 149.0, 'learning_rate': 0.0004444084713441678, 'num_layers': 3.0, 'weight_decay': 3.432408872544667e-08}        \n",
      "Loading existing valid indices from metadata                                                                                                                                                                       \n",
      "Found 10409 processed documents                                                                                                                                                                                    \n",
      " 52%|██████████████████████████████████████████████████████████████████████▎                                                               | 21/40 [12:30:54<9:25:06, 1784.56s/trial, best loss: 2.182446499331418]"
     ]
    },
    {
     "data": {
      "application/vnd.jupyter.widget-view+json": {
       "model_id": "64990b9baa5846a9bcf0e368b76c428a",
       "version_major": 2,
       "version_minor": 0
      },
      "text/plain": [
       "Epoch 1:   0%|                                                              | 0/261 [00:00<?, ?it/s]"
      ]
     },
     "metadata": {},
     "output_type": "display_data"
    },
    {
     "name": "stdout",
     "output_type": "stream",
     "text": [
      "Epoch 1 Training Loss: 2.4557                                                                                                                                                                                      \n",
      " 52%|██████████████████████████████████████████████████████████████████████▎                                                               | 21/40 [12:36:47<9:25:06, 1784.56s/trial, best loss: 2.182446499331418]"
     ]
    },
    {
     "data": {
      "application/vnd.jupyter.widget-view+json": {
       "model_id": "91a18e8604734fe1a71652077f77ddd4",
       "version_major": 2,
       "version_minor": 0
      },
      "text/plain": [
       "Epoch 2:   0%|                                                              | 0/261 [00:00<?, ?it/s]"
      ]
     },
     "metadata": {},
     "output_type": "display_data"
    },
    {
     "name": "stdout",
     "output_type": "stream",
     "text": [
      "Epoch 2 Training Loss: 2.4392                                                                                                                                                                                      \n",
      " 52%|██████████████████████████████████████████████████████████████████████▎                                                               | 21/40 [12:42:42<9:25:06, 1784.56s/trial, best loss: 2.182446499331418]"
     ]
    },
    {
     "data": {
      "application/vnd.jupyter.widget-view+json": {
       "model_id": "1a07936416524b33b2aceeaf013916cc",
       "version_major": 2,
       "version_minor": 0
      },
      "text/plain": [
       "Epoch 3:   0%|                                                              | 0/261 [00:00<?, ?it/s]"
      ]
     },
     "metadata": {},
     "output_type": "display_data"
    },
    {
     "name": "stdout",
     "output_type": "stream",
     "text": [
      "Epoch 3 Training Loss: 2.4293                                                                                                                                                                                      \n",
      " 52%|██████████████████████████████████████████████████████████████████████▎                                                               | 21/40 [12:48:08<9:25:06, 1784.56s/trial, best loss: 2.182446499331418]"
     ]
    },
    {
     "data": {
      "application/vnd.jupyter.widget-view+json": {
       "model_id": "1d693c37b8ec41e0a4c50932f35888d6",
       "version_major": 2,
       "version_minor": 0
      },
      "text/plain": [
       "Epoch 4:   0%|                                                              | 0/261 [00:00<?, ?it/s]"
      ]
     },
     "metadata": {},
     "output_type": "display_data"
    },
    {
     "name": "stdout",
     "output_type": "stream",
     "text": [
      "Epoch 4 Training Loss: 2.3922                                                                                                                                                                                      \n",
      " 52%|██████████████████████████████████████████████████████████████████████▎                                                               | 21/40 [12:53:33<9:25:06, 1784.56s/trial, best loss: 2.182446499331418]"
     ]
    },
    {
     "data": {
      "application/vnd.jupyter.widget-view+json": {
       "model_id": "92f29d94f59c4dfcad9c7aa2ca6f0e2d",
       "version_major": 2,
       "version_minor": 0
      },
      "text/plain": [
       "Epoch 5:   0%|                                                              | 0/261 [00:00<?, ?it/s]"
      ]
     },
     "metadata": {},
     "output_type": "display_data"
    },
    {
     "name": "stdout",
     "output_type": "stream",
     "text": [
      "Epoch 5 Training Loss: 2.3189                                                                                                                                                                                      \n",
      "Validation Loss:                                                                                                                                                                                                   \n",
      "2.22496003230451                                                                                                                                                                                                   \n",
      "Validation Accuracy:                                                                                                                                                                                               \n",
      "0.029312830370014416                                                                                                                                                                                               \n",
      "Hyperparameters:                                                                                                                                                                                                   \n",
      "{'batch_size': 16.0, 'dropout_rate': 0.18141940770250078, 'gamma': 4.974937784181585, 'hidden_dim': 142.0, 'learning_rate': 0.00037044257659921837, 'num_layers': 3.0, 'weight_decay': 3.571958275643383e-08}      \n",
      "Loading existing valid indices from metadata                                                                                                                                                                       \n",
      "Found 10409 processed documents                                                                                                                                                                                    \n",
      " 55%|█████████████████████████████████████████████████████████████████████████▋                                                            | 22/40 [12:59:45<8:50:32, 1768.48s/trial, best loss: 2.182446499331418]"
     ]
    },
    {
     "data": {
      "application/vnd.jupyter.widget-view+json": {
       "model_id": "39d146c98ed14a5b800a242d3ad4d8d7",
       "version_major": 2,
       "version_minor": 0
      },
      "text/plain": [
       "Epoch 1:   0%|                                                              | 0/521 [00:00<?, ?it/s]"
      ]
     },
     "metadata": {},
     "output_type": "display_data"
    },
    {
     "name": "stdout",
     "output_type": "stream",
     "text": [
      "Epoch 1 Training Loss: 2.4574                                                                                                                                                                                      \n",
      " 55%|█████████████████████████████████████████████████████████████████████████▋                                                            | 22/40 [13:05:11<8:50:32, 1768.48s/trial, best loss: 2.182446499331418]"
     ]
    },
    {
     "data": {
      "application/vnd.jupyter.widget-view+json": {
       "model_id": "d54827b4893147639ab89942525661ab",
       "version_major": 2,
       "version_minor": 0
      },
      "text/plain": [
       "Epoch 2:   0%|                                                              | 0/521 [00:00<?, ?it/s]"
      ]
     },
     "metadata": {},
     "output_type": "display_data"
    },
    {
     "name": "stdout",
     "output_type": "stream",
     "text": [
      "Epoch 2 Training Loss: 2.4240                                                                                                                                                                                      \n",
      " 55%|█████████████████████████████████████████████████████████████████████████▋                                                            | 22/40 [13:10:29<8:50:32, 1768.48s/trial, best loss: 2.182446499331418]"
     ]
    },
    {
     "data": {
      "application/vnd.jupyter.widget-view+json": {
       "model_id": "74b7e9b323b040f2b5a8fef769168bbb",
       "version_major": 2,
       "version_minor": 0
      },
      "text/plain": [
       "Epoch 3:   0%|                                                              | 0/521 [00:00<?, ?it/s]"
      ]
     },
     "metadata": {},
     "output_type": "display_data"
    },
    {
     "name": "stdout",
     "output_type": "stream",
     "text": [
      "Epoch 3 Training Loss: 2.3504                                                                                                                                                                                      \n",
      " 55%|█████████████████████████████████████████████████████████████████████████▋                                                            | 22/40 [13:15:44<8:50:32, 1768.48s/trial, best loss: 2.182446499331418]"
     ]
    },
    {
     "data": {
      "application/vnd.jupyter.widget-view+json": {
       "model_id": "a4a103dc159a4547a2b1ee894e5444de",
       "version_major": 2,
       "version_minor": 0
      },
      "text/plain": [
       "Epoch 4:   0%|                                                              | 0/521 [00:00<?, ?it/s]"
      ]
     },
     "metadata": {},
     "output_type": "display_data"
    },
    {
     "name": "stdout",
     "output_type": "stream",
     "text": [
      "Epoch 4 Training Loss: 2.2700                                                                                                                                                                                      \n",
      " 55%|█████████████████████████████████████████████████████████████████████████▋                                                            | 22/40 [13:20:59<8:50:32, 1768.48s/trial, best loss: 2.182446499331418]"
     ]
    },
    {
     "data": {
      "application/vnd.jupyter.widget-view+json": {
       "model_id": "287e8ba3afc14ccd8beea11d72aed559",
       "version_major": 2,
       "version_minor": 0
      },
      "text/plain": [
       "Epoch 5:   0%|                                                              | 0/521 [00:00<?, ?it/s]"
      ]
     },
     "metadata": {},
     "output_type": "display_data"
    },
    {
     "name": "stdout",
     "output_type": "stream",
     "text": [
      "Epoch 5 Training Loss: 2.2149                                                                                                                                                                                      \n",
      "Validation Loss:                                                                                                                                                                                                   \n",
      "2.38359421964221                                                                                                                                                                                                   \n",
      "Validation Accuracy:                                                                                                                                                                                               \n",
      "0.0735223450264296                                                                                                                                                                                                 \n",
      "Hyperparameters:                                                                                                                                                                                                   \n",
      "{'batch_size': 32.0, 'dropout_rate': 0.18476842697490442, 'gamma': 4.627614064527421, 'hidden_dim': 151.0, 'learning_rate': 0.00011250493483832863, 'num_layers': 3.0, 'weight_decay': 7.884238930987079e-07}      \n",
      "Loading existing valid indices from metadata                                                                                                                                                                       \n",
      "Found 10409 processed documents                                                                                                                                                                                    \n",
      " 57%|█████████████████████████████████████████████████████████████████████████████                                                         | 23/40 [13:26:58<8:09:32, 1727.78s/trial, best loss: 2.182446499331418]"
     ]
    },
    {
     "data": {
      "application/vnd.jupyter.widget-view+json": {
       "model_id": "3f6e902cbd6a4ac3add2b357fd754324",
       "version_major": 2,
       "version_minor": 0
      },
      "text/plain": [
       "Epoch 1:   0%|                                                              | 0/261 [00:00<?, ?it/s]"
      ]
     },
     "metadata": {},
     "output_type": "display_data"
    },
    {
     "name": "stdout",
     "output_type": "stream",
     "text": [
      "Epoch 1 Training Loss: 2.5032                                                                                                                                                                                      \n",
      " 57%|█████████████████████████████████████████████████████████████████████████████                                                         | 23/40 [13:32:44<8:09:32, 1727.78s/trial, best loss: 2.182446499331418]"
     ]
    },
    {
     "data": {
      "application/vnd.jupyter.widget-view+json": {
       "model_id": "3e32a0fca38e4510bda69d246d0f6980",
       "version_major": 2,
       "version_minor": 0
      },
      "text/plain": [
       "Epoch 2:   0%|                                                              | 0/261 [00:00<?, ?it/s]"
      ]
     },
     "metadata": {},
     "output_type": "display_data"
    },
    {
     "name": "stdout",
     "output_type": "stream",
     "text": [
      "Epoch 2 Training Loss: 2.4807                                                                                                                                                                                      \n",
      " 57%|█████████████████████████████████████████████████████████████████████████████                                                         | 23/40 [13:38:19<8:09:32, 1727.78s/trial, best loss: 2.182446499331418]"
     ]
    },
    {
     "data": {
      "application/vnd.jupyter.widget-view+json": {
       "model_id": "dba6724480ee4002936e89b7330152b6",
       "version_major": 2,
       "version_minor": 0
      },
      "text/plain": [
       "Epoch 3:   0%|                                                              | 0/261 [00:00<?, ?it/s]"
      ]
     },
     "metadata": {},
     "output_type": "display_data"
    },
    {
     "name": "stdout",
     "output_type": "stream",
     "text": [
      "Epoch 3 Training Loss: 2.4689                                                                                                                                                                                      \n",
      " 57%|█████████████████████████████████████████████████████████████████████████████                                                         | 23/40 [13:44:00<8:09:32, 1727.78s/trial, best loss: 2.182446499331418]"
     ]
    },
    {
     "data": {
      "application/vnd.jupyter.widget-view+json": {
       "model_id": "ba20ae64085a49ce89df317caeed1e3b",
       "version_major": 2,
       "version_minor": 0
      },
      "text/plain": [
       "Epoch 4:   0%|                                                              | 0/261 [00:00<?, ?it/s]"
      ]
     },
     "metadata": {},
     "output_type": "display_data"
    },
    {
     "name": "stdout",
     "output_type": "stream",
     "text": [
      "Epoch 4 Training Loss: 2.4550                                                                                                                                                                                      \n",
      " 57%|█████████████████████████████████████████████████████████████████████████████                                                         | 23/40 [13:49:21<8:09:32, 1727.78s/trial, best loss: 2.182446499331418]"
     ]
    },
    {
     "data": {
      "application/vnd.jupyter.widget-view+json": {
       "model_id": "aa66fa1222d546a19a582438c77255d0",
       "version_major": 2,
       "version_minor": 0
      },
      "text/plain": [
       "Epoch 5:   0%|                                                              | 0/261 [00:00<?, ?it/s]"
      ]
     },
     "metadata": {},
     "output_type": "display_data"
    },
    {
     "name": "stdout",
     "output_type": "stream",
     "text": [
      "Epoch 5 Training Loss: 2.4120                                                                                                                                                                                      \n",
      "Validation Loss:                                                                                                                                                                                                   \n",
      "2.5951148605529992                                                                                                                                                                                                 \n",
      "Validation Accuracy:                                                                                                                                                                                               \n",
      "0.06295050456511293                                                                                                                                                                                                \n",
      "Hyperparameters:                                                                                                                                                                                                   \n",
      "{'batch_size': 64.0, 'dropout_rate': 0.18828064113259566, 'gamma': 4.028514173965601, 'hidden_dim': 154.0, 'learning_rate': 0.000534462983888548, 'num_layers': 3.0, 'weight_decay': 4.054234307123943e-06}        \n",
      "Loading existing valid indices from metadata                                                                                                                                                                       \n",
      "Found 10409 processed documents                                                                                                                                                                                    \n",
      " 60%|████████████████████████████████████████████████████████████████████████████████▍                                                     | 24/40 [13:55:24<7:38:57, 1721.11s/trial, best loss: 2.182446499331418]"
     ]
    },
    {
     "data": {
      "application/vnd.jupyter.widget-view+json": {
       "model_id": "19487ce61d1040ddb278f5d0423103ac",
       "version_major": 2,
       "version_minor": 0
      },
      "text/plain": [
       "Epoch 1:   0%|                                                              | 0/131 [00:00<?, ?it/s]"
      ]
     },
     "metadata": {},
     "output_type": "display_data"
    },
    {
     "name": "stdout",
     "output_type": "stream",
     "text": [
      "Epoch 1 Training Loss: 2.5345                                                                                                                                                                                      \n",
      " 60%|████████████████████████████████████████████████████████████████████████████████▍                                                     | 24/40 [14:00:57<7:38:57, 1721.11s/trial, best loss: 2.182446499331418]"
     ]
    },
    {
     "data": {
      "application/vnd.jupyter.widget-view+json": {
       "model_id": "998dda7096a049fcb9f143fdd9573199",
       "version_major": 2,
       "version_minor": 0
      },
      "text/plain": [
       "Epoch 2:   0%|                                                              | 0/131 [00:00<?, ?it/s]"
      ]
     },
     "metadata": {},
     "output_type": "display_data"
    },
    {
     "name": "stdout",
     "output_type": "stream",
     "text": [
      "Epoch 2 Training Loss: 2.5108                                                                                                                                                                                      \n",
      " 60%|████████████████████████████████████████████████████████████████████████████████▍                                                     | 24/40 [14:06:30<7:38:57, 1721.11s/trial, best loss: 2.182446499331418]"
     ]
    },
    {
     "data": {
      "application/vnd.jupyter.widget-view+json": {
       "model_id": "47ba081c345c4eb4b1909efb6dd44e91",
       "version_major": 2,
       "version_minor": 0
      },
      "text/plain": [
       "Epoch 3:   0%|                                                              | 0/131 [00:00<?, ?it/s]"
      ]
     },
     "metadata": {},
     "output_type": "display_data"
    },
    {
     "name": "stdout",
     "output_type": "stream",
     "text": [
      "Epoch 3 Training Loss: 2.5213                                                                                                                                                                                      \n",
      " 60%|████████████████████████████████████████████████████████████████████████████████▍                                                     | 24/40 [14:12:02<7:38:57, 1721.11s/trial, best loss: 2.182446499331418]"
     ]
    },
    {
     "data": {
      "application/vnd.jupyter.widget-view+json": {
       "model_id": "b638755c5b894254ada4af0e4c906598",
       "version_major": 2,
       "version_minor": 0
      },
      "text/plain": [
       "Epoch 4:   0%|                                                              | 0/131 [00:00<?, ?it/s]"
      ]
     },
     "metadata": {},
     "output_type": "display_data"
    },
    {
     "name": "stdout",
     "output_type": "stream",
     "text": [
      "Epoch 4 Training Loss: 2.4942                                                                                                                                                                                      \n",
      " 60%|████████████████████████████████████████████████████████████████████████████████▍                                                     | 24/40 [14:17:27<7:38:57, 1721.11s/trial, best loss: 2.182446499331418]"
     ]
    },
    {
     "data": {
      "application/vnd.jupyter.widget-view+json": {
       "model_id": "5f97385f675840f1ab61e320dab47407",
       "version_major": 2,
       "version_minor": 0
      },
      "text/plain": [
       "Epoch 5:   0%|                                                              | 0/131 [00:00<?, ?it/s]"
      ]
     },
     "metadata": {},
     "output_type": "display_data"
    },
    {
     "name": "stdout",
     "output_type": "stream",
     "text": [
      "Epoch 5 Training Loss: 2.4480                                                                                                                                                                                      \n",
      "Validation Loss:                                                                                                                                                                                                   \n",
      "2.385723671965849                                                                                                                                                                                                  \n",
      "Validation Accuracy:                                                                                                                                                                                               \n",
      "0.06487265737626141                                                                                                                                                                                                \n",
      "Hyperparameters:                                                                                                                                                                                                   \n",
      "{'batch_size': 176.0, 'dropout_rate': 0.29654735257219134, 'gamma': 4.737161943413624, 'hidden_dim': 66.0, 'learning_rate': 0.00036672246936916207, 'num_layers': 3.0, 'weight_decay': 3.0559488601705387e-06}     \n",
      "Loading existing valid indices from metadata                                                                                                                                                                       \n",
      "Found 10409 processed documents                                                                                                                                                                                    \n",
      " 62%|███████████████████████████████████████████████████████████████████████████████████▊                                                  | 25/40 [14:23:39<7:08:20, 1713.36s/trial, best loss: 2.182446499331418]"
     ]
    },
    {
     "data": {
      "application/vnd.jupyter.widget-view+json": {
       "model_id": "2b21fd0786c7426fb1f00e65478e8073",
       "version_major": 2,
       "version_minor": 0
      },
      "text/plain": [
       "Epoch 1:   0%|                                                               | 0/48 [00:00<?, ?it/s]"
      ]
     },
     "metadata": {},
     "output_type": "display_data"
    },
    {
     "name": "stdout",
     "output_type": "stream",
     "text": [
      "Epoch 1 Training Loss: 2.4968                                                                                                                                                                                      \n",
      " 62%|███████████████████████████████████████████████████████████████████████████████████▊                                                  | 25/40 [14:27:14<7:08:20, 1713.36s/trial, best loss: 2.182446499331418]"
     ]
    },
    {
     "data": {
      "application/vnd.jupyter.widget-view+json": {
       "model_id": "7b78477ad013409aa735255bcced1079",
       "version_major": 2,
       "version_minor": 0
      },
      "text/plain": [
       "Epoch 2:   0%|                                                               | 0/48 [00:00<?, ?it/s]"
      ]
     },
     "metadata": {},
     "output_type": "display_data"
    },
    {
     "name": "stdout",
     "output_type": "stream",
     "text": [
      "Epoch 2 Training Loss: 2.4765                                                                                                                                                                                      \n",
      " 62%|███████████████████████████████████████████████████████████████████████████████████▊                                                  | 25/40 [14:30:36<7:08:20, 1713.36s/trial, best loss: 2.182446499331418]"
     ]
    },
    {
     "data": {
      "application/vnd.jupyter.widget-view+json": {
       "model_id": "9acb55df08d94372af0d030c639fda04",
       "version_major": 2,
       "version_minor": 0
      },
      "text/plain": [
       "Epoch 3:   0%|                                                               | 0/48 [00:00<?, ?it/s]"
      ]
     },
     "metadata": {},
     "output_type": "display_data"
    },
    {
     "name": "stdout",
     "output_type": "stream",
     "text": [
      "Epoch 3 Training Loss: 2.4750                                                                                                                                                                                      \n",
      " 62%|███████████████████████████████████████████████████████████████████████████████████▊                                                  | 25/40 [14:34:01<7:08:20, 1713.36s/trial, best loss: 2.182446499331418]"
     ]
    },
    {
     "data": {
      "application/vnd.jupyter.widget-view+json": {
       "model_id": "b77036c23fbc41818dcdcc273697af67",
       "version_major": 2,
       "version_minor": 0
      },
      "text/plain": [
       "Epoch 4:   0%|                                                               | 0/48 [00:00<?, ?it/s]"
      ]
     },
     "metadata": {},
     "output_type": "display_data"
    },
    {
     "name": "stdout",
     "output_type": "stream",
     "text": [
      "Epoch 4 Training Loss: 2.4655                                                                                                                                                                                      \n",
      " 62%|███████████████████████████████████████████████████████████████████████████████████▊                                                  | 25/40 [14:37:23<7:08:20, 1713.36s/trial, best loss: 2.182446499331418]"
     ]
    },
    {
     "data": {
      "application/vnd.jupyter.widget-view+json": {
       "model_id": "07a1e557c2de4db3bd54a642d34abde5",
       "version_major": 2,
       "version_minor": 0
      },
      "text/plain": [
       "Epoch 5:   0%|                                                               | 0/48 [00:00<?, ?it/s]"
      ]
     },
     "metadata": {},
     "output_type": "display_data"
    },
    {
     "name": "stdout",
     "output_type": "stream",
     "text": [
      "Epoch 5 Training Loss: 2.4695                                                                                                                                                                                      \n",
      "Validation Loss:                                                                                                                                                                                                   \n",
      "2.5513401083050296                                                                                                                                                                                                 \n",
      "Validation Accuracy:                                                                                                                                                                                               \n",
      "0.04613166746756367                                                                                                                                                                                                \n",
      "Hyperparameters:                                                                                                                                                                                                   \n",
      "{'batch_size': 48.0, 'dropout_rate': 0.15096996150392314, 'gamma': 4.9840786764744776, 'hidden_dim': 180.0, 'learning_rate': 0.00011381775186102159, 'num_layers': 3.0, 'weight_decay': 4.4920972148658835e-08}    \n",
      "Loading existing valid indices from metadata                                                                                                                                                                       \n",
      "Found 10409 processed documents                                                                                                                                                                                    \n",
      " 65%|███████████████████████████████████████████████████████████████████████████████████████                                               | 26/40 [14:41:45<5:55:49, 1524.99s/trial, best loss: 2.182446499331418]"
     ]
    },
    {
     "data": {
      "application/vnd.jupyter.widget-view+json": {
       "model_id": "dd3e10af6dd042b5ace05108c3e8ff9d",
       "version_major": 2,
       "version_minor": 0
      },
      "text/plain": [
       "Epoch 1:   0%|                                                              | 0/174 [00:00<?, ?it/s]"
      ]
     },
     "metadata": {},
     "output_type": "display_data"
    },
    {
     "name": "stdout",
     "output_type": "stream",
     "text": [
      "Epoch 1 Training Loss: 2.4573                                                                                                                                                                                      \n",
      " 65%|███████████████████████████████████████████████████████████████████████████████████████                                               | 26/40 [14:47:47<5:55:49, 1524.99s/trial, best loss: 2.182446499331418]"
     ]
    },
    {
     "data": {
      "application/vnd.jupyter.widget-view+json": {
       "model_id": "cceefa95748e4ec0bc205304ea446beb",
       "version_major": 2,
       "version_minor": 0
      },
      "text/plain": [
       "Epoch 2:   0%|                                                              | 0/174 [00:00<?, ?it/s]"
      ]
     },
     "metadata": {},
     "output_type": "display_data"
    },
    {
     "name": "stdout",
     "output_type": "stream",
     "text": [
      "Epoch 2 Training Loss: 2.4420                                                                                                                                                                                      \n",
      " 65%|███████████████████████████████████████████████████████████████████████████████████████                                               | 26/40 [14:53:41<5:55:49, 1524.99s/trial, best loss: 2.182446499331418]"
     ]
    },
    {
     "data": {
      "application/vnd.jupyter.widget-view+json": {
       "model_id": "729c7088933a4e459a22f35a265d5478",
       "version_major": 2,
       "version_minor": 0
      },
      "text/plain": [
       "Epoch 3:   0%|                                                              | 0/174 [00:00<?, ?it/s]"
      ]
     },
     "metadata": {},
     "output_type": "display_data"
    },
    {
     "name": "stdout",
     "output_type": "stream",
     "text": [
      "Epoch 3 Training Loss: 2.4114                                                                                                                                                                                      \n",
      " 65%|███████████████████████████████████████████████████████████████████████████████████████                                               | 26/40 [14:59:29<5:55:49, 1524.99s/trial, best loss: 2.182446499331418]"
     ]
    },
    {
     "data": {
      "application/vnd.jupyter.widget-view+json": {
       "model_id": "1b10269b0871477983acf8e32630065a",
       "version_major": 2,
       "version_minor": 0
      },
      "text/plain": [
       "Epoch 4:   0%|                                                              | 0/174 [00:00<?, ?it/s]"
      ]
     },
     "metadata": {},
     "output_type": "display_data"
    },
    {
     "name": "stdout",
     "output_type": "stream",
     "text": [
      "Epoch 4 Training Loss: 2.3850                                                                                                                                                                                      \n",
      " 65%|███████████████████████████████████████████████████████████████████████████████████████                                               | 26/40 [15:05:08<5:55:49, 1524.99s/trial, best loss: 2.182446499331418]"
     ]
    },
    {
     "data": {
      "application/vnd.jupyter.widget-view+json": {
       "model_id": "ced40d6bc1984c59b0c2bee10eab3c6f",
       "version_major": 2,
       "version_minor": 0
      },
      "text/plain": [
       "Epoch 5:   0%|                                                              | 0/174 [00:00<?, ?it/s]"
      ]
     },
     "metadata": {},
     "output_type": "display_data"
    },
    {
     "name": "stdout",
     "output_type": "stream",
     "text": [
      "Epoch 5 Training Loss: 2.3442                                                                                                                                                                                      \n",
      "Validation Loss:                                                                                                                                                                                                   \n",
      "2.339236400495178                                                                                                                                                                                                  \n",
      "Validation Accuracy:                                                                                                                                                                                               \n",
      "0.07063911580970687                                                                                                                                                                                                \n",
      "Hyperparameters:                                                                                                                                                                                                   \n",
      "{'batch_size': 160.0, 'dropout_rate': 0.24728379660822725, 'gamma': 3.563164184940513, 'hidden_dim': 141.0, 'learning_rate': 0.0005803720419549513, 'num_layers': 3.0, 'weight_decay': 3.770857340869753e-07}      \n",
      "Loading existing valid indices from metadata                                                                                                                                                                       \n",
      "Found 10409 processed documents                                                                                                                                                                                    \n",
      " 68%|██████████████████████████████████████████████████████████████████████████████████████████▍                                           | 27/40 [15:11:31<5:47:21, 1603.17s/trial, best loss: 2.182446499331418]"
     ]
    },
    {
     "data": {
      "application/vnd.jupyter.widget-view+json": {
       "model_id": "d34752773e424567b85cc3ebad5fd0fd",
       "version_major": 2,
       "version_minor": 0
      },
      "text/plain": [
       "Epoch 1:   0%|                                                               | 0/53 [00:00<?, ?it/s]"
      ]
     },
     "metadata": {},
     "output_type": "display_data"
    },
    {
     "name": "stdout",
     "output_type": "stream",
     "text": [
      "Epoch 1 Training Loss: 2.6199                                                                                                                                                                                      \n",
      " 68%|██████████████████████████████████████████████████████████████████████████████████████████▍                                           | 27/40 [15:16:52<5:47:21, 1603.17s/trial, best loss: 2.182446499331418]"
     ]
    },
    {
     "data": {
      "application/vnd.jupyter.widget-view+json": {
       "model_id": "f4c39ddd153d4f91bb2cfe2689d303ac",
       "version_major": 2,
       "version_minor": 0
      },
      "text/plain": [
       "Epoch 2:   0%|                                                               | 0/53 [00:00<?, ?it/s]"
      ]
     },
     "metadata": {},
     "output_type": "display_data"
    },
    {
     "name": "stdout",
     "output_type": "stream",
     "text": [
      "Epoch 2 Training Loss: 2.5753                                                                                                                                                                                      \n",
      " 68%|██████████████████████████████████████████████████████████████████████████████████████████▍                                           | 27/40 [15:21:54<5:47:21, 1603.17s/trial, best loss: 2.182446499331418]"
     ]
    },
    {
     "data": {
      "application/vnd.jupyter.widget-view+json": {
       "model_id": "9de1d41084db45aeafb38b43a58da119",
       "version_major": 2,
       "version_minor": 0
      },
      "text/plain": [
       "Epoch 3:   0%|                                                               | 0/53 [00:00<?, ?it/s]"
      ]
     },
     "metadata": {},
     "output_type": "display_data"
    },
    {
     "name": "stdout",
     "output_type": "stream",
     "text": [
      "Epoch 3 Training Loss: 2.5619                                                                                                                                                                                      \n",
      " 68%|██████████████████████████████████████████████████████████████████████████████████████████▍                                           | 27/40 [15:27:02<5:47:21, 1603.17s/trial, best loss: 2.182446499331418]"
     ]
    },
    {
     "data": {
      "application/vnd.jupyter.widget-view+json": {
       "model_id": "6d152ec279534fb089dc40107977a5cf",
       "version_major": 2,
       "version_minor": 0
      },
      "text/plain": [
       "Epoch 4:   0%|                                                               | 0/53 [00:00<?, ?it/s]"
      ]
     },
     "metadata": {},
     "output_type": "display_data"
    },
    {
     "name": "stdout",
     "output_type": "stream",
     "text": [
      "Epoch 4 Training Loss: 2.5596                                                                                                                                                                                      \n",
      " 68%|██████████████████████████████████████████████████████████████████████████████████████████▍                                           | 27/40 [15:32:08<5:47:21, 1603.17s/trial, best loss: 2.182446499331418]"
     ]
    },
    {
     "data": {
      "application/vnd.jupyter.widget-view+json": {
       "model_id": "bfc5cf0ac9c34a8dbbf0e322350193e2",
       "version_major": 2,
       "version_minor": 0
      },
      "text/plain": [
       "Epoch 5:   0%|                                                               | 0/53 [00:00<?, ?it/s]"
      ]
     },
     "metadata": {},
     "output_type": "display_data"
    },
    {
     "name": "stdout",
     "output_type": "stream",
     "text": [
      "Epoch 5 Training Loss: 2.5005                                                                                                                                                                                      \n",
      "Validation Loss:                                                                                                                                                                                                   \n",
      "2.662031407198157                                                                                                                                                                                                  \n",
      "Validation Accuracy:                                                                                                                                                                                               \n",
      "0.06295050456511293                                                                                                                                                                                                \n",
      "Hyperparameters:                                                                                                                                                                                                   \n",
      "{'batch_size': 80.0, 'dropout_rate': 0.36540808664680413, 'gamma': 4.314209796229656, 'hidden_dim': 163.0, 'learning_rate': 0.00024007095386919616, 'num_layers': 3.0, 'weight_decay': 7.464894522056071e-06}      \n",
      "Loading existing valid indices from metadata                                                                                                                                                                       \n",
      "Found 10409 processed documents                                                                                                                                                                                    \n",
      " 70%|█████████████████████████████████████████████████████████████████████████████████████████████▊                                        | 28/40 [15:37:57<5:19:37, 1598.16s/trial, best loss: 2.182446499331418]"
     ]
    },
    {
     "data": {
      "application/vnd.jupyter.widget-view+json": {
       "model_id": "871d37277b404063af7bcb439c9b7add",
       "version_major": 2,
       "version_minor": 0
      },
      "text/plain": [
       "Epoch 1:   0%|                                                              | 0/105 [00:00<?, ?it/s]"
      ]
     },
     "metadata": {},
     "output_type": "display_data"
    },
    {
     "name": "stdout",
     "output_type": "stream",
     "text": [
      "Epoch 1 Training Loss: 2.5080                                                                                                                                                                                      \n",
      " 70%|█████████████████████████████████████████████████████████████████████████████████████████████▊                                        | 28/40 [15:43:48<5:19:37, 1598.16s/trial, best loss: 2.182446499331418]"
     ]
    },
    {
     "data": {
      "application/vnd.jupyter.widget-view+json": {
       "model_id": "6da3a76aa885494f86a8d37392cce3d5",
       "version_major": 2,
       "version_minor": 0
      },
      "text/plain": [
       "Epoch 2:   0%|                                                              | 0/105 [00:00<?, ?it/s]"
      ]
     },
     "metadata": {},
     "output_type": "display_data"
    },
    {
     "name": "stdout",
     "output_type": "stream",
     "text": [
      "Epoch 2 Training Loss: 2.5056                                                                                                                                                                                      \n",
      " 70%|█████████████████████████████████████████████████████████████████████████████████████████████▊                                        | 28/40 [15:49:16<5:19:37, 1598.16s/trial, best loss: 2.182446499331418]"
     ]
    },
    {
     "data": {
      "application/vnd.jupyter.widget-view+json": {
       "model_id": "7a7b6e11516148ffa59e4d4c32167f36",
       "version_major": 2,
       "version_minor": 0
      },
      "text/plain": [
       "Epoch 3:   0%|                                                              | 0/105 [00:00<?, ?it/s]"
      ]
     },
     "metadata": {},
     "output_type": "display_data"
    },
    {
     "name": "stdout",
     "output_type": "stream",
     "text": [
      "Epoch 3 Training Loss: 2.5146                                                                                                                                                                                      \n",
      " 70%|█████████████████████████████████████████████████████████████████████████████████████████████▊                                        | 28/40 [15:54:42<5:19:37, 1598.16s/trial, best loss: 2.182446499331418]"
     ]
    },
    {
     "data": {
      "application/vnd.jupyter.widget-view+json": {
       "model_id": "08f9b02595694cfaadcf6b2d5b833c28",
       "version_major": 2,
       "version_minor": 0
      },
      "text/plain": [
       "Epoch 4:   0%|                                                              | 0/105 [00:00<?, ?it/s]"
      ]
     },
     "metadata": {},
     "output_type": "display_data"
    },
    {
     "name": "stdout",
     "output_type": "stream",
     "text": [
      "Epoch 4 Training Loss: 2.5010                                                                                                                                                                                      \n",
      " 70%|█████████████████████████████████████████████████████████████████████████████████████████████▊                                        | 28/40 [15:59:58<5:19:37, 1598.16s/trial, best loss: 2.182446499331418]"
     ]
    },
    {
     "data": {
      "application/vnd.jupyter.widget-view+json": {
       "model_id": "898ad7c9fe7a4fe1ad08bda1a90df3fe",
       "version_major": 2,
       "version_minor": 0
      },
      "text/plain": [
       "Epoch 5:   0%|                                                              | 0/105 [00:00<?, ?it/s]"
      ]
     },
     "metadata": {},
     "output_type": "display_data"
    },
    {
     "name": "stdout",
     "output_type": "stream",
     "text": [
      "Epoch 5 Training Loss: 2.4906                                                                                                                                                                                      \n",
      "Validation Loss:                                                                                                                                                                                                   \n",
      "2.4780904266917037                                                                                                                                                                                                 \n",
      "Validation Accuracy:                                                                                                                                                                                               \n",
      "0.05382027871215762                                                                                                                                                                                                \n",
      "Hyperparameters:                                                                                                                                                                                                   \n",
      "{'batch_size': 320.0, 'dropout_rate': 0.24645627080554372, 'gamma': 4.132724409955915, 'hidden_dim': 128.0, 'learning_rate': 0.00014725782001467154, 'num_layers': 3.0, 'weight_decay': 4.208558991904885e-05}     \n",
      "Loading existing valid indices from metadata                                                                                                                                                                       \n",
      "Found 10409 processed documents                                                                                                                                                                                    \n",
      " 72%|█████████████████████████████████████████████████████████████████████████████████████████████████▏                                    | 29/40 [16:05:57<4:57:29, 1622.67s/trial, best loss: 2.182446499331418]"
     ]
    },
    {
     "data": {
      "application/vnd.jupyter.widget-view+json": {
       "model_id": "8f2a2f7016d84f36b7b1e1bf30a02c51",
       "version_major": 2,
       "version_minor": 0
      },
      "text/plain": [
       "Epoch 1:   0%|                                                               | 0/27 [00:00<?, ?it/s]"
      ]
     },
     "metadata": {},
     "output_type": "display_data"
    },
    {
     "name": "stdout",
     "output_type": "stream",
     "text": [
      "Epoch 1 Training Loss: 2.4952                                                                                                                                                                                      \n",
      " 72%|█████████████████████████████████████████████████████████████████████████████████████████████████▏                                    | 29/40 [16:10:43<4:57:29, 1622.67s/trial, best loss: 2.182446499331418]"
     ]
    },
    {
     "data": {
      "application/vnd.jupyter.widget-view+json": {
       "model_id": "4768047a9ead450e9beb4f8cbb7a6864",
       "version_major": 2,
       "version_minor": 0
      },
      "text/plain": [
       "Epoch 2:   0%|                                                               | 0/27 [00:00<?, ?it/s]"
      ]
     },
     "metadata": {},
     "output_type": "display_data"
    },
    {
     "name": "stdout",
     "output_type": "stream",
     "text": [
      "Epoch 2 Training Loss: 2.5216                                                                                                                                                                                      \n",
      " 72%|█████████████████████████████████████████████████████████████████████████████████████████████████▏                                    | 29/40 [16:15:09<4:57:29, 1622.67s/trial, best loss: 2.182446499331418]"
     ]
    },
    {
     "data": {
      "application/vnd.jupyter.widget-view+json": {
       "model_id": "52d4031955d947d7a6fd21ca90f1e42a",
       "version_major": 2,
       "version_minor": 0
      },
      "text/plain": [
       "Epoch 3:   0%|                                                               | 0/27 [00:00<?, ?it/s]"
      ]
     },
     "metadata": {},
     "output_type": "display_data"
    },
    {
     "name": "stdout",
     "output_type": "stream",
     "text": [
      "Epoch 3 Training Loss: 2.5180                                                                                                                                                                                      \n",
      " 72%|█████████████████████████████████████████████████████████████████████████████████████████████████▏                                    | 29/40 [16:19:34<4:57:29, 1622.67s/trial, best loss: 2.182446499331418]"
     ]
    },
    {
     "data": {
      "application/vnd.jupyter.widget-view+json": {
       "model_id": "822aa83b82bc4a70b4c890f6bd384b10",
       "version_major": 2,
       "version_minor": 0
      },
      "text/plain": [
       "Epoch 4:   0%|                                                               | 0/27 [00:00<?, ?it/s]"
      ]
     },
     "metadata": {},
     "output_type": "display_data"
    },
    {
     "name": "stdout",
     "output_type": "stream",
     "text": [
      "Epoch 4 Training Loss: 2.5940                                                                                                                                                                                      \n",
      " 72%|█████████████████████████████████████████████████████████████████████████████████████████████████▏                                    | 29/40 [16:24:00<4:57:29, 1622.67s/trial, best loss: 2.182446499331418]"
     ]
    },
    {
     "data": {
      "application/vnd.jupyter.widget-view+json": {
       "model_id": "3e99e8cfc9ee4d96b05f3afa43d5a253",
       "version_major": 2,
       "version_minor": 0
      },
      "text/plain": [
       "Epoch 5:   0%|                                                               | 0/27 [00:00<?, ?it/s]"
      ]
     },
     "metadata": {},
     "output_type": "display_data"
    },
    {
     "name": "stdout",
     "output_type": "stream",
     "text": [
      "Epoch 5 Training Loss: 2.5155                                                                                                                                                                                      \n",
      "Validation Loss:                                                                                                                                                                                                   \n",
      "2.5465536347837876                                                                                                                                                                                                 \n",
      "Validation Accuracy:                                                                                                                                                                                               \n",
      "0.0490148966842864                                                                                                                                                                                                 \n",
      "Hyperparameters:                                                                                                                                                                                                   \n",
      "{'batch_size': 16.0, 'dropout_rate': 0.15286625396363637, 'gamma': 4.73550035167323, 'hidden_dim': 76.0, 'learning_rate': 1.127609617252069e-05, 'num_layers': 3.0, 'weight_decay': 2.333312182454971e-08}         \n",
      "Loading existing valid indices from metadata                                                                                                                                                                       \n",
      "Found 10409 processed documents                                                                                                                                                                                    \n",
      " 75%|████████████████████████████████████████████████████████████████████████████████████████████████████▌                                 | 30/40 [16:29:07<4:18:49, 1552.98s/trial, best loss: 2.182446499331418]"
     ]
    },
    {
     "data": {
      "application/vnd.jupyter.widget-view+json": {
       "model_id": "716305c7576c403fa3474cba1d535448",
       "version_major": 2,
       "version_minor": 0
      },
      "text/plain": [
       "Epoch 1:   0%|                                                              | 0/521 [00:00<?, ?it/s]"
      ]
     },
     "metadata": {},
     "output_type": "display_data"
    },
    {
     "name": "stdout",
     "output_type": "stream",
     "text": [
      "Epoch 1 Training Loss: 2.4885                                                                                                                                                                                      \n",
      " 75%|████████████████████████████████████████████████████████████████████████████████████████████████████▌                                 | 30/40 [16:32:41<4:18:49, 1552.98s/trial, best loss: 2.182446499331418]"
     ]
    },
    {
     "data": {
      "application/vnd.jupyter.widget-view+json": {
       "model_id": "3eebf1c05bdc44ba9e93fb4823a36170",
       "version_major": 2,
       "version_minor": 0
      },
      "text/plain": [
       "Epoch 2:   0%|                                                              | 0/521 [00:00<?, ?it/s]"
      ]
     },
     "metadata": {},
     "output_type": "display_data"
    },
    {
     "name": "stdout",
     "output_type": "stream",
     "text": [
      "Epoch 2 Training Loss: 2.4886                                                                                                                                                                                      \n",
      " 75%|████████████████████████████████████████████████████████████████████████████████████████████████████▌                                 | 30/40 [16:36:03<4:18:49, 1552.98s/trial, best loss: 2.182446499331418]"
     ]
    },
    {
     "data": {
      "application/vnd.jupyter.widget-view+json": {
       "model_id": "1d1231e541a14755acab1378eb939b71",
       "version_major": 2,
       "version_minor": 0
      },
      "text/plain": [
       "Epoch 3:   0%|                                                              | 0/521 [00:00<?, ?it/s]"
      ]
     },
     "metadata": {},
     "output_type": "display_data"
    },
    {
     "name": "stdout",
     "output_type": "stream",
     "text": [
      "Epoch 3 Training Loss: 2.4863                                                                                                                                                                                      \n",
      " 75%|████████████████████████████████████████████████████████████████████████████████████████████████████▌                                 | 30/40 [16:39:51<4:18:49, 1552.98s/trial, best loss: 2.182446499331418]"
     ]
    },
    {
     "data": {
      "application/vnd.jupyter.widget-view+json": {
       "model_id": "f897bf4914a9402cb5ee491e29ac193c",
       "version_major": 2,
       "version_minor": 0
      },
      "text/plain": [
       "Epoch 4:   0%|                                                              | 0/521 [00:00<?, ?it/s]"
      ]
     },
     "metadata": {},
     "output_type": "display_data"
    },
    {
     "name": "stdout",
     "output_type": "stream",
     "text": [
      "Epoch 4 Training Loss: 2.4815                                                                                                                                                                                      \n",
      " 75%|████████████████████████████████████████████████████████████████████████████████████████████████████▌                                 | 30/40 [16:43:13<4:18:49, 1552.98s/trial, best loss: 2.182446499331418]"
     ]
    },
    {
     "data": {
      "application/vnd.jupyter.widget-view+json": {
       "model_id": "9f4b8c31096b4c369399b781755cc2e8",
       "version_major": 2,
       "version_minor": 0
      },
      "text/plain": [
       "Epoch 5:   0%|                                                              | 0/521 [00:00<?, ?it/s]"
      ]
     },
     "metadata": {},
     "output_type": "display_data"
    },
    {
     "name": "stdout",
     "output_type": "stream",
     "text": [
      "Epoch 5 Training Loss: 2.4732                                                                                                                                                                                      \n",
      "Validation Loss:                                                                                                                                                                                                   \n",
      "2.347207302126473                                                                                                                                                                                                  \n",
      "Validation Accuracy:                                                                                                                                                                                               \n",
      "0.03748197981739548                                                                                                                                                                                                \n",
      "Hyperparameters:                                                                                                                                                                                                   \n",
      "{'batch_size': 96.0, 'dropout_rate': 0.46883962978803473, 'gamma': 2.7276141121804973, 'hidden_dim': 153.0, 'learning_rate': 7.109710066840054e-05, 'num_layers': 3.0, 'weight_decay': 4.0895367001903256e-07}     \n",
      "Loading existing valid indices from metadata                                                                                                                                                                       \n",
      "Found 10409 processed documents                                                                                                                                                                                    \n",
      " 78%|███████████████████████████████████████████████████████████████████████████████████████████████████████▊                              | 31/40 [16:47:12<3:31:53, 1412.66s/trial, best loss: 2.182446499331418]"
     ]
    },
    {
     "data": {
      "application/vnd.jupyter.widget-view+json": {
       "model_id": "5f996503af624e54bb6329e24c1937f5",
       "version_major": 2,
       "version_minor": 0
      },
      "text/plain": [
       "Epoch 1:   0%|                                                               | 0/87 [00:00<?, ?it/s]"
      ]
     },
     "metadata": {},
     "output_type": "display_data"
    },
    {
     "name": "stdout",
     "output_type": "stream",
     "text": [
      "Epoch 1 Training Loss: 2.6995                                                                                                                                                                                      \n",
      " 78%|███████████████████████████████████████████████████████████████████████████████████████████████████████▊                              | 31/40 [16:52:33<3:31:53, 1412.66s/trial, best loss: 2.182446499331418]"
     ]
    },
    {
     "data": {
      "application/vnd.jupyter.widget-view+json": {
       "model_id": "2e7b09995ac34fe8b2a98680742924db",
       "version_major": 2,
       "version_minor": 0
      },
      "text/plain": [
       "Epoch 2:   0%|                                                               | 0/87 [00:00<?, ?it/s]"
      ]
     },
     "metadata": {},
     "output_type": "display_data"
    },
    {
     "name": "stdout",
     "output_type": "stream",
     "text": [
      "Epoch 2 Training Loss: 2.6943                                                                                                                                                                                      \n",
      " 78%|███████████████████████████████████████████████████████████████████████████████████████████████████████▊                              | 31/40 [16:57:42<3:31:53, 1412.66s/trial, best loss: 2.182446499331418]"
     ]
    },
    {
     "data": {
      "application/vnd.jupyter.widget-view+json": {
       "model_id": "2f6cad62cfed44c68da9aa8f2e1d70fd",
       "version_major": 2,
       "version_minor": 0
      },
      "text/plain": [
       "Epoch 3:   0%|                                                               | 0/87 [00:00<?, ?it/s]"
      ]
     },
     "metadata": {},
     "output_type": "display_data"
    },
    {
     "name": "stdout",
     "output_type": "stream",
     "text": [
      "Epoch 3 Training Loss: 2.6943                                                                                                                                                                                      \n",
      " 78%|███████████████████████████████████████████████████████████████████████████████████████████████████████▊                              | 31/40 [17:03:00<3:31:53, 1412.66s/trial, best loss: 2.182446499331418]"
     ]
    },
    {
     "data": {
      "application/vnd.jupyter.widget-view+json": {
       "model_id": "72b6169ee5d24a588bc933a9ac2ae409",
       "version_major": 2,
       "version_minor": 0
      },
      "text/plain": [
       "Epoch 4:   0%|                                                               | 0/87 [00:00<?, ?it/s]"
      ]
     },
     "metadata": {},
     "output_type": "display_data"
    },
    {
     "name": "stdout",
     "output_type": "stream",
     "text": [
      "Epoch 4 Training Loss: 2.6946                                                                                                                                                                                      \n",
      " 78%|███████████████████████████████████████████████████████████████████████████████████████████████████████▊                              | 31/40 [17:08:05<3:31:53, 1412.66s/trial, best loss: 2.182446499331418]"
     ]
    },
    {
     "data": {
      "application/vnd.jupyter.widget-view+json": {
       "model_id": "b662937171da4d0089e997197371c372",
       "version_major": 2,
       "version_minor": 0
      },
      "text/plain": [
       "Epoch 5:   0%|                                                               | 0/87 [00:00<?, ?it/s]"
      ]
     },
     "metadata": {},
     "output_type": "display_data"
    },
    {
     "name": "stdout",
     "output_type": "stream",
     "text": [
      "Epoch 5 Training Loss: 2.6884                                                                                                                                                                                      \n",
      "Validation Loss:                                                                                                                                                                                                   \n",
      "2.671010462725638                                                                                                                                                                                                  \n",
      "Validation Accuracy:                                                                                                                                                                                               \n",
      "0.019221528111484865                                                                                                                                                                                               \n",
      "Hyperparameters:                                                                                                                                                                                                   \n",
      "{'batch_size': 208.0, 'dropout_rate': 0.21479960494497574, 'gamma': 3.792281533405443, 'hidden_dim': 211.0, 'learning_rate': 0.00030162563165667654, 'num_layers': 3.0, 'weight_decay': 1.0032652330072369e-08}    \n",
      "Loading existing valid indices from metadata                                                                                                                                                                       \n",
      "Found 10409 processed documents                                                                                                                                                                                    \n",
      " 80%|███████████████████████████████████████████████████████████████████████████████████████████████████████████▏                          | 32/40 [17:13:49<3:15:42, 1467.80s/trial, best loss: 2.182446499331418]"
     ]
    },
    {
     "data": {
      "application/vnd.jupyter.widget-view+json": {
       "model_id": "d82e605c0f48410c84e2e3eb75ad6d22",
       "version_major": 2,
       "version_minor": 0
      },
      "text/plain": [
       "Epoch 1:   0%|                                                               | 0/41 [00:00<?, ?it/s]"
      ]
     },
     "metadata": {},
     "output_type": "display_data"
    },
    {
     "name": "stdout",
     "output_type": "stream",
     "text": [
      "Epoch 1 Training Loss: 2.5329                                                                                                                                                                                      \n",
      " 80%|███████████████████████████████████████████████████████████████████████████████████████████████████████████▏                          | 32/40 [17:29:22<3:15:42, 1467.80s/trial, best loss: 2.182446499331418]"
     ]
    },
    {
     "data": {
      "application/vnd.jupyter.widget-view+json": {
       "model_id": "cc229d3c3195453085147cf98f7d32e0",
       "version_major": 2,
       "version_minor": 0
      },
      "text/plain": [
       "Epoch 2:   0%|                                                               | 0/41 [00:00<?, ?it/s]"
      ]
     },
     "metadata": {},
     "output_type": "display_data"
    },
    {
     "name": "stdout",
     "output_type": "stream",
     "text": [
      "Epoch 2 Training Loss: 2.5138                                                                                                                                                                                      \n",
      " 80%|███████████████████████████████████████████████████████████████████████████████████████████████████████████▏                          | 32/40 [17:49:19<3:15:42, 1467.80s/trial, best loss: 2.182446499331418]"
     ]
    },
    {
     "data": {
      "application/vnd.jupyter.widget-view+json": {
       "model_id": "fec165f328eb42aab4a1d014ff333ee2",
       "version_major": 2,
       "version_minor": 0
      },
      "text/plain": [
       "Epoch 3:   0%|                                                               | 0/41 [00:00<?, ?it/s]"
      ]
     },
     "metadata": {},
     "output_type": "display_data"
    },
    {
     "name": "stdout",
     "output_type": "stream",
     "text": [
      "Epoch 3 Training Loss: 2.5588                                                                                                                                                                                      \n",
      " 80%|███████████████████████████████████████████████████████████████████████████████████████████████████████████▏                          | 32/40 [18:10:54<3:15:42, 1467.80s/trial, best loss: 2.182446499331418]"
     ]
    },
    {
     "data": {
      "application/vnd.jupyter.widget-view+json": {
       "model_id": "18aff5b42a894beeb31e51abd7f484ba",
       "version_major": 2,
       "version_minor": 0
      },
      "text/plain": [
       "Epoch 4:   0%|                                                               | 0/41 [00:00<?, ?it/s]"
      ]
     },
     "metadata": {},
     "output_type": "display_data"
    },
    {
     "name": "stdout",
     "output_type": "stream",
     "text": [
      "Epoch 4 Training Loss: 2.5023                                                                                                                                                                                      \n",
      " 80%|███████████████████████████████████████████████████████████████████████████████████████████████████████████▏                          | 32/40 [18:39:43<3:15:42, 1467.80s/trial, best loss: 2.182446499331418]"
     ]
    },
    {
     "data": {
      "application/vnd.jupyter.widget-view+json": {
       "model_id": "bd274e97db1b4ed09a880e281a6326db",
       "version_major": 2,
       "version_minor": 0
      },
      "text/plain": [
       "Epoch 5:   0%|                                                               | 0/41 [00:00<?, ?it/s]"
      ]
     },
     "metadata": {},
     "output_type": "display_data"
    },
    {
     "name": "stdout",
     "output_type": "stream",
     "text": [
      "Epoch 5 Training Loss: 2.4937                                                                                                                                                                                      \n",
      "Validation Loss:                                                                                                                                                                                                   \n",
      "2.516219807037764                                                                                                                                                                                                  \n",
      "Validation Accuracy:                                                                                                                                                                                               \n",
      "0.07688611244593946                                                                                                                                                                                                \n",
      "Hyperparameters:                                                                                                                                                                                                   \n",
      "{'batch_size': 16.0, 'dropout_rate': 0.30131546682407934, 'gamma': 4.464033744188626, 'hidden_dim': 183.0, 'learning_rate': 0.00046161047181568797, 'num_layers': 3.0, 'weight_decay': 2.2712754277211737e-06}     \n",
      "Loading existing valid indices from metadata                                                                                                                                                                       \n",
      "Found 10409 processed documents                                                                                                                                                                                    \n",
      " 82%|██████████████████████████████████████████████████████████████████████████████████████████████████████████████▌                       | 33/40 [19:08:28<6:00:36, 3090.89s/trial, best loss: 2.182446499331418]"
     ]
    },
    {
     "data": {
      "application/vnd.jupyter.widget-view+json": {
       "model_id": "ed7bed35777b4293a17af991b557c844",
       "version_major": 2,
       "version_minor": 0
      },
      "text/plain": [
       "Epoch 1:   0%|                                                              | 0/521 [00:00<?, ?it/s]"
      ]
     },
     "metadata": {},
     "output_type": "display_data"
    },
    {
     "name": "stdout",
     "output_type": "stream",
     "text": [
      "Epoch 1 Training Loss: 2.5012                                                                                                                                                                                      \n",
      " 82%|██████████████████████████████████████████████████████████████████████████████████████████████████████████████▌                       | 33/40 [19:19:08<6:00:36, 3090.89s/trial, best loss: 2.182446499331418]"
     ]
    },
    {
     "data": {
      "application/vnd.jupyter.widget-view+json": {
       "model_id": "0719536c904e41caa8e3ef58dfcf6040",
       "version_major": 2,
       "version_minor": 0
      },
      "text/plain": [
       "Epoch 2:   0%|                                                              | 0/521 [00:00<?, ?it/s]"
      ]
     },
     "metadata": {},
     "output_type": "display_data"
    },
    {
     "name": "stdout",
     "output_type": "stream",
     "text": [
      "Epoch 2 Training Loss: 2.4887                                                                                                                                                                                      \n",
      " 82%|██████████████████████████████████████████████████████████████████████████████████████████████████████████████▌                       | 33/40 [19:26:03<6:00:36, 3090.89s/trial, best loss: 2.182446499331418]"
     ]
    },
    {
     "data": {
      "application/vnd.jupyter.widget-view+json": {
       "model_id": "76af7049b28c4d3eab688e9fafeca3e1",
       "version_major": 2,
       "version_minor": 0
      },
      "text/plain": [
       "Epoch 3:   0%|                                                              | 0/521 [00:00<?, ?it/s]"
      ]
     },
     "metadata": {},
     "output_type": "display_data"
    },
    {
     "name": "stdout",
     "output_type": "stream",
     "text": [
      "Epoch 3 Training Loss: 2.4872                                                                                                                                                                                      \n",
      " 82%|██████████████████████████████████████████████████████████████████████████████████████████████████████████████▌                       | 33/40 [19:32:59<6:00:36, 3090.89s/trial, best loss: 2.182446499331418]"
     ]
    },
    {
     "data": {
      "application/vnd.jupyter.widget-view+json": {
       "model_id": "688b47aa6c9f430191bc83c0770ac8fd",
       "version_major": 2,
       "version_minor": 0
      },
      "text/plain": [
       "Epoch 4:   0%|                                                              | 0/521 [00:00<?, ?it/s]"
      ]
     },
     "metadata": {},
     "output_type": "display_data"
    },
    {
     "name": "stdout",
     "output_type": "stream",
     "text": [
      "Epoch 4 Training Loss: 2.4568                                                                                                                                                                                      \n",
      " 82%|██████████████████████████████████████████████████████████████████████████████████████████████████████████████▌                       | 33/40 [19:40:14<6:00:36, 3090.89s/trial, best loss: 2.182446499331418]"
     ]
    },
    {
     "data": {
      "application/vnd.jupyter.widget-view+json": {
       "model_id": "b37cf1bae33f4ab19a9fb38273c58beb",
       "version_major": 2,
       "version_minor": 0
      },
      "text/plain": [
       "Epoch 5:   0%|                                                              | 0/521 [00:00<?, ?it/s]"
      ]
     },
     "metadata": {},
     "output_type": "display_data"
    },
    {
     "name": "stdout",
     "output_type": "stream",
     "text": [
      "Epoch 5 Training Loss: 2.4133                                                                                                                                                                                      \n",
      "Validation Loss:                                                                                                                                                                                                   \n",
      "2.3104964437993427                                                                                                                                                                                                 \n",
      "Validation Accuracy:                                                                                                                                                                                               \n",
      "0.08793849111004325                                                                                                                                                                                                \n",
      "Hyperparameters:                                                                                                                                                                                                   \n",
      "{'batch_size': 144.0, 'dropout_rate': 0.13925780108965358, 'gamma': 4.945978182210393, 'hidden_dim': 94.0, 'learning_rate': 0.0006829623509046656, 'num_layers': 3.0, 'weight_decay': 6.109178536512473e-08}       \n",
      "Loading existing valid indices from metadata                                                                                                                                                                       \n",
      "Found 10409 processed documents                                                                                                                                                                                    \n",
      " 85%|█████████████████████████████████████████████████████████████████████████████████████████████████████████████████▉                    | 34/40 [19:47:47<4:47:10, 2871.80s/trial, best loss: 2.182446499331418]"
     ]
    },
    {
     "data": {
      "application/vnd.jupyter.widget-view+json": {
       "model_id": "7936b32f958e4285ae34c4a198ecc1d8",
       "version_major": 2,
       "version_minor": 0
      },
      "text/plain": [
       "Epoch 1:   0%|                                                               | 0/58 [00:00<?, ?it/s]"
      ]
     },
     "metadata": {},
     "output_type": "display_data"
    },
    {
     "name": "stdout",
     "output_type": "stream",
     "text": [
      "Epoch 1 Training Loss: 2.4730                                                                                                                                                                                      \n",
      " 85%|█████████████████████████████████████████████████████████████████████████████████████████████████████████████████▉                    | 34/40 [19:52:00<4:47:10, 2871.80s/trial, best loss: 2.182446499331418]"
     ]
    },
    {
     "data": {
      "application/vnd.jupyter.widget-view+json": {
       "model_id": "6121e10d6c684d16b0752fa475e998ad",
       "version_major": 2,
       "version_minor": 0
      },
      "text/plain": [
       "Epoch 2:   0%|                                                               | 0/58 [00:00<?, ?it/s]"
      ]
     },
     "metadata": {},
     "output_type": "display_data"
    },
    {
     "name": "stdout",
     "output_type": "stream",
     "text": [
      "Epoch 2 Training Loss: 2.4444                                                                                                                                                                                      \n",
      " 85%|█████████████████████████████████████████████████████████████████████████████████████████████████████████████████▉                    | 34/40 [19:55:55<4:47:10, 2871.80s/trial, best loss: 2.182446499331418]"
     ]
    },
    {
     "data": {
      "application/vnd.jupyter.widget-view+json": {
       "model_id": "8b9764a6c2d84007ad08eacc43d051cf",
       "version_major": 2,
       "version_minor": 0
      },
      "text/plain": [
       "Epoch 3:   0%|                                                               | 0/58 [00:00<?, ?it/s]"
      ]
     },
     "metadata": {},
     "output_type": "display_data"
    },
    {
     "name": "stdout",
     "output_type": "stream",
     "text": [
      "Epoch 3 Training Loss: 2.4151                                                                                                                                                                                      \n",
      " 85%|█████████████████████████████████████████████████████████████████████████████████████████████████████████████████▉                    | 34/40 [19:59:46<4:47:10, 2871.80s/trial, best loss: 2.182446499331418]"
     ]
    },
    {
     "data": {
      "application/vnd.jupyter.widget-view+json": {
       "model_id": "b0a7b966ea4445dea802cfd49be496ba",
       "version_major": 2,
       "version_minor": 0
      },
      "text/plain": [
       "Epoch 4:   0%|                                                               | 0/58 [00:00<?, ?it/s]"
      ]
     },
     "metadata": {},
     "output_type": "display_data"
    },
    {
     "name": "stdout",
     "output_type": "stream",
     "text": [
      "Epoch 4 Training Loss: 2.3807                                                                                                                                                                                      \n",
      " 85%|█████████████████████████████████████████████████████████████████████████████████████████████████████████████████▉                    | 34/40 [20:03:37<4:47:10, 2871.80s/trial, best loss: 2.182446499331418]"
     ]
    },
    {
     "data": {
      "application/vnd.jupyter.widget-view+json": {
       "model_id": "00fef3ddd9cd4c69940d4a1f8917ef59",
       "version_major": 2,
       "version_minor": 0
      },
      "text/plain": [
       "Epoch 5:   0%|                                                               | 0/58 [00:00<?, ?it/s]"
      ]
     },
     "metadata": {},
     "output_type": "display_data"
    },
    {
     "name": "stdout",
     "output_type": "stream",
     "text": [
      "Epoch 5 Training Loss: 2.3242                                                                                                                                                                                      \n",
      "Validation Loss:                                                                                                                                                                                                   \n",
      "2.2991909544265137                                                                                                                                                                                                 \n",
      "Validation Accuracy:                                                                                                                                                                                               \n",
      "0.09658817876021143                                                                                                                                                                                                \n",
      "Hyperparameters:                                                                                                                                                                                                   \n",
      "{'batch_size': 288.0, 'dropout_rate': 0.3354853730808955, 'gamma': 2.608367795228134, 'hidden_dim': 168.0, 'learning_rate': 4.580483596071501e-05, 'num_layers': 2.0, 'weight_decay': 1.9340338949800462e-08}      \n",
      "Loading existing valid indices from metadata                                                                                                                                                                       \n",
      "Found 10409 processed documents                                                                                                                                                                                    \n",
      " 88%|█████████████████████████████████████████████████████████████████████████████████████████████████████████████████████▎                | 35/40 [20:08:07<3:17:59, 2375.82s/trial, best loss: 2.182446499331418]"
     ]
    },
    {
     "data": {
      "application/vnd.jupyter.widget-view+json": {
       "model_id": "b71bf65418394d6e8ce61663246b37c8",
       "version_major": 2,
       "version_minor": 0
      },
      "text/plain": [
       "Epoch 1:   0%|                                                               | 0/29 [00:00<?, ?it/s]"
      ]
     },
     "metadata": {},
     "output_type": "display_data"
    },
    {
     "name": "stdout",
     "output_type": "stream",
     "text": [
      "Epoch 1 Training Loss: 2.7035                                                                                                                                                                                      \n",
      " 88%|█████████████████████████████████████████████████████████████████████████████████████████████████████████████████████▎                | 35/40 [20:13:38<3:17:59, 2375.82s/trial, best loss: 2.182446499331418]"
     ]
    },
    {
     "data": {
      "application/vnd.jupyter.widget-view+json": {
       "model_id": "6524b16920334b0192c827102434fc89",
       "version_major": 2,
       "version_minor": 0
      },
      "text/plain": [
       "Epoch 2:   0%|                                                               | 0/29 [00:00<?, ?it/s]"
      ]
     },
     "metadata": {},
     "output_type": "display_data"
    },
    {
     "name": "stdout",
     "output_type": "stream",
     "text": [
      "Epoch 2 Training Loss: 2.7038                                                                                                                                                                                      \n",
      " 88%|█████████████████████████████████████████████████████████████████████████████████████████████████████████████████████▎                | 35/40 [20:18:58<3:17:59, 2375.82s/trial, best loss: 2.182446499331418]"
     ]
    },
    {
     "data": {
      "application/vnd.jupyter.widget-view+json": {
       "model_id": "30c6e35ea9824e408646e420d9385328",
       "version_major": 2,
       "version_minor": 0
      },
      "text/plain": [
       "Epoch 3:   0%|                                                               | 0/29 [00:00<?, ?it/s]"
      ]
     },
     "metadata": {},
     "output_type": "display_data"
    },
    {
     "name": "stdout",
     "output_type": "stream",
     "text": [
      "Epoch 3 Training Loss: 2.7032                                                                                                                                                                                      \n",
      " 88%|█████████████████████████████████████████████████████████████████████████████████████████████████████████████████████▎                | 35/40 [20:24:18<3:17:59, 2375.82s/trial, best loss: 2.182446499331418]"
     ]
    },
    {
     "data": {
      "application/vnd.jupyter.widget-view+json": {
       "model_id": "fe17464d39b44c49bc655c6193adc23b",
       "version_major": 2,
       "version_minor": 0
      },
      "text/plain": [
       "Epoch 4:   0%|                                                               | 0/29 [00:00<?, ?it/s]"
      ]
     },
     "metadata": {},
     "output_type": "display_data"
    },
    {
     "name": "stdout",
     "output_type": "stream",
     "text": [
      "Epoch 4 Training Loss: 2.7034                                                                                                                                                                                      \n",
      " 88%|█████████████████████████████████████████████████████████████████████████████████████████████████████████████████████▎                | 35/40 [20:29:32<3:17:59, 2375.82s/trial, best loss: 2.182446499331418]"
     ]
    },
    {
     "data": {
      "application/vnd.jupyter.widget-view+json": {
       "model_id": "45a18b3e729243e4af5a29512139be38",
       "version_major": 2,
       "version_minor": 0
      },
      "text/plain": [
       "Epoch 5:   0%|                                                               | 0/29 [00:00<?, ?it/s]"
      ]
     },
     "metadata": {},
     "output_type": "display_data"
    },
    {
     "name": "stdout",
     "output_type": "stream",
     "text": [
      "Epoch 5 Training Loss: 2.6967                                                                                                                                                                                      \n",
      "Validation Loss:                                                                                                                                                                                                   \n",
      "2.8159958977128725                                                                                                                                                                                                 \n",
      "Validation Accuracy:                                                                                                                                                                                               \n",
      "0.052378664103796255                                                                                                                                                                                               \n",
      "Hyperparameters:                                                                                                                                                                                                   \n",
      "{'batch_size': 208.0, 'dropout_rate': 0.4142271814554498, 'gamma': 2.0808520523962164, 'hidden_dim': 105.0, 'learning_rate': 0.000263203038301028, 'num_layers': 2.0, 'weight_decay': 1.0042607506856318e-08}      \n",
      "Loading existing valid indices from metadata                                                                                                                                                                       \n",
      "Found 10409 processed documents                                                                                                                                                                                    \n",
      " 90%|████████████████████████████████████████████████████████████████████████████████████████████████████████████████████████▌             | 36/40 [20:35:34<2:23:50, 2157.63s/trial, best loss: 2.182446499331418]"
     ]
    },
    {
     "data": {
      "application/vnd.jupyter.widget-view+json": {
       "model_id": "db5462339dcd4c5285d5c05981c14bcf",
       "version_major": 2,
       "version_minor": 0
      },
      "text/plain": [
       "Epoch 1:   0%|                                                               | 0/41 [00:00<?, ?it/s]"
      ]
     },
     "metadata": {},
     "output_type": "display_data"
    },
    {
     "name": "stdout",
     "output_type": "stream",
     "text": [
      "Epoch 1 Training Loss: 2.7480                                                                                                                                                                                      \n",
      " 90%|████████████████████████████████████████████████████████████████████████████████████████████████████████████████████████▌             | 36/40 [20:40:14<2:23:50, 2157.63s/trial, best loss: 2.182446499331418]"
     ]
    },
    {
     "data": {
      "application/vnd.jupyter.widget-view+json": {
       "model_id": "1628792ea2e04fa896e40ba285775b94",
       "version_major": 2,
       "version_minor": 0
      },
      "text/plain": [
       "Epoch 2:   0%|                                                               | 0/41 [00:00<?, ?it/s]"
      ]
     },
     "metadata": {},
     "output_type": "display_data"
    },
    {
     "name": "stdout",
     "output_type": "stream",
     "text": [
      "Epoch 2 Training Loss: 2.7566                                                                                                                                                                                      \n",
      " 90%|████████████████████████████████████████████████████████████████████████████████████████████████████████████████████████▌             | 36/40 [20:44:17<2:23:50, 2157.63s/trial, best loss: 2.182446499331418]"
     ]
    },
    {
     "data": {
      "application/vnd.jupyter.widget-view+json": {
       "model_id": "01a4c035232c4a1c8a475552f3efed28",
       "version_major": 2,
       "version_minor": 0
      },
      "text/plain": [
       "Epoch 3:   0%|                                                               | 0/41 [00:00<?, ?it/s]"
      ]
     },
     "metadata": {},
     "output_type": "display_data"
    },
    {
     "name": "stdout",
     "output_type": "stream",
     "text": [
      "Epoch 3 Training Loss: 2.7449                                                                                                                                                                                      \n",
      " 90%|████████████████████████████████████████████████████████████████████████████████████████████████████████████████████████▌             | 36/40 [20:48:13<2:23:50, 2157.63s/trial, best loss: 2.182446499331418]"
     ]
    },
    {
     "data": {
      "application/vnd.jupyter.widget-view+json": {
       "model_id": "fa7e293abea340f3b6553f96efd88926",
       "version_major": 2,
       "version_minor": 0
      },
      "text/plain": [
       "Epoch 4:   0%|                                                               | 0/41 [00:00<?, ?it/s]"
      ]
     },
     "metadata": {},
     "output_type": "display_data"
    },
    {
     "name": "stdout",
     "output_type": "stream",
     "text": [
      "Epoch 4 Training Loss: 2.7637                                                                                                                                                                                      \n",
      " 90%|████████████████████████████████████████████████████████████████████████████████████████████████████████████████████████▌             | 36/40 [20:52:10<2:23:50, 2157.63s/trial, best loss: 2.182446499331418]"
     ]
    },
    {
     "data": {
      "application/vnd.jupyter.widget-view+json": {
       "model_id": "ef3c7096d5e44f289e65c3f732db3c39",
       "version_major": 2,
       "version_minor": 0
      },
      "text/plain": [
       "Epoch 5:   0%|                                                               | 0/41 [00:00<?, ?it/s]"
      ]
     },
     "metadata": {},
     "output_type": "display_data"
    },
    {
     "name": "stdout",
     "output_type": "stream",
     "text": [
      "Epoch 5 Training Loss: 2.7875                                                                                                                                                                                      \n",
      "Validation Loss:                                                                                                                                                                                                   \n",
      "2.7319556768269333                                                                                                                                                                                                 \n",
      "Validation Accuracy:                                                                                                                                                                                               \n",
      "0.029312830370014416                                                                                                                                                                                               \n",
      "Hyperparameters:                                                                                                                                                                                                   \n",
      "{'batch_size': 112.0, 'dropout_rate': 0.017411747730743055, 'gamma': 4.315307772406475, 'hidden_dim': 77.0, 'learning_rate': 0.00021570236049856407, 'num_layers': 3.0, 'weight_decay': 6.784729262247652e-07}     \n",
      "Loading existing valid indices from metadata                                                                                                                                                                       \n",
      "Found 10409 processed documents                                                                                                                                                                                    \n",
      " 92%|███████████████████████████████████████████████████████████████████████████████████████████████████████████████████████████▉          | 37/40 [20:56:46<1:34:35, 1891.76s/trial, best loss: 2.182446499331418]"
     ]
    },
    {
     "data": {
      "application/vnd.jupyter.widget-view+json": {
       "model_id": "1f25e6de656b4321ac5ef7c49d52f896",
       "version_major": 2,
       "version_minor": 0
      },
      "text/plain": [
       "Epoch 1:   0%|                                                               | 0/75 [00:00<?, ?it/s]"
      ]
     },
     "metadata": {},
     "output_type": "display_data"
    },
    {
     "name": "stdout",
     "output_type": "stream",
     "text": [
      "Epoch 1 Training Loss: 2.5240                                                                                                                                                                                      \n",
      " 92%|███████████████████████████████████████████████████████████████████████████████████████████████████████████████████████████▉          | 37/40 [21:00:16<1:34:35, 1891.76s/trial, best loss: 2.182446499331418]"
     ]
    },
    {
     "data": {
      "application/vnd.jupyter.widget-view+json": {
       "model_id": "f10797a04f8949f28c48c66decb74a18",
       "version_major": 2,
       "version_minor": 0
      },
      "text/plain": [
       "Epoch 2:   0%|                                                               | 0/75 [00:00<?, ?it/s]"
      ]
     },
     "metadata": {},
     "output_type": "display_data"
    },
    {
     "name": "stdout",
     "output_type": "stream",
     "text": [
      "Epoch 2 Training Loss: 2.4791                                                                                                                                                                                      \n",
      " 92%|███████████████████████████████████████████████████████████████████████████████████████████████████████████████████████████▉          | 37/40 [21:03:36<1:34:35, 1891.76s/trial, best loss: 2.182446499331418]"
     ]
    },
    {
     "data": {
      "application/vnd.jupyter.widget-view+json": {
       "model_id": "77d3456aeda143b0b893ec700b42bab2",
       "version_major": 2,
       "version_minor": 0
      },
      "text/plain": [
       "Epoch 3:   0%|                                                               | 0/75 [00:00<?, ?it/s]"
      ]
     },
     "metadata": {},
     "output_type": "display_data"
    },
    {
     "name": "stdout",
     "output_type": "stream",
     "text": [
      "Epoch 3 Training Loss: 2.4453                                                                                                                                                                                      \n",
      " 92%|███████████████████████████████████████████████████████████████████████████████████████████████████████████████████████████▉          | 37/40 [21:06:58<1:34:35, 1891.76s/trial, best loss: 2.182446499331418]"
     ]
    },
    {
     "data": {
      "application/vnd.jupyter.widget-view+json": {
       "model_id": "c9a484a9a4994c75b5b6d71992aec531",
       "version_major": 2,
       "version_minor": 0
      },
      "text/plain": [
       "Epoch 4:   0%|                                                               | 0/75 [00:00<?, ?it/s]"
      ]
     },
     "metadata": {},
     "output_type": "display_data"
    },
    {
     "name": "stdout",
     "output_type": "stream",
     "text": [
      "Epoch 4 Training Loss: 2.3986                                                                                                                                                                                      \n",
      " 92%|███████████████████████████████████████████████████████████████████████████████████████████████████████████████████████████▉          | 37/40 [21:10:28<1:34:35, 1891.76s/trial, best loss: 2.182446499331418]"
     ]
    },
    {
     "data": {
      "application/vnd.jupyter.widget-view+json": {
       "model_id": "d1b99fcd589647088e7a9a3f4282dca3",
       "version_major": 2,
       "version_minor": 0
      },
      "text/plain": [
       "Epoch 5:   0%|                                                               | 0/75 [00:00<?, ?it/s]"
      ]
     },
     "metadata": {},
     "output_type": "display_data"
    },
    {
     "name": "stdout",
     "output_type": "stream",
     "text": [
      "Epoch 5 Training Loss: 2.3424                                                                                                                                                                                      \n",
      "Validation Loss:                                                                                                                                                                                                   \n",
      "2.4233563298047134                                                                                                                                                                                                 \n",
      "Validation Accuracy:                                                                                                                                                                                               \n",
      "0.041806823642479576                                                                                                                                                                                               \n",
      "Hyperparameters:                                                                                                                                                                                                   \n",
      "{'batch_size': 432.0, 'dropout_rate': 0.04342616980453273, 'gamma': 4.755350071145808, 'hidden_dim': 235.0, 'learning_rate': 0.00017632149529708309, 'num_layers': 1.0, 'weight_decay': 0.0009072449333766968}     \n",
      "Loading existing valid indices from metadata                                                                                                                                                                       \n",
      "Found 10409 processed documents                                                                                                                                                                                    \n",
      " 95%|█████████████████████████████████████████████████████████████████████████████████████████████████████████████████████████████████▏      | 38/40 [21:14:24<54:43, 1641.60s/trial, best loss: 2.182446499331418]"
     ]
    },
    {
     "data": {
      "application/vnd.jupyter.widget-view+json": {
       "model_id": "740512d3cc724b6da53099784d5880ce",
       "version_major": 2,
       "version_minor": 0
      },
      "text/plain": [
       "Epoch 1:   0%|                                                               | 0/20 [00:00<?, ?it/s]"
      ]
     },
     "metadata": {},
     "output_type": "display_data"
    },
    {
     "name": "stdout",
     "output_type": "stream",
     "text": [
      "Epoch 1 Training Loss: 2.5145                                                                                                                                                                                      \n",
      " 95%|█████████████████████████████████████████████████████████████████████████████████████████████████████████████████████████████████▏      | 38/40 [21:22:31<54:43, 1641.60s/trial, best loss: 2.182446499331418]"
     ]
    },
    {
     "data": {
      "application/vnd.jupyter.widget-view+json": {
       "model_id": "234bb18fa1654489bd41975f540bcc1b",
       "version_major": 2,
       "version_minor": 0
      },
      "text/plain": [
       "Epoch 2:   0%|                                                               | 0/20 [00:00<?, ?it/s]"
      ]
     },
     "metadata": {},
     "output_type": "display_data"
    },
    {
     "name": "stdout",
     "output_type": "stream",
     "text": [
      "Epoch 2 Training Loss: 2.4889                                                                                                                                                                                      \n",
      " 95%|█████████████████████████████████████████████████████████████████████████████████████████████████████████████████████████████████▏      | 38/40 [21:30:24<54:43, 1641.60s/trial, best loss: 2.182446499331418]"
     ]
    },
    {
     "data": {
      "application/vnd.jupyter.widget-view+json": {
       "model_id": "50920d638b4f4bdba1cdd9b2d4289bd8",
       "version_major": 2,
       "version_minor": 0
      },
      "text/plain": [
       "Epoch 3:   0%|                                                               | 0/20 [00:00<?, ?it/s]"
      ]
     },
     "metadata": {},
     "output_type": "display_data"
    },
    {
     "name": "stdout",
     "output_type": "stream",
     "text": [
      "Epoch 3 Training Loss: 2.4696                                                                                                                                                                                      \n",
      " 95%|█████████████████████████████████████████████████████████████████████████████████████████████████████████████████████████████████▏      | 38/40 [21:38:24<54:43, 1641.60s/trial, best loss: 2.182446499331418]"
     ]
    },
    {
     "data": {
      "application/vnd.jupyter.widget-view+json": {
       "model_id": "3d7ebf34772a40f1b44d6ba201419c51",
       "version_major": 2,
       "version_minor": 0
      },
      "text/plain": [
       "Epoch 4:   0%|                                                               | 0/20 [00:00<?, ?it/s]"
      ]
     },
     "metadata": {},
     "output_type": "display_data"
    },
    {
     "name": "stdout",
     "output_type": "stream",
     "text": [
      "Epoch 4 Training Loss: 2.4735                                                                                                                                                                                      \n",
      " 95%|█████████████████████████████████████████████████████████████████████████████████████████████████████████████████████████████████▏      | 38/40 [21:46:29<54:43, 1641.60s/trial, best loss: 2.182446499331418]"
     ]
    },
    {
     "data": {
      "application/vnd.jupyter.widget-view+json": {
       "model_id": "51998bf868484570931016ef92375c2b",
       "version_major": 2,
       "version_minor": 0
      },
      "text/plain": [
       "Epoch 5:   0%|                                                               | 0/20 [00:00<?, ?it/s]"
      ]
     },
     "metadata": {},
     "output_type": "display_data"
    },
    {
     "name": "stdout",
     "output_type": "stream",
     "text": [
      "Epoch 5 Training Loss: 2.4707                                                                                                                                                                                      \n",
      "Validation Loss:                                                                                                                                                                                                   \n",
      "2.5168239424172527                                                                                                                                                                                                 \n",
      "Validation Accuracy:                                                                                                                                                                                               \n",
      "0.053339740509370494                                                                                                                                                                                               \n",
      "Hyperparameters:                                                                                                                                                                                                   \n",
      "{'batch_size': 48.0, 'dropout_rate': 0.6951756778355849, 'gamma': 0.5747978656127963, 'hidden_dim': 124.0, 'learning_rate': 0.00040843845427394155, 'num_layers': 2.0, 'weight_decay': 8.818740564284134e-06}      \n",
      "Loading existing valid indices from metadata                                                                                                                                                                       \n",
      "Found 10409 processed documents                                                                                                                                                                                    \n",
      " 98%|████████████████████████████████████████████████████████████████████████████████████████████████████████████████████████████████████▌   | 39/40 [21:55:03<31:20, 1880.94s/trial, best loss: 2.182446499331418]"
     ]
    },
    {
     "data": {
      "application/vnd.jupyter.widget-view+json": {
       "model_id": "36cb75a4e43f40f1925df35c99625bf2",
       "version_major": 2,
       "version_minor": 0
      },
      "text/plain": [
       "Epoch 1:   0%|                                                              | 0/174 [00:00<?, ?it/s]"
      ]
     },
     "metadata": {},
     "output_type": "display_data"
    },
    {
     "name": "stdout",
     "output_type": "stream",
     "text": [
      "Epoch 1 Training Loss: 3.0190                                                                                                                                                                                      \n",
      " 98%|████████████████████████████████████████████████████████████████████████████████████████████████████████████████████████████████████▌   | 39/40 [21:59:36<31:20, 1880.94s/trial, best loss: 2.182446499331418]"
     ]
    },
    {
     "data": {
      "application/vnd.jupyter.widget-view+json": {
       "model_id": "49207c1eaffe4d44b17f3d6ef93c44bd",
       "version_major": 2,
       "version_minor": 0
      },
      "text/plain": [
       "Epoch 2:   0%|                                                              | 0/174 [00:00<?, ?it/s]"
      ]
     },
     "metadata": {},
     "output_type": "display_data"
    },
    {
     "name": "stdout",
     "output_type": "stream",
     "text": [
      "Epoch 2 Training Loss: 3.0144                                                                                                                                                                                      \n",
      " 98%|████████████████████████████████████████████████████████████████████████████████████████████████████████████████████████████████████▌   | 39/40 [22:03:59<31:20, 1880.94s/trial, best loss: 2.182446499331418]"
     ]
    },
    {
     "data": {
      "application/vnd.jupyter.widget-view+json": {
       "model_id": "e7e8069f40a145e3b60f4706a9e199e3",
       "version_major": 2,
       "version_minor": 0
      },
      "text/plain": [
       "Epoch 3:   0%|                                                              | 0/174 [00:00<?, ?it/s]"
      ]
     },
     "metadata": {},
     "output_type": "display_data"
    },
    {
     "name": "stdout",
     "output_type": "stream",
     "text": [
      "Epoch 3 Training Loss: 3.0139                                                                                                                                                                                      \n",
      " 98%|████████████████████████████████████████████████████████████████████████████████████████████████████████████████████████████████████▌   | 39/40 [22:08:23<31:20, 1880.94s/trial, best loss: 2.182446499331418]"
     ]
    },
    {
     "data": {
      "application/vnd.jupyter.widget-view+json": {
       "model_id": "cc72674bc4414e2586130e3bcdb3dad2",
       "version_major": 2,
       "version_minor": 0
      },
      "text/plain": [
       "Epoch 4:   0%|                                                              | 0/174 [00:00<?, ?it/s]"
      ]
     },
     "metadata": {},
     "output_type": "display_data"
    },
    {
     "name": "stdout",
     "output_type": "stream",
     "text": [
      "Epoch 4 Training Loss: 3.0084                                                                                                                                                                                      \n",
      " 98%|████████████████████████████████████████████████████████████████████████████████████████████████████████████████████████████████████▌   | 39/40 [22:12:48<31:20, 1880.94s/trial, best loss: 2.182446499331418]"
     ]
    },
    {
     "data": {
      "application/vnd.jupyter.widget-view+json": {
       "model_id": "a73cdbbd8f0f43fbb444631f142c4701",
       "version_major": 2,
       "version_minor": 0
      },
      "text/plain": [
       "Epoch 5:   0%|                                                              | 0/174 [00:00<?, ?it/s]"
      ]
     },
     "metadata": {},
     "output_type": "display_data"
    },
    {
     "name": "stdout",
     "output_type": "stream",
     "text": [
      "Epoch 5 Training Loss: 3.0125                                                                                                                                                                                      \n",
      "Validation Loss:                                                                                                                                                                                                   \n",
      "2.8932731781711607                                                                                                                                                                                                 \n",
      "Validation Accuracy:                                                                                                                                                                                               \n",
      "0.005285920230658337                                                                                                                                                                                               \n",
      "100%|████████████████████████████████████████████████████████████████████████████████████████████████████████████████████████████████████████| 40/40 [22:17:46<00:00, 2006.67s/trial, best loss: 2.182446499331418]\n",
      "Best hyperparameters: {'batch_size': 16.0, 'dropout_rate': 0.16716698278231815, 'gamma': 4.872290015122648, 'hidden_dim': 148.0, 'learning_rate': 0.000363022060695821, 'num_layers': 3.0, 'weight_decay': 2.7910370279837748e-08}\n"
     ]
    }
   ],
   "source": [
    "import torch\n",
    "import torch.nn as nn\n",
    "import json\n",
    "from torch_geometric.loader import DataLoader\n",
    "from pathlib import Path\n",
    "import numpy as np\n",
    "from tqdm.notebook import tqdm\n",
    "from hyperopt import fmin, tpe, hp, Trials, STATUS_OK\n",
    "\n",
    "# Import your existing modules\n",
    "from src.models import CoGraphNet\n",
    "from src.data.document_dataset import DocumentGraphDataset\n",
    "from src.train import FocalLoss\n",
    "\n",
    "# -------------------------\n",
    "# Utility Functions\n",
    "# -------------------------\n",
    "def get_all_categories(train_dir: str, test_dir: str):\n",
    "    \"\"\"Get all unique categories across all datasets.\"\"\"\n",
    "    categories = set()\n",
    "    for data_dir in [train_dir, test_dir]:\n",
    "        for file in Path(data_dir).glob('*.json'):\n",
    "            with open(file, 'r', encoding='utf-8') as f:\n",
    "                doc = json.load(f)\n",
    "                if 'text' in doc and 'category' in doc and doc['text'].strip() and doc['category'].strip():\n",
    "                    categories.add(doc['category'])\n",
    "    return categories\n",
    "\n",
    "def create_dataloaders(root: str, train_dir: str, test_dir: str, batch_size: int):\n",
    "    \"\"\"Create DataLoader instances with a train/validation split.\"\"\"\n",
    "    all_categories = get_all_categories(train_dir, test_dir)\n",
    "    category_to_idx = {cat: idx for idx, cat in enumerate(sorted(all_categories))}\n",
    "    num_classes = len(category_to_idx)\n",
    "    \n",
    "    full_train_dataset = DocumentGraphDataset(\n",
    "        f\"{root}/train\", \n",
    "        train_dir, \n",
    "        category_to_idx=category_to_idx\n",
    "    )\n",
    "    \n",
    "    # Use 80% for training and 20% for validation.\n",
    "    dataset_size = len(full_train_dataset)\n",
    "    val_size = int(dataset_size * 0.2)\n",
    "    train_size = dataset_size - val_size\n",
    "    train_dataset, val_dataset = torch.utils.data.random_split(full_train_dataset, [train_size, val_size])\n",
    "    \n",
    "    train_loader = DataLoader(\n",
    "        train_dataset,\n",
    "        batch_size=batch_size,\n",
    "        shuffle=True,\n",
    "        num_workers=4,\n",
    "        pin_memory=True\n",
    "    )\n",
    "    \n",
    "    val_loader = DataLoader(\n",
    "        val_dataset,\n",
    "        batch_size=batch_size,\n",
    "        shuffle=False,\n",
    "        num_workers=4,\n",
    "        pin_memory=True\n",
    "    )\n",
    "    \n",
    "    return train_loader, val_loader, num_classes, category_to_idx\n",
    "\n",
    "def objective(params):\n",
    "    \"\"\"\n",
    "    Hyperopt objective function.\n",
    "    Trains the model for a few epochs using the provided hyperparameters and returns the validation loss.\n",
    "    \"\"\"\n",
    "    print(\"Hyperparameters:\", params)\n",
    "    device = torch.device(\"cuda\" if torch.cuda.is_available() else \"cpu\")\n",
    "    \n",
    "    # Convert batch_size to integer\n",
    "    batch_size = int(params['batch_size'])\n",
    "    root = \"processed_graphs_ohsumed\"\n",
    "    train_dir = \"processed_data_ohsumed/train\"\n",
    "    test_dir = \"processed_data_ohsumed/test\"\n",
    "    \n",
    "    # Create dataloaders\n",
    "    train_loader, val_loader, num_classes, category_to_idx = create_dataloaders(root, train_dir, test_dir, batch_size)\n",
    "    \n",
    "    # Build the model using the hyperparameters (dropout_rate added)\n",
    "    model = CoGraphNet(\n",
    "        word_in_channels=768,\n",
    "        sent_in_channels=768,\n",
    "        hidden_channels=int(params['hidden_dim']),\n",
    "        num_layers=int(params['num_layers']),\n",
    "        num_classes=num_classes,\n",
    "        dropout_rate=params['dropout_rate']\n",
    "    ).to(device)\n",
    "    \n",
    "    # Setup optimizer and criterion\n",
    "    optimizer = torch.optim.Adam(model.parameters(), lr=params['learning_rate'], weight_decay=params['weight_decay'])\n",
    "    \n",
    "    # Compute class weights from training labels\n",
    "    train_labels = torch.tensor([data.y.item() for data in train_loader.dataset])\n",
    "    class_counts = torch.bincount(train_labels)\n",
    "    total_samples = len(train_labels)\n",
    "    class_weights = total_samples / (len(class_counts) * class_counts.float())\n",
    "    class_weights = class_weights.to(device)\n",
    "    \n",
    "    criterion = FocalLoss(gamma=params['gamma'], weight=class_weights)\n",
    "    \n",
    "    num_epochs = 5  # Use a small number of epochs for hyperparameter tuning\n",
    "    for epoch in range(num_epochs):\n",
    "        model.train()\n",
    "        epoch_loss = 0.0\n",
    "        for batch in tqdm(train_loader, desc=f\"Epoch {epoch+1}\", leave=False, ncols=100):\n",
    "            # Move data to device\n",
    "            word_x = batch['word'].x.to(device)\n",
    "            word_edge_index = batch['word', 'co_occurs', 'word'].edge_index.to(device)\n",
    "            word_edge_weight = batch['word', 'co_occurs', 'word'].edge_attr.to(device)\n",
    "            word_batch = batch['word'].batch.to(device)\n",
    "            \n",
    "            sent_x = batch['sentence'].x.to(device)\n",
    "            sent_edge_index = batch['sentence', 'related_to', 'sentence'].edge_index.to(device)\n",
    "            sent_edge_weight = batch['sentence', 'related_to', 'sentence'].edge_attr.to(device)\n",
    "            sent_batch = batch['sentence'].batch.to(device)\n",
    "            \n",
    "            optimizer.zero_grad()\n",
    "            outputs = model(\n",
    "                word_x, word_edge_index, word_batch, word_edge_weight,\n",
    "                sent_x, sent_edge_index, sent_batch, sent_edge_weight\n",
    "            )\n",
    "            batch = batch.to(device)\n",
    "            curr_batch_size = batch.y.size(0)\n",
    "            loss = criterion(outputs[:curr_batch_size], batch.y)\n",
    "            loss.backward()\n",
    "            optimizer.step()\n",
    "            epoch_loss += loss.item()\n",
    "        print(f\"Epoch {epoch+1} Training Loss: {epoch_loss/len(train_loader):.4f}\")\n",
    "    \n",
    "    # Evaluate on validation set\n",
    "    model.eval()\n",
    "    total_loss = 0\n",
    "    correct = 0\n",
    "    total = 0\n",
    "    with torch.no_grad():\n",
    "        for batch in val_loader:\n",
    "            word_x = batch['word'].x.to(device)\n",
    "            word_edge_index = batch['word', 'co_occurs', 'word'].edge_index.to(device)\n",
    "            word_edge_weight = batch['word', 'co_occurs', 'word'].edge_attr.to(device)\n",
    "            word_batch = batch['word'].batch.to(device)\n",
    "            \n",
    "            sent_x = batch['sentence'].x.to(device)\n",
    "            sent_edge_index = batch['sentence', 'related_to', 'sentence'].edge_index.to(device)\n",
    "            sent_edge_weight = batch['sentence', 'related_to', 'sentence'].edge_attr.to(device)\n",
    "            sent_batch = batch['sentence'].batch.to(device)\n",
    "            \n",
    "            outputs = model(\n",
    "                word_x, word_edge_index, word_batch, word_edge_weight,\n",
    "                sent_x, sent_edge_index, sent_batch, sent_edge_weight\n",
    "            )\n",
    "            batch = batch.to(device)\n",
    "            curr_batch_size = batch.y.size(0)\n",
    "            loss = criterion(outputs[:curr_batch_size], batch.y)\n",
    "            total_loss += loss.item() * curr_batch_size\n",
    "            preds = outputs[:curr_batch_size].argmax(dim=1)\n",
    "            correct += (preds == batch.y).sum().item()\n",
    "            total += curr_batch_size\n",
    "    \n",
    "    val_loss = total_loss / total\n",
    "    val_acc = correct / total\n",
    "    print(\"Validation Loss:\", val_loss, \"Validation Accuracy:\", val_acc)\n",
    "    \n",
    "    # Hyperopt minimizes the objective, so we return the validation loss.\n",
    "    return {'loss': val_loss, 'status': STATUS_OK}\n",
    "\n",
    "if __name__ == \"__main__\":\n",
    "    # Define the hyperopt search space including batch_size and dropout_rate\n",
    "    space = {\n",
    "        'learning_rate': hp.loguniform('learning_rate', np.log(1e-5), np.log(1e-3)),\n",
    "        'gamma': hp.uniform('gamma', 0.5, 5.0),\n",
    "        'weight_decay': hp.loguniform('weight_decay', np.log(1e-8), np.log(1e-3)),\n",
    "        'hidden_dim': hp.quniform('hidden_dim', 64, 256, 1),\n",
    "        'num_layers': hp.quniform('num_layers', 1, 3, 1),\n",
    "        'batch_size': hp.quniform('batch_size', 16, 512, 16),\n",
    "        'dropout_rate': hp.uniform('dropout_rate', 0.0, 0.7)\n",
    "    }\n",
    "    \n",
    "    trials = Trials()\n",
    "    best = fmin(fn=objective, space=space, algo=tpe.suggest, max_evals=40, trials=trials)\n",
    "    print(\"Best hyperparameters:\", best)\n"
   ]
  },
  {
   "cell_type": "code",
   "execution_count": null,
   "id": "0d310757-6a18-433d-8c21-ed25cb7dd03b",
   "metadata": {},
   "outputs": [],
   "source": []
  }
 ],
 "metadata": {
  "kernelspec": {
   "display_name": "Python 3 (ipykernel)",
   "language": "python",
   "name": "python3"
  },
  "language_info": {
   "codemirror_mode": {
    "name": "ipython",
    "version": 3
   },
   "file_extension": ".py",
   "mimetype": "text/x-python",
   "name": "python",
   "nbconvert_exporter": "python",
   "pygments_lexer": "ipython3",
   "version": "3.12.9"
  }
 },
 "nbformat": 4,
 "nbformat_minor": 5
}
