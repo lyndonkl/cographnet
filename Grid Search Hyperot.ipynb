{
 "cells": [
  {
   "cell_type": "code",
   "execution_count": null,
   "id": "ad1e6afa-43c2-4f1a-bbc8-432a18246783",
   "metadata": {},
   "outputs": [
    {
     "name": "stdout",
     "output_type": "stream",
     "text": [
      "Hyperparameters:                                                                                                                                                                                                   \n",
      "{'batch_size': 240.0, 'dropout_co_graph_enabled': True, 'dropout_final_enabled': True, 'dropout_fusion_enabled': True, 'dropout_rate_co_graph': 0.37568327082839426, 'dropout_rate_final': 0.44806678000424005, 'dropout_rate_fusion': 0.28262113884054424, 'dropout_rate_sent': 0.3693619096995522, 'dropout_rate_word': 0.2591597702359594, 'dropout_sent_enabled': False, 'dropout_word_enabled': True, 'gamma': 3.0723688713184774, 'hidden_dim': 159.0, 'learning_rate': 2.211930991259955e-05, 'num_sentence_layers': 3.0, 'num_word_layers': 2.0, 'weight_decay': 2.3111427756805848e-07}\n",
      "Loading existing valid indices from metadata                                                                                                                                                                       \n",
      "Found 10409 processed documents                                                                                                                                                                                    \n",
      "  0%|                                                                                                                                                                       | 0/40 [00:03<?, ?trial/s, best loss=?]"
     ]
    },
    {
     "data": {
      "application/vnd.jupyter.widget-view+json": {
       "model_id": "599c216bf66943c6ac7bccfea639d223",
       "version_major": 2,
       "version_minor": 0
      },
      "text/plain": [
       "Epoch 1:   0%|                                                               | 0/35 [00:00<?, ?it/s]"
      ]
     },
     "metadata": {},
     "output_type": "display_data"
    },
    {
     "name": "stdout",
     "output_type": "stream",
     "text": [
      "Epoch 1 Training Loss: 2.6447                                                                                                                                                                                      \n",
      "  0%|                                                                                                                                                                       | 0/40 [07:16<?, ?trial/s, best loss=?]"
     ]
    },
    {
     "data": {
      "application/vnd.jupyter.widget-view+json": {
       "model_id": "98464091740d45c6a375a1fab5001439",
       "version_major": 2,
       "version_minor": 0
      },
      "text/plain": [
       "Epoch 2:   0%|                                                               | 0/35 [00:00<?, ?it/s]"
      ]
     },
     "metadata": {},
     "output_type": "display_data"
    },
    {
     "name": "stdout",
     "output_type": "stream",
     "text": [
      "Epoch 2 Training Loss: 2.6442                                                                                                                                                                                      \n",
      "  0%|                                                                                                                                                                       | 0/40 [16:49<?, ?trial/s, best loss=?]"
     ]
    },
    {
     "data": {
      "application/vnd.jupyter.widget-view+json": {
       "model_id": "fc3b931bfcdd43f0bb936bb547523460",
       "version_major": 2,
       "version_minor": 0
      },
      "text/plain": [
       "Epoch 3:   0%|                                                               | 0/35 [00:00<?, ?it/s]"
      ]
     },
     "metadata": {},
     "output_type": "display_data"
    },
    {
     "name": "stdout",
     "output_type": "stream",
     "text": [
      "Epoch 3 Training Loss: 2.6412                                                                                                                                                                                      \n",
      "  0%|                                                                                                                                                                       | 0/40 [27:28<?, ?trial/s, best loss=?]"
     ]
    },
    {
     "data": {
      "application/vnd.jupyter.widget-view+json": {
       "model_id": "122ad4aeda844b999f3afb8cb9027dde",
       "version_major": 2,
       "version_minor": 0
      },
      "text/plain": [
       "Epoch 4:   0%|                                                               | 0/35 [00:00<?, ?it/s]"
      ]
     },
     "metadata": {},
     "output_type": "display_data"
    },
    {
     "name": "stdout",
     "output_type": "stream",
     "text": [
      "Epoch 4 Training Loss: 2.6432                                                                                                                                                                                      \n",
      "  0%|                                                                                                                                                                       | 0/40 [38:31<?, ?trial/s, best loss=?]"
     ]
    },
    {
     "data": {
      "application/vnd.jupyter.widget-view+json": {
       "model_id": "4522d2de6ad94ee09f372ae4cb171866",
       "version_major": 2,
       "version_minor": 0
      },
      "text/plain": [
       "Epoch 5:   0%|                                                               | 0/35 [00:00<?, ?it/s]"
      ]
     },
     "metadata": {},
     "output_type": "display_data"
    },
    {
     "name": "stdout",
     "output_type": "stream",
     "text": [
      "Epoch 5 Training Loss: 2.6415                                                                                                                                                                                      \n",
      "Validation Loss:                                                                                                            \n",
      "2.6437762351863263                                                                                                          \n",
      "Validation Accuracy:                                                                                                        \n",
      "0.016818837097549257                                                                                                        \n",
      "Hyperparameters:                                                                                                            \n",
      "{'batch_size': 464.0, 'dropout_co_graph_enabled': True, 'dropout_final_enabled': False, 'dropout_fusion_enabled': True, 'dropout_rate_co_graph': 0.10997004201591283, 'dropout_rate_final': 0.47027368681989346, 'dropout_rate_fusion': 0.35119378207375196, 'dropout_rate_sent': 0.14597383690210433, 'dropout_rate_word': 0.36374175995979885, 'dropout_sent_enabled': True, 'dropout_word_enabled': False, 'gamma': 2.579586156783412, 'hidden_dim': 188.0, 'learning_rate': 0.0006482181141352205, 'num_sentence_layers': 4.0, 'num_word_layers': 1.0, 'weight_decay': 7.753592202255668e-06}\n",
      "Loading existing valid indices from metadata                                                                                \n",
      "Found 10409 processed documents                                                                                             \n",
      "  2%|█▏                                               | 1/40 [49:58<32:24:33, 2991.62s/trial, best loss: 2.6437762351863263]"
     ]
    },
    {
     "data": {
      "application/vnd.jupyter.widget-view+json": {
       "model_id": "5315a4379f784fd3af8a66a5d52893f0",
       "version_major": 2,
       "version_minor": 0
      },
      "text/plain": [
       "Epoch 1:   0%|                                                               | 0/18 [00:00<?, ?it/s]"
      ]
     },
     "metadata": {},
     "output_type": "display_data"
    },
    {
     "name": "stdout",
     "output_type": "stream",
     "text": [
      "Epoch 1 Training Loss: 2.6902                                                                                               \n",
      "  2%|█▏                                             | 1/40 [1:02:00<32:24:33, 2991.62s/trial, best loss: 2.6437762351863263]"
     ]
    },
    {
     "data": {
      "application/vnd.jupyter.widget-view+json": {
       "model_id": "5105d66904404ce5b311585d0ed83701",
       "version_major": 2,
       "version_minor": 0
      },
      "text/plain": [
       "Epoch 2:   0%|                                                               | 0/18 [00:00<?, ?it/s]"
      ]
     },
     "metadata": {},
     "output_type": "display_data"
    },
    {
     "name": "stdout",
     "output_type": "stream",
     "text": [
      "Epoch 2 Training Loss: 2.6793                                                                                               \n",
      "  2%|█▏                                             | 1/40 [1:25:47<32:24:33, 2991.62s/trial, best loss: 2.6437762351863263]"
     ]
    },
    {
     "data": {
      "application/vnd.jupyter.widget-view+json": {
       "model_id": "0b219b63b99146d590297100b939b1c1",
       "version_major": 2,
       "version_minor": 0
      },
      "text/plain": [
       "Epoch 3:   0%|                                                               | 0/18 [00:00<?, ?it/s]"
      ]
     },
     "metadata": {},
     "output_type": "display_data"
    },
    {
     "name": "stdout",
     "output_type": "stream",
     "text": [
      "Epoch 3 Training Loss: 2.6720                                                                                               \n",
      "  2%|█▏                                             | 1/40 [1:45:41<32:24:33, 2991.62s/trial, best loss: 2.6437762351863263]"
     ]
    },
    {
     "data": {
      "application/vnd.jupyter.widget-view+json": {
       "model_id": "338fac36d8d748b4b2e5718d40cd557f",
       "version_major": 2,
       "version_minor": 0
      },
      "text/plain": [
       "Epoch 4:   0%|                                                               | 0/18 [00:00<?, ?it/s]"
      ]
     },
     "metadata": {},
     "output_type": "display_data"
    },
    {
     "name": "stdout",
     "output_type": "stream",
     "text": [
      "Epoch 4 Training Loss: 2.6398                                                                                               \n",
      "  2%|█▏                                             | 1/40 [2:05:34<32:24:33, 2991.62s/trial, best loss: 2.6437762351863263]"
     ]
    },
    {
     "data": {
      "application/vnd.jupyter.widget-view+json": {
       "model_id": "7e29e50539654de8940871b76861fb99",
       "version_major": 2,
       "version_minor": 0
      },
      "text/plain": [
       "Epoch 5:   0%|                                                               | 0/18 [00:00<?, ?it/s]"
      ]
     },
     "metadata": {},
     "output_type": "display_data"
    },
    {
     "name": "stdout",
     "output_type": "stream",
     "text": [
      "Epoch 5 Training Loss: 2.5958                                                                                               \n",
      "Validation Loss:                                                                                                            \n",
      "2.5762225514933905                                                                                                          \n",
      "Validation Accuracy:                                                                                                        \n",
      "0.04324843825084094                                                                                                         \n",
      "Hyperparameters:                                                                                                            \n",
      "{'batch_size': 192.0, 'dropout_co_graph_enabled': True, 'dropout_final_enabled': False, 'dropout_fusion_enabled': False, 'dropout_rate_co_graph': 0.23788149652897347, 'dropout_rate_final': 0.250263139306006, 'dropout_rate_fusion': 0.2662343253866559, 'dropout_rate_sent': 0.3709857382304429, 'dropout_rate_word': 0.168225260316759, 'dropout_sent_enabled': False, 'dropout_word_enabled': True, 'gamma': 4.933123058482706, 'hidden_dim': 237.0, 'learning_rate': 8.04347410891539e-05, 'num_sentence_layers': 4.0, 'num_word_layers': 3.0, 'weight_decay': 2.8901381124647014e-08}\n",
      "Loading existing valid indices from metadata                                                                                \n",
      "Found 10409 processed documents                                                                                             \n",
      "  5%|██▎                                            | 2/40 [2:27:51<49:28:03, 4686.41s/trial, best loss: 2.5762225514933905]"
     ]
    },
    {
     "data": {
      "application/vnd.jupyter.widget-view+json": {
       "model_id": "8c4cda2ee7554d8c88bdb37263bc0bfc",
       "version_major": 2,
       "version_minor": 0
      },
      "text/plain": [
       "Epoch 1:   0%|                                                               | 0/44 [00:00<?, ?it/s]"
      ]
     },
     "metadata": {},
     "output_type": "display_data"
    },
    {
     "name": "stdout",
     "output_type": "stream",
     "text": [
      "Epoch 1 Training Loss: 2.4561                                                                                               \n",
      "  5%|██▎                                            | 2/40 [2:51:21<49:28:03, 4686.41s/trial, best loss: 2.5762225514933905]"
     ]
    },
    {
     "data": {
      "application/vnd.jupyter.widget-view+json": {
       "model_id": "24c133a82f7d49beb31058a98dad3a18",
       "version_major": 2,
       "version_minor": 0
      },
      "text/plain": [
       "Epoch 2:   0%|                                                               | 0/44 [00:00<?, ?it/s]"
      ]
     },
     "metadata": {},
     "output_type": "display_data"
    },
    {
     "name": "stdout",
     "output_type": "stream",
     "text": [
      "Epoch 2 Training Loss: 2.4559                                                                                               \n",
      "  5%|██▎                                            | 2/40 [3:15:15<49:28:03, 4686.41s/trial, best loss: 2.5762225514933905]"
     ]
    },
    {
     "data": {
      "application/vnd.jupyter.widget-view+json": {
       "model_id": "625f76c8e781441ab1fd1bcc7ba8a3ef",
       "version_major": 2,
       "version_minor": 0
      },
      "text/plain": [
       "Epoch 3:   0%|                                                               | 0/44 [00:00<?, ?it/s]"
      ]
     },
     "metadata": {},
     "output_type": "display_data"
    },
    {
     "name": "stdout",
     "output_type": "stream",
     "text": [
      "Epoch 3 Training Loss: 2.4374                                                                                               \n",
      "  5%|██▎                                            | 2/40 [3:40:54<49:28:03, 4686.41s/trial, best loss: 2.5762225514933905]"
     ]
    },
    {
     "data": {
      "application/vnd.jupyter.widget-view+json": {
       "model_id": "d9cebc66d33c4d79a0e8bd97e6993d54",
       "version_major": 2,
       "version_minor": 0
      },
      "text/plain": [
       "Epoch 4:   0%|                                                               | 0/44 [00:00<?, ?it/s]"
      ]
     },
     "metadata": {},
     "output_type": "display_data"
    },
    {
     "name": "stdout",
     "output_type": "stream",
     "text": [
      "Epoch 4 Training Loss: 2.4264                                                                                               \n",
      "  5%|██▎                                            | 2/40 [4:05:12<49:28:03, 4686.41s/trial, best loss: 2.5762225514933905]"
     ]
    },
    {
     "data": {
      "application/vnd.jupyter.widget-view+json": {
       "model_id": "46955f499921454899a37cd4524076c8",
       "version_major": 2,
       "version_minor": 0
      },
      "text/plain": [
       "Epoch 5:   0%|                                                               | 0/44 [00:00<?, ?it/s]"
      ]
     },
     "metadata": {},
     "output_type": "display_data"
    },
    {
     "name": "stdout",
     "output_type": "stream",
     "text": [
      "Epoch 5 Training Loss: 2.4120                                                                                               \n",
      "Validation Loss:                                                                                                            \n",
      "2.4584213063901346                                                                                                          \n",
      "Validation Accuracy:                                                                                                        \n",
      "0.0422873618452667                                                                                                          \n",
      "Hyperparameters:                                                                                                            \n",
      "{'batch_size': 176.0, 'dropout_co_graph_enabled': False, 'dropout_final_enabled': False, 'dropout_fusion_enabled': True, 'dropout_rate_co_graph': 0.33033209461046165, 'dropout_rate_final': 0.48233500144176134, 'dropout_rate_fusion': 0.16187761299043474, 'dropout_rate_sent': 0.22570492088445546, 'dropout_rate_word': 0.41582106970745625, 'dropout_sent_enabled': True, 'dropout_word_enabled': False, 'gamma': 2.5217247167459216, 'hidden_dim': 81.0, 'learning_rate': 0.0001286936645150334, 'num_sentence_layers': 3.0, 'num_word_layers': 4.0, 'weight_decay': 0.0006313092498115192}\n",
      "Loading existing valid indices from metadata                                                                                \n",
      "Found 10409 processed documents                                                                                             \n",
      "  8%|███▌                                           | 3/40 [4:26:47<59:39:55, 5805.28s/trial, best loss: 2.4584213063901346]"
     ]
    },
    {
     "data": {
      "application/vnd.jupyter.widget-view+json": {
       "model_id": "07b54578c8c64b03afcab9528cbd11b6",
       "version_major": 2,
       "version_minor": 0
      },
      "text/plain": [
       "Epoch 1:   0%|                                                               | 0/48 [00:00<?, ?it/s]"
      ]
     },
     "metadata": {},
     "output_type": "display_data"
    },
    {
     "name": "stdout",
     "output_type": "stream",
     "text": [
      "Epoch 1 Training Loss: 2.7052                                                                                               \n",
      "  8%|███▌                                           | 3/40 [4:36:41<59:39:55, 5805.28s/trial, best loss: 2.4584213063901346]"
     ]
    },
    {
     "data": {
      "application/vnd.jupyter.widget-view+json": {
       "model_id": "c60b4017bfb046afa00c03b5889719d1",
       "version_major": 2,
       "version_minor": 0
      },
      "text/plain": [
       "Epoch 2:   0%|                                                               | 0/48 [00:00<?, ?it/s]"
      ]
     },
     "metadata": {},
     "output_type": "display_data"
    },
    {
     "name": "stdout",
     "output_type": "stream",
     "text": [
      "Epoch 2 Training Loss: 2.6828                                                                                               \n",
      "  8%|███▌                                           | 3/40 [4:46:16<59:39:55, 5805.28s/trial, best loss: 2.4584213063901346]"
     ]
    },
    {
     "data": {
      "application/vnd.jupyter.widget-view+json": {
       "model_id": "48ee1f63bf2348c281078919c5b2e884",
       "version_major": 2,
       "version_minor": 0
      },
      "text/plain": [
       "Epoch 3:   0%|                                                               | 0/48 [00:00<?, ?it/s]"
      ]
     },
     "metadata": {},
     "output_type": "display_data"
    },
    {
     "name": "stdout",
     "output_type": "stream",
     "text": [
      "Epoch 3 Training Loss: 2.7084                                                                                               \n",
      "  8%|███▌                                           | 3/40 [4:55:48<59:39:55, 5805.28s/trial, best loss: 2.4584213063901346]"
     ]
    },
    {
     "data": {
      "application/vnd.jupyter.widget-view+json": {
       "model_id": "29fa055ce4724ecb9ebcfe67843c6bfd",
       "version_major": 2,
       "version_minor": 0
      },
      "text/plain": [
       "Epoch 4:   0%|                                                               | 0/48 [00:00<?, ?it/s]"
      ]
     },
     "metadata": {},
     "output_type": "display_data"
    },
    {
     "name": "stdout",
     "output_type": "stream",
     "text": [
      "Epoch 4 Training Loss: 2.6977                                                                                               \n",
      "  8%|███▌                                           | 3/40 [5:06:45<59:39:55, 5805.28s/trial, best loss: 2.4584213063901346]"
     ]
    },
    {
     "data": {
      "application/vnd.jupyter.widget-view+json": {
       "model_id": "4570670b38fb488a9639fbed96b9081f",
       "version_major": 2,
       "version_minor": 0
      },
      "text/plain": [
       "Epoch 5:   0%|                                                               | 0/48 [00:00<?, ?it/s]"
      ]
     },
     "metadata": {},
     "output_type": "display_data"
    },
    {
     "name": "stdout",
     "output_type": "stream",
     "text": [
      "Epoch 5 Training Loss: 2.7010                                                                                               \n",
      "Validation Loss:                                                                                                            \n",
      "2.698508934926551                                                                                                           \n",
      "Validation Accuracy:                                                                                                        \n",
      "0.0245074483421432                                                                                                          \n",
      "Hyperparameters:                                                                                                            \n",
      "{'batch_size': 480.0, 'dropout_co_graph_enabled': True, 'dropout_final_enabled': True, 'dropout_fusion_enabled': True, 'dropout_rate_co_graph': 0.19303381919035295, 'dropout_rate_final': 0.2612807974827452, 'dropout_rate_fusion': 0.3663588833395326, 'dropout_rate_sent': 0.1858569835580083, 'dropout_rate_word': 0.43153607317853926, 'dropout_sent_enabled': True, 'dropout_word_enabled': True, 'gamma': 4.181778326604057, 'hidden_dim': 198.0, 'learning_rate': 0.00022729308236582046, 'num_sentence_layers': 2.0, 'num_word_layers': 3.0, 'weight_decay': 8.359212631014973e-08}\n",
      "Loading existing valid indices from metadata                                                                                \n",
      "Found 10409 processed documents                                                                                             \n",
      " 10%|████▋                                          | 4/40 [5:17:23<47:06:52, 4711.46s/trial, best loss: 2.4584213063901346]"
     ]
    },
    {
     "data": {
      "application/vnd.jupyter.widget-view+json": {
       "model_id": "d9bf4f8ff3334f1fbb001797c169579c",
       "version_major": 2,
       "version_minor": 0
      },
      "text/plain": [
       "Epoch 1:   0%|                                                               | 0/18 [00:00<?, ?it/s]"
      ]
     },
     "metadata": {},
     "output_type": "display_data"
    },
    {
     "name": "stdout",
     "output_type": "stream",
     "text": [
      "Epoch 1 Training Loss: 2.5195                                                                                               \n",
      " 10%|████▋                                          | 4/40 [5:29:45<47:06:52, 4711.46s/trial, best loss: 2.4584213063901346]"
     ]
    },
    {
     "data": {
      "application/vnd.jupyter.widget-view+json": {
       "model_id": "d261f454fa14401bafd48d008027b9e1",
       "version_major": 2,
       "version_minor": 0
      },
      "text/plain": [
       "Epoch 2:   0%|                                                               | 0/18 [00:00<?, ?it/s]"
      ]
     },
     "metadata": {},
     "output_type": "display_data"
    },
    {
     "name": "stdout",
     "output_type": "stream",
     "text": [
      "Epoch 2 Training Loss: 2.5153                                                                                               \n",
      " 10%|████▋                                          | 4/40 [5:39:51<47:06:52, 4711.46s/trial, best loss: 2.4584213063901346]"
     ]
    },
    {
     "data": {
      "application/vnd.jupyter.widget-view+json": {
       "model_id": "e474f343ccbd427c8de3534a5b9382d9",
       "version_major": 2,
       "version_minor": 0
      },
      "text/plain": [
       "Epoch 3:   0%|                                                               | 0/18 [00:00<?, ?it/s]"
      ]
     },
     "metadata": {},
     "output_type": "display_data"
    },
    {
     "name": "stdout",
     "output_type": "stream",
     "text": [
      "Epoch 3 Training Loss: 2.5246                                                                                               \n",
      " 10%|████▋                                          | 4/40 [5:50:51<47:06:52, 4711.46s/trial, best loss: 2.4584213063901346]"
     ]
    },
    {
     "data": {
      "application/vnd.jupyter.widget-view+json": {
       "model_id": "1630b5393510449ba0fa04459326b344",
       "version_major": 2,
       "version_minor": 0
      },
      "text/plain": [
       "Epoch 4:   0%|                                                               | 0/18 [00:00<?, ?it/s]"
      ]
     },
     "metadata": {},
     "output_type": "display_data"
    },
    {
     "name": "stdout",
     "output_type": "stream",
     "text": [
      "Epoch 4 Training Loss: 2.5306                                                                                               \n",
      " 10%|████▋                                          | 4/40 [6:02:02<47:06:52, 4711.46s/trial, best loss: 2.4584213063901346]"
     ]
    },
    {
     "data": {
      "application/vnd.jupyter.widget-view+json": {
       "model_id": "558a0755e9a049e9889cbe9bbe5f1fba",
       "version_major": 2,
       "version_minor": 0
      },
      "text/plain": [
       "Epoch 5:   0%|                                                               | 0/18 [00:00<?, ?it/s]"
      ]
     },
     "metadata": {},
     "output_type": "display_data"
    },
    {
     "name": "stdout",
     "output_type": "stream",
     "text": [
      "Epoch 5 Training Loss: 2.5231                                                                                               \n",
      "Validation Loss:                                                                                                            \n",
      "2.4904475138772857                                                                                                          \n",
      "Validation Accuracy:                                                                                                        \n",
      "0.05430081691494474                                                                                                         \n",
      "Hyperparameters:                                                                                                            \n",
      "{'batch_size': 496.0, 'dropout_co_graph_enabled': True, 'dropout_final_enabled': True, 'dropout_fusion_enabled': False, 'dropout_rate_co_graph': 0.19750196386819352, 'dropout_rate_final': 0.24545780377970444, 'dropout_rate_fusion': 0.2944722915928638, 'dropout_rate_sent': 0.38772128637249914, 'dropout_rate_word': 0.30519399240023093, 'dropout_sent_enabled': False, 'dropout_word_enabled': False, 'gamma': 4.718349706391093, 'hidden_dim': 207.0, 'learning_rate': 1.9313818291898884e-05, 'num_sentence_layers': 5.0, 'num_word_layers': 3.0, 'weight_decay': 7.431030296132748e-05}\n",
      "Loading existing valid indices from metadata                                                                                \n",
      "Found 10409 processed documents                                                                                             \n",
      " 12%|█████▉                                         | 5/40 [6:16:21<41:41:39, 4288.55s/trial, best loss: 2.4584213063901346]"
     ]
    },
    {
     "data": {
      "application/vnd.jupyter.widget-view+json": {
       "model_id": "1cd4dc2a929d48e8a2a96e0d6c14f639",
       "version_major": 2,
       "version_minor": 0
      },
      "text/plain": [
       "Epoch 1:   0%|                                                               | 0/17 [00:00<?, ?it/s]"
      ]
     },
     "metadata": {},
     "output_type": "display_data"
    },
    {
     "name": "stdout",
     "output_type": "stream",
     "text": [
      "Epoch 1 Training Loss: 2.4937                                                                                               \n",
      " 12%|█████▉                                         | 5/40 [6:40:08<41:41:39, 4288.55s/trial, best loss: 2.4584213063901346]"
     ]
    },
    {
     "data": {
      "application/vnd.jupyter.widget-view+json": {
       "model_id": "cc3aba8683b847bbb31ba6e4dd3c0495",
       "version_major": 2,
       "version_minor": 0
      },
      "text/plain": [
       "Epoch 2:   0%|                                                               | 0/17 [00:00<?, ?it/s]"
      ]
     },
     "metadata": {},
     "output_type": "display_data"
    },
    {
     "name": "stdout",
     "output_type": "stream",
     "text": [
      "Epoch 2 Training Loss: 2.4908                                                                                               \n",
      " 12%|█████▉                                         | 5/40 [6:57:39<41:41:39, 4288.55s/trial, best loss: 2.4584213063901346]"
     ]
    },
    {
     "data": {
      "application/vnd.jupyter.widget-view+json": {
       "model_id": "cc6e2479c34d4c6bb551e7f67cebde56",
       "version_major": 2,
       "version_minor": 0
      },
      "text/plain": [
       "Epoch 3:   0%|                                                               | 0/17 [00:00<?, ?it/s]"
      ]
     },
     "metadata": {},
     "output_type": "display_data"
    },
    {
     "name": "stdout",
     "output_type": "stream",
     "text": [
      "Epoch 3 Training Loss: 2.4940                                                                                               \n",
      " 12%|█████▉                                         | 5/40 [7:16:26<41:41:39, 4288.55s/trial, best loss: 2.4584213063901346]"
     ]
    },
    {
     "data": {
      "application/vnd.jupyter.widget-view+json": {
       "model_id": "486c35bbdfda4642b815c7d502349ae8",
       "version_major": 2,
       "version_minor": 0
      },
      "text/plain": [
       "Epoch 4:   0%|                                                               | 0/17 [00:00<?, ?it/s]"
      ]
     },
     "metadata": {},
     "output_type": "display_data"
    },
    {
     "name": "stdout",
     "output_type": "stream",
     "text": [
      "Epoch 4 Training Loss: 2.4941                                                                                               \n",
      " 12%|█████▉                                         | 5/40 [7:34:51<41:41:39, 4288.55s/trial, best loss: 2.4584213063901346]"
     ]
    },
    {
     "data": {
      "application/vnd.jupyter.widget-view+json": {
       "model_id": "3cfad1afbe1a430ab7e802ebb425425a",
       "version_major": 2,
       "version_minor": 0
      },
      "text/plain": [
       "Epoch 5:   0%|                                                               | 0/17 [00:00<?, ?it/s]"
      ]
     },
     "metadata": {},
     "output_type": "display_data"
    },
    {
     "name": "stdout",
     "output_type": "stream",
     "text": [
      "Epoch 5 Training Loss: 2.4904                                                                                               \n",
      "Validation Loss:                                                                                                            \n",
      "2.484670333940212                                                                                                           \n",
      "Validation Accuracy:                                                                                                        \n",
      "0.023546371936568958                                                                                                        \n",
      "Hyperparameters:                                                                                                            \n",
      "{'batch_size': 48.0, 'dropout_co_graph_enabled': False, 'dropout_final_enabled': False, 'dropout_fusion_enabled': True, 'dropout_rate_co_graph': 0.48588856556712734, 'dropout_rate_final': 0.30212604357261263, 'dropout_rate_fusion': 0.15097565516656988, 'dropout_rate_sent': 0.40638128461576806, 'dropout_rate_word': 0.2168409760924658, 'dropout_sent_enabled': True, 'dropout_word_enabled': True, 'gamma': 3.5157019579411397, 'hidden_dim': 161.0, 'learning_rate': 2.8170537217746674e-05, 'num_sentence_layers': 1.0, 'num_word_layers': 2.0, 'weight_decay': 9.322265049205621e-08}\n",
      "Loading existing valid indices from metadata                                                                                \n",
      "Found 10409 processed documents                                                                                             \n",
      " 15%|███████                                        | 6/40 [7:58:04<46:19:43, 4905.40s/trial, best loss: 2.4584213063901346]"
     ]
    },
    {
     "data": {
      "application/vnd.jupyter.widget-view+json": {
       "model_id": "e34cbf241cb146be81ef143c9175ec14",
       "version_major": 2,
       "version_minor": 0
      },
      "text/plain": [
       "Epoch 1:   0%|                                                              | 0/174 [00:00<?, ?it/s]"
      ]
     },
     "metadata": {},
     "output_type": "display_data"
    },
    {
     "name": "stdout",
     "output_type": "stream",
     "text": [
      "Epoch 1 Training Loss: 2.5822                                                                                               \n",
      " 15%|███████                                        | 6/40 [8:03:02<46:19:43, 4905.40s/trial, best loss: 2.4584213063901346]"
     ]
    },
    {
     "data": {
      "application/vnd.jupyter.widget-view+json": {
       "model_id": "bee6efe726d4433d9e5d3af7544616a7",
       "version_major": 2,
       "version_minor": 0
      },
      "text/plain": [
       "Epoch 2:   0%|                                                              | 0/174 [00:00<?, ?it/s]"
      ]
     },
     "metadata": {},
     "output_type": "display_data"
    },
    {
     "name": "stdout",
     "output_type": "stream",
     "text": [
      "Epoch 2 Training Loss: 2.5749                                                                                               \n",
      " 15%|███████                                        | 6/40 [8:07:59<46:19:43, 4905.40s/trial, best loss: 2.4584213063901346]"
     ]
    },
    {
     "data": {
      "application/vnd.jupyter.widget-view+json": {
       "model_id": "a292eda0856e4c4eac85efc378655193",
       "version_major": 2,
       "version_minor": 0
      },
      "text/plain": [
       "Epoch 3:   0%|                                                              | 0/174 [00:00<?, ?it/s]"
      ]
     },
     "metadata": {},
     "output_type": "display_data"
    },
    {
     "name": "stdout",
     "output_type": "stream",
     "text": [
      "Epoch 3 Training Loss: 2.5639                                                                                               \n",
      " 15%|███████                                        | 6/40 [8:12:58<46:19:43, 4905.40s/trial, best loss: 2.4584213063901346]"
     ]
    },
    {
     "data": {
      "application/vnd.jupyter.widget-view+json": {
       "model_id": "a345f9bc04a24a78831c31730ed703e7",
       "version_major": 2,
       "version_minor": 0
      },
      "text/plain": [
       "Epoch 4:   0%|                                                              | 0/174 [00:00<?, ?it/s]"
      ]
     },
     "metadata": {},
     "output_type": "display_data"
    },
    {
     "name": "stdout",
     "output_type": "stream",
     "text": [
      "Epoch 4 Training Loss: 2.5580                                                                                               \n",
      " 15%|███████                                        | 6/40 [8:18:41<46:19:43, 4905.40s/trial, best loss: 2.4584213063901346]"
     ]
    },
    {
     "data": {
      "application/vnd.jupyter.widget-view+json": {
       "model_id": "0350207e1a8e44b6b679ddf45a13a091",
       "version_major": 2,
       "version_minor": 0
      },
      "text/plain": [
       "Epoch 5:   0%|                                                              | 0/174 [00:00<?, ?it/s]"
      ]
     },
     "metadata": {},
     "output_type": "display_data"
    },
    {
     "name": "stdout",
     "output_type": "stream",
     "text": [
      "Epoch 5 Training Loss: 2.5506                                                                                               \n",
      "Validation Loss:                                                                                                            \n",
      "2.558382253816413                                                                                                           \n",
      "Validation Accuracy:                                                                                                        \n",
      "0.06198942815953868                                                                                                         \n",
      "Hyperparameters:                                                                                                            \n",
      "{'batch_size': 32.0, 'dropout_co_graph_enabled': True, 'dropout_final_enabled': False, 'dropout_fusion_enabled': True, 'dropout_rate_co_graph': 0.24156690563164288, 'dropout_rate_final': 0.16980995253681602, 'dropout_rate_fusion': 0.12599906404194658, 'dropout_rate_sent': 0.30676041303385065, 'dropout_rate_word': 0.25910191698596474, 'dropout_sent_enabled': True, 'dropout_word_enabled': True, 'gamma': 1.3407585859160904, 'hidden_dim': 102.0, 'learning_rate': 1.4245408219801382e-05, 'num_sentence_layers': 3.0, 'num_word_layers': 1.0, 'weight_decay': 1.2819732750135623e-08}\n",
      "Loading existing valid indices from metadata                                                                                \n",
      "Found 10409 processed documents                                                                                             \n",
      " 18%|████████▏                                      | 7/40 [8:24:57<35:06:00, 3829.11s/trial, best loss: 2.4584213063901346]"
     ]
    },
    {
     "data": {
      "application/vnd.jupyter.widget-view+json": {
       "model_id": "660f868e2e8d4f23851755824be5fb25",
       "version_major": 2,
       "version_minor": 0
      },
      "text/plain": [
       "Epoch 1:   0%|                                                              | 0/261 [00:00<?, ?it/s]"
      ]
     },
     "metadata": {},
     "output_type": "display_data"
    },
    {
     "name": "stdout",
     "output_type": "stream",
     "text": [
      "Epoch 1 Training Loss: 2.8597                                                                                               \n",
      " 18%|████████▏                                      | 7/40 [8:37:04<35:06:00, 3829.11s/trial, best loss: 2.4584213063901346]"
     ]
    },
    {
     "data": {
      "application/vnd.jupyter.widget-view+json": {
       "model_id": "f11e88e5454d44c8a5fec0b6ffc03e51",
       "version_major": 2,
       "version_minor": 0
      },
      "text/plain": [
       "Epoch 2:   0%|                                                              | 0/261 [00:00<?, ?it/s]"
      ]
     },
     "metadata": {},
     "output_type": "display_data"
    },
    {
     "name": "stdout",
     "output_type": "stream",
     "text": [
      "Epoch 2 Training Loss: 2.8613                                                                                               \n",
      " 18%|████████▏                                      | 7/40 [8:45:11<35:06:00, 3829.11s/trial, best loss: 2.4584213063901346]"
     ]
    },
    {
     "data": {
      "application/vnd.jupyter.widget-view+json": {
       "model_id": "cf09faed6d7346128c3e949e85c6f13e",
       "version_major": 2,
       "version_minor": 0
      },
      "text/plain": [
       "Epoch 3:   0%|                                                              | 0/261 [00:00<?, ?it/s]"
      ]
     },
     "metadata": {},
     "output_type": "display_data"
    },
    {
     "name": "stdout",
     "output_type": "stream",
     "text": [
      "Epoch 3 Training Loss: 2.8633                                                                                               \n",
      " 18%|████████▏                                      | 7/40 [8:55:23<35:06:00, 3829.11s/trial, best loss: 2.4584213063901346]"
     ]
    },
    {
     "data": {
      "application/vnd.jupyter.widget-view+json": {
       "model_id": "4d58a3acc6e34caebc905c19da9d5272",
       "version_major": 2,
       "version_minor": 0
      },
      "text/plain": [
       "Epoch 4:   0%|                                                              | 0/261 [00:00<?, ?it/s]"
      ]
     },
     "metadata": {},
     "output_type": "display_data"
    },
    {
     "name": "stdout",
     "output_type": "stream",
     "text": [
      "Epoch 4 Training Loss: 2.8601                                                                                               \n",
      " 18%|████████▏                                      | 7/40 [9:06:16<35:06:00, 3829.11s/trial, best loss: 2.4584213063901346]"
     ]
    },
    {
     "data": {
      "application/vnd.jupyter.widget-view+json": {
       "model_id": "783a15a7bc9d459c8692fd04eeec4f03",
       "version_major": 2,
       "version_minor": 0
      },
      "text/plain": [
       "Epoch 5:   0%|                                                              | 0/261 [00:00<?, ?it/s]"
      ]
     },
     "metadata": {},
     "output_type": "display_data"
    },
    {
     "name": "stdout",
     "output_type": "stream",
     "text": [
      "Epoch 5 Training Loss: 2.8606                                                                                               \n",
      "Validation Loss:                                                                                                            \n",
      "2.8699505734707174                                                                                                          \n",
      "Validation Accuracy:                                                                                                        \n",
      "0.04517059106198943                                                                                                         \n",
      "Hyperparameters:                                                                                                            \n",
      "{'batch_size': 464.0, 'dropout_co_graph_enabled': False, 'dropout_final_enabled': False, 'dropout_fusion_enabled': False, 'dropout_rate_co_graph': 0.3002390534766691, 'dropout_rate_final': 0.28371093252681967, 'dropout_rate_fusion': 0.3312492097777793, 'dropout_rate_sent': 0.28110974348604645, 'dropout_rate_word': 0.1269918143100296, 'dropout_sent_enabled': False, 'dropout_word_enabled': True, 'gamma': 2.7714706937356732, 'hidden_dim': 112.0, 'learning_rate': 1.7938396140807664e-05, 'num_sentence_layers': 3.0, 'num_word_layers': 3.0, 'weight_decay': 0.0001421126629983804}\n",
      "Loading existing valid indices from metadata                                                                                \n",
      "Found 10409 processed documents                                                                                             \n",
      " 20%|█████████▍                                     | 8/40 [9:20:53<32:41:51, 3678.49s/trial, best loss: 2.4584213063901346]"
     ]
    },
    {
     "data": {
      "application/vnd.jupyter.widget-view+json": {
       "model_id": "4331cbf219094b129b4eea51271fb8ef",
       "version_major": 2,
       "version_minor": 0
      },
      "text/plain": [
       "Epoch 1:   0%|                                                               | 0/18 [00:00<?, ?it/s]"
      ]
     },
     "metadata": {},
     "output_type": "display_data"
    },
    {
     "name": "stdout",
     "output_type": "stream",
     "text": [
      "Epoch 1 Training Loss: 2.6741                                                                                               \n",
      " 20%|█████████▍                                     | 8/40 [9:33:46<32:41:51, 3678.49s/trial, best loss: 2.4584213063901346]"
     ]
    },
    {
     "data": {
      "application/vnd.jupyter.widget-view+json": {
       "model_id": "ee659791981848fa94f81d86d8711afa",
       "version_major": 2,
       "version_minor": 0
      },
      "text/plain": [
       "Epoch 2:   0%|                                                               | 0/18 [00:00<?, ?it/s]"
      ]
     },
     "metadata": {},
     "output_type": "display_data"
    },
    {
     "name": "stdout",
     "output_type": "stream",
     "text": [
      "Epoch 2 Training Loss: 2.6742                                                                                               \n",
      " 20%|█████████▍                                     | 8/40 [9:43:37<32:41:51, 3678.49s/trial, best loss: 2.4584213063901346]"
     ]
    },
    {
     "data": {
      "application/vnd.jupyter.widget-view+json": {
       "model_id": "a16f2f05717545f1be402f7a4bb3013e",
       "version_major": 2,
       "version_minor": 0
      },
      "text/plain": [
       "Epoch 3:   0%|                                                               | 0/18 [00:00<?, ?it/s]"
      ]
     },
     "metadata": {},
     "output_type": "display_data"
    },
    {
     "name": "stdout",
     "output_type": "stream",
     "text": [
      "Epoch 3 Training Loss: 2.6742                                                                                               \n",
      " 20%|█████████▍                                     | 8/40 [9:51:50<32:41:51, 3678.49s/trial, best loss: 2.4584213063901346]"
     ]
    },
    {
     "data": {
      "application/vnd.jupyter.widget-view+json": {
       "model_id": "3b89b5ba0be04e83838d33679307cb26",
       "version_major": 2,
       "version_minor": 0
      },
      "text/plain": [
       "Epoch 4:   0%|                                                               | 0/18 [00:00<?, ?it/s]"
      ]
     },
     "metadata": {},
     "output_type": "display_data"
    },
    {
     "name": "stdout",
     "output_type": "stream",
     "text": [
      "Epoch 4 Training Loss: 2.6741                                                                                               \n",
      " 20%|█████████▏                                    | 8/40 [10:00:52<32:41:51, 3678.49s/trial, best loss: 2.4584213063901346]"
     ]
    },
    {
     "data": {
      "application/vnd.jupyter.widget-view+json": {
       "model_id": "2dc7d4616c8a439aa15fb3adaf878a6d",
       "version_major": 2,
       "version_minor": 0
      },
      "text/plain": [
       "Epoch 5:   0%|                                                               | 0/18 [00:00<?, ?it/s]"
      ]
     },
     "metadata": {},
     "output_type": "display_data"
    },
    {
     "name": "stdout",
     "output_type": "stream",
     "text": [
      "Epoch 5 Training Loss: 2.6737                                                                                               \n",
      "Validation Loss:                                                                                                            \n",
      "2.678103783794002                                                                                                           \n",
      "Validation Accuracy:                                                                                                        \n",
      "0.030754444978375782                                                                                                        \n",
      "Hyperparameters:                                                                                                            \n",
      "{'batch_size': 96.0, 'dropout_co_graph_enabled': False, 'dropout_final_enabled': True, 'dropout_fusion_enabled': True, 'dropout_rate_co_graph': 0.3780733430845882, 'dropout_rate_final': 0.27650041501072803, 'dropout_rate_fusion': 0.21238993085259184, 'dropout_rate_sent': 0.4443175256194152, 'dropout_rate_word': 0.29566238171612175, 'dropout_sent_enabled': True, 'dropout_word_enabled': False, 'gamma': 2.451419631845212, 'hidden_dim': 212.0, 'learning_rate': 3.348750368486593e-05, 'num_sentence_layers': 3.0, 'num_word_layers': 4.0, 'weight_decay': 1.9755483002134212e-06}\n",
      "Loading existing valid indices from metadata                                                                                \n",
      "Found 10409 processed documents                                                                                             \n",
      " 22%|██████████▎                                   | 9/40 [10:13:49<30:19:23, 3521.41s/trial, best loss: 2.4584213063901346]"
     ]
    },
    {
     "data": {
      "application/vnd.jupyter.widget-view+json": {
       "model_id": "3321e105ea044f3bbf31f5ad51427001",
       "version_major": 2,
       "version_minor": 0
      },
      "text/plain": [
       "Epoch 1:   0%|                                                               | 0/87 [00:00<?, ?it/s]"
      ]
     },
     "metadata": {},
     "output_type": "display_data"
    },
    {
     "name": "stdout",
     "output_type": "stream",
     "text": [
      "Epoch 1 Training Loss: 2.7061                                                                                               \n",
      " 22%|██████████▎                                   | 9/40 [10:32:05<30:19:23, 3521.41s/trial, best loss: 2.4584213063901346]"
     ]
    },
    {
     "data": {
      "application/vnd.jupyter.widget-view+json": {
       "model_id": "a70fe29f3a394b9dbc115aefb4d6185f",
       "version_major": 2,
       "version_minor": 0
      },
      "text/plain": [
       "Epoch 2:   0%|                                                               | 0/87 [00:00<?, ?it/s]"
      ]
     },
     "metadata": {},
     "output_type": "display_data"
    },
    {
     "name": "stdout",
     "output_type": "stream",
     "text": [
      "Epoch 2 Training Loss: 2.7098                                                                                               \n",
      " 22%|██████████▎                                   | 9/40 [10:47:17<30:19:23, 3521.41s/trial, best loss: 2.4584213063901346]"
     ]
    },
    {
     "data": {
      "application/vnd.jupyter.widget-view+json": {
       "model_id": "339c9c3f1fbc4b3c8c65c9dd3eb92c84",
       "version_major": 2,
       "version_minor": 0
      },
      "text/plain": [
       "Epoch 3:   0%|                                                               | 0/87 [00:00<?, ?it/s]"
      ]
     },
     "metadata": {},
     "output_type": "display_data"
    },
    {
     "name": "stdout",
     "output_type": "stream",
     "text": [
      "Epoch 3 Training Loss: 2.7023                                                                                               \n",
      " 22%|██████████▎                                   | 9/40 [11:01:44<30:19:23, 3521.41s/trial, best loss: 2.4584213063901346]"
     ]
    },
    {
     "data": {
      "application/vnd.jupyter.widget-view+json": {
       "model_id": "763f90ac9e834db4ac23ed107143dda7",
       "version_major": 2,
       "version_minor": 0
      },
      "text/plain": [
       "Epoch 4:   0%|                                                               | 0/87 [00:00<?, ?it/s]"
      ]
     },
     "metadata": {},
     "output_type": "display_data"
    },
    {
     "name": "stdout",
     "output_type": "stream",
     "text": [
      "Epoch 4 Training Loss: 2.7010                                                                                               \n",
      " 22%|██████████▎                                   | 9/40 [11:16:25<30:19:23, 3521.41s/trial, best loss: 2.4584213063901346]"
     ]
    },
    {
     "data": {
      "application/vnd.jupyter.widget-view+json": {
       "model_id": "66d4e6936bae4897b44efaecf04635ee",
       "version_major": 2,
       "version_minor": 0
      },
      "text/plain": [
       "Epoch 5:   0%|                                                               | 0/87 [00:00<?, ?it/s]"
      ]
     },
     "metadata": {},
     "output_type": "display_data"
    },
    {
     "name": "stdout",
     "output_type": "stream",
     "text": [
      "Epoch 5 Training Loss: 2.6966                                                                                               \n",
      "Validation Loss:                                                                                                                                                                                                   \n",
      "2.694665436673657                                                                                                                                                                                                  \n",
      "Validation Accuracy:                                                                                                                                                                                               \n",
      "0.04132628543969245                                                                                                                                                                                                \n",
      "Hyperparameters:                                                                                                                                                                                                   \n",
      "{'batch_size': 240.0, 'dropout_co_graph_enabled': False, 'dropout_final_enabled': False, 'dropout_fusion_enabled': False, 'dropout_rate_co_graph': 0.19454818792920925, 'dropout_rate_final': 0.12967390571282086, 'dropout_rate_fusion': 0.17673287060581508, 'dropout_rate_sent': 0.30704159821076593, 'dropout_rate_word': 0.2359380625047366, 'dropout_sent_enabled': True, 'dropout_word_enabled': True, 'gamma': 4.8503179976161235, 'hidden_dim': 241.0, 'learning_rate': 0.00016445877625914624, 'num_sentence_layers': 2.0, 'num_word_layers': 4.0, 'weight_decay': 3.419828775085051e-06}\n",
      "Loading existing valid indices from metadata                                                                                                                                                                       \n",
      "Found 10409 processed documents                                                                                                                                                                                    \n",
      " 25%|█████████████████████████████████                                                                                                   | 10/40 [11:32:34<32:26:22, 3892.75s/trial, best loss: 2.4584213063901346]"
     ]
    },
    {
     "data": {
      "application/vnd.jupyter.widget-view+json": {
       "model_id": "723cc13c101c486e95f79798fe5928be",
       "version_major": 2,
       "version_minor": 0
      },
      "text/plain": [
       "Epoch 1:   0%|                                                               | 0/35 [00:00<?, ?it/s]"
      ]
     },
     "metadata": {},
     "output_type": "display_data"
    },
    {
     "name": "stdout",
     "output_type": "stream",
     "text": [
      "Epoch 1 Training Loss: 2.4730                                                                                                                                                                                      \n",
      " 25%|█████████████████████████████████                                                                                                   | 10/40 [11:41:45<32:26:22, 3892.75s/trial, best loss: 2.4584213063901346]"
     ]
    },
    {
     "data": {
      "application/vnd.jupyter.widget-view+json": {
       "model_id": "13b2804066814e4bad4c761fdec222b6",
       "version_major": 2,
       "version_minor": 0
      },
      "text/plain": [
       "Epoch 2:   0%|                                                               | 0/35 [00:00<?, ?it/s]"
      ]
     },
     "metadata": {},
     "output_type": "display_data"
    },
    {
     "name": "stdout",
     "output_type": "stream",
     "text": [
      "Epoch 2 Training Loss: 2.4550                                                                                                                                                                                      \n",
      " 25%|█████████████████████████████████                                                                                                   | 10/40 [11:54:32<32:26:22, 3892.75s/trial, best loss: 2.4584213063901346]"
     ]
    },
    {
     "data": {
      "application/vnd.jupyter.widget-view+json": {
       "model_id": "0aef2d777d194967b84bfed5f4711c30",
       "version_major": 2,
       "version_minor": 0
      },
      "text/plain": [
       "Epoch 3:   0%|                                                               | 0/35 [00:00<?, ?it/s]"
      ]
     },
     "metadata": {},
     "output_type": "display_data"
    },
    {
     "name": "stdout",
     "output_type": "stream",
     "text": [
      "Epoch 3 Training Loss: 2.4399                                                                                                                                                                                      \n",
      " 25%|█████████████████████████████████                                                                                                   | 10/40 [12:04:34<32:26:22, 3892.75s/trial, best loss: 2.4584213063901346]"
     ]
    },
    {
     "data": {
      "application/vnd.jupyter.widget-view+json": {
       "model_id": "5268f442227545a9a417f9d0d5bdad32",
       "version_major": 2,
       "version_minor": 0
      },
      "text/plain": [
       "Epoch 4:   0%|                                                               | 0/35 [00:00<?, ?it/s]"
      ]
     },
     "metadata": {},
     "output_type": "display_data"
    },
    {
     "name": "stdout",
     "output_type": "stream",
     "text": [
      "Epoch 4 Training Loss: 2.4149                                                                                                                                                                                      \n",
      " 25%|█████████████████████████████████                                                                                                   | 10/40 [12:13:30<32:26:22, 3892.75s/trial, best loss: 2.4584213063901346]"
     ]
    },
    {
     "data": {
      "application/vnd.jupyter.widget-view+json": {
       "model_id": "d168098ded8f467783fe6dbd5486536c",
       "version_major": 2,
       "version_minor": 0
      },
      "text/plain": [
       "Epoch 5:   0%|                                                               | 0/35 [00:00<?, ?it/s]"
      ]
     },
     "metadata": {},
     "output_type": "display_data"
    },
    {
     "name": "stdout",
     "output_type": "stream",
     "text": [
      "Epoch 5 Training Loss: 2.3632                                                                                                                                                                                      \n",
      "Validation Loss:                                                                                                                                                                                                   \n",
      "2.3821603540386618                                                                                                                                                                                                 \n",
      "Validation Accuracy:                                                                                                                                                                                               \n",
      "0.06343104276790004                                                                                                                                                                                                \n",
      "Hyperparameters:                                                                                                                                                                                                   \n",
      "{'batch_size': 64.0, 'dropout_co_graph_enabled': False, 'dropout_final_enabled': False, 'dropout_fusion_enabled': True, 'dropout_rate_co_graph': 0.48260382771669463, 'dropout_rate_final': 0.2710105009006831, 'dropout_rate_fusion': 0.23669144658970992, 'dropout_rate_sent': 0.3905231031965718, 'dropout_rate_word': 0.4696954447583185, 'dropout_sent_enabled': True, 'dropout_word_enabled': False, 'gamma': 1.6930663245415012, 'hidden_dim': 144.0, 'learning_rate': 4.310501231836859e-05, 'num_sentence_layers': 4.0, 'num_word_layers': 1.0, 'weight_decay': 1.1974671279670147e-05}\n",
      "Loading existing valid indices from metadata                                                                                                                                                                       \n",
      "Found 10409 processed documents                                                                                                                                                                                    \n",
      " 28%|████████████████████████████████████▎                                                                                               | 11/40 [12:22:36<29:09:45, 3620.20s/trial, best loss: 2.3821603540386618]"
     ]
    },
    {
     "data": {
      "application/vnd.jupyter.widget-view+json": {
       "model_id": "db433d0aa861484d929e743fdd224ddc",
       "version_major": 2,
       "version_minor": 0
      },
      "text/plain": [
       "Epoch 1:   0%|                                                              | 0/131 [00:00<?, ?it/s]"
      ]
     },
     "metadata": {},
     "output_type": "display_data"
    },
    {
     "name": "stdout",
     "output_type": "stream",
     "text": [
      "Epoch 1 Training Loss: 2.8160                                                                                                                                                                                      \n",
      " 28%|████████████████████████████████████▎                                                                                               | 11/40 [12:33:37<29:09:45, 3620.20s/trial, best loss: 2.3821603540386618]"
     ]
    },
    {
     "data": {
      "application/vnd.jupyter.widget-view+json": {
       "model_id": "7f044ce0cc044e73b0465984f666ad07",
       "version_major": 2,
       "version_minor": 0
      },
      "text/plain": [
       "Epoch 2:   0%|                                                              | 0/131 [00:00<?, ?it/s]"
      ]
     },
     "metadata": {},
     "output_type": "display_data"
    },
    {
     "name": "stdout",
     "output_type": "stream",
     "text": [
      "Epoch 2 Training Loss: 2.8114                                                                                                                                                                                      \n",
      " 28%|████████████████████████████████████▎                                                                                               | 11/40 [12:47:10<29:09:45, 3620.20s/trial, best loss: 2.3821603540386618]"
     ]
    },
    {
     "data": {
      "application/vnd.jupyter.widget-view+json": {
       "model_id": "1943ad55c4ae4876a7fd097bc289d3db",
       "version_major": 2,
       "version_minor": 0
      },
      "text/plain": [
       "Epoch 3:   0%|                                                              | 0/131 [00:00<?, ?it/s]"
      ]
     },
     "metadata": {},
     "output_type": "display_data"
    },
    {
     "name": "stdout",
     "output_type": "stream",
     "text": [
      "Epoch 3 Training Loss: 2.7990                                                                                                                                                                                      \n",
      " 28%|████████████████████████████████████▎                                                                                               | 11/40 [12:59:43<29:09:45, 3620.20s/trial, best loss: 2.3821603540386618]"
     ]
    },
    {
     "data": {
      "application/vnd.jupyter.widget-view+json": {
       "model_id": "af5155e57df14910b2cca07f51a62f2d",
       "version_major": 2,
       "version_minor": 0
      },
      "text/plain": [
       "Epoch 4:   0%|                                                              | 0/131 [00:00<?, ?it/s]"
      ]
     },
     "metadata": {},
     "output_type": "display_data"
    },
    {
     "name": "stdout",
     "output_type": "stream",
     "text": [
      "Epoch 4 Training Loss: 2.7898                                                                                                                                                                                      \n",
      " 28%|████████████████████████████████████▎                                                                                               | 11/40 [13:11:06<29:09:45, 3620.20s/trial, best loss: 2.3821603540386618]"
     ]
    },
    {
     "data": {
      "application/vnd.jupyter.widget-view+json": {
       "model_id": "7043672f0bb542ecb5a5a2e9c2da5715",
       "version_major": 2,
       "version_minor": 0
      },
      "text/plain": [
       "Epoch 5:   0%|                                                              | 0/131 [00:00<?, ?it/s]"
      ]
     },
     "metadata": {},
     "output_type": "display_data"
    },
    {
     "name": "stdout",
     "output_type": "stream",
     "text": [
      "Epoch 5 Training Loss: 2.7926                                                                                                                                                                                      \n",
      "Validation Loss:                                                                                                                                                                                                   \n",
      "2.781218522217112                                                                                                                                                                                                  \n",
      "Validation Accuracy:                                                                                                                                                                                               \n",
      "0.06343104276790004                                                                                                                                                                                                \n",
      "Hyperparameters:                                                                                                                                                                                                   \n",
      "{'batch_size': 16.0, 'dropout_co_graph_enabled': False, 'dropout_final_enabled': True, 'dropout_fusion_enabled': False, 'dropout_rate_co_graph': 0.4290319092514093, 'dropout_rate_final': 0.49353783313058897, 'dropout_rate_fusion': 0.11084648879872745, 'dropout_rate_sent': 0.14062823764595309, 'dropout_rate_word': 0.147028186061871, 'dropout_sent_enabled': False, 'dropout_word_enabled': False, 'gamma': 1.4942092996701435, 'hidden_dim': 91.0, 'learning_rate': 0.00038025526472322524, 'num_sentence_layers': 4.0, 'num_word_layers': 1.0, 'weight_decay': 8.182759216085256e-06}\n",
      "Loading existing valid indices from metadata                                                                                                                                                                       \n",
      "Found 10409 processed documents                                                                                                                                                                                    \n",
      " 30%|███████████████████████████████████████▌                                                                                            | 12/40 [13:21:52<28:00:12, 3600.44s/trial, best loss: 2.3821603540386618]"
     ]
    },
    {
     "data": {
      "application/vnd.jupyter.widget-view+json": {
       "model_id": "0cf200017bcf47b5adc12d0c9795d53d",
       "version_major": 2,
       "version_minor": 0
      },
      "text/plain": [
       "Epoch 1:   0%|                                                              | 0/521 [00:00<?, ?it/s]"
      ]
     },
     "metadata": {},
     "output_type": "display_data"
    },
    {
     "name": "stdout",
     "output_type": "stream",
     "text": [
      "Epoch 1 Training Loss: 2.8441                                                                                                                                                                                      \n",
      " 30%|███████████████████████████████████████▌                                                                                            | 12/40 [13:30:29<28:00:12, 3600.44s/trial, best loss: 2.3821603540386618]"
     ]
    },
    {
     "data": {
      "application/vnd.jupyter.widget-view+json": {
       "model_id": "11b01b1832604d9baadacfe8fead3c28",
       "version_major": 2,
       "version_minor": 0
      },
      "text/plain": [
       "Epoch 2:   0%|                                                              | 0/521 [00:00<?, ?it/s]"
      ]
     },
     "metadata": {},
     "output_type": "display_data"
    },
    {
     "name": "stdout",
     "output_type": "stream",
     "text": [
      "Epoch 2 Training Loss: 2.8357                                                                                                                                                                                      \n",
      " 30%|███████████████████████████████████████▌                                                                                            | 12/40 [13:38:48<28:00:12, 3600.44s/trial, best loss: 2.3821603540386618]"
     ]
    },
    {
     "data": {
      "application/vnd.jupyter.widget-view+json": {
       "model_id": "ede72bda4ee744a89c70c42cef55ab39",
       "version_major": 2,
       "version_minor": 0
      },
      "text/plain": [
       "Epoch 3:   0%|                                                              | 0/521 [00:00<?, ?it/s]"
      ]
     },
     "metadata": {},
     "output_type": "display_data"
    },
    {
     "name": "stdout",
     "output_type": "stream",
     "text": [
      "Epoch 3 Training Loss: 2.8100                                                                                                                                                                                      \n",
      " 30%|███████████████████████████████████████▌                                                                                            | 12/40 [13:44:37<28:00:12, 3600.44s/trial, best loss: 2.3821603540386618]"
     ]
    },
    {
     "data": {
      "application/vnd.jupyter.widget-view+json": {
       "model_id": "0eec214c4e5940f7913db6a1e3585b01",
       "version_major": 2,
       "version_minor": 0
      },
      "text/plain": [
       "Epoch 4:   0%|                                                              | 0/521 [00:00<?, ?it/s]"
      ]
     },
     "metadata": {},
     "output_type": "display_data"
    },
    {
     "name": "stdout",
     "output_type": "stream",
     "text": [
      "Epoch 4 Training Loss: 2.7578                                                                                                                                                                                      \n",
      " 30%|███████████████████████████████████████▌                                                                                            | 12/40 [13:51:16<28:00:12, 3600.44s/trial, best loss: 2.3821603540386618]"
     ]
    },
    {
     "data": {
      "application/vnd.jupyter.widget-view+json": {
       "model_id": "5a737b9306ab497484a34207c494da21",
       "version_major": 2,
       "version_minor": 0
      },
      "text/plain": [
       "Epoch 5:   0%|                                                              | 0/521 [00:00<?, ?it/s]"
      ]
     },
     "metadata": {},
     "output_type": "display_data"
    },
    {
     "name": "stdout",
     "output_type": "stream",
     "text": [
      "Epoch 5 Training Loss: 2.7149                                                                                                                                                                                      \n",
      "Validation Loss:                                                                                                                                                                                                   \n",
      "2.6102297351888484                                                                                                                                                                                                 \n",
      "Validation Accuracy:                                                                                                                                                                                               \n",
      "0.06439211917347429                                                                                                                                                                                                \n",
      "Hyperparameters:                                                                                                                                                                                                   \n",
      "{'batch_size': 272.0, 'dropout_co_graph_enabled': True, 'dropout_final_enabled': False, 'dropout_fusion_enabled': False, 'dropout_rate_co_graph': 0.26371216609863246, 'dropout_rate_final': 0.45370684130081373, 'dropout_rate_fusion': 0.4175410490353437, 'dropout_rate_sent': 0.2329029354241332, 'dropout_rate_word': 0.4909971137326562, 'dropout_sent_enabled': False, 'dropout_word_enabled': True, 'gamma': 2.753471870885957, 'hidden_dim': 155.0, 'learning_rate': 0.0001257844534446122, 'num_sentence_layers': 4.0, 'num_word_layers': 1.0, 'weight_decay': 1.058487779245013e-06}\n",
      "Loading existing valid indices from metadata                                                                                                                                                                       \n",
      "Found 10409 processed documents                                                                                                                                                                                    \n",
      " 32%|██████████████████████████████████████████▉                                                                                         | 13/40 [13:58:44<23:51:08, 3180.31s/trial, best loss: 2.3821603540386618]"
     ]
    },
    {
     "data": {
      "application/vnd.jupyter.widget-view+json": {
       "model_id": "1d083fa177094faca0ad8a1825292245",
       "version_major": 2,
       "version_minor": 0
      },
      "text/plain": [
       "Epoch 1:   0%|                                                               | 0/31 [00:00<?, ?it/s]"
      ]
     },
     "metadata": {},
     "output_type": "display_data"
    },
    {
     "name": "stdout",
     "output_type": "stream",
     "text": [
      "Epoch 1 Training Loss: 2.6686                                                                                                                                                                                      \n",
      " 32%|██████████████████████████████████████████▉                                                                                         | 13/40 [14:08:49<23:51:08, 3180.31s/trial, best loss: 2.3821603540386618]"
     ]
    },
    {
     "data": {
      "application/vnd.jupyter.widget-view+json": {
       "model_id": "00ca440dee1b4574ac89a5b94599cc0e",
       "version_major": 2,
       "version_minor": 0
      },
      "text/plain": [
       "Epoch 2:   0%|                                                               | 0/31 [00:00<?, ?it/s]"
      ]
     },
     "metadata": {},
     "output_type": "display_data"
    },
    {
     "name": "stdout",
     "output_type": "stream",
     "text": [
      "Epoch 2 Training Loss: 2.6692                                                                                                                                                                                      \n",
      " 32%|██████████████████████████████████████████▉                                                                                         | 13/40 [14:18:46<23:51:08, 3180.31s/trial, best loss: 2.3821603540386618]"
     ]
    },
    {
     "data": {
      "application/vnd.jupyter.widget-view+json": {
       "model_id": "13c376a317a64ce39d78996b2a3b158d",
       "version_major": 2,
       "version_minor": 0
      },
      "text/plain": [
       "Epoch 3:   0%|                                                               | 0/31 [00:00<?, ?it/s]"
      ]
     },
     "metadata": {},
     "output_type": "display_data"
    },
    {
     "name": "stdout",
     "output_type": "stream",
     "text": [
      "Epoch 3 Training Loss: 2.6587                                                                                                                                                                                      \n",
      " 32%|██████████████████████████████████████████▉                                                                                         | 13/40 [14:28:33<23:51:08, 3180.31s/trial, best loss: 2.3821603540386618]"
     ]
    },
    {
     "data": {
      "application/vnd.jupyter.widget-view+json": {
       "model_id": "1a2ea8f810824b08ae1f4a43b15b5d35",
       "version_major": 2,
       "version_minor": 0
      },
      "text/plain": [
       "Epoch 4:   0%|                                                               | 0/31 [00:00<?, ?it/s]"
      ]
     },
     "metadata": {},
     "output_type": "display_data"
    },
    {
     "name": "stdout",
     "output_type": "stream",
     "text": [
      "Epoch 4 Training Loss: 2.6576                                                                                                                                                                                      \n",
      " 32%|██████████████████████████████████████████▉                                                                                         | 13/40 [14:39:42<23:51:08, 3180.31s/trial, best loss: 2.3821603540386618]"
     ]
    },
    {
     "data": {
      "application/vnd.jupyter.widget-view+json": {
       "model_id": "b1b313a1208a4a2f8c0de89c91e5b07f",
       "version_major": 2,
       "version_minor": 0
      },
      "text/plain": [
       "Epoch 5:   0%|                                                               | 0/31 [00:00<?, ?it/s]"
      ]
     },
     "metadata": {},
     "output_type": "display_data"
    },
    {
     "name": "stdout",
     "output_type": "stream",
     "text": [
      "Epoch 5 Training Loss: 2.6487                                                                                                                                                                                      \n",
      "Validation Loss:                                                                                                                                                                                                   \n",
      "2.658014551485347                                                                                                                                                                                                  \n",
      "Validation Accuracy:                                                                                                                                                                                               \n",
      "0.05430081691494474                                                                                                                                                                                                \n",
      "Hyperparameters:                                                                                                                                                                                                   \n",
      "{'batch_size': 240.0, 'dropout_co_graph_enabled': True, 'dropout_final_enabled': False, 'dropout_fusion_enabled': False, 'dropout_rate_co_graph': 0.17211246717380063, 'dropout_rate_final': 0.24711884292694558, 'dropout_rate_fusion': 0.1651401807101786, 'dropout_rate_sent': 0.2914213785241998, 'dropout_rate_word': 0.1369674599944015, 'dropout_sent_enabled': True, 'dropout_word_enabled': True, 'gamma': 3.1431157708940765, 'hidden_dim': 209.0, 'learning_rate': 0.0002115582458210271, 'num_sentence_layers': 1.0, 'num_word_layers': 3.0, 'weight_decay': 1.315300273475803e-07}\n",
      "Loading existing valid indices from metadata                                                                                                                                                                       \n",
      "Found 10409 processed documents                                                                                                                                                                                    \n",
      " 35%|██████████████████████████████████████████████▏                                                                                     | 14/40 [14:52:00<23:00:08, 3184.96s/trial, best loss: 2.3821603540386618]"
     ]
    },
    {
     "data": {
      "application/vnd.jupyter.widget-view+json": {
       "model_id": "ebf49bc6d2264ccd9d5b47d56bf3aec3",
       "version_major": 2,
       "version_minor": 0
      },
      "text/plain": [
       "Epoch 1:   0%|                                                               | 0/35 [00:00<?, ?it/s]"
      ]
     },
     "metadata": {},
     "output_type": "display_data"
    },
    {
     "name": "stdout",
     "output_type": "stream",
     "text": [
      "Epoch 1 Training Loss: 2.6243                                                                                                                                                                                      \n",
      " 35%|██████████████████████████████████████████████▏                                                                                     | 14/40 [14:57:51<23:00:08, 3184.96s/trial, best loss: 2.3821603540386618]"
     ]
    },
    {
     "data": {
      "application/vnd.jupyter.widget-view+json": {
       "model_id": "c8496a9ec2a44767ad49c0ecdb123c33",
       "version_major": 2,
       "version_minor": 0
      },
      "text/plain": [
       "Epoch 2:   0%|                                                               | 0/35 [00:00<?, ?it/s]"
      ]
     },
     "metadata": {},
     "output_type": "display_data"
    },
    {
     "name": "stdout",
     "output_type": "stream",
     "text": [
      "Epoch 2 Training Loss: 2.6135                                                                                                                                                                                      \n",
      " 35%|██████████████████████████████████████████████▏                                                                                     | 14/40 [15:03:00<23:00:08, 3184.96s/trial, best loss: 2.3821603540386618]"
     ]
    },
    {
     "data": {
      "application/vnd.jupyter.widget-view+json": {
       "model_id": "4232d5d15a234771b8549fa876124f8d",
       "version_major": 2,
       "version_minor": 0
      },
      "text/plain": [
       "Epoch 3:   0%|                                                               | 0/35 [00:00<?, ?it/s]"
      ]
     },
     "metadata": {},
     "output_type": "display_data"
    },
    {
     "name": "stdout",
     "output_type": "stream",
     "text": [
      "Epoch 3 Training Loss: 2.6017                                                                                                                                                                                      \n",
      " 35%|██████████████████████████████████████████████▏                                                                                     | 14/40 [15:08:14<23:00:08, 3184.96s/trial, best loss: 2.3821603540386618]"
     ]
    },
    {
     "data": {
      "application/vnd.jupyter.widget-view+json": {
       "model_id": "5aceff3f6e7f4bb5a6ff6ee189cc6381",
       "version_major": 2,
       "version_minor": 0
      },
      "text/plain": [
       "Epoch 4:   0%|                                                               | 0/35 [00:00<?, ?it/s]"
      ]
     },
     "metadata": {},
     "output_type": "display_data"
    },
    {
     "name": "stdout",
     "output_type": "stream",
     "text": [
      "Epoch 4 Training Loss: 2.5737                                                                                                                                                                                      \n",
      " 35%|██████████████████████████████████████████████▏                                                                                     | 14/40 [15:13:25<23:00:08, 3184.96s/trial, best loss: 2.3821603540386618]"
     ]
    },
    {
     "data": {
      "application/vnd.jupyter.widget-view+json": {
       "model_id": "d1be4f6d810e4641b8ab724b4b8cbef4",
       "version_major": 2,
       "version_minor": 0
      },
      "text/plain": [
       "Epoch 5:   0%|                                                               | 0/35 [00:00<?, ?it/s]"
      ]
     },
     "metadata": {},
     "output_type": "display_data"
    },
    {
     "name": "stdout",
     "output_type": "stream",
     "text": [
      "Epoch 5 Training Loss: 2.5456                                                                                                                                                                                      \n",
      "Validation Loss:                                                                                                                                                                                                   \n",
      "2.497647995676117                                                                                                                                                                                                  \n",
      "Validation Accuracy:                                                                                                                                                                                               \n",
      "0.04997597308986065                                                                                                                                                                                                \n",
      "Hyperparameters:                                                                                                                                                                                                   \n",
      "{'batch_size': 480.0, 'dropout_co_graph_enabled': True, 'dropout_final_enabled': False, 'dropout_fusion_enabled': False, 'dropout_rate_co_graph': 0.20806645865850767, 'dropout_rate_final': 0.13498195013766923, 'dropout_rate_fusion': 0.3511595050005686, 'dropout_rate_sent': 0.3031621079209226, 'dropout_rate_word': 0.3229851407733382, 'dropout_sent_enabled': True, 'dropout_word_enabled': True, 'gamma': 1.5842238108974758, 'hidden_dim': 99.0, 'learning_rate': 6.822606973151029e-05, 'num_sentence_layers': 2.0, 'num_word_layers': 2.0, 'weight_decay': 2.7010632884616283e-08}\n",
      "Loading existing valid indices from metadata                                                                                                                                                                       \n",
      "Found 10409 processed documents                                                                                                                                                                                    \n",
      " 38%|█████████████████████████████████████████████████▌                                                                                  | 15/40 [15:18:58<18:50:17, 2712.69s/trial, best loss: 2.3821603540386618]"
     ]
    },
    {
     "data": {
      "application/vnd.jupyter.widget-view+json": {
       "model_id": "a764b08015f54a9294a75efb474c3ff7",
       "version_major": 2,
       "version_minor": 0
      },
      "text/plain": [
       "Epoch 1:   0%|                                                               | 0/18 [00:00<?, ?it/s]"
      ]
     },
     "metadata": {},
     "output_type": "display_data"
    },
    {
     "name": "stdout",
     "output_type": "stream",
     "text": [
      "Epoch 1 Training Loss: 2.8406                                                                                                                                                                                      \n",
      " 38%|█████████████████████████████████████████████████▌                                                                                  | 15/40 [15:23:33<18:50:17, 2712.69s/trial, best loss: 2.3821603540386618]"
     ]
    },
    {
     "data": {
      "application/vnd.jupyter.widget-view+json": {
       "model_id": "33a30fce349441fe9c950041e5730190",
       "version_major": 2,
       "version_minor": 0
      },
      "text/plain": [
       "Epoch 2:   0%|                                                               | 0/18 [00:00<?, ?it/s]"
      ]
     },
     "metadata": {},
     "output_type": "display_data"
    },
    {
     "name": "stdout",
     "output_type": "stream",
     "text": [
      "Epoch 2 Training Loss: 2.8469                                                                                                                                                                                      \n",
      " 38%|█████████████████████████████████████████████████▌                                                                                  | 15/40 [15:27:42<18:50:17, 2712.69s/trial, best loss: 2.3821603540386618]"
     ]
    },
    {
     "data": {
      "application/vnd.jupyter.widget-view+json": {
       "model_id": "4378e98a7fb14015b410f563d992f328",
       "version_major": 2,
       "version_minor": 0
      },
      "text/plain": [
       "Epoch 3:   0%|                                                               | 0/18 [00:00<?, ?it/s]"
      ]
     },
     "metadata": {},
     "output_type": "display_data"
    },
    {
     "name": "stdout",
     "output_type": "stream",
     "text": [
      "Epoch 3 Training Loss: 2.8462                                                                                                                                                                                      \n",
      " 38%|█████████████████████████████████████████████████▌                                                                                  | 15/40 [15:31:32<18:50:17, 2712.69s/trial, best loss: 2.3821603540386618]"
     ]
    },
    {
     "data": {
      "application/vnd.jupyter.widget-view+json": {
       "model_id": "02a490fd10dd419088e38a93916a62b1",
       "version_major": 2,
       "version_minor": 0
      },
      "text/plain": [
       "Epoch 4:   0%|                                                               | 0/18 [00:00<?, ?it/s]"
      ]
     },
     "metadata": {},
     "output_type": "display_data"
    },
    {
     "name": "stdout",
     "output_type": "stream",
     "text": [
      "Epoch 4 Training Loss: 2.8410                                                                                                                                                                                      \n",
      " 38%|█████████████████████████████████████████████████▌                                                                                  | 15/40 [15:36:00<18:50:17, 2712.69s/trial, best loss: 2.3821603540386618]"
     ]
    },
    {
     "data": {
      "application/vnd.jupyter.widget-view+json": {
       "model_id": "42ded994600d4fbda92a9550dae0de21",
       "version_major": 2,
       "version_minor": 0
      },
      "text/plain": [
       "Epoch 5:   0%|                                                               | 0/18 [00:00<?, ?it/s]"
      ]
     },
     "metadata": {},
     "output_type": "display_data"
    },
    {
     "name": "stdout",
     "output_type": "stream",
     "text": [
      "Epoch 5 Training Loss: 2.8212                                                                                                                                                                                      \n",
      "Validation Loss:                                                                                                                                                                                                   \n",
      "2.822119109049719                                                                                                                                                                                                  \n",
      "Validation Accuracy:                                                                                                                                                                                               \n",
      "0.04084574723690534                                                                                                                                                                                                \n",
      "Hyperparameters:                                                                                                                                                                                                   \n",
      "{'batch_size': 320.0, 'dropout_co_graph_enabled': True, 'dropout_final_enabled': True, 'dropout_fusion_enabled': False, 'dropout_rate_co_graph': 0.25683502585255036, 'dropout_rate_final': 0.49825046421023644, 'dropout_rate_fusion': 0.49255875585902065, 'dropout_rate_sent': 0.38930897898238637, 'dropout_rate_word': 0.38693267762457784, 'dropout_sent_enabled': True, 'dropout_word_enabled': False, 'gamma': 3.9402354889178755, 'hidden_dim': 159.0, 'learning_rate': 6.067591096052055e-05, 'num_sentence_layers': 4.0, 'num_word_layers': 5.0, 'weight_decay': 1.6179306119969633e-05}\n",
      "Loading existing valid indices from metadata                                                                                                                                                                       \n",
      "Found 10409 processed documents                                                                                                                                                                                    \n",
      " 40%|████████████████████████████████████████████████████▊                                                                               | 16/40 [15:42:38<15:29:26, 2323.62s/trial, best loss: 2.3821603540386618]"
     ]
    },
    {
     "data": {
      "application/vnd.jupyter.widget-view+json": {
       "model_id": "1e343edcc15b452aa28b71a5b427462c",
       "version_major": 2,
       "version_minor": 0
      },
      "text/plain": [
       "Epoch 1:   0%|                                                               | 0/27 [00:00<?, ?it/s]"
      ]
     },
     "metadata": {},
     "output_type": "display_data"
    },
    {
     "name": "stdout",
     "output_type": "stream",
     "text": [
      "Epoch 1 Training Loss: 2.5609                                                                                                                                                                                      \n",
      " 40%|████████████████████████████████████████████████████▊                                                                               | 16/40 [15:54:34<15:29:26, 2323.62s/trial, best loss: 2.3821603540386618]"
     ]
    },
    {
     "data": {
      "application/vnd.jupyter.widget-view+json": {
       "model_id": "6fbb9b63ee824410981df576cd41b515",
       "version_major": 2,
       "version_minor": 0
      },
      "text/plain": [
       "Epoch 2:   0%|                                                               | 0/27 [00:00<?, ?it/s]"
      ]
     },
     "metadata": {},
     "output_type": "display_data"
    },
    {
     "name": "stdout",
     "output_type": "stream",
     "text": [
      "Epoch 2 Training Loss: 2.5108                                                                                                                                                                                      \n",
      " 40%|████████████████████████████████████████████████████▊                                                                               | 16/40 [16:04:58<15:29:26, 2323.62s/trial, best loss: 2.3821603540386618]"
     ]
    },
    {
     "data": {
      "application/vnd.jupyter.widget-view+json": {
       "model_id": "81849e87b65b470580c07c7a2d4189ee",
       "version_major": 2,
       "version_minor": 0
      },
      "text/plain": [
       "Epoch 3:   0%|                                                               | 0/27 [00:00<?, ?it/s]"
      ]
     },
     "metadata": {},
     "output_type": "display_data"
    },
    {
     "name": "stdout",
     "output_type": "stream",
     "text": [
      "Epoch 3 Training Loss: 2.5897                                                                                                                                                                                      \n",
      " 40%|████████████████████████████████████████████████████▊                                                                               | 16/40 [16:17:00<15:29:26, 2323.62s/trial, best loss: 2.3821603540386618]"
     ]
    },
    {
     "data": {
      "application/vnd.jupyter.widget-view+json": {
       "model_id": "194ba94c3d244b56b47db7302e8629bc",
       "version_major": 2,
       "version_minor": 0
      },
      "text/plain": [
       "Epoch 4:   0%|                                                               | 0/27 [00:00<?, ?it/s]"
      ]
     },
     "metadata": {},
     "output_type": "display_data"
    },
    {
     "name": "stdout",
     "output_type": "stream",
     "text": [
      "Epoch 4 Training Loss: 2.5266                                                                                                                                                                                      \n",
      " 40%|████████████████████████████████████████████████████▊                                                                               | 16/40 [16:29:17<15:29:26, 2323.62s/trial, best loss: 2.3821603540386618]"
     ]
    },
    {
     "data": {
      "application/vnd.jupyter.widget-view+json": {
       "model_id": "5bf360c687b6491fbc8200651574d84e",
       "version_major": 2,
       "version_minor": 0
      },
      "text/plain": [
       "Epoch 5:   0%|                                                               | 0/27 [00:00<?, ?it/s]"
      ]
     },
     "metadata": {},
     "output_type": "display_data"
    },
    {
     "name": "stdout",
     "output_type": "stream",
     "text": [
      "Epoch 5 Training Loss: 2.5347                                                                                                                                                                                      \n",
      "Validation Loss:                                                                                                                                                                                                   \n",
      "2.5329109731057353                                                                                                                                                                                                 \n",
      "Validation Accuracy:                                                                                                                                                                                               \n",
      "0.03459875060067275                                                                                                                                                                                                \n",
      "Hyperparameters:                                                                                                                                                                                                   \n",
      "{'batch_size': 464.0, 'dropout_co_graph_enabled': False, 'dropout_final_enabled': True, 'dropout_fusion_enabled': False, 'dropout_rate_co_graph': 0.2903992894342882, 'dropout_rate_final': 0.45443698525690257, 'dropout_rate_fusion': 0.3341214501746482, 'dropout_rate_sent': 0.3160162152407169, 'dropout_rate_word': 0.40594990194985126, 'dropout_sent_enabled': True, 'dropout_word_enabled': False, 'gamma': 2.9829585799477734, 'hidden_dim': 122.0, 'learning_rate': 2.763614945104274e-05, 'num_sentence_layers': 2.0, 'num_word_layers': 5.0, 'weight_decay': 2.1983704318513308e-06}\n",
      "Loading existing valid indices from metadata                                                                                                                                                                       \n",
      "Found 10409 processed documents                                                                                                                                                                                    \n",
      " 42%|████████████████████████████████████████████████████████                                                                            | 17/40 [16:41:15<17:08:14, 2682.35s/trial, best loss: 2.3821603540386618]"
     ]
    },
    {
     "data": {
      "application/vnd.jupyter.widget-view+json": {
       "model_id": "cac06b580b394415a88ef994f3f91396",
       "version_major": 2,
       "version_minor": 0
      },
      "text/plain": [
       "Epoch 1:   0%|                                                               | 0/18 [00:00<?, ?it/s]"
      ]
     },
     "metadata": {},
     "output_type": "display_data"
    },
    {
     "name": "stdout",
     "output_type": "stream",
     "text": [
      "Epoch 1 Training Loss: 2.6525                                                                                                                                                                                      \n",
      " 42%|████████████████████████████████████████████████████████                                                                            | 17/40 [16:47:37<17:08:14, 2682.35s/trial, best loss: 2.3821603540386618]"
     ]
    },
    {
     "data": {
      "application/vnd.jupyter.widget-view+json": {
       "model_id": "8674509f9b1641f5a7d4d1ec9367e827",
       "version_major": 2,
       "version_minor": 0
      },
      "text/plain": [
       "Epoch 2:   0%|                                                               | 0/18 [00:00<?, ?it/s]"
      ]
     },
     "metadata": {},
     "output_type": "display_data"
    },
    {
     "name": "stdout",
     "output_type": "stream",
     "text": [
      "Epoch 2 Training Loss: 2.6550                                                                                                                                                                                      \n",
      " 42%|████████████████████████████████████████████████████████                                                                            | 17/40 [16:54:33<17:08:14, 2682.35s/trial, best loss: 2.3821603540386618]"
     ]
    },
    {
     "data": {
      "application/vnd.jupyter.widget-view+json": {
       "model_id": "f9e4d991126f4b66be408d7faa539edd",
       "version_major": 2,
       "version_minor": 0
      },
      "text/plain": [
       "Epoch 3:   0%|                                                               | 0/18 [00:00<?, ?it/s]"
      ]
     },
     "metadata": {},
     "output_type": "display_data"
    },
    {
     "name": "stdout",
     "output_type": "stream",
     "text": [
      "Epoch 3 Training Loss: 2.6565                                                                                                                                                                                      \n",
      " 42%|████████████████████████████████████████████████████████                                                                            | 17/40 [17:00:40<17:08:14, 2682.35s/trial, best loss: 2.3821603540386618]"
     ]
    },
    {
     "data": {
      "application/vnd.jupyter.widget-view+json": {
       "model_id": "f40e50abb06c4aa0bfa0fe908fbcaeef",
       "version_major": 2,
       "version_minor": 0
      },
      "text/plain": [
       "Epoch 4:   0%|                                                               | 0/18 [00:00<?, ?it/s]"
      ]
     },
     "metadata": {},
     "output_type": "display_data"
    },
    {
     "name": "stdout",
     "output_type": "stream",
     "text": [
      "Epoch 4 Training Loss: 2.6550                                                                                                                                                                                      \n",
      " 42%|████████████████████████████████████████████████████████                                                                            | 17/40 [17:07:41<17:08:14, 2682.35s/trial, best loss: 2.3821603540386618]"
     ]
    },
    {
     "data": {
      "application/vnd.jupyter.widget-view+json": {
       "model_id": "4f459653cf9645ac8d6acf7a5e2d6b27",
       "version_major": 2,
       "version_minor": 0
      },
      "text/plain": [
       "Epoch 5:   0%|                                                               | 0/18 [00:00<?, ?it/s]"
      ]
     },
     "metadata": {},
     "output_type": "display_data"
    },
    {
     "name": "stdout",
     "output_type": "stream",
     "text": [
      "Epoch 5 Training Loss: 2.6528                                                                                                                                                                                      \n",
      "Validation Loss:                                                                                                                                                                                                   \n",
      "2.6388280265666957                                                                                                                                                                                                 \n",
      "Validation Accuracy:                                                                                                                                                                                               \n",
      "0.05718404613166747                                                                                                                                                                                                \n",
      "Hyperparameters:                                                                                                                                                                                                   \n",
      "{'batch_size': 32.0, 'dropout_co_graph_enabled': True, 'dropout_final_enabled': True, 'dropout_fusion_enabled': False, 'dropout_rate_co_graph': 0.3718502405284254, 'dropout_rate_final': 0.2646695977440388, 'dropout_rate_fusion': 0.339613471594112, 'dropout_rate_sent': 0.20157392775346425, 'dropout_rate_word': 0.4833020075877611, 'dropout_sent_enabled': True, 'dropout_word_enabled': False, 'gamma': 4.975610149276168, 'hidden_dim': 126.0, 'learning_rate': 0.00020388933431505092, 'num_sentence_layers': 4.0, 'num_word_layers': 5.0, 'weight_decay': 1.6314097319886801e-06}\n",
      "Loading existing valid indices from metadata                                                                                                                                                                       \n",
      "Found 10409 processed documents                                                                                                                                                                                    \n",
      " 45%|███████████████████████████████████████████████████████████▍                                                                        | 18/40 [17:15:55<15:17:13, 2501.52s/trial, best loss: 2.3821603540386618]"
     ]
    },
    {
     "data": {
      "application/vnd.jupyter.widget-view+json": {
       "model_id": "6caa4b37564b4ebf9b6ec03f61a27556",
       "version_major": 2,
       "version_minor": 0
      },
      "text/plain": [
       "Epoch 1:   0%|                                                              | 0/261 [00:00<?, ?it/s]"
      ]
     },
     "metadata": {},
     "output_type": "display_data"
    },
    {
     "name": "stdout",
     "output_type": "stream",
     "text": [
      "Epoch 1 Training Loss: 2.4650                                                                                                                                                                                      \n",
      " 45%|███████████████████████████████████████████████████████████▍                                                                        | 18/40 [17:25:36<15:17:13, 2501.52s/trial, best loss: 2.3821603540386618]"
     ]
    },
    {
     "data": {
      "application/vnd.jupyter.widget-view+json": {
       "model_id": "e5aed3de115d42efbd0fb53d5e7df8d2",
       "version_major": 2,
       "version_minor": 0
      },
      "text/plain": [
       "Epoch 2:   0%|                                                              | 0/261 [00:00<?, ?it/s]"
      ]
     },
     "metadata": {},
     "output_type": "display_data"
    },
    {
     "name": "stdout",
     "output_type": "stream",
     "text": [
      "Epoch 2 Training Loss: 2.4520                                                                                                                                                                                      \n",
      " 45%|███████████████████████████████████████████████████████████▍                                                                        | 18/40 [17:33:36<15:17:13, 2501.52s/trial, best loss: 2.3821603540386618]"
     ]
    },
    {
     "data": {
      "application/vnd.jupyter.widget-view+json": {
       "model_id": "434035d47e354932ade2035cccb253f4",
       "version_major": 2,
       "version_minor": 0
      },
      "text/plain": [
       "Epoch 3:   0%|                                                              | 0/261 [00:00<?, ?it/s]"
      ]
     },
     "metadata": {},
     "output_type": "display_data"
    },
    {
     "name": "stdout",
     "output_type": "stream",
     "text": [
      "Epoch 3 Training Loss: 2.4541                                                                                                                                                                                      \n",
      " 45%|███████████████████████████████████████████████████████████▍                                                                        | 18/40 [17:43:29<15:17:13, 2501.52s/trial, best loss: 2.3821603540386618]"
     ]
    },
    {
     "data": {
      "application/vnd.jupyter.widget-view+json": {
       "model_id": "0091ff3a62ad402ea77cf327c31908ad",
       "version_major": 2,
       "version_minor": 0
      },
      "text/plain": [
       "Epoch 4:   0%|                                                              | 0/261 [00:00<?, ?it/s]"
      ]
     },
     "metadata": {},
     "output_type": "display_data"
    },
    {
     "name": "stdout",
     "output_type": "stream",
     "text": [
      "Epoch 4 Training Loss: 2.4450                                                                                                                                                                                      \n",
      " 45%|███████████████████████████████████████████████████████████▍                                                                        | 18/40 [17:54:05<15:17:13, 2501.52s/trial, best loss: 2.3821603540386618]"
     ]
    },
    {
     "data": {
      "application/vnd.jupyter.widget-view+json": {
       "model_id": "5470c8f5238b4525b4ea525c1259956a",
       "version_major": 2,
       "version_minor": 0
      },
      "text/plain": [
       "Epoch 5:   0%|                                                              | 0/261 [00:00<?, ?it/s]"
      ]
     },
     "metadata": {},
     "output_type": "display_data"
    },
    {
     "name": "stdout",
     "output_type": "stream",
     "text": [
      "Epoch 5 Training Loss: 2.4440                                                                                                                                                                                      \n",
      "Validation Loss:                                                                                                                                                                                                   \n",
      "2.40430362037831                                                                                                                                                                                                   \n",
      "Validation Accuracy:                                                                                                                                                                                               \n",
      "0.06775588659298415                                                                                                                                                                                                \n",
      "Hyperparameters:                                                                                                                                                                                                   \n",
      "{'batch_size': 208.0, 'dropout_co_graph_enabled': False, 'dropout_final_enabled': False, 'dropout_fusion_enabled': True, 'dropout_rate_co_graph': 0.2017459331910529, 'dropout_rate_final': 0.18102888498580888, 'dropout_rate_fusion': 0.22470971640281012, 'dropout_rate_sent': 0.24472474047987675, 'dropout_rate_word': 0.23735746725966914, 'dropout_sent_enabled': True, 'dropout_word_enabled': True, 'gamma': 1.3000170489795018, 'hidden_dim': 155.0, 'learning_rate': 0.0001031554179040403, 'num_sentence_layers': 3.0, 'num_word_layers': 5.0, 'weight_decay': 3.7010532211363026e-05}\n",
      "Loading existing valid indices from metadata                                                                                                                                                                       \n",
      "Found 10409 processed documents                                                                                                                                                                                    \n",
      " 48%|██████████████████████████████████████████████████████████████▋                                                                     | 19/40 [18:04:12<15:17:04, 2620.22s/trial, best loss: 2.3821603540386618]"
     ]
    },
    {
     "data": {
      "application/vnd.jupyter.widget-view+json": {
       "model_id": "e937dfb7f0d94e4ba69c9ad7799c5963",
       "version_major": 2,
       "version_minor": 0
      },
      "text/plain": [
       "Epoch 1:   0%|                                                               | 0/41 [00:00<?, ?it/s]"
      ]
     },
     "metadata": {},
     "output_type": "display_data"
    },
    {
     "name": "stdout",
     "output_type": "stream",
     "text": [
      "Epoch 1 Training Loss: 2.8903                                                                                                                                                                                      \n",
      " 48%|██████████████████████████████████████████████████████████████▋                                                                     | 19/40 [18:13:22<15:17:04, 2620.22s/trial, best loss: 2.3821603540386618]"
     ]
    },
    {
     "data": {
      "application/vnd.jupyter.widget-view+json": {
       "model_id": "2f8bbce81d4a4eaea16c9d868475f789",
       "version_major": 2,
       "version_minor": 0
      },
      "text/plain": [
       "Epoch 2:   0%|                                                               | 0/41 [00:00<?, ?it/s]"
      ]
     },
     "metadata": {},
     "output_type": "display_data"
    },
    {
     "name": "stdout",
     "output_type": "stream",
     "text": [
      "Epoch 2 Training Loss: 2.8814                                                                                                                                                                                      \n",
      " 48%|██████████████████████████████████████████████████████████████▋                                                                     | 19/40 [18:20:04<15:17:04, 2620.22s/trial, best loss: 2.3821603540386618]"
     ]
    },
    {
     "data": {
      "application/vnd.jupyter.widget-view+json": {
       "model_id": "01b2e5814d48486680b3cf06802a2c7d",
       "version_major": 2,
       "version_minor": 0
      },
      "text/plain": [
       "Epoch 3:   0%|                                                               | 0/41 [00:00<?, ?it/s]"
      ]
     },
     "metadata": {},
     "output_type": "display_data"
    },
    {
     "name": "stdout",
     "output_type": "stream",
     "text": [
      "Epoch 3 Training Loss: 2.8523                                                                                                                                                                                      \n",
      " 48%|██████████████████████████████████████████████████████████████▋                                                                     | 19/40 [18:27:32<15:17:04, 2620.22s/trial, best loss: 2.3821603540386618]"
     ]
    },
    {
     "data": {
      "application/vnd.jupyter.widget-view+json": {
       "model_id": "53318e7987134b62993606eb5e6e4f99",
       "version_major": 2,
       "version_minor": 0
      },
      "text/plain": [
       "Epoch 4:   0%|                                                               | 0/41 [00:00<?, ?it/s]"
      ]
     },
     "metadata": {},
     "output_type": "display_data"
    },
    {
     "name": "stdout",
     "output_type": "stream",
     "text": [
      "Epoch 4 Training Loss: 2.8761                                                                                                                                                                                      \n",
      " 48%|██████████████████████████████████████████████████████████████▋                                                                     | 19/40 [18:34:28<15:17:04, 2620.22s/trial, best loss: 2.3821603540386618]"
     ]
    },
    {
     "data": {
      "application/vnd.jupyter.widget-view+json": {
       "model_id": "304b4584e4df420ab85935610efa72c5",
       "version_major": 2,
       "version_minor": 0
      },
      "text/plain": [
       "Epoch 5:   0%|                                                               | 0/41 [00:00<?, ?it/s]"
      ]
     },
     "metadata": {},
     "output_type": "display_data"
    },
    {
     "name": "stdout",
     "output_type": "stream",
     "text": [
      "Epoch 5 Training Loss: 2.8506                                                                                                                                                                                      \n",
      "Validation Loss:                                                                                                                                                                                                   \n",
      "2.850531666625984                                                                                                                                                                                                  \n",
      "Validation Accuracy:                                                                                                                                                                                               \n",
      "0.047092743873137916                                                                                                                                                                                               \n",
      "Hyperparameters:                                                                                                                                                                                                   \n",
      "{'batch_size': 384.0, 'dropout_co_graph_enabled': False, 'dropout_final_enabled': True, 'dropout_fusion_enabled': False, 'dropout_rate_co_graph': 0.15033254545032868, 'dropout_rate_final': 0.3547529206041939, 'dropout_rate_fusion': 0.41990479433929706, 'dropout_rate_sent': 0.18317551961306164, 'dropout_rate_word': 0.3471904901239634, 'dropout_sent_enabled': True, 'dropout_word_enabled': False, 'gamma': 4.444822947767394, 'hidden_dim': 129.0, 'learning_rate': 0.0006981335682112849, 'num_sentence_layers': 5.0, 'num_word_layers': 4.0, 'weight_decay': 6.615490094441918e-07}\n",
      "Loading existing valid indices from metadata                                                                                                                                                                       \n",
      "Found 10409 processed documents                                                                                                                                                                                    \n",
      " 50%|██████████████████████████████████████████████████████████████████                                                                  | 20/40 [18:44:55<14:15:35, 2566.79s/trial, best loss: 2.3821603540386618]"
     ]
    },
    {
     "data": {
      "application/vnd.jupyter.widget-view+json": {
       "model_id": "a7b9c47934314071bcbff674002e0ac2",
       "version_major": 2,
       "version_minor": 0
      },
      "text/plain": [
       "Epoch 1:   0%|                                                               | 0/22 [00:00<?, ?it/s]"
      ]
     },
     "metadata": {},
     "output_type": "display_data"
    },
    {
     "name": "stdout",
     "output_type": "stream",
     "text": [
      "Epoch 1 Training Loss: 2.5082                                                                                                                                                                                      \n",
      " 50%|██████████████████████████████████████████████████████████████████                                                                  | 20/40 [18:57:38<14:15:35, 2566.79s/trial, best loss: 2.3821603540386618]"
     ]
    },
    {
     "data": {
      "application/vnd.jupyter.widget-view+json": {
       "model_id": "1873a6fecfa042fa9160260c7b63b2a2",
       "version_major": 2,
       "version_minor": 0
      },
      "text/plain": [
       "Epoch 2:   0%|                                                               | 0/22 [00:00<?, ?it/s]"
      ]
     },
     "metadata": {},
     "output_type": "display_data"
    },
    {
     "name": "stdout",
     "output_type": "stream",
     "text": [
      "Epoch 2 Training Loss: 2.4953                                                                                                                                                                                      \n",
      " 50%|██████████████████████████████████████████████████████████████████                                                                  | 20/40 [19:08:18<14:15:35, 2566.79s/trial, best loss: 2.3821603540386618]"
     ]
    },
    {
     "data": {
      "application/vnd.jupyter.widget-view+json": {
       "model_id": "3e27d46c80cc442eac4b3bf8368643e7",
       "version_major": 2,
       "version_minor": 0
      },
      "text/plain": [
       "Epoch 3:   0%|                                                               | 0/22 [00:00<?, ?it/s]"
      ]
     },
     "metadata": {},
     "output_type": "display_data"
    },
    {
     "name": "stdout",
     "output_type": "stream",
     "text": [
      "Epoch 3 Training Loss: 2.4959                                                                                                                                                                                      \n",
      " 50%|██████████████████████████████████████████████████████████████████                                                                  | 20/40 [19:18:47<14:15:35, 2566.79s/trial, best loss: 2.3821603540386618]"
     ]
    },
    {
     "data": {
      "application/vnd.jupyter.widget-view+json": {
       "model_id": "b2c28dafa3f8475bb9be6ba2efb2fea3",
       "version_major": 2,
       "version_minor": 0
      },
      "text/plain": [
       "Epoch 4:   0%|                                                               | 0/22 [00:00<?, ?it/s]"
      ]
     },
     "metadata": {},
     "output_type": "display_data"
    },
    {
     "name": "stdout",
     "output_type": "stream",
     "text": [
      "Epoch 4 Training Loss: 2.4874                                                                                                                                                                                      \n",
      " 50%|██████████████████████████████████████████████████████████████████                                                                  | 20/40 [19:28:50<14:15:35, 2566.79s/trial, best loss: 2.3821603540386618]"
     ]
    },
    {
     "data": {
      "application/vnd.jupyter.widget-view+json": {
       "model_id": "27f8cbc390fe4e44bf251774ae8381fa",
       "version_major": 2,
       "version_minor": 0
      },
      "text/plain": [
       "Epoch 5:   0%|                                                               | 0/22 [00:00<?, ?it/s]"
      ]
     },
     "metadata": {},
     "output_type": "display_data"
    },
    {
     "name": "stdout",
     "output_type": "stream",
     "text": [
      "Epoch 5 Training Loss: 2.4852                                                                                                                                                                                      \n",
      "Validation Loss:                                                                                                                                                                                                   \n",
      "2.4645452406588566                                                                                                                                                                                                 \n",
      "Validation Accuracy:                                                                                                                                                                                               \n",
      "0.06631427198462278                                                                                                                                                                                                \n",
      "Hyperparameters:                                                                                                                                                                                                   \n",
      "{'batch_size': 128.0, 'dropout_co_graph_enabled': False, 'dropout_final_enabled': True, 'dropout_fusion_enabled': False, 'dropout_rate_co_graph': 0.10042407398629016, 'dropout_rate_final': 0.37495994785264664, 'dropout_rate_fusion': 0.458808167054382, 'dropout_rate_sent': 0.18618489449421674, 'dropout_rate_word': 0.1953688200803026, 'dropout_sent_enabled': True, 'dropout_word_enabled': False, 'gamma': 4.986306271037977, 'hidden_dim': 255.0, 'learning_rate': 0.0003824166865964832, 'num_sentence_layers': 2.0, 'num_word_layers': 4.0, 'weight_decay': 4.2580226090758046e-07}\n",
      "Loading existing valid indices from metadata                                                                                                                                                                       \n",
      "Found 10409 processed documents                                                                                                                                                                                    \n",
      " 52%|█████████████████████████████████████████████████████████████████████▎                                                              | 21/40 [19:39:03<14:37:33, 2771.23s/trial, best loss: 2.3821603540386618]"
     ]
    },
    {
     "data": {
      "application/vnd.jupyter.widget-view+json": {
       "model_id": "560dec0c84404061a41861d0476528f7",
       "version_major": 2,
       "version_minor": 0
      },
      "text/plain": [
       "Epoch 1:   0%|                                                               | 0/66 [00:00<?, ?it/s]"
      ]
     },
     "metadata": {},
     "output_type": "display_data"
    },
    {
     "name": "stdout",
     "output_type": "stream",
     "text": [
      "Epoch 1 Training Loss: 2.4576                                                                                                                                                                                      \n",
      " 52%|█████████████████████████████████████████████████████████████████████▎                                                              | 21/40 [19:48:46<14:37:33, 2771.23s/trial, best loss: 2.3821603540386618]"
     ]
    },
    {
     "data": {
      "application/vnd.jupyter.widget-view+json": {
       "model_id": "acf4020bbe734b6fb6bd748bc9ca04c2",
       "version_major": 2,
       "version_minor": 0
      },
      "text/plain": [
       "Epoch 2:   0%|                                                               | 0/66 [00:00<?, ?it/s]"
      ]
     },
     "metadata": {},
     "output_type": "display_data"
    },
    {
     "name": "stdout",
     "output_type": "stream",
     "text": [
      "Epoch 2 Training Loss: 2.4410                                                                                                                                                                                      \n",
      " 52%|█████████████████████████████████████████████████████████████████████▎                                                              | 21/40 [20:02:00<14:37:33, 2771.23s/trial, best loss: 2.3821603540386618]"
     ]
    },
    {
     "data": {
      "application/vnd.jupyter.widget-view+json": {
       "model_id": "7be4cac224094fc6882c0b475782b9dd",
       "version_major": 2,
       "version_minor": 0
      },
      "text/plain": [
       "Epoch 3:   0%|                                                               | 0/66 [00:00<?, ?it/s]"
      ]
     },
     "metadata": {},
     "output_type": "display_data"
    },
    {
     "name": "stdout",
     "output_type": "stream",
     "text": [
      "Epoch 3 Training Loss: 2.4400                                                                                                                                                                                      \n",
      " 52%|█████████████████████████████████████████████████████████████████████▎                                                              | 21/40 [20:16:17<14:37:33, 2771.23s/trial, best loss: 2.3821603540386618]"
     ]
    },
    {
     "data": {
      "application/vnd.jupyter.widget-view+json": {
       "model_id": "51e59a444b32432f90c22f498a70ca44",
       "version_major": 2,
       "version_minor": 0
      },
      "text/plain": [
       "Epoch 4:   0%|                                                               | 0/66 [00:00<?, ?it/s]"
      ]
     },
     "metadata": {},
     "output_type": "display_data"
    },
    {
     "name": "stdout",
     "output_type": "stream",
     "text": [
      "Epoch 4 Training Loss: 2.4000                                                                                                                                                                                      \n",
      " 52%|█████████████████████████████████████████████████████████████████████▎                                                              | 21/40 [20:30:55<14:37:33, 2771.23s/trial, best loss: 2.3821603540386618]"
     ]
    },
    {
     "data": {
      "application/vnd.jupyter.widget-view+json": {
       "model_id": "558544d9af09438687481a5732732d9d",
       "version_major": 2,
       "version_minor": 0
      },
      "text/plain": [
       "Epoch 5:   0%|                                                               | 0/66 [00:00<?, ?it/s]"
      ]
     },
     "metadata": {},
     "output_type": "display_data"
    },
    {
     "name": "stdout",
     "output_type": "stream",
     "text": [
      "Epoch 5 Training Loss: 2.4061                                                                                                                                                                                      \n",
      "Validation Loss:                                                                                                                                                                                                   \n",
      "2.3244368624423686                                                                                                                                                                                                 \n",
      "Validation Accuracy:                                                                                                                                                                                               \n",
      "0.052378664103796255                                                                                                                                                                                               \n",
      "Hyperparameters:                                                                                                                                                                                                   \n",
      "{'batch_size': 128.0, 'dropout_co_graph_enabled': False, 'dropout_final_enabled': True, 'dropout_fusion_enabled': False, 'dropout_rate_co_graph': 0.10720921692346035, 'dropout_rate_final': 0.4027223404960333, 'dropout_rate_fusion': 0.49479826597281173, 'dropout_rate_sent': 0.11151239471012363, 'dropout_rate_word': 0.1930876950679445, 'dropout_sent_enabled': True, 'dropout_word_enabled': True, 'gamma': 0.7389175444127654, 'hidden_dim': 255.0, 'learning_rate': 0.0004325718763207923, 'num_sentence_layers': 2.0, 'num_word_layers': 4.0, 'weight_decay': 4.249426328852851e-07}\n",
      "Loading existing valid indices from metadata                                                                                                                                                                       \n",
      "Found 10409 processed documents                                                                                                                                                                                    \n",
      " 55%|████████████████████████████████████████████████████████████████████████▌                                                           | 22/40 [20:46:50<15:48:09, 3160.53s/trial, best loss: 2.3244368624423686]"
     ]
    },
    {
     "data": {
      "application/vnd.jupyter.widget-view+json": {
       "model_id": "d024db2710da4b109fc79d60c270ec45",
       "version_major": 2,
       "version_minor": 0
      },
      "text/plain": [
       "Epoch 1:   0%|                                                               | 0/66 [00:00<?, ?it/s]"
      ]
     },
     "metadata": {},
     "output_type": "display_data"
    },
    {
     "name": "stdout",
     "output_type": "stream",
     "text": [
      "Epoch 1 Training Loss: 2.9657                                                                                                                                                                                      \n",
      " 55%|████████████████████████████████████████████████████████████████████████▌                                                           | 22/40 [21:00:44<15:48:09, 3160.53s/trial, best loss: 2.3244368624423686]"
     ]
    },
    {
     "data": {
      "application/vnd.jupyter.widget-view+json": {
       "model_id": "60344d9e8af441e59550ec06f3f7daa3",
       "version_major": 2,
       "version_minor": 0
      },
      "text/plain": [
       "Epoch 2:   0%|                                                               | 0/66 [00:00<?, ?it/s]"
      ]
     },
     "metadata": {},
     "output_type": "display_data"
    },
    {
     "name": "stdout",
     "output_type": "stream",
     "text": [
      "Epoch 2 Training Loss: 2.9727                                                                                                                                                                                      \n",
      " 55%|████████████████████████████████████████████████████████████████████████▌                                                           | 22/40 [21:14:51<15:48:09, 3160.53s/trial, best loss: 2.3244368624423686]"
     ]
    },
    {
     "data": {
      "application/vnd.jupyter.widget-view+json": {
       "model_id": "14235b2b758943619b876b27c4aad9c0",
       "version_major": 2,
       "version_minor": 0
      },
      "text/plain": [
       "Epoch 3:   0%|                                                               | 0/66 [00:00<?, ?it/s]"
      ]
     },
     "metadata": {},
     "output_type": "display_data"
    },
    {
     "name": "stdout",
     "output_type": "stream",
     "text": [
      "Epoch 3 Training Loss: 2.9382                                                                                                                                                                                      \n",
      " 55%|████████████████████████████████████████████████████████████████████████▌                                                           | 22/40 [21:27:47<15:48:09, 3160.53s/trial, best loss: 2.3244368624423686]"
     ]
    },
    {
     "data": {
      "application/vnd.jupyter.widget-view+json": {
       "model_id": "1d16fcfa63344583a6d9a56a88ed5426",
       "version_major": 2,
       "version_minor": 0
      },
      "text/plain": [
       "Epoch 4:   0%|                                                               | 0/66 [00:00<?, ?it/s]"
      ]
     },
     "metadata": {},
     "output_type": "display_data"
    },
    {
     "name": "stdout",
     "output_type": "stream",
     "text": [
      "Epoch 4 Training Loss: 2.9406                                                                                                                                                                                      \n",
      " 55%|████████████████████████████████████████████████████████████████████████▌                                                           | 22/40 [21:41:56<15:48:09, 3160.53s/trial, best loss: 2.3244368624423686]"
     ]
    },
    {
     "data": {
      "application/vnd.jupyter.widget-view+json": {
       "model_id": "f32b5283e17545658b37e376a1faf083",
       "version_major": 2,
       "version_minor": 0
      },
      "text/plain": [
       "Epoch 5:   0%|                                                               | 0/66 [00:00<?, ?it/s]"
      ]
     },
     "metadata": {},
     "output_type": "display_data"
    },
    {
     "name": "stdout",
     "output_type": "stream",
     "text": [
      "Epoch 5 Training Loss: 2.8957                                                                                                                                                                                      \n",
      "Validation Loss:                                                                                                                                                                                                   \n",
      "2.9194129182420516                                                                                                                                                                                                 \n",
      "Validation Accuracy:                                                                                                                                                                                               \n",
      "0.05526189332051898                                                                                                                                                                                                \n",
      "Hyperparameters:                                                                                                                                                                                                   \n",
      "{'batch_size': 128.0, 'dropout_co_graph_enabled': False, 'dropout_final_enabled': True, 'dropout_fusion_enabled': False, 'dropout_rate_co_graph': 0.12340364127998524, 'dropout_rate_final': 0.3561881588346928, 'dropout_rate_fusion': 0.44660784502558193, 'dropout_rate_sent': 0.3368351918336394, 'dropout_rate_word': 0.19062677838128417, 'dropout_sent_enabled': True, 'dropout_word_enabled': False, 'gamma': 3.883698271853948, 'hidden_dim': 255.0, 'learning_rate': 0.0003413398467400374, 'num_sentence_layers': 1.0, 'num_word_layers': 4.0, 'weight_decay': 4.138695925187573e-06}\n",
      "Loading existing valid indices from metadata                                                                                                                                                                       \n",
      "Found 10409 processed documents                                                                                                                                                                                    \n",
      " 57%|███████████████████████████████████████████████████████████████████████████▉                                                        | 23/40 [21:55:04<16:14:49, 3440.58s/trial, best loss: 2.3244368624423686]"
     ]
    },
    {
     "data": {
      "application/vnd.jupyter.widget-view+json": {
       "model_id": "f8d7c706d9994242aa86d2016612591d",
       "version_major": 2,
       "version_minor": 0
      },
      "text/plain": [
       "Epoch 1:   0%|                                                               | 0/66 [00:00<?, ?it/s]"
      ]
     },
     "metadata": {},
     "output_type": "display_data"
    },
    {
     "name": "stdout",
     "output_type": "stream",
     "text": [
      "Epoch 1 Training Loss: 2.5720                                                                                                                                                                                      \n",
      " 57%|███████████████████████████████████████████████████████████████████████████▉                                                        | 23/40 [22:04:11<16:14:49, 3440.58s/trial, best loss: 2.3244368624423686]"
     ]
    },
    {
     "data": {
      "application/vnd.jupyter.widget-view+json": {
       "model_id": "ae7c361300634283a9a13294c0d9bd50",
       "version_major": 2,
       "version_minor": 0
      },
      "text/plain": [
       "Epoch 2:   0%|                                                               | 0/66 [00:00<?, ?it/s]"
      ]
     },
     "metadata": {},
     "output_type": "display_data"
    },
    {
     "name": "stdout",
     "output_type": "stream",
     "text": [
      "Epoch 2 Training Loss: 2.5581                                                                                                                                                                                      \n",
      " 57%|███████████████████████████████████████████████████████████████████████████▉                                                        | 23/40 [22:13:43<16:14:49, 3440.58s/trial, best loss: 2.3244368624423686]"
     ]
    },
    {
     "data": {
      "application/vnd.jupyter.widget-view+json": {
       "model_id": "0f4e49ad996e43bab6735080e8555fa2",
       "version_major": 2,
       "version_minor": 0
      },
      "text/plain": [
       "Epoch 3:   0%|                                                               | 0/66 [00:00<?, ?it/s]"
      ]
     },
     "metadata": {},
     "output_type": "display_data"
    },
    {
     "name": "stdout",
     "output_type": "stream",
     "text": [
      "Epoch 3 Training Loss: 2.5412                                                                                                                                                                                      \n",
      " 57%|███████████████████████████████████████████████████████████████████████████▉                                                        | 23/40 [22:20:32<16:14:49, 3440.58s/trial, best loss: 2.3244368624423686]"
     ]
    },
    {
     "data": {
      "application/vnd.jupyter.widget-view+json": {
       "model_id": "7b8b3f74aa174263a48faea48ee58ad7",
       "version_major": 2,
       "version_minor": 0
      },
      "text/plain": [
       "Epoch 4:   0%|                                                               | 0/66 [00:00<?, ?it/s]"
      ]
     },
     "metadata": {},
     "output_type": "display_data"
    },
    {
     "name": "stdout",
     "output_type": "stream",
     "text": [
      "Epoch 4 Training Loss: 2.5120                                                                                                                                                                                      \n",
      " 57%|███████████████████████████████████████████████████████████████████████████▉                                                        | 23/40 [22:25:33<16:14:49, 3440.58s/trial, best loss: 2.3244368624423686]"
     ]
    },
    {
     "data": {
      "application/vnd.jupyter.widget-view+json": {
       "model_id": "66c3244182de4932aa8e6c4ad0efae99",
       "version_major": 2,
       "version_minor": 0
      },
      "text/plain": [
       "Epoch 5:   0%|                                                               | 0/66 [00:00<?, ?it/s]"
      ]
     },
     "metadata": {},
     "output_type": "display_data"
    },
    {
     "name": "stdout",
     "output_type": "stream",
     "text": [
      "Epoch 5 Training Loss: 2.4671                                                                                                                                                                                      \n",
      "Validation Loss:                                                                                                                                                                                                   \n",
      "2.436725056440655                                                                                                                                                                                                  \n",
      "Validation Accuracy:                                                                                                                                                                                               \n",
      "0.047092743873137916                                                                                                                                                                                               \n",
      "Hyperparameters:                                                                                                                                                                                                   \n",
      "{'batch_size': 336.0, 'dropout_co_graph_enabled': False, 'dropout_final_enabled': False, 'dropout_fusion_enabled': False, 'dropout_rate_co_graph': 0.13928950592124187, 'dropout_rate_final': 0.32641673195781346, 'dropout_rate_fusion': 0.18349500200231944, 'dropout_rate_sent': 0.2489350325257385, 'dropout_rate_word': 0.1052458463829272, 'dropout_sent_enabled': True, 'dropout_word_enabled': True, 'gamma': 4.523830923372541, 'hidden_dim': 234.0, 'learning_rate': 0.0008528245351290286, 'num_sentence_layers': 2.0, 'num_word_layers': 4.0, 'weight_decay': 3.348153590906995e-07}\n",
      "Loading existing valid indices from metadata                                                                                                                                                                       \n",
      "Found 10409 processed documents                                                                                                                                                                                    \n",
      " 60%|███████████████████████████████████████████████████████████████████████████████▏                                                    | 24/40 [22:33:55<13:48:42, 3107.63s/trial, best loss: 2.3244368624423686]"
     ]
    },
    {
     "data": {
      "application/vnd.jupyter.widget-view+json": {
       "model_id": "18a0d0703f5f49ff8932a95cea3163a1",
       "version_major": 2,
       "version_minor": 0
      },
      "text/plain": [
       "Epoch 1:   0%|                                                               | 0/25 [00:00<?, ?it/s]"
      ]
     },
     "metadata": {},
     "output_type": "display_data"
    },
    {
     "name": "stdout",
     "output_type": "stream",
     "text": [
      "Epoch 1 Training Loss: 2.4929                                                                                                                                                                                      \n",
      " 60%|███████████████████████████████████████████████████████████████████████████████▏                                                    | 24/40 [22:44:28<13:48:42, 3107.63s/trial, best loss: 2.3244368624423686]"
     ]
    },
    {
     "data": {
      "application/vnd.jupyter.widget-view+json": {
       "model_id": "6185f2b71b23442cb4432f3f59f730e7",
       "version_major": 2,
       "version_minor": 0
      },
      "text/plain": [
       "Epoch 2:   0%|                                                               | 0/25 [00:00<?, ?it/s]"
      ]
     },
     "metadata": {},
     "output_type": "display_data"
    },
    {
     "name": "stdout",
     "output_type": "stream",
     "text": [
      "Epoch 2 Training Loss: 2.4810                                                                                                                                                                                      \n",
      " 60%|███████████████████████████████████████████████████████████████████████████████▏                                                    | 24/40 [22:54:47<13:48:42, 3107.63s/trial, best loss: 2.3244368624423686]"
     ]
    },
    {
     "data": {
      "application/vnd.jupyter.widget-view+json": {
       "model_id": "679598d4457844e18bafa8eb0ee267eb",
       "version_major": 2,
       "version_minor": 0
      },
      "text/plain": [
       "Epoch 3:   0%|                                                               | 0/25 [00:00<?, ?it/s]"
      ]
     },
     "metadata": {},
     "output_type": "display_data"
    },
    {
     "name": "stdout",
     "output_type": "stream",
     "text": [
      "Epoch 3 Training Loss: 2.4515                                                                                                                                                                                      \n",
      " 60%|███████████████████████████████████████████████████████████████████████████████▏                                                    | 24/40 [23:03:18<13:48:42, 3107.63s/trial, best loss: 2.3244368624423686]"
     ]
    },
    {
     "data": {
      "application/vnd.jupyter.widget-view+json": {
       "model_id": "4025e9e48a4a401c839ec81e51247b85",
       "version_major": 2,
       "version_minor": 0
      },
      "text/plain": [
       "Epoch 4:   0%|                                                               | 0/25 [00:00<?, ?it/s]"
      ]
     },
     "metadata": {},
     "output_type": "display_data"
    },
    {
     "name": "stdout",
     "output_type": "stream",
     "text": [
      "Epoch 4 Training Loss: 2.4145                                                                                                                                                                                      \n",
      " 60%|███████████████████████████████████████████████████████████████████████████████▏                                                    | 24/40 [23:12:09<13:48:42, 3107.63s/trial, best loss: 2.3244368624423686]"
     ]
    },
    {
     "data": {
      "application/vnd.jupyter.widget-view+json": {
       "model_id": "19eae463c85a40308d702bcdda3db260",
       "version_major": 2,
       "version_minor": 0
      },
      "text/plain": [
       "Epoch 5:   0%|                                                               | 0/25 [00:00<?, ?it/s]"
      ]
     },
     "metadata": {},
     "output_type": "display_data"
    },
    {
     "name": "stdout",
     "output_type": "stream",
     "text": [
      "Epoch 5 Training Loss: 2.3642                                                                                                                                                                                      \n",
      "Validation Loss:                                                                                                                                                                                                   \n",
      "2.353170344372428                                                                                                                                                                                                  \n",
      "Validation Accuracy:                                                                                                                                                                                               \n",
      "0.06343104276790004                                                                                                                                                                                                \n",
      "Hyperparameters:                                                                                                                                                                                                   \n",
      "{'batch_size': 384.0, 'dropout_co_graph_enabled': False, 'dropout_final_enabled': True, 'dropout_fusion_enabled': False, 'dropout_rate_co_graph': 0.1495284334660776, 'dropout_rate_final': 0.32674558528776837, 'dropout_rate_fusion': 0.3915459993953361, 'dropout_rate_sent': 0.4967159244018297, 'dropout_rate_word': 0.10449215752071345, 'dropout_sent_enabled': True, 'dropout_word_enabled': False, 'gamma': 3.635622961428271, 'hidden_dim': 230.0, 'learning_rate': 0.0008358174115365644, 'num_sentence_layers': 1.0, 'num_word_layers': 5.0, 'weight_decay': 2.631385721632093e-07}\n",
      "Loading existing valid indices from metadata                                                                                                                                                                       \n",
      "Found 10409 processed documents                                                                                                                                                                                    \n",
      " 62%|██████████████████████████████████████████████████████████████████████████████████▌                                                 | 25/40 [23:20:45<12:34:34, 3018.29s/trial, best loss: 2.3244368624423686]"
     ]
    },
    {
     "data": {
      "application/vnd.jupyter.widget-view+json": {
       "model_id": "e96fe6e5ec0d48f997f84ea6576193af",
       "version_major": 2,
       "version_minor": 0
      },
      "text/plain": [
       "Epoch 1:   0%|                                                               | 0/22 [00:00<?, ?it/s]"
      ]
     },
     "metadata": {},
     "output_type": "display_data"
    },
    {
     "name": "stdout",
     "output_type": "stream",
     "text": [
      "Epoch 1 Training Loss: 2.5896                                                                                                                                                                                      \n",
      " 62%|██████████████████████████████████████████████████████████████████████████████████▌                                                 | 25/40 [23:26:55<12:34:34, 3018.29s/trial, best loss: 2.3244368624423686]"
     ]
    },
    {
     "data": {
      "application/vnd.jupyter.widget-view+json": {
       "model_id": "3877dbf941d5498784548a2b730d4e8d",
       "version_major": 2,
       "version_minor": 0
      },
      "text/plain": [
       "Epoch 2:   0%|                                                               | 0/22 [00:00<?, ?it/s]"
      ]
     },
     "metadata": {},
     "output_type": "display_data"
    },
    {
     "name": "stdout",
     "output_type": "stream",
     "text": [
      "Epoch 2 Training Loss: 2.5690                                                                                                                                                                                      \n",
      " 62%|██████████████████████████████████████████████████████████████████████████████████▌                                                 | 25/40 [23:32:00<12:34:34, 3018.29s/trial, best loss: 2.3244368624423686]"
     ]
    },
    {
     "data": {
      "application/vnd.jupyter.widget-view+json": {
       "model_id": "136ac5aeb880409eb4495e201c105702",
       "version_major": 2,
       "version_minor": 0
      },
      "text/plain": [
       "Epoch 3:   0%|                                                               | 0/22 [00:00<?, ?it/s]"
      ]
     },
     "metadata": {},
     "output_type": "display_data"
    },
    {
     "name": "stdout",
     "output_type": "stream",
     "text": [
      "Epoch 3 Training Loss: 2.5591                                                                                                                                                                                      \n",
      " 62%|██████████████████████████████████████████████████████████████████████████████████▌                                                 | 25/40 [23:37:32<12:34:34, 3018.29s/trial, best loss: 2.3244368624423686]"
     ]
    },
    {
     "data": {
      "application/vnd.jupyter.widget-view+json": {
       "model_id": "61b8a32d6cf34c688daf173d37c77832",
       "version_major": 2,
       "version_minor": 0
      },
      "text/plain": [
       "Epoch 4:   0%|                                                               | 0/22 [00:00<?, ?it/s]"
      ]
     },
     "metadata": {},
     "output_type": "display_data"
    },
    {
     "name": "stdout",
     "output_type": "stream",
     "text": [
      "Epoch 4 Training Loss: 2.5357                                                                                                                                                                                      \n",
      " 62%|██████████████████████████████████████████████████████████████████████████████████▌                                                 | 25/40 [23:42:43<12:34:34, 3018.29s/trial, best loss: 2.3244368624423686]"
     ]
    },
    {
     "data": {
      "application/vnd.jupyter.widget-view+json": {
       "model_id": "36e731112fcb4fa99ca1a899384e2a82",
       "version_major": 2,
       "version_minor": 0
      },
      "text/plain": [
       "Epoch 5:   0%|                                                               | 0/22 [00:00<?, ?it/s]"
      ]
     },
     "metadata": {},
     "output_type": "display_data"
    },
    {
     "name": "stdout",
     "output_type": "stream",
     "text": [
      "Epoch 5 Training Loss: 2.5470                                                                                                                                                                                      \n",
      "Validation Loss:                                                                                                                                                                                                   \n",
      "2.524775097886855                                                                                                                                                                                                  \n",
      "Validation Accuracy:                                                                                                                                                                                               \n",
      "0.05814512253724171                                                                                                                                                                                                \n",
      "Hyperparameters:                                                                                                                                                                                                   \n",
      "{'batch_size': 320.0, 'dropout_co_graph_enabled': False, 'dropout_final_enabled': True, 'dropout_fusion_enabled': False, 'dropout_rate_co_graph': 0.14169347435574425, 'dropout_rate_final': 0.404375461305871, 'dropout_rate_fusion': 0.20829366637539776, 'dropout_rate_sent': 0.26095079236773633, 'dropout_rate_word': 0.10280811095018366, 'dropout_sent_enabled': True, 'dropout_word_enabled': True, 'gamma': 4.537472454351386, 'hidden_dim': 180.0, 'learning_rate': 0.0009599457650303651, 'num_sentence_layers': 2.0, 'num_word_layers': 4.0, 'weight_decay': 4.304625999927243e-08}\n",
      "Loading existing valid indices from metadata                                                                                                                                                                       \n",
      "Found 10409 processed documents                                                                                                                                                                                    \n",
      " 65%|█████████████████████████████████████████████████████████████████████████████████████▊                                              | 26/40 [23:48:30<10:09:27, 2612.00s/trial, best loss: 2.3244368624423686]"
     ]
    },
    {
     "data": {
      "application/vnd.jupyter.widget-view+json": {
       "model_id": "493f9fe32cdd4aa39323847482c809a8",
       "version_major": 2,
       "version_minor": 0
      },
      "text/plain": [
       "Epoch 1:   0%|                                                               | 0/27 [00:00<?, ?it/s]"
      ]
     },
     "metadata": {},
     "output_type": "display_data"
    },
    {
     "name": "stdout",
     "output_type": "stream",
     "text": [
      "Epoch 1 Training Loss: 2.5360                                                                                                                                                                                      \n",
      " 65%|█████████████████████████████████████████████████████████████████████████████████████▊                                              | 26/40 [23:55:17<10:09:27, 2612.00s/trial, best loss: 2.3244368624423686]"
     ]
    },
    {
     "data": {
      "application/vnd.jupyter.widget-view+json": {
       "model_id": "4b950fbb8c6c41318b3fcb37c2ee3858",
       "version_major": 2,
       "version_minor": 0
      },
      "text/plain": [
       "Epoch 2:   0%|                                                               | 0/27 [00:00<?, ?it/s]"
      ]
     },
     "metadata": {},
     "output_type": "display_data"
    }
   ],
   "source": [
    "import torch\n",
    "import torch.nn as nn\n",
    "import json\n",
    "from torch_geometric.loader import DataLoader\n",
    "from pathlib import Path\n",
    "import numpy as np\n",
    "from tqdm.notebook import tqdm\n",
    "from hyperopt import fmin, tpe, hp, Trials, STATUS_OK\n",
    "\n",
    "# Import your existing modules\n",
    "from src.models import CoGraphNet\n",
    "from src.data.document_dataset import DocumentGraphDataset\n",
    "from src.train import FocalLoss\n",
    "\n",
    "# -------------------------\n",
    "# Utility Functions\n",
    "# -------------------------\n",
    "def get_all_categories(train_dir: str, test_dir: str):\n",
    "    \"\"\"Get all unique categories across all datasets.\"\"\"\n",
    "    categories = set()\n",
    "    for data_dir in [train_dir, test_dir]:\n",
    "        for file in Path(data_dir).glob('*.json'):\n",
    "            with open(file, 'r', encoding='utf-8') as f:\n",
    "                doc = json.load(f)\n",
    "                if 'text' in doc and 'category' in doc and doc['text'].strip() and doc['category'].strip():\n",
    "                    categories.add(doc['category'])\n",
    "    return categories\n",
    "\n",
    "def create_dataloaders(root: str, train_dir: str, test_dir: str, batch_size: int):\n",
    "    \"\"\"Create DataLoader instances with a train/validation split.\"\"\"\n",
    "    all_categories = get_all_categories(train_dir, test_dir)\n",
    "    category_to_idx = {cat: idx for idx, cat in enumerate(sorted(all_categories))}\n",
    "    num_classes = len(category_to_idx)\n",
    "    \n",
    "    full_train_dataset = DocumentGraphDataset(\n",
    "        f\"{root}/train\", \n",
    "        train_dir, \n",
    "        category_to_idx=category_to_idx\n",
    "    )\n",
    "    \n",
    "    # Use 80% for training and 20% for validation.\n",
    "    dataset_size = len(full_train_dataset)\n",
    "    val_size = int(dataset_size * 0.2)\n",
    "    train_size = dataset_size - val_size\n",
    "    train_dataset, val_dataset = torch.utils.data.random_split(full_train_dataset, [train_size, val_size])\n",
    "    \n",
    "    train_loader = DataLoader(\n",
    "        train_dataset,\n",
    "        batch_size=batch_size,\n",
    "        shuffle=True,\n",
    "        num_workers=4,\n",
    "        pin_memory=True\n",
    "    )\n",
    "    \n",
    "    val_loader = DataLoader(\n",
    "        val_dataset,\n",
    "        batch_size=batch_size,\n",
    "        shuffle=False,\n",
    "        num_workers=4,\n",
    "        pin_memory=True\n",
    "    )\n",
    "    \n",
    "    return train_loader, val_loader, num_classes, category_to_idx\n",
    "\n",
    "def objective(params):\n",
    "    \"\"\"\n",
    "    Hyperopt objective function.\n",
    "    Trains the model for a few epochs using the provided hyperparameters and returns the validation loss.\n",
    "    \"\"\"\n",
    "    print(\"Hyperparameters:\", params)\n",
    "    device = torch.device(\"cuda\" if torch.cuda.is_available() else \"cpu\")\n",
    "    \n",
    "    # Convert batch_size to integer\n",
    "    batch_size = int(params['batch_size'])\n",
    "    root = \"processed_graphs_ohsumed\"\n",
    "    train_dir = \"processed_data_ohsumed/train\"\n",
    "    test_dir = \"processed_data_ohsumed/test\"\n",
    "    \n",
    "    # Create dataloaders\n",
    "    train_loader, val_loader, num_classes, category_to_idx = create_dataloaders(root, train_dir, test_dir, batch_size)\n",
    "    \n",
    "    # Create dropout configuration from hyperparameters\n",
    "    dropout_config = {\n",
    "        'word': params['dropout_word_enabled'],\n",
    "        'sent': params['dropout_sent_enabled'],\n",
    "        'fusion': params['dropout_fusion_enabled'],\n",
    "        'co_graph': params['dropout_co_graph_enabled'],\n",
    "        'final': params['dropout_final_enabled']\n",
    "    }\n",
    "    \n",
    "    dropout_rate = {\n",
    "        'word': params['dropout_rate_word'],\n",
    "        'sent': params['dropout_rate_sent'],\n",
    "        'fusion': params['dropout_rate_fusion'],\n",
    "        'co_graph': params['dropout_rate_co_graph'],\n",
    "        'final': params['dropout_rate_final']\n",
    "    }\n",
    "    \n",
    "    # Build the model using the hyperparameters\n",
    "    model = CoGraphNet(\n",
    "        word_in_channels=768,\n",
    "        sent_in_channels=768,\n",
    "        hidden_channels=int(params['hidden_dim']),\n",
    "        num_word_layers=int(params['num_word_layers']),\n",
    "        num_sent_layers=int(params['num_sentence_layers']),\n",
    "        num_classes=num_classes,\n",
    "        dropout_config=dropout_config,\n",
    "        dropout_rate=dropout_rate\n",
    "    ).to(device)\n",
    "    \n",
    "    # Setup optimizer and criterion\n",
    "    optimizer = torch.optim.Adam(model.parameters(), lr=params['learning_rate'], weight_decay=params['weight_decay'])\n",
    "    \n",
    "    # Compute separate class weights for training and validation sets\n",
    "    train_labels = torch.tensor([data.y.item() for data in train_loader.dataset])\n",
    "    train_class_counts = torch.bincount(train_labels, minlength=num_classes)\n",
    "    train_total_samples = len(train_labels)\n",
    "    train_class_weights = train_total_samples / (num_classes * train_class_counts.float())\n",
    "    train_class_weights = train_class_weights.to(device)\n",
    "\n",
    "    val_labels = torch.tensor([data.y.item() for data in val_loader.dataset])\n",
    "    val_class_counts = torch.bincount(val_labels, minlength=num_classes)\n",
    "    val_total_samples = len(val_labels)\n",
    "    val_class_weights = val_total_samples / (num_classes * val_class_counts.float())\n",
    "    val_class_weights = val_class_weights.to(device)\n",
    "    \n",
    "    # Create separate loss functions for training and validation\n",
    "    train_criterion = FocalLoss(gamma=params['gamma'], weight=train_class_weights)\n",
    "    val_criterion = FocalLoss(gamma=params['gamma'], weight=val_class_weights)\n",
    "    \n",
    "    num_epochs = 5  # Use a small number of epochs for hyperparameter tuning\n",
    "    for epoch in range(num_epochs):\n",
    "        model.train()\n",
    "        epoch_loss = 0.0\n",
    "        for batch in tqdm(train_loader, desc=f\"Epoch {epoch+1}\", leave=False, ncols=100):\n",
    "            # Move data to device\n",
    "            word_x = batch['word'].x.to(device)\n",
    "            word_edge_index = batch['word', 'co_occurs', 'word'].edge_index.to(device)\n",
    "            word_edge_weight = batch['word', 'co_occurs', 'word'].edge_attr.to(device)\n",
    "            word_batch = batch['word'].batch.to(device)\n",
    "            \n",
    "            sent_x = batch['sentence'].x.to(device)\n",
    "            sent_edge_index = batch['sentence', 'related_to', 'sentence'].edge_index.to(device)\n",
    "            sent_edge_weight = batch['sentence', 'related_to', 'sentence'].edge_attr.to(device)\n",
    "            sent_batch = batch['sentence'].batch.to(device)\n",
    "            \n",
    "            optimizer.zero_grad()\n",
    "            outputs = model(\n",
    "                word_x, word_edge_index, word_batch, word_edge_weight,\n",
    "                sent_x, sent_edge_index, sent_batch, sent_edge_weight\n",
    "            )\n",
    "            batch = batch.to(device)\n",
    "            curr_batch_size = batch.y.size(0)\n",
    "            loss = train_criterion(outputs[:curr_batch_size], batch.y)\n",
    "            loss.backward()\n",
    "            optimizer.step()\n",
    "            epoch_loss += loss.item()\n",
    "        print(f\"Epoch {epoch+1} Training Loss: {epoch_loss/len(train_loader):.4f}\")\n",
    "    \n",
    "    # Evaluate on validation set\n",
    "    model.eval()\n",
    "    total_loss = 0\n",
    "    correct = 0\n",
    "    total = 0\n",
    "    with torch.no_grad():\n",
    "        for batch in val_loader:\n",
    "            word_x = batch['word'].x.to(device)\n",
    "            word_edge_index = batch['word', 'co_occurs', 'word'].edge_index.to(device)\n",
    "            word_edge_weight = batch['word', 'co_occurs', 'word'].edge_attr.to(device)\n",
    "            word_batch = batch['word'].batch.to(device)\n",
    "            \n",
    "            sent_x = batch['sentence'].x.to(device)\n",
    "            sent_edge_index = batch['sentence', 'related_to', 'sentence'].edge_index.to(device)\n",
    "            sent_edge_weight = batch['sentence', 'related_to', 'sentence'].edge_attr.to(device)\n",
    "            sent_batch = batch['sentence'].batch.to(device)\n",
    "            \n",
    "            outputs = model(\n",
    "                word_x, word_edge_index, word_batch, word_edge_weight,\n",
    "                sent_x, sent_edge_index, sent_batch, sent_edge_weight\n",
    "            )\n",
    "            batch = batch.to(device)\n",
    "            curr_batch_size = batch.y.size(0)\n",
    "            loss = val_criterion(outputs[:curr_batch_size], batch.y)\n",
    "            total_loss += loss.item() * curr_batch_size\n",
    "            preds = outputs[:curr_batch_size].argmax(dim=1)\n",
    "            correct += (preds == batch.y).sum().item()\n",
    "            total += curr_batch_size\n",
    "    \n",
    "    val_loss = total_loss / total\n",
    "    val_acc = correct / total\n",
    "    print(\"Validation Loss:\", val_loss, \"Validation Accuracy:\", val_acc)\n",
    "    \n",
    "    # Hyperopt minimizes the objective, so we return the validation loss.\n",
    "    return {'loss': val_loss, 'status': STATUS_OK}\n",
    "\n",
    "if __name__ == \"__main__\":\n",
    "    # Define the hyperopt search space including batch_size and dropout_rate\n",
    "    space = {\n",
    "        'learning_rate': hp.loguniform('learning_rate', np.log(1e-5), np.log(1e-3)),\n",
    "        'gamma': hp.uniform('gamma', 0.5, 5.0),\n",
    "        'weight_decay': hp.loguniform('weight_decay', np.log(1e-8), np.log(1e-3)),\n",
    "        'hidden_dim': hp.quniform('hidden_dim', 64, 256, 1),\n",
    "        'num_word_layers': hp.quniform('num_word_layers', 1, 5, 1),\n",
    "        'num_sentence_layers': hp.quniform('num_sentence_layers', 1, 5, 1),\n",
    "        'batch_size': hp.quniform('batch_size', 16, 512, 16),\n",
    "        \n",
    "        # Dropout enable/disable flags\n",
    "        'dropout_word_enabled': hp.choice('dropout_word_enabled', [True, False]),\n",
    "        'dropout_sent_enabled': hp.choice('dropout_sent_enabled', [True, False]),\n",
    "        'dropout_fusion_enabled': hp.choice('dropout_fusion_enabled', [True, False]),\n",
    "        'dropout_co_graph_enabled': hp.choice('dropout_co_graph_enabled', [True, False]),\n",
    "        'dropout_final_enabled': hp.choice('dropout_final_enabled', [True, False]),\n",
    "        \n",
    "        # Dropout rates for each component\n",
    "        'dropout_rate_word': hp.uniform('dropout_rate_word', 0.1, 0.5),\n",
    "        'dropout_rate_sent': hp.uniform('dropout_rate_sent', 0.1, 0.5),\n",
    "        'dropout_rate_fusion': hp.uniform('dropout_rate_fusion', 0.1, 0.5),\n",
    "        'dropout_rate_co_graph': hp.uniform('dropout_rate_co_graph', 0.1, 0.5),\n",
    "        'dropout_rate_final': hp.uniform('dropout_rate_final', 0.1, 0.5)\n",
    "    }\n",
    "    \n",
    "    trials = Trials()\n",
    "    best = fmin(fn=objective, space=space, algo=tpe.suggest, max_evals=40, trials=trials)\n",
    "    print(\"Best hyperparameters:\", best)\n"
   ]
  },
  {
   "cell_type": "code",
   "execution_count": null,
   "id": "0d310757-6a18-433d-8c21-ed25cb7dd03b",
   "metadata": {},
   "outputs": [],
   "source": []
  }
 ],
 "metadata": {
  "kernelspec": {
   "display_name": "Python 3 (ipykernel)",
   "language": "python",
   "name": "python3"
  },
  "language_info": {
   "codemirror_mode": {
    "name": "ipython",
    "version": 3
   },
   "file_extension": ".py",
   "mimetype": "text/x-python",
   "name": "python",
   "nbconvert_exporter": "python",
   "pygments_lexer": "ipython3",
   "version": "3.12.9"
  }
 },
 "nbformat": 4,
 "nbformat_minor": 5
}
