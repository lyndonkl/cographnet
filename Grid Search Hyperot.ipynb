{
 "cells": [
  {
   "cell_type": "code",
   "execution_count": 1,
   "id": "ad1e6afa-43c2-4f1a-bbc8-432a18246783",
   "metadata": {},
   "outputs": [
    {
     "name": "stdout",
     "output_type": "stream",
     "text": [
      "Hyperparameters:                                                                                                                                                                                                               \n",
      "{'batch_size': 32.0, 'dropout_co_graph_enabled': False, 'dropout_final_enabled': False, 'dropout_fusion_enabled': True, 'dropout_rate_co_graph': 0.30942536304289436, 'dropout_rate_final': 0.33369309438953754, 'dropout_rate_fusion': 0.2832673461216309, 'dropout_rate_sent': 0.1114170755741466, 'dropout_rate_word': 0.25206457721513104, 'dropout_sent_enabled': False, 'dropout_word_enabled': True, 'gamma': 4.213648700185027, 'hidden_dim': 129.0, 'learning_rate': 1.89771993970005e-05, 'num_sentence_layers': 1.0, 'num_word_layers': 4.0, 'weight_decay': 3.57971033947012e-06}\n",
      "Loading existing valid indices from metadata                                                                                                                                                                                   \n",
      "Found 10409 processed documents                                                                                                                                                                                                \n",
      "  0%|                                                                                                                                                                                   | 0/40 [00:01<?, ?trial/s, best loss=?]"
     ]
    },
    {
     "data": {
      "application/vnd.jupyter.widget-view+json": {
       "model_id": "e09b0ac37d4949aa9d505914e988e01d",
       "version_major": 2,
       "version_minor": 0
      },
      "text/plain": [
       "Epoch 1:   0%|                                                              | 0/261 [00:00<?, ?it/s]"
      ]
     },
     "metadata": {},
     "output_type": "display_data"
    },
    {
     "name": "stdout",
     "output_type": "stream",
     "text": [
      "Epoch 1 Training Loss: 2.5271                                                                                                                                                                                                  \n",
      "  0%|                                                                                                                                                                                   | 0/40 [02:14<?, ?trial/s, best loss=?]"
     ]
    },
    {
     "data": {
      "application/vnd.jupyter.widget-view+json": {
       "model_id": "f6c6c36f09f64ccb9692f67bb08ace5e",
       "version_major": 2,
       "version_minor": 0
      },
      "text/plain": [
       "Epoch 2:   0%|                                                              | 0/261 [00:00<?, ?it/s]"
      ]
     },
     "metadata": {},
     "output_type": "display_data"
    },
    {
     "name": "stdout",
     "output_type": "stream",
     "text": [
      "Epoch 2 Training Loss: 2.5232                                                                                                                                                                                                  \n",
      "  0%|                                                                                                                                                                                   | 0/40 [04:27<?, ?trial/s, best loss=?]"
     ]
    },
    {
     "data": {
      "application/vnd.jupyter.widget-view+json": {
       "model_id": "e401f2424a40492c94e70999f3358153",
       "version_major": 2,
       "version_minor": 0
      },
      "text/plain": [
       "Epoch 3:   0%|                                                              | 0/261 [00:00<?, ?it/s]"
      ]
     },
     "metadata": {},
     "output_type": "display_data"
    },
    {
     "name": "stdout",
     "output_type": "stream",
     "text": [
      "Epoch 3 Training Loss: 2.5089                                                                                                                                                                                                  \n",
      "  0%|                                                                                                                                                                                   | 0/40 [06:43<?, ?trial/s, best loss=?]"
     ]
    },
    {
     "data": {
      "application/vnd.jupyter.widget-view+json": {
       "model_id": "2f54224889c9475b957b5fddea0c0e80",
       "version_major": 2,
       "version_minor": 0
      },
      "text/plain": [
       "Epoch 4:   0%|                                                              | 0/261 [00:00<?, ?it/s]"
      ]
     },
     "metadata": {},
     "output_type": "display_data"
    },
    {
     "name": "stdout",
     "output_type": "stream",
     "text": [
      "Epoch 4 Training Loss: 2.5085                                                                                                                                                                                                  \n",
      "  0%|                                                                                                                                                                                   | 0/40 [08:59<?, ?trial/s, best loss=?]"
     ]
    },
    {
     "data": {
      "application/vnd.jupyter.widget-view+json": {
       "model_id": "7ad8fc2d38994a0b9bf8a13c64860c0a",
       "version_major": 2,
       "version_minor": 0
      },
      "text/plain": [
       "Epoch 5:   0%|                                                              | 0/261 [00:00<?, ?it/s]"
      ]
     },
     "metadata": {},
     "output_type": "display_data"
    },
    {
     "name": "stdout",
     "output_type": "stream",
     "text": [
      "Epoch 5 Training Loss: 2.5042                                                                                                                                                                                                  \n",
      "Validation Loss:                                                                                                                                                                                                               \n",
      "2.5213626750898386                                                                                                                                                                                                             \n",
      "Validation Accuracy:                                                                                                                                                                                                           \n",
      "0.035559827006247                                                                                                                                                                                                              \n",
      "Hyperparameters:                                                                                                                                                                                                               \n",
      "{'batch_size': 160.0, 'dropout_co_graph_enabled': False, 'dropout_final_enabled': False, 'dropout_fusion_enabled': True, 'dropout_rate_co_graph': 0.17029515107952697, 'dropout_rate_final': 0.472806684376988, 'dropout_rate_fusion': 0.2763523653632855, 'dropout_rate_sent': 0.25530959115860585, 'dropout_rate_word': 0.4767384572377075, 'dropout_sent_enabled': False, 'dropout_word_enabled': True, 'gamma': 2.22797506429471, 'hidden_dim': 142.0, 'learning_rate': 0.00019662832765506946, 'num_sentence_layers': 3.0, 'num_word_layers': 4.0, 'weight_decay': 3.105048495635674e-05}\n",
      "Loading existing valid indices from metadata                                                                                                                                                                                   \n",
      "Found 10409 processed documents                                                                                                                                                                                                \n",
      "  2%|███▊                                                                                                                                                  | 1/40 [11:29<7:27:04, 687.81s/trial, best loss: 2.5213626750898386]"
     ]
    },
    {
     "data": {
      "application/vnd.jupyter.widget-view+json": {
       "model_id": "5ea2d26df5a84f92868989c242768aa6",
       "version_major": 2,
       "version_minor": 0
      },
      "text/plain": [
       "Epoch 1:   0%|                                                               | 0/53 [00:00<?, ?it/s]"
      ]
     },
     "metadata": {},
     "output_type": "display_data"
    },
    {
     "name": "stdout",
     "output_type": "stream",
     "text": [
      "Epoch 1 Training Loss: 2.7235                                                                                                                                                                                                  \n",
      "  2%|███▊                                                                                                                                                  | 1/40 [16:22<7:27:04, 687.81s/trial, best loss: 2.5213626750898386]"
     ]
    },
    {
     "data": {
      "application/vnd.jupyter.widget-view+json": {
       "model_id": "4d60d0376d524b60beff3992d90d96e9",
       "version_major": 2,
       "version_minor": 0
      },
      "text/plain": [
       "Epoch 2:   0%|                                                               | 0/53 [00:00<?, ?it/s]"
      ]
     },
     "metadata": {},
     "output_type": "display_data"
    },
    {
     "name": "stdout",
     "output_type": "stream",
     "text": [
      "Epoch 2 Training Loss: 2.7261                                                                                                                                                                                                  \n",
      "  2%|███▊                                                                                                                                                  | 1/40 [21:17<7:27:04, 687.81s/trial, best loss: 2.5213626750898386]"
     ]
    },
    {
     "data": {
      "application/vnd.jupyter.widget-view+json": {
       "model_id": "faea047fd6ea4462bc874bb13f1b5f1b",
       "version_major": 2,
       "version_minor": 0
      },
      "text/plain": [
       "Epoch 3:   0%|                                                               | 0/53 [00:00<?, ?it/s]"
      ]
     },
     "metadata": {},
     "output_type": "display_data"
    },
    {
     "name": "stdout",
     "output_type": "stream",
     "text": [
      "Epoch 3 Training Loss: 2.7338                                                                                                                                                                                                  \n",
      "  2%|███▊                                                                                                                                                  | 1/40 [26:19<7:27:04, 687.81s/trial, best loss: 2.5213626750898386]"
     ]
    },
    {
     "data": {
      "application/vnd.jupyter.widget-view+json": {
       "model_id": "31f812c187f34734bccf4838d12a5c98",
       "version_major": 2,
       "version_minor": 0
      },
      "text/plain": [
       "Epoch 4:   0%|                                                               | 0/53 [00:00<?, ?it/s]"
      ]
     },
     "metadata": {},
     "output_type": "display_data"
    },
    {
     "name": "stdout",
     "output_type": "stream",
     "text": [
      "Epoch 4 Training Loss: 2.7261                                                                                                                                                                                                  \n",
      "  2%|███▊                                                                                                                                                  | 1/40 [31:18<7:27:04, 687.81s/trial, best loss: 2.5213626750898386]"
     ]
    },
    {
     "data": {
      "application/vnd.jupyter.widget-view+json": {
       "model_id": "858cbb146e5a4ad5befe673e6bd7be08",
       "version_major": 2,
       "version_minor": 0
      },
      "text/plain": [
       "Epoch 5:   0%|                                                               | 0/53 [00:00<?, ?it/s]"
      ]
     },
     "metadata": {},
     "output_type": "display_data"
    },
    {
     "name": "stdout",
     "output_type": "stream",
     "text": [
      "Epoch 5 Training Loss: 2.7421                                                                                                                                                                                                  \n",
      "Validation Loss:                                                                                                                                                                                                               \n",
      "2.719377425028005                                                                                                                                                                                                              \n",
      "Validation Accuracy:                                                                                                                                                                                                           \n",
      "0.047092743873137916                                                                                                                                                                                                           \n",
      "Hyperparameters:                                                                                                                                                                                                               \n",
      "{'batch_size': 192.0, 'dropout_co_graph_enabled': False, 'dropout_final_enabled': False, 'dropout_fusion_enabled': False, 'dropout_rate_co_graph': 0.1980845212575877, 'dropout_rate_final': 0.16040271896349637, 'dropout_rate_fusion': 0.44763759862944824, 'dropout_rate_sent': 0.20146031581373267, 'dropout_rate_word': 0.10098872054201143, 'dropout_sent_enabled': False, 'dropout_word_enabled': False, 'gamma': 1.448297470935873, 'hidden_dim': 156.0, 'learning_rate': 0.0006283463054525848, 'num_sentence_layers': 3.0, 'num_word_layers': 4.0, 'weight_decay': 0.00038427048665644787}\n",
      "Loading existing valid indices from metadata                                                                                                                                                                                   \n",
      "Found 10409 processed documents                                                                                                                                                                                                \n",
      "  5%|███████▍                                                                                                                                            | 2/40 [36:37<12:20:56, 1169.92s/trial, best loss: 2.5213626750898386]"
     ]
    },
    {
     "data": {
      "application/vnd.jupyter.widget-view+json": {
       "model_id": "f058ee22529e4e09bb7d5b137b8d47d5",
       "version_major": 2,
       "version_minor": 0
      },
      "text/plain": [
       "Epoch 1:   0%|                                                               | 0/44 [00:00<?, ?it/s]"
      ]
     },
     "metadata": {},
     "output_type": "display_data"
    },
    {
     "name": "stdout",
     "output_type": "stream",
     "text": [
      "Epoch 1 Training Loss: 2.8495                                                                                                                                                                                                  \n",
      "  5%|███████▍                                                                                                                                            | 2/40 [42:20<12:20:56, 1169.92s/trial, best loss: 2.5213626750898386]"
     ]
    },
    {
     "data": {
      "application/vnd.jupyter.widget-view+json": {
       "model_id": "f863eadba76d497f876842d699ef4da9",
       "version_major": 2,
       "version_minor": 0
      },
      "text/plain": [
       "Epoch 2:   0%|                                                               | 0/44 [00:00<?, ?it/s]"
      ]
     },
     "metadata": {},
     "output_type": "display_data"
    },
    {
     "name": "stdout",
     "output_type": "stream",
     "text": [
      "Epoch 2 Training Loss: 2.8470                                                                                                                                                                                                  \n",
      "  5%|███████▍                                                                                                                                            | 2/40 [47:56<12:20:56, 1169.92s/trial, best loss: 2.5213626750898386]"
     ]
    },
    {
     "data": {
      "application/vnd.jupyter.widget-view+json": {
       "model_id": "bbf3d68ec4384d01bb02778d90f13921",
       "version_major": 2,
       "version_minor": 0
      },
      "text/plain": [
       "Epoch 3:   0%|                                                               | 0/44 [00:00<?, ?it/s]"
      ]
     },
     "metadata": {},
     "output_type": "display_data"
    },
    {
     "name": "stdout",
     "output_type": "stream",
     "text": [
      "Epoch 3 Training Loss: 2.8376                                                                                                                                                                                                  \n",
      "  5%|███████▍                                                                                                                                            | 2/40 [53:40<12:20:56, 1169.92s/trial, best loss: 2.5213626750898386]"
     ]
    },
    {
     "data": {
      "application/vnd.jupyter.widget-view+json": {
       "model_id": "8b93944f0f464c38b67837485868f172",
       "version_major": 2,
       "version_minor": 0
      },
      "text/plain": [
       "Epoch 4:   0%|                                                               | 0/44 [00:00<?, ?it/s]"
      ]
     },
     "metadata": {},
     "output_type": "display_data"
    },
    {
     "name": "stdout",
     "output_type": "stream",
     "text": [
      "Epoch 4 Training Loss: 2.8421                                                                                                                                                                                                  \n",
      "  5%|███████▍                                                                                                                                            | 2/40 [59:13<12:20:56, 1169.92s/trial, best loss: 2.5213626750898386]"
     ]
    },
    {
     "data": {
      "application/vnd.jupyter.widget-view+json": {
       "model_id": "ce699145476749ba8a1df4f31d2d17e5",
       "version_major": 2,
       "version_minor": 0
      },
      "text/plain": [
       "Epoch 5:   0%|                                                               | 0/44 [00:00<?, ?it/s]"
      ]
     },
     "metadata": {},
     "output_type": "display_data"
    },
    {
     "name": "stdout",
     "output_type": "stream",
     "text": [
      "Epoch 5 Training Loss: 2.8344                                                                                                                                                                                                  \n",
      "Validation Loss:                                                                                                                                                                                                               \n",
      "2.841106344793119                                                                                                                                                                                                              \n",
      "Validation Accuracy:                                                                                                                                                                                                           \n",
      "0.06054781355117732                                                                                                                                                                                                            \n",
      "Hyperparameters:                                                                                                                                                                                                               \n",
      "{'batch_size': 112.0, 'dropout_co_graph_enabled': False, 'dropout_final_enabled': True, 'dropout_fusion_enabled': True, 'dropout_rate_co_graph': 0.2724767210259979, 'dropout_rate_final': 0.2797070090134856, 'dropout_rate_fusion': 0.3085466557852774, 'dropout_rate_sent': 0.12216346651237671, 'dropout_rate_word': 0.2539847253654588, 'dropout_sent_enabled': False, 'dropout_word_enabled': False, 'gamma': 2.660742136916329, 'hidden_dim': 159.0, 'learning_rate': 0.000450616697832064, 'num_sentence_layers': 1.0, 'num_word_layers': 3.0, 'weight_decay': 4.812989223729825e-06}\n",
      "Loading existing valid indices from metadata                                                                                                                                                                                   \n",
      "Found 10409 processed documents                                                                                                                                                                                                \n",
      "  8%|██████████▉                                                                                                                                       | 3/40 [1:05:04<14:32:57, 1415.61s/trial, best loss: 2.5213626750898386]"
     ]
    },
    {
     "data": {
      "application/vnd.jupyter.widget-view+json": {
       "model_id": "ce6b275e5bc94aac88149bbc222aabbc",
       "version_major": 2,
       "version_minor": 0
      },
      "text/plain": [
       "Epoch 1:   0%|                                                               | 0/75 [00:00<?, ?it/s]"
      ]
     },
     "metadata": {},
     "output_type": "display_data"
    },
    {
     "name": "stdout",
     "output_type": "stream",
     "text": [
      "Epoch 1 Training Loss: 2.6759                                                                                                                                                                                                  \n",
      "  8%|██████████▉                                                                                                                                       | 3/40 [1:07:29<14:32:57, 1415.61s/trial, best loss: 2.5213626750898386]"
     ]
    },
    {
     "data": {
      "application/vnd.jupyter.widget-view+json": {
       "model_id": "8561f25bf54b42009428581bfb6bddde",
       "version_major": 2,
       "version_minor": 0
      },
      "text/plain": [
       "Epoch 2:   0%|                                                               | 0/75 [00:00<?, ?it/s]"
      ]
     },
     "metadata": {},
     "output_type": "display_data"
    },
    {
     "name": "stdout",
     "output_type": "stream",
     "text": [
      "Epoch 2 Training Loss: 2.6411                                                                                                                                                                                                  \n",
      "  8%|██████████▉                                                                                                                                       | 3/40 [1:09:52<14:32:57, 1415.61s/trial, best loss: 2.5213626750898386]"
     ]
    },
    {
     "data": {
      "application/vnd.jupyter.widget-view+json": {
       "model_id": "a2b66ef27c1a41c98b906cf9fae56ae5",
       "version_major": 2,
       "version_minor": 0
      },
      "text/plain": [
       "Epoch 3:   0%|                                                               | 0/75 [00:00<?, ?it/s]"
      ]
     },
     "metadata": {},
     "output_type": "display_data"
    },
    {
     "name": "stdout",
     "output_type": "stream",
     "text": [
      "Epoch 3 Training Loss: 2.6179                                                                                                                                                                                                  \n",
      "  8%|██████████▉                                                                                                                                       | 3/40 [1:12:13<14:32:57, 1415.61s/trial, best loss: 2.5213626750898386]"
     ]
    },
    {
     "data": {
      "application/vnd.jupyter.widget-view+json": {
       "model_id": "201af55e42a449098aea047146e6ad24",
       "version_major": 2,
       "version_minor": 0
      },
      "text/plain": [
       "Epoch 4:   0%|                                                               | 0/75 [00:00<?, ?it/s]"
      ]
     },
     "metadata": {},
     "output_type": "display_data"
    },
    {
     "name": "stdout",
     "output_type": "stream",
     "text": [
      "Epoch 4 Training Loss: 2.5904                                                                                                                                                                                                  \n",
      "  8%|██████████▉                                                                                                                                       | 3/40 [1:14:35<14:32:57, 1415.61s/trial, best loss: 2.5213626750898386]"
     ]
    },
    {
     "data": {
      "application/vnd.jupyter.widget-view+json": {
       "model_id": "32445d5e5e7740e997aab044ad28c9e9",
       "version_major": 2,
       "version_minor": 0
      },
      "text/plain": [
       "Epoch 5:   0%|                                                               | 0/75 [00:00<?, ?it/s]"
      ]
     },
     "metadata": {},
     "output_type": "display_data"
    },
    {
     "name": "stdout",
     "output_type": "stream",
     "text": [
      "Epoch 5 Training Loss: 2.5840                                                                                                                                                                                                  \n",
      "Validation Loss:                                                                                                                                                                                                               \n",
      "2.556829414191239                                                                                                                                                                                                              \n",
      "Validation Accuracy:                                                                                                                                                                                                           \n",
      "0.05189812590100913                                                                                                                                                                                                            \n",
      "Hyperparameters:                                                                                                                                                                                                               \n",
      "{'batch_size': 304.0, 'dropout_co_graph_enabled': False, 'dropout_final_enabled': True, 'dropout_fusion_enabled': False, 'dropout_rate_co_graph': 0.3841887515057618, 'dropout_rate_final': 0.23433132382702526, 'dropout_rate_fusion': 0.14678167247803167, 'dropout_rate_sent': 0.2631270736344932, 'dropout_rate_word': 0.24966560902719492, 'dropout_sent_enabled': False, 'dropout_word_enabled': False, 'gamma': 2.690501943960275, 'hidden_dim': 149.0, 'learning_rate': 0.0002198762031723838, 'num_sentence_layers': 5.0, 'num_word_layers': 4.0, 'weight_decay': 3.702413177166687e-05}\n",
      "Loading existing valid indices from metadata                                                                                                                                                                                   \n",
      "Found 10409 processed documents                                                                                                                                                                                                \n",
      " 10%|██████████████▌                                                                                                                                   | 4/40 [1:17:12<11:26:15, 1143.76s/trial, best loss: 2.5213626750898386]"
     ]
    },
    {
     "data": {
      "application/vnd.jupyter.widget-view+json": {
       "model_id": "467e91c614c549a3a66a8e9948671307",
       "version_major": 2,
       "version_minor": 0
      },
      "text/plain": [
       "Epoch 1:   0%|                                                               | 0/28 [00:00<?, ?it/s]"
      ]
     },
     "metadata": {},
     "output_type": "display_data"
    },
    {
     "name": "stdout",
     "output_type": "stream",
     "text": [
      "Epoch 1 Training Loss: 2.6811                                                                                                                                                                                                  \n",
      " 10%|██████████████▌                                                                                                                                   | 4/40 [1:25:07<11:26:15, 1143.76s/trial, best loss: 2.5213626750898386]"
     ]
    },
    {
     "data": {
      "application/vnd.jupyter.widget-view+json": {
       "model_id": "1c0f5c8c2f584d5d9075da2e7561df84",
       "version_major": 2,
       "version_minor": 0
      },
      "text/plain": [
       "Epoch 2:   0%|                                                               | 0/28 [00:00<?, ?it/s]"
      ]
     },
     "metadata": {},
     "output_type": "display_data"
    },
    {
     "name": "stdout",
     "output_type": "stream",
     "text": [
      "Epoch 2 Training Loss: 2.6684                                                                                                                                                                                                  \n",
      " 10%|██████████████▌                                                                                                                                   | 4/40 [1:32:58<11:26:15, 1143.76s/trial, best loss: 2.5213626750898386]"
     ]
    },
    {
     "data": {
      "application/vnd.jupyter.widget-view+json": {
       "model_id": "b9de0a5fb31649f4ac01b2676e9afe6f",
       "version_major": 2,
       "version_minor": 0
      },
      "text/plain": [
       "Epoch 3:   0%|                                                               | 0/28 [00:00<?, ?it/s]"
      ]
     },
     "metadata": {},
     "output_type": "display_data"
    },
    {
     "name": "stdout",
     "output_type": "stream",
     "text": [
      "Epoch 3 Training Loss: 2.6615                                                                                                                                                                                                  \n",
      " 10%|██████████████▌                                                                                                                                   | 4/40 [1:40:57<11:26:15, 1143.76s/trial, best loss: 2.5213626750898386]"
     ]
    },
    {
     "data": {
      "application/vnd.jupyter.widget-view+json": {
       "model_id": "e589dfb109f34b9690fff922c4d43b32",
       "version_major": 2,
       "version_minor": 0
      },
      "text/plain": [
       "Epoch 4:   0%|                                                               | 0/28 [00:00<?, ?it/s]"
      ]
     },
     "metadata": {},
     "output_type": "display_data"
    },
    {
     "name": "stdout",
     "output_type": "stream",
     "text": [
      "Epoch 4 Training Loss: 2.6675                                                                                                                                                                                                  \n",
      " 10%|██████████████▌                                                                                                                                   | 4/40 [1:48:41<11:26:15, 1143.76s/trial, best loss: 2.5213626750898386]"
     ]
    },
    {
     "data": {
      "application/vnd.jupyter.widget-view+json": {
       "model_id": "46557131a6bd4fa886b4d9a3115dca00",
       "version_major": 2,
       "version_minor": 0
      },
      "text/plain": [
       "Epoch 5:   0%|                                                               | 0/28 [00:00<?, ?it/s]"
      ]
     },
     "metadata": {},
     "output_type": "display_data"
    },
    {
     "name": "stdout",
     "output_type": "stream",
     "text": [
      "Epoch 5 Training Loss: 2.6766                                                                                                                                                                                                  \n",
      "Validation Loss:                                                                                                                                                                                                               \n",
      "2.6495013896918307                                                                                                                                                                                                             \n",
      "Validation Accuracy:                                                                                                                                                                                                           \n",
      "0.05045651129264776                                                                                                                                                                                                            \n",
      "Hyperparameters:                                                                                                                                                                                                               \n",
      "{'batch_size': 96.0, 'dropout_co_graph_enabled': False, 'dropout_final_enabled': True, 'dropout_fusion_enabled': False, 'dropout_rate_co_graph': 0.44003620796676207, 'dropout_rate_final': 0.14174950142449397, 'dropout_rate_fusion': 0.22661730509517586, 'dropout_rate_sent': 0.25631766887024665, 'dropout_rate_word': 0.12643276613656526, 'dropout_sent_enabled': True, 'dropout_word_enabled': True, 'gamma': 0.5794170324781109, 'hidden_dim': 74.0, 'learning_rate': 1.1183524108679206e-05, 'num_sentence_layers': 5.0, 'num_word_layers': 2.0, 'weight_decay': 1.1556724911091768e-05}\n",
      "Loading existing valid indices from metadata                                                                                                                                                                                   \n",
      "Found 10409 processed documents                                                                                                                                                                                                \n",
      " 12%|██████████████████▎                                                                                                                               | 5/40 [1:56:55<15:27:56, 1590.77s/trial, best loss: 2.5213626750898386]"
     ]
    },
    {
     "data": {
      "application/vnd.jupyter.widget-view+json": {
       "model_id": "63968539636643aaa60c6bee2699d97d",
       "version_major": 2,
       "version_minor": 0
      },
      "text/plain": [
       "Epoch 1:   0%|                                                               | 0/87 [00:00<?, ?it/s]"
      ]
     },
     "metadata": {},
     "output_type": "display_data"
    },
    {
     "name": "stdout",
     "output_type": "stream",
     "text": [
      "Epoch 1 Training Loss: 3.0108                                                                                                                                                                                                  \n",
      " 12%|██████████████████▎                                                                                                                               | 5/40 [2:01:07<15:27:56, 1590.77s/trial, best loss: 2.5213626750898386]"
     ]
    },
    {
     "data": {
      "application/vnd.jupyter.widget-view+json": {
       "model_id": "d2e833d352f74e89bb4fa78a7cb7adf0",
       "version_major": 2,
       "version_minor": 0
      },
      "text/plain": [
       "Epoch 2:   0%|                                                               | 0/87 [00:00<?, ?it/s]"
      ]
     },
     "metadata": {},
     "output_type": "display_data"
    },
    {
     "name": "stdout",
     "output_type": "stream",
     "text": [
      "Epoch 2 Training Loss: 3.0110                                                                                                                                                                                                  \n",
      " 12%|██████████████████▎                                                                                                                               | 5/40 [2:05:17<15:27:56, 1590.77s/trial, best loss: 2.5213626750898386]"
     ]
    },
    {
     "data": {
      "application/vnd.jupyter.widget-view+json": {
       "model_id": "f52de317cd3e4e7fa03c2d5784cdb51c",
       "version_major": 2,
       "version_minor": 0
      },
      "text/plain": [
       "Epoch 3:   0%|                                                               | 0/87 [00:00<?, ?it/s]"
      ]
     },
     "metadata": {},
     "output_type": "display_data"
    },
    {
     "name": "stdout",
     "output_type": "stream",
     "text": [
      "Epoch 3 Training Loss: 3.0093                                                                                                                                                                                                  \n",
      " 12%|██████████████████▎                                                                                                                               | 5/40 [2:09:27<15:27:56, 1590.77s/trial, best loss: 2.5213626750898386]"
     ]
    },
    {
     "data": {
      "application/vnd.jupyter.widget-view+json": {
       "model_id": "976d25463fa348fc841e694d0e5dc62f",
       "version_major": 2,
       "version_minor": 0
      },
      "text/plain": [
       "Epoch 4:   0%|                                                               | 0/87 [00:00<?, ?it/s]"
      ]
     },
     "metadata": {},
     "output_type": "display_data"
    },
    {
     "name": "stdout",
     "output_type": "stream",
     "text": [
      "Epoch 4 Training Loss: 3.0093                                                                                                                                                                                                  \n",
      " 12%|██████████████████▎                                                                                                                               | 5/40 [2:13:36<15:27:56, 1590.77s/trial, best loss: 2.5213626750898386]"
     ]
    },
    {
     "data": {
      "application/vnd.jupyter.widget-view+json": {
       "model_id": "3a68d6e105fc4845930e624d12b4189e",
       "version_major": 2,
       "version_minor": 0
      },
      "text/plain": [
       "Epoch 5:   0%|                                                               | 0/87 [00:00<?, ?it/s]"
      ]
     },
     "metadata": {},
     "output_type": "display_data"
    },
    {
     "name": "stdout",
     "output_type": "stream",
     "text": [
      "Epoch 5 Training Loss: 3.0105                                                                                                                                                                                                  \n",
      "Validation Loss:                                                                                                                                                                                                               \n",
      "3.0095408348897394                                                                                                                                                                                                             \n",
      "Validation Accuracy:                                                                                                                                                                                                           \n",
      "0.01874098990869774                                                                                                                                                                                                            \n",
      "Hyperparameters:                                                                                                                                                                                                               \n",
      "{'batch_size': 336.0, 'dropout_co_graph_enabled': False, 'dropout_final_enabled': True, 'dropout_fusion_enabled': False, 'dropout_rate_co_graph': 0.4338829199406345, 'dropout_rate_final': 0.1594057930242163, 'dropout_rate_fusion': 0.1810870774629982, 'dropout_rate_sent': 0.4094570444490391, 'dropout_rate_word': 0.2033252875830466, 'dropout_sent_enabled': False, 'dropout_word_enabled': True, 'gamma': 4.988496578749998, 'hidden_dim': 91.0, 'learning_rate': 0.0002834456825459845, 'num_sentence_layers': 2.0, 'num_word_layers': 4.0, 'weight_decay': 3.774035329129118e-07}\n",
      "Loading existing valid indices from metadata                                                                                                                                                                                   \n",
      "Found 10409 processed documents                                                                                                                                                                                                \n",
      " 15%|█████████████████████▉                                                                                                                            | 6/40 [2:18:08<14:00:20, 1482.96s/trial, best loss: 2.5213626750898386]"
     ]
    },
    {
     "data": {
      "application/vnd.jupyter.widget-view+json": {
       "model_id": "1bd9ea647f66499587225aff6af498a7",
       "version_major": 2,
       "version_minor": 0
      },
      "text/plain": [
       "Epoch 1:   0%|                                                               | 0/25 [00:00<?, ?it/s]"
      ]
     },
     "metadata": {},
     "output_type": "display_data"
    },
    {
     "name": "stdout",
     "output_type": "stream",
     "text": [
      "Epoch 1 Training Loss: 2.4963                                                                                                                                                                                                  \n",
      " 15%|█████████████████████▉                                                                                                                            | 6/40 [2:21:15<14:00:20, 1482.96s/trial, best loss: 2.5213626750898386]"
     ]
    },
    {
     "data": {
      "application/vnd.jupyter.widget-view+json": {
       "model_id": "6907080e1c7d4d08811aa62a9c57f492",
       "version_major": 2,
       "version_minor": 0
      },
      "text/plain": [
       "Epoch 2:   0%|                                                               | 0/25 [00:00<?, ?it/s]"
      ]
     },
     "metadata": {},
     "output_type": "display_data"
    },
    {
     "name": "stdout",
     "output_type": "stream",
     "text": [
      "Epoch 2 Training Loss: 2.4785                                                                                                                                                                                                  \n",
      " 15%|█████████████████████▉                                                                                                                            | 6/40 [2:24:23<14:00:20, 1482.96s/trial, best loss: 2.5213626750898386]"
     ]
    },
    {
     "data": {
      "application/vnd.jupyter.widget-view+json": {
       "model_id": "7ab2b6c1e47d499690e398813dc184a6",
       "version_major": 2,
       "version_minor": 0
      },
      "text/plain": [
       "Epoch 3:   0%|                                                               | 0/25 [00:00<?, ?it/s]"
      ]
     },
     "metadata": {},
     "output_type": "display_data"
    },
    {
     "name": "stdout",
     "output_type": "stream",
     "text": [
      "Epoch 3 Training Loss: 2.4549                                                                                                                                                                                                  \n",
      " 15%|█████████████████████▉                                                                                                                            | 6/40 [2:27:26<14:00:20, 1482.96s/trial, best loss: 2.5213626750898386]"
     ]
    },
    {
     "data": {
      "application/vnd.jupyter.widget-view+json": {
       "model_id": "17b0f1e57cf44b1aa8224f1dfcefb8a6",
       "version_major": 2,
       "version_minor": 0
      },
      "text/plain": [
       "Epoch 4:   0%|                                                               | 0/25 [00:00<?, ?it/s]"
      ]
     },
     "metadata": {},
     "output_type": "display_data"
    },
    {
     "name": "stdout",
     "output_type": "stream",
     "text": [
      "Epoch 4 Training Loss: 2.4350                                                                                                                                                                                                  \n",
      " 15%|█████████████████████▉                                                                                                                            | 6/40 [2:30:28<14:00:20, 1482.96s/trial, best loss: 2.5213626750898386]"
     ]
    },
    {
     "data": {
      "application/vnd.jupyter.widget-view+json": {
       "model_id": "0a2d596ea412475b81aba2d84c153fac",
       "version_major": 2,
       "version_minor": 0
      },
      "text/plain": [
       "Epoch 5:   0%|                                                               | 0/25 [00:00<?, ?it/s]"
      ]
     },
     "metadata": {},
     "output_type": "display_data"
    },
    {
     "name": "stdout",
     "output_type": "stream",
     "text": [
      "Epoch 5 Training Loss: 2.4273                                                                                                                                                                                                  \n",
      "Validation Loss:                                                                                                                                                                                                               \n",
      "2.4323893545454136                                                                                                                                                                                                             \n",
      "Validation Accuracy:                                                                                                                                                                                                           \n",
      "0.052378664103796255                                                                                                                                                                                                           \n",
      "Hyperparameters:                                                                                                                                                                                                               \n",
      "{'batch_size': 416.0, 'dropout_co_graph_enabled': True, 'dropout_final_enabled': False, 'dropout_fusion_enabled': False, 'dropout_rate_co_graph': 0.31279967422675936, 'dropout_rate_final': 0.31188378893922963, 'dropout_rate_fusion': 0.21700226804751788, 'dropout_rate_sent': 0.14691974211661327, 'dropout_rate_word': 0.23503184185211304, 'dropout_sent_enabled': True, 'dropout_word_enabled': True, 'gamma': 2.9654258824876116, 'hidden_dim': 115.0, 'learning_rate': 2.4539287904441342e-05, 'num_sentence_layers': 2.0, 'num_word_layers': 3.0, 'weight_decay': 1.0632073710860785e-08}\n",
      "Loading existing valid indices from metadata                                                                                                                                                                                   \n",
      "Found 10409 processed documents                                                                                                                                                                                                \n",
      " 18%|█████████████████████████▌                                                                                                                        | 7/40 [2:33:49<11:58:03, 1305.57s/trial, best loss: 2.4323893545454136]"
     ]
    },
    {
     "data": {
      "application/vnd.jupyter.widget-view+json": {
       "model_id": "5be306ac0f994d30868dec4ee6a5f647",
       "version_major": 2,
       "version_minor": 0
      },
      "text/plain": [
       "Epoch 1:   0%|                                                               | 0/21 [00:00<?, ?it/s]"
      ]
     },
     "metadata": {},
     "output_type": "display_data"
    },
    {
     "name": "stdout",
     "output_type": "stream",
     "text": [
      "Epoch 1 Training Loss: 2.5941                                                                                                                                                                                                  \n",
      " 18%|█████████████████████████▌                                                                                                                        | 7/40 [2:36:57<11:58:03, 1305.57s/trial, best loss: 2.4323893545454136]"
     ]
    },
    {
     "data": {
      "application/vnd.jupyter.widget-view+json": {
       "model_id": "7dbef4b6469a4b0bb0d07d77400bf777",
       "version_major": 2,
       "version_minor": 0
      },
      "text/plain": [
       "Epoch 2:   0%|                                                               | 0/21 [00:00<?, ?it/s]"
      ]
     },
     "metadata": {},
     "output_type": "display_data"
    },
    {
     "name": "stdout",
     "output_type": "stream",
     "text": [
      "Epoch 2 Training Loss: 2.6255                                                                                                                                                                                                  \n",
      " 18%|█████████████████████████▌                                                                                                                        | 7/40 [2:40:17<11:58:03, 1305.57s/trial, best loss: 2.4323893545454136]"
     ]
    },
    {
     "data": {
      "application/vnd.jupyter.widget-view+json": {
       "model_id": "bc9dac5037d941749ba2fa58f285a7a8",
       "version_major": 2,
       "version_minor": 0
      },
      "text/plain": [
       "Epoch 3:   0%|                                                               | 0/21 [00:00<?, ?it/s]"
      ]
     },
     "metadata": {},
     "output_type": "display_data"
    },
    {
     "name": "stdout",
     "output_type": "stream",
     "text": [
      "Epoch 3 Training Loss: 2.5773                                                                                                                                                                                                  \n",
      " 18%|█████████████████████████▌                                                                                                                        | 7/40 [2:43:31<11:58:03, 1305.57s/trial, best loss: 2.4323893545454136]"
     ]
    },
    {
     "data": {
      "application/vnd.jupyter.widget-view+json": {
       "model_id": "bbbfde6ef60944f28ec397ddd57f766f",
       "version_major": 2,
       "version_minor": 0
      },
      "text/plain": [
       "Epoch 4:   0%|                                                               | 0/21 [00:00<?, ?it/s]"
      ]
     },
     "metadata": {},
     "output_type": "display_data"
    },
    {
     "name": "stdout",
     "output_type": "stream",
     "text": [
      "Epoch 4 Training Loss: 2.6012                                                                                                                                                                                                  \n",
      " 18%|█████████████████████████▌                                                                                                                        | 7/40 [2:46:49<11:58:03, 1305.57s/trial, best loss: 2.4323893545454136]"
     ]
    },
    {
     "data": {
      "application/vnd.jupyter.widget-view+json": {
       "model_id": "3af08a7677694cf3b8b01d49013ba51b",
       "version_major": 2,
       "version_minor": 0
      },
      "text/plain": [
       "Epoch 5:   0%|                                                               | 0/21 [00:00<?, ?it/s]"
      ]
     },
     "metadata": {},
     "output_type": "display_data"
    },
    {
     "name": "stdout",
     "output_type": "stream",
     "text": [
      "Epoch 5 Training Loss: 2.6698                                                                                                                                                                                                  \n",
      "Validation Loss:                                                                                                                                                                                                               \n",
      "2.650798698734172                                                                                                                                                                                                              \n",
      "Validation Accuracy:                                                                                                                                                                                                           \n",
      "0.011052378664103796                                                                                                                                                                                                           \n",
      "Hyperparameters:                                                                                                                                                                                                               \n",
      "{'batch_size': 352.0, 'dropout_co_graph_enabled': True, 'dropout_final_enabled': False, 'dropout_fusion_enabled': True, 'dropout_rate_co_graph': 0.19955946638254787, 'dropout_rate_final': 0.2862677840435377, 'dropout_rate_fusion': 0.4231164163610095, 'dropout_rate_sent': 0.15583250766288825, 'dropout_rate_word': 0.13285020334990125, 'dropout_sent_enabled': False, 'dropout_word_enabled': True, 'gamma': 2.524028809915338, 'hidden_dim': 244.0, 'learning_rate': 0.00018466954070720732, 'num_sentence_layers': 1.0, 'num_word_layers': 4.0, 'weight_decay': 3.717040962727682e-06}\n",
      "Loading existing valid indices from metadata                                                                                                                                                                                   \n",
      "Found 10409 processed documents                                                                                                                                                                                                \n",
      " 20%|█████████████████████████████▏                                                                                                                    | 8/40 [2:50:25<10:43:44, 1207.01s/trial, best loss: 2.4323893545454136]"
     ]
    },
    {
     "data": {
      "application/vnd.jupyter.widget-view+json": {
       "model_id": "92aaf999cafb4ce081a5f949f6f3bc4d",
       "version_major": 2,
       "version_minor": 0
      },
      "text/plain": [
       "Epoch 1:   0%|                                                               | 0/24 [00:00<?, ?it/s]"
      ]
     },
     "metadata": {},
     "output_type": "display_data"
    },
    {
     "name": "stdout",
     "output_type": "stream",
     "text": [
      "Epoch 1 Training Loss: 2.7010                                                                                                                                                                                                  \n",
      " 20%|█████████████████████████████▏                                                                                                                    | 8/40 [2:53:59<10:43:44, 1207.01s/trial, best loss: 2.4323893545454136]"
     ]
    },
    {
     "data": {
      "application/vnd.jupyter.widget-view+json": {
       "model_id": "95086f07b0fe48cfabeba8df5c91a38b",
       "version_major": 2,
       "version_minor": 0
      },
      "text/plain": [
       "Epoch 2:   0%|                                                               | 0/24 [00:00<?, ?it/s]"
      ]
     },
     "metadata": {},
     "output_type": "display_data"
    },
    {
     "name": "stdout",
     "output_type": "stream",
     "text": [
      "Epoch 2 Training Loss: 2.6928                                                                                                                                                                                                  \n",
      " 20%|█████████████████████████████▏                                                                                                                    | 8/40 [2:57:42<10:43:44, 1207.01s/trial, best loss: 2.4323893545454136]"
     ]
    },
    {
     "data": {
      "application/vnd.jupyter.widget-view+json": {
       "model_id": "d8d98a05a8b44a5d9a6513efca23e519",
       "version_major": 2,
       "version_minor": 0
      },
      "text/plain": [
       "Epoch 3:   0%|                                                               | 0/24 [00:00<?, ?it/s]"
      ]
     },
     "metadata": {},
     "output_type": "display_data"
    },
    {
     "name": "stdout",
     "output_type": "stream",
     "text": [
      "Epoch 3 Training Loss: 2.6916                                                                                                                                                                                                  \n",
      " 20%|█████████████████████████████▏                                                                                                                    | 8/40 [3:01:24<10:43:44, 1207.01s/trial, best loss: 2.4323893545454136]"
     ]
    },
    {
     "data": {
      "application/vnd.jupyter.widget-view+json": {
       "model_id": "2d63bd73902149b9930182ca6108b421",
       "version_major": 2,
       "version_minor": 0
      },
      "text/plain": [
       "Epoch 4:   0%|                                                               | 0/24 [00:00<?, ?it/s]"
      ]
     },
     "metadata": {},
     "output_type": "display_data"
    },
    {
     "name": "stdout",
     "output_type": "stream",
     "text": [
      "Epoch 4 Training Loss: 2.6780                                                                                                                                                                                                  \n",
      " 20%|█████████████████████████████▏                                                                                                                    | 8/40 [3:05:03<10:43:44, 1207.01s/trial, best loss: 2.4323893545454136]"
     ]
    },
    {
     "data": {
      "application/vnd.jupyter.widget-view+json": {
       "model_id": "97c555b8091a4302af61594a0a1b0d4a",
       "version_major": 2,
       "version_minor": 0
      },
      "text/plain": [
       "Epoch 5:   0%|                                                               | 0/24 [00:00<?, ?it/s]"
      ]
     },
     "metadata": {},
     "output_type": "display_data"
    },
    {
     "name": "stdout",
     "output_type": "stream",
     "text": [
      "Epoch 5 Training Loss: 2.6650                                                                                                                                                                                                  \n",
      "Validation Loss:                                                                                                                                                                                                               \n",
      "2.6458546583724676                                                                                                                                                                                                             \n",
      "Validation Accuracy:                                                                                                                                                                                                           \n",
      "0.05141758769822201                                                                                                                                                                                                            \n",
      "Hyperparameters:                                                                                                                                                                                                               \n",
      "{'batch_size': 496.0, 'dropout_co_graph_enabled': True, 'dropout_final_enabled': False, 'dropout_fusion_enabled': True, 'dropout_rate_co_graph': 0.36149887418788357, 'dropout_rate_final': 0.4994139497281924, 'dropout_rate_fusion': 0.19127410024236613, 'dropout_rate_sent': 0.16854870825527848, 'dropout_rate_word': 0.474259906137899, 'dropout_sent_enabled': False, 'dropout_word_enabled': False, 'gamma': 4.178206376719785, 'hidden_dim': 160.0, 'learning_rate': 0.00017174647854271063, 'num_sentence_layers': 4.0, 'num_word_layers': 3.0, 'weight_decay': 0.00025403108385207404}\n",
      "Loading existing valid indices from metadata                                                                                                                                                                                   \n",
      "Found 10409 processed documents                                                                                                                                                                                                \n",
      " 22%|████████████████████████████████▊                                                                                                                 | 9/40 [3:08:53<10:07:34, 1175.95s/trial, best loss: 2.4323893545454136]"
     ]
    },
    {
     "data": {
      "application/vnd.jupyter.widget-view+json": {
       "model_id": "cca2f7ed06004104a94a2afc05925cdd",
       "version_major": 2,
       "version_minor": 0
      },
      "text/plain": [
       "Epoch 1:   0%|                                                               | 0/17 [00:00<?, ?it/s]"
      ]
     },
     "metadata": {},
     "output_type": "display_data"
    },
    {
     "name": "stdout",
     "output_type": "stream",
     "text": [
      "Epoch 1 Training Loss: 2.5313                                                                                                                                                                                                  \n",
      " 22%|████████████████████████████████▊                                                                                                                 | 9/40 [3:15:40<10:07:34, 1175.95s/trial, best loss: 2.4323893545454136]"
     ]
    },
    {
     "data": {
      "application/vnd.jupyter.widget-view+json": {
       "model_id": "74b334698164435c96949ff71ad48ec7",
       "version_major": 2,
       "version_minor": 0
      },
      "text/plain": [
       "Epoch 2:   0%|                                                               | 0/17 [00:00<?, ?it/s]"
      ]
     },
     "metadata": {},
     "output_type": "display_data"
    },
    {
     "name": "stdout",
     "output_type": "stream",
     "text": [
      "Epoch 2 Training Loss: 2.5350                                                                                                                                                                                                  \n",
      " 22%|████████████████████████████████▊                                                                                                                 | 9/40 [3:22:46<10:07:34, 1175.95s/trial, best loss: 2.4323893545454136]"
     ]
    },
    {
     "data": {
      "application/vnd.jupyter.widget-view+json": {
       "model_id": "b268c335cecc485b8204029068da79a2",
       "version_major": 2,
       "version_minor": 0
      },
      "text/plain": [
       "Epoch 3:   0%|                                                               | 0/17 [00:00<?, ?it/s]"
      ]
     },
     "metadata": {},
     "output_type": "display_data"
    },
    {
     "name": "stdout",
     "output_type": "stream",
     "text": [
      "Epoch 3 Training Loss: 2.5288                                                                                                                                                                                                  \n",
      " 22%|████████████████████████████████▊                                                                                                                 | 9/40 [3:29:29<10:07:34, 1175.95s/trial, best loss: 2.4323893545454136]"
     ]
    },
    {
     "data": {
      "application/vnd.jupyter.widget-view+json": {
       "model_id": "e89e6cf7159743e88cb72ebd9a568885",
       "version_major": 2,
       "version_minor": 0
      },
      "text/plain": [
       "Epoch 4:   0%|                                                               | 0/17 [00:00<?, ?it/s]"
      ]
     },
     "metadata": {},
     "output_type": "display_data"
    },
    {
     "name": "stdout",
     "output_type": "stream",
     "text": [
      "Epoch 4 Training Loss: 2.5312                                                                                                                                                                                                  \n",
      " 22%|████████████████████████████████▊                                                                                                                 | 9/40 [3:36:23<10:07:34, 1175.95s/trial, best loss: 2.4323893545454136]"
     ]
    },
    {
     "data": {
      "application/vnd.jupyter.widget-view+json": {
       "model_id": "8b186fe8b4fc4631bd6ad34f18e70dfe",
       "version_major": 2,
       "version_minor": 0
      },
      "text/plain": [
       "Epoch 5:   0%|                                                               | 0/17 [00:00<?, ?it/s]"
      ]
     },
     "metadata": {},
     "output_type": "display_data"
    },
    {
     "name": "stdout",
     "output_type": "stream",
     "text": [
      "Epoch 5 Training Loss: 2.5185                                                                                                                                                                                                  \n",
      "Validation Loss:                                                                                                                                                                                                               \n",
      "2.518109362839163                                                                                                                                                                                                              \n",
      "Validation Accuracy:                                                                                                                                                                                                           \n",
      "0.050937049495434886                                                                                                                                                                                                           \n",
      "Hyperparameters:                                                                                                                                                                                                               \n",
      "{'batch_size': 448.0, 'dropout_co_graph_enabled': True, 'dropout_final_enabled': True, 'dropout_fusion_enabled': False, 'dropout_rate_co_graph': 0.3769816066836566, 'dropout_rate_final': 0.25453608890731244, 'dropout_rate_fusion': 0.34825681328966046, 'dropout_rate_sent': 0.1808280194963682, 'dropout_rate_word': 0.38313841113308394, 'dropout_sent_enabled': True, 'dropout_word_enabled': True, 'gamma': 2.5768224685850645, 'hidden_dim': 239.0, 'learning_rate': 1.0634145572836719e-05, 'num_sentence_layers': 4.0, 'num_word_layers': 4.0, 'weight_decay': 2.809449303758484e-08}\n",
      "Loading existing valid indices from metadata                                                                                                                                                                                   \n",
      "Found 10409 processed documents                                                                                                                                                                                                \n",
      " 25%|████████████████████████████████████▎                                                                                                            | 10/40 [3:44:04<12:12:22, 1464.74s/trial, best loss: 2.4323893545454136]"
     ]
    },
    {
     "data": {
      "application/vnd.jupyter.widget-view+json": {
       "model_id": "469b81fbc8d9460f9afc42de80894f8e",
       "version_major": 2,
       "version_minor": 0
      },
      "text/plain": [
       "Epoch 1:   0%|                                                               | 0/19 [00:00<?, ?it/s]"
      ]
     },
     "metadata": {},
     "output_type": "display_data"
    },
    {
     "name": "stdout",
     "output_type": "stream",
     "text": [
      "Epoch 1 Training Loss: 2.7013                                                                                                                                                                                                  \n",
      " 25%|████████████████████████████████████▎                                                                                                            | 10/40 [3:57:30<12:12:22, 1464.74s/trial, best loss: 2.4323893545454136]"
     ]
    },
    {
     "data": {
      "application/vnd.jupyter.widget-view+json": {
       "model_id": "2b912e9391c74b8386ac147686633da1",
       "version_major": 2,
       "version_minor": 0
      },
      "text/plain": [
       "Epoch 2:   0%|                                                               | 0/19 [00:00<?, ?it/s]"
      ]
     },
     "metadata": {},
     "output_type": "display_data"
    },
    {
     "name": "stdout",
     "output_type": "stream",
     "text": [
      "Epoch 2 Training Loss: 2.7121                                                                                                                                                                                                  \n",
      " 25%|████████████████████████████████████▎                                                                                                            | 10/40 [4:11:00<12:12:22, 1464.74s/trial, best loss: 2.4323893545454136]"
     ]
    },
    {
     "data": {
      "application/vnd.jupyter.widget-view+json": {
       "model_id": "abc3744127334992b7d90e6d52d54d3f",
       "version_major": 2,
       "version_minor": 0
      },
      "text/plain": [
       "Epoch 3:   0%|                                                               | 0/19 [00:00<?, ?it/s]"
      ]
     },
     "metadata": {},
     "output_type": "display_data"
    },
    {
     "name": "stdout",
     "output_type": "stream",
     "text": [
      "Epoch 3 Training Loss: 2.7008                                                                                                                                                                                                  \n",
      " 25%|████████████████████████████████████▎                                                                                                            | 10/40 [4:25:04<12:12:22, 1464.74s/trial, best loss: 2.4323893545454136]"
     ]
    },
    {
     "data": {
      "application/vnd.jupyter.widget-view+json": {
       "model_id": "41429f1bdbc94876a8157859806b5d7c",
       "version_major": 2,
       "version_minor": 0
      },
      "text/plain": [
       "Epoch 4:   0%|                                                               | 0/19 [00:00<?, ?it/s]"
      ]
     },
     "metadata": {},
     "output_type": "display_data"
    },
    {
     "name": "stdout",
     "output_type": "stream",
     "text": [
      "Epoch 4 Training Loss: 2.7020                                                                                                                                                                                                  \n",
      " 25%|████████████████████████████████████▎                                                                                                            | 10/40 [4:38:21<12:12:22, 1464.74s/trial, best loss: 2.4323893545454136]"
     ]
    },
    {
     "data": {
      "application/vnd.jupyter.widget-view+json": {
       "model_id": "bad7d4227baa44f69ab969a07a517cb3",
       "version_major": 2,
       "version_minor": 0
      },
      "text/plain": [
       "Epoch 5:   0%|                                                               | 0/19 [00:00<?, ?it/s]"
      ]
     },
     "metadata": {},
     "output_type": "display_data"
    },
    {
     "name": "stdout",
     "output_type": "stream",
     "text": [
      "Epoch 5 Training Loss: 2.7128                                                                                                                                                                                                  \n",
      "Validation Loss:                                                                                                                                                                                                               \n",
      "2.68886088752105                                                                                                                                                                                                               \n",
      "Validation Accuracy:                                                                                                                                                                                                           \n",
      "0.007208073041806823                                                                                                                                                                                                           \n",
      "Hyperparameters:                                                                                                                                                                                                               \n",
      "{'batch_size': 288.0, 'dropout_co_graph_enabled': True, 'dropout_final_enabled': False, 'dropout_fusion_enabled': False, 'dropout_rate_co_graph': 0.2438849265069466, 'dropout_rate_final': 0.4384461178692691, 'dropout_rate_fusion': 0.12930046955384097, 'dropout_rate_sent': 0.2181353213171487, 'dropout_rate_word': 0.18362405314277772, 'dropout_sent_enabled': True, 'dropout_word_enabled': False, 'gamma': 3.7414466676731797, 'hidden_dim': 99.0, 'learning_rate': 0.0008354965918452409, 'num_sentence_layers': 4.0, 'num_word_layers': 4.0, 'weight_decay': 5.000581017207554e-07}\n",
      "Loading existing valid indices from metadata                                                                                                                                                                                   \n",
      "Found 10409 processed documents                                                                                                                                                                                                \n",
      " 28%|███████████████████████████████████████▉                                                                                                         | 11/40 [4:52:24<18:17:31, 2270.74s/trial, best loss: 2.4323893545454136]"
     ]
    },
    {
     "data": {
      "application/vnd.jupyter.widget-view+json": {
       "model_id": "ec32ec3eab674e18b053b4269039e5c9",
       "version_major": 2,
       "version_minor": 0
      },
      "text/plain": [
       "Epoch 1:   0%|                                                               | 0/29 [00:00<?, ?it/s]"
      ]
     },
     "metadata": {},
     "output_type": "display_data"
    },
    {
     "name": "stdout",
     "output_type": "stream",
     "text": [
      "Epoch 1 Training Loss: 2.5637                                                                                                                                                                                                  \n",
      " 28%|███████████████████████████████████████▉                                                                                                         | 11/40 [4:57:13<18:17:31, 2270.74s/trial, best loss: 2.4323893545454136]"
     ]
    },
    {
     "data": {
      "application/vnd.jupyter.widget-view+json": {
       "model_id": "d559be1784ad4433aed5247493e32095",
       "version_major": 2,
       "version_minor": 0
      },
      "text/plain": [
       "Epoch 2:   0%|                                                               | 0/29 [00:00<?, ?it/s]"
      ]
     },
     "metadata": {},
     "output_type": "display_data"
    },
    {
     "name": "stdout",
     "output_type": "stream",
     "text": [
      "Epoch 2 Training Loss: 2.5488                                                                                                                                                                                                  \n",
      " 28%|███████████████████████████████████████▉                                                                                                         | 11/40 [5:02:04<18:17:31, 2270.74s/trial, best loss: 2.4323893545454136]"
     ]
    },
    {
     "data": {
      "application/vnd.jupyter.widget-view+json": {
       "model_id": "262c6d090c404bafa7415646363510f5",
       "version_major": 2,
       "version_minor": 0
      },
      "text/plain": [
       "Epoch 3:   0%|                                                               | 0/29 [00:00<?, ?it/s]"
      ]
     },
     "metadata": {},
     "output_type": "display_data"
    },
    {
     "name": "stdout",
     "output_type": "stream",
     "text": [
      "Epoch 3 Training Loss: 2.5356                                                                                                                                                                                                  \n",
      " 28%|███████████████████████████████████████▉                                                                                                         | 11/40 [5:06:54<18:17:31, 2270.74s/trial, best loss: 2.4323893545454136]"
     ]
    },
    {
     "data": {
      "application/vnd.jupyter.widget-view+json": {
       "model_id": "4c1f4d1987694e8c8f6bf593c822c92c",
       "version_major": 2,
       "version_minor": 0
      },
      "text/plain": [
       "Epoch 4:   0%|                                                               | 0/29 [00:00<?, ?it/s]"
      ]
     },
     "metadata": {},
     "output_type": "display_data"
    },
    {
     "name": "stdout",
     "output_type": "stream",
     "text": [
      "Epoch 4 Training Loss: 2.5256                                                                                                                                                                                                  \n",
      " 28%|███████████████████████████████████████▉                                                                                                         | 11/40 [5:11:51<18:17:31, 2270.74s/trial, best loss: 2.4323893545454136]"
     ]
    },
    {
     "data": {
      "application/vnd.jupyter.widget-view+json": {
       "model_id": "9a313cfac7b740de98902ac02493481c",
       "version_major": 2,
       "version_minor": 0
      },
      "text/plain": [
       "Epoch 5:   0%|                                                               | 0/29 [00:00<?, ?it/s]"
      ]
     },
     "metadata": {},
     "output_type": "display_data"
    },
    {
     "name": "stdout",
     "output_type": "stream",
     "text": [
      "Epoch 5 Training Loss: 2.4829                                                                                                                                                                                                  \n",
      "Validation Loss:                                                                                                                                                                                                               \n",
      "2.4422299402485326                                                                                                                                                                                                             \n",
      "Validation Accuracy:                                                                                                                                                                                                           \n",
      "0.06967803940413263                                                                                                                                                                                                            \n",
      "Hyperparameters:                                                                                                                                                                                                               \n",
      "{'batch_size': 320.0, 'dropout_co_graph_enabled': False, 'dropout_final_enabled': False, 'dropout_fusion_enabled': True, 'dropout_rate_co_graph': 0.44604601743632877, 'dropout_rate_final': 0.36168181686375434, 'dropout_rate_fusion': 0.1952660765748067, 'dropout_rate_sent': 0.3606276248763918, 'dropout_rate_word': 0.19319958061862608, 'dropout_sent_enabled': True, 'dropout_word_enabled': True, 'gamma': 0.7009914535047993, 'hidden_dim': 200.0, 'learning_rate': 1.4342089404515425e-05, 'num_sentence_layers': 1.0, 'num_word_layers': 5.0, 'weight_decay': 1.3225772483915456e-07}\n",
      "Loading existing valid indices from metadata                                                                                                                                                                                   \n",
      "Found 10409 processed documents                                                                                                                                                                                                \n",
      " 30%|███████████████████████████████████████████▌                                                                                                     | 12/40 [5:17:03<15:47:33, 2030.47s/trial, best loss: 2.4323893545454136]"
     ]
    },
    {
     "data": {
      "application/vnd.jupyter.widget-view+json": {
       "model_id": "0d87ea1b6e8e475f8d427d312ebb9005",
       "version_major": 2,
       "version_minor": 0
      },
      "text/plain": [
       "Epoch 1:   0%|                                                               | 0/27 [00:00<?, ?it/s]"
      ]
     },
     "metadata": {},
     "output_type": "display_data"
    },
    {
     "name": "stdout",
     "output_type": "stream",
     "text": [
      "Epoch 1 Training Loss: 2.9412                                                                                                                                                                                                  \n",
      " 30%|███████████████████████████████████████████▌                                                                                                     | 12/40 [5:20:46<15:47:33, 2030.47s/trial, best loss: 2.4323893545454136]"
     ]
    },
    {
     "data": {
      "application/vnd.jupyter.widget-view+json": {
       "model_id": "bb18e5a66eb84d108908a4744edfcbe5",
       "version_major": 2,
       "version_minor": 0
      },
      "text/plain": [
       "Epoch 2:   0%|                                                               | 0/27 [00:00<?, ?it/s]"
      ]
     },
     "metadata": {},
     "output_type": "display_data"
    },
    {
     "name": "stdout",
     "output_type": "stream",
     "text": [
      "Epoch 2 Training Loss: 2.9326                                                                                                                                                                                                  \n",
      " 30%|███████████████████████████████████████████▌                                                                                                     | 12/40 [5:24:22<15:47:33, 2030.47s/trial, best loss: 2.4323893545454136]"
     ]
    },
    {
     "data": {
      "application/vnd.jupyter.widget-view+json": {
       "model_id": "b9553db430ad499ea93690c43a89eb59",
       "version_major": 2,
       "version_minor": 0
      },
      "text/plain": [
       "Epoch 3:   0%|                                                               | 0/27 [00:00<?, ?it/s]"
      ]
     },
     "metadata": {},
     "output_type": "display_data"
    },
    {
     "name": "stdout",
     "output_type": "stream",
     "text": [
      "Epoch 3 Training Loss: 2.9569                                                                                                                                                                                                  \n",
      " 30%|███████████████████████████████████████████▌                                                                                                     | 12/40 [5:27:57<15:47:33, 2030.47s/trial, best loss: 2.4323893545454136]"
     ]
    },
    {
     "data": {
      "application/vnd.jupyter.widget-view+json": {
       "model_id": "e990be1a804945e288fcfd5d9faef128",
       "version_major": 2,
       "version_minor": 0
      },
      "text/plain": [
       "Epoch 4:   0%|                                                               | 0/27 [00:00<?, ?it/s]"
      ]
     },
     "metadata": {},
     "output_type": "display_data"
    },
    {
     "name": "stdout",
     "output_type": "stream",
     "text": [
      "Epoch 4 Training Loss: 2.9561                                                                                                                                                                                                  \n",
      " 30%|███████████████████████████████████████████▌                                                                                                     | 12/40 [5:31:38<15:47:33, 2030.47s/trial, best loss: 2.4323893545454136]"
     ]
    },
    {
     "data": {
      "application/vnd.jupyter.widget-view+json": {
       "model_id": "8a53b217182045ddb3476849202c543f",
       "version_major": 2,
       "version_minor": 0
      },
      "text/plain": [
       "Epoch 5:   0%|                                                               | 0/27 [00:00<?, ?it/s]"
      ]
     },
     "metadata": {},
     "output_type": "display_data"
    },
    {
     "name": "stdout",
     "output_type": "stream",
     "text": [
      "Epoch 5 Training Loss: 2.9691                                                                                                                                                                                                  \n",
      "Validation Loss:                                                                                                                                                                                                               \n",
      "2.9804830912040554                                                                                                                                                                                                             \n",
      "Validation Accuracy:                                                                                                                                                                                                           \n",
      "0.029312830370014416                                                                                                                                                                                                           \n",
      "Hyperparameters:                                                                                                                                                                                                               \n",
      "{'batch_size': 304.0, 'dropout_co_graph_enabled': False, 'dropout_final_enabled': False, 'dropout_fusion_enabled': True, 'dropout_rate_co_graph': 0.4113304811750347, 'dropout_rate_final': 0.46356692133418526, 'dropout_rate_fusion': 0.4688631449481521, 'dropout_rate_sent': 0.33278098294189995, 'dropout_rate_word': 0.2910729810748957, 'dropout_sent_enabled': False, 'dropout_word_enabled': True, 'gamma': 0.6649926963431975, 'hidden_dim': 101.0, 'learning_rate': 0.00036380043207787696, 'num_sentence_layers': 3.0, 'num_word_layers': 5.0, 'weight_decay': 3.5529531080096764e-07}\n",
      "Loading existing valid indices from metadata                                                                                                                                                                                   \n",
      "Found 10409 processed documents                                                                                                                                                                                                \n",
      " 32%|███████████████████████████████████████████████▏                                                                                                 | 13/40 [5:35:35<13:08:21, 1751.90s/trial, best loss: 2.4323893545454136]"
     ]
    },
    {
     "data": {
      "application/vnd.jupyter.widget-view+json": {
       "model_id": "ff7e131379b848cfbcc54072f9baf1f1",
       "version_major": 2,
       "version_minor": 0
      },
      "text/plain": [
       "Epoch 1:   0%|                                                               | 0/28 [00:00<?, ?it/s]"
      ]
     },
     "metadata": {},
     "output_type": "display_data"
    },
    {
     "name": "stdout",
     "output_type": "stream",
     "text": [
      "Epoch 1 Training Loss: 2.9867                                                                                                                                                                                                  \n",
      " 32%|███████████████████████████████████████████████▏                                                                                                 | 13/40 [5:39:37<13:08:21, 1751.90s/trial, best loss: 2.4323893545454136]"
     ]
    },
    {
     "data": {
      "application/vnd.jupyter.widget-view+json": {
       "model_id": "f87c486ae2bc4e78914832d81b05cda0",
       "version_major": 2,
       "version_minor": 0
      },
      "text/plain": [
       "Epoch 2:   0%|                                                               | 0/28 [00:00<?, ?it/s]"
      ]
     },
     "metadata": {},
     "output_type": "display_data"
    },
    {
     "name": "stdout",
     "output_type": "stream",
     "text": [
      "Epoch 2 Training Loss: 2.9818                                                                                                                                                                                                  \n",
      " 32%|███████████████████████████████████████████████▏                                                                                                 | 13/40 [5:44:06<13:08:21, 1751.90s/trial, best loss: 2.4323893545454136]"
     ]
    },
    {
     "data": {
      "application/vnd.jupyter.widget-view+json": {
       "model_id": "409add097d504c5bb66bff0fa4356aca",
       "version_major": 2,
       "version_minor": 0
      },
      "text/plain": [
       "Epoch 3:   0%|                                                               | 0/28 [00:00<?, ?it/s]"
      ]
     },
     "metadata": {},
     "output_type": "display_data"
    },
    {
     "name": "stdout",
     "output_type": "stream",
     "text": [
      "Epoch 3 Training Loss: 2.9867                                                                                                                                                                                                  \n",
      " 32%|███████████████████████████████████████████████▏                                                                                                 | 13/40 [5:48:46<13:08:21, 1751.90s/trial, best loss: 2.4323893545454136]"
     ]
    },
    {
     "data": {
      "application/vnd.jupyter.widget-view+json": {
       "model_id": "7f25c3e6e4a7405c86edf71bde5cb1b5",
       "version_major": 2,
       "version_minor": 0
      },
      "text/plain": [
       "Epoch 4:   0%|                                                               | 0/28 [00:00<?, ?it/s]"
      ]
     },
     "metadata": {},
     "output_type": "display_data"
    },
    {
     "name": "stdout",
     "output_type": "stream",
     "text": [
      "Epoch 4 Training Loss: 2.9772                                                                                                                                                                                                  \n",
      " 32%|███████████████████████████████████████████████▏                                                                                                 | 13/40 [5:53:07<13:08:21, 1751.90s/trial, best loss: 2.4323893545454136]"
     ]
    },
    {
     "data": {
      "application/vnd.jupyter.widget-view+json": {
       "model_id": "c25120c34afe4f4aaf8dbc24a18617ad",
       "version_major": 2,
       "version_minor": 0
      },
      "text/plain": [
       "Epoch 5:   0%|                                                               | 0/28 [00:00<?, ?it/s]"
      ]
     },
     "metadata": {},
     "output_type": "display_data"
    },
    {
     "name": "stdout",
     "output_type": "stream",
     "text": [
      "Epoch 5 Training Loss: 2.9527                                                                                                                                                                                                  \n",
      "Validation Loss:                                                                                                                                                                                                               \n",
      "2.9470662808315162                                                                                                                                                                                                             \n",
      "Validation Accuracy:                                                                                                                                                                                                           \n",
      "0.03748197981739548                                                                                                                                                                                                            \n",
      "Hyperparameters:                                                                                                                                                                                                               \n",
      "{'batch_size': 144.0, 'dropout_co_graph_enabled': True, 'dropout_final_enabled': True, 'dropout_fusion_enabled': False, 'dropout_rate_co_graph': 0.27235481123021943, 'dropout_rate_final': 0.41183616524410355, 'dropout_rate_fusion': 0.37383246134779763, 'dropout_rate_sent': 0.26899385261781256, 'dropout_rate_word': 0.21343519028957908, 'dropout_sent_enabled': True, 'dropout_word_enabled': False, 'gamma': 1.4863904786883901, 'hidden_dim': 210.0, 'learning_rate': 0.00024392876856688765, 'num_sentence_layers': 4.0, 'num_word_layers': 1.0, 'weight_decay': 0.000342913625490145}\n",
      "Loading existing valid indices from metadata                                                                                                                                                                                   \n",
      "Found 10409 processed documents                                                                                                                                                                                                \n",
      " 35%|██████████████████████████████████████████████████▊                                                                                              | 14/40 [5:57:46<11:44:14, 1625.16s/trial, best loss: 2.4323893545454136]"
     ]
    },
    {
     "data": {
      "application/vnd.jupyter.widget-view+json": {
       "model_id": "cf78ad1493974c65b70c68dde510d50b",
       "version_major": 2,
       "version_minor": 0
      },
      "text/plain": [
       "Epoch 1:   0%|                                                               | 0/58 [00:00<?, ?it/s]"
      ]
     },
     "metadata": {},
     "output_type": "display_data"
    },
    {
     "name": "stdout",
     "output_type": "stream",
     "text": [
      "Epoch 1 Training Loss: 2.8469                                                                                                                                                                                                  \n",
      " 35%|██████████████████████████████████████████████████▊                                                                                              | 14/40 [6:07:18<11:44:14, 1625.16s/trial, best loss: 2.4323893545454136]"
     ]
    },
    {
     "data": {
      "application/vnd.jupyter.widget-view+json": {
       "model_id": "7a183a6b21af47df9762d39c37b2873d",
       "version_major": 2,
       "version_minor": 0
      },
      "text/plain": [
       "Epoch 2:   0%|                                                               | 0/58 [00:00<?, ?it/s]"
      ]
     },
     "metadata": {},
     "output_type": "display_data"
    },
    {
     "name": "stdout",
     "output_type": "stream",
     "text": [
      "Epoch 2 Training Loss: 2.8434                                                                                                                                                                                                  \n",
      " 35%|██████████████████████████████████████████████████▊                                                                                              | 14/40 [6:16:49<11:44:14, 1625.16s/trial, best loss: 2.4323893545454136]"
     ]
    },
    {
     "data": {
      "application/vnd.jupyter.widget-view+json": {
       "model_id": "22b040ccaade4f1d852db4e48c7a74e1",
       "version_major": 2,
       "version_minor": 0
      },
      "text/plain": [
       "Epoch 3:   0%|                                                               | 0/58 [00:00<?, ?it/s]"
      ]
     },
     "metadata": {},
     "output_type": "display_data"
    },
    {
     "name": "stdout",
     "output_type": "stream",
     "text": [
      "Epoch 3 Training Loss: 2.8414                                                                                                                                                                                                  \n",
      " 35%|██████████████████████████████████████████████████▊                                                                                              | 14/40 [6:26:09<11:44:14, 1625.16s/trial, best loss: 2.4323893545454136]"
     ]
    },
    {
     "data": {
      "application/vnd.jupyter.widget-view+json": {
       "model_id": "0436b744d1c749aaa75144b1f29596c6",
       "version_major": 2,
       "version_minor": 0
      },
      "text/plain": [
       "Epoch 4:   0%|                                                               | 0/58 [00:00<?, ?it/s]"
      ]
     },
     "metadata": {},
     "output_type": "display_data"
    },
    {
     "name": "stdout",
     "output_type": "stream",
     "text": [
      "Epoch 4 Training Loss: 2.8384                                                                                                                                                                                                  \n",
      " 35%|██████████████████████████████████████████████████▊                                                                                              | 14/40 [6:35:46<11:44:14, 1625.16s/trial, best loss: 2.4323893545454136]"
     ]
    },
    {
     "data": {
      "application/vnd.jupyter.widget-view+json": {
       "model_id": "76e2393567824c98b7eeedf6ced1653c",
       "version_major": 2,
       "version_minor": 0
      },
      "text/plain": [
       "Epoch 5:   0%|                                                               | 0/58 [00:00<?, ?it/s]"
      ]
     },
     "metadata": {},
     "output_type": "display_data"
    },
    {
     "name": "stdout",
     "output_type": "stream",
     "text": [
      "Epoch 5 Training Loss: 2.8394                                                                                                                                                                                                  \n",
      "Validation Loss:                                                                                                                                                                                                               \n",
      "2.836762524292711                                                                                                                                                                                                              \n",
      "Validation Accuracy:                                                                                                                                                                                                           \n",
      "0.04469005285920231                                                                                                                                                                                                            \n",
      "Hyperparameters:                                                                                                                                                                                                               \n",
      "{'batch_size': 288.0, 'dropout_co_graph_enabled': False, 'dropout_final_enabled': True, 'dropout_fusion_enabled': False, 'dropout_rate_co_graph': 0.250946068018532, 'dropout_rate_final': 0.408753035664954, 'dropout_rate_fusion': 0.14868165807015518, 'dropout_rate_sent': 0.4372989054763424, 'dropout_rate_word': 0.4233303060065269, 'dropout_sent_enabled': False, 'dropout_word_enabled': False, 'gamma': 2.2300469027765986, 'hidden_dim': 91.0, 'learning_rate': 0.0001470417742236604, 'num_sentence_layers': 5.0, 'num_word_layers': 5.0, 'weight_decay': 1.9626917139842537e-08}\n",
      "Loading existing valid indices from metadata                                                                                                                                                                                   \n",
      "Found 10409 processed documents                                                                                                                                                                                                \n",
      " 38%|██████████████████████████████████████████████████████▍                                                                                          | 15/40 [6:45:37<13:53:38, 2000.74s/trial, best loss: 2.4323893545454136]"
     ]
    },
    {
     "data": {
      "application/vnd.jupyter.widget-view+json": {
       "model_id": "d3fa55a9baf84cefbfab16c0fc788c41",
       "version_major": 2,
       "version_minor": 0
      },
      "text/plain": [
       "Epoch 1:   0%|                                                               | 0/29 [00:00<?, ?it/s]"
      ]
     },
     "metadata": {},
     "output_type": "display_data"
    },
    {
     "name": "stdout",
     "output_type": "stream",
     "text": [
      "Epoch 1 Training Loss: 2.7450                                                                                                                                                                                                  \n",
      " 38%|██████████████████████████████████████████████████████▍                                                                                          | 15/40 [6:51:53<13:53:38, 2000.74s/trial, best loss: 2.4323893545454136]"
     ]
    },
    {
     "data": {
      "application/vnd.jupyter.widget-view+json": {
       "model_id": "05c0f1699d7248f78508b3a15809583f",
       "version_major": 2,
       "version_minor": 0
      },
      "text/plain": [
       "Epoch 2:   0%|                                                               | 0/29 [00:00<?, ?it/s]"
      ]
     },
     "metadata": {},
     "output_type": "display_data"
    },
    {
     "name": "stdout",
     "output_type": "stream",
     "text": [
      "Epoch 2 Training Loss: 2.7439                                                                                                                                                                                                  \n",
      " 38%|██████████████████████████████████████████████████████▍                                                                                          | 15/40 [6:58:11<13:53:38, 2000.74s/trial, best loss: 2.4323893545454136]"
     ]
    },
    {
     "data": {
      "application/vnd.jupyter.widget-view+json": {
       "model_id": "39c309b306144468a78d745b4c728c3e",
       "version_major": 2,
       "version_minor": 0
      },
      "text/plain": [
       "Epoch 3:   0%|                                                               | 0/29 [00:00<?, ?it/s]"
      ]
     },
     "metadata": {},
     "output_type": "display_data"
    },
    {
     "name": "stdout",
     "output_type": "stream",
     "text": [
      "Epoch 3 Training Loss: 2.7417                                                                                                                                                                                                  \n",
      " 38%|██████████████████████████████████████████████████████▍                                                                                          | 15/40 [7:04:53<13:53:38, 2000.74s/trial, best loss: 2.4323893545454136]"
     ]
    },
    {
     "data": {
      "application/vnd.jupyter.widget-view+json": {
       "model_id": "cf0efade69bf4784877088fd4edd1a0c",
       "version_major": 2,
       "version_minor": 0
      },
      "text/plain": [
       "Epoch 4:   0%|                                                               | 0/29 [00:00<?, ?it/s]"
      ]
     },
     "metadata": {},
     "output_type": "display_data"
    },
    {
     "name": "stdout",
     "output_type": "stream",
     "text": [
      "Epoch 4 Training Loss: 2.7327                                                                                                                                                                                                  \n",
      " 38%|██████████████████████████████████████████████████████▍                                                                                          | 15/40 [7:11:24<13:53:38, 2000.74s/trial, best loss: 2.4323893545454136]"
     ]
    },
    {
     "data": {
      "application/vnd.jupyter.widget-view+json": {
       "model_id": "0c7a78b9a49c40c6a0016833e5a1e21d",
       "version_major": 2,
       "version_minor": 0
      },
      "text/plain": [
       "Epoch 5:   0%|                                                               | 0/29 [00:00<?, ?it/s]"
      ]
     },
     "metadata": {},
     "output_type": "display_data"
    },
    {
     "name": "stdout",
     "output_type": "stream",
     "text": [
      "Epoch 5 Training Loss: 2.7199                                                                                                                                                                                                  \n",
      "Validation Loss:                                                                                                                                                                                                               \n",
      "2.7233412657604372                                                                                                                                                                                                             \n",
      "Validation Accuracy:                                                                                                                                                                                                           \n",
      "0.05382027871215762                                                                                                                                                                                                            \n",
      "Hyperparameters:                                                                                                                                                                                                               \n",
      "{'batch_size': 80.0, 'dropout_co_graph_enabled': True, 'dropout_final_enabled': False, 'dropout_fusion_enabled': False, 'dropout_rate_co_graph': 0.3263202640475127, 'dropout_rate_final': 0.4695667668123702, 'dropout_rate_fusion': 0.39848067008682847, 'dropout_rate_sent': 0.40809800288787795, 'dropout_rate_word': 0.31511566317993456, 'dropout_sent_enabled': False, 'dropout_word_enabled': False, 'gamma': 1.430585098212298, 'hidden_dim': 175.0, 'learning_rate': 0.0009575366719981018, 'num_sentence_layers': 4.0, 'num_word_layers': 2.0, 'weight_decay': 0.000444139676193613}\n",
      "Loading existing valid indices from metadata                                                                                                                                                                                   \n",
      "Found 10409 processed documents                                                                                                                                                                                                \n",
      " 40%|██████████████████████████████████████████████████████████                                                                                       | 16/40 [7:18:13<13:14:49, 1987.07s/trial, best loss: 2.4323893545454136]"
     ]
    },
    {
     "data": {
      "application/vnd.jupyter.widget-view+json": {
       "model_id": "16af78ac0c4b4d57ada3226d7996798f",
       "version_major": 2,
       "version_minor": 0
      },
      "text/plain": [
       "Epoch 1:   0%|                                                              | 0/105 [00:00<?, ?it/s]"
      ]
     },
     "metadata": {},
     "output_type": "display_data"
    },
    {
     "name": "stdout",
     "output_type": "stream",
     "text": [
      "Epoch 1 Training Loss: 2.8399                                                                                                                                                                                                  \n",
      " 40%|██████████████████████████████████████████████████████████                                                                                       | 16/40 [7:25:07<13:14:49, 1987.07s/trial, best loss: 2.4323893545454136]"
     ]
    },
    {
     "data": {
      "application/vnd.jupyter.widget-view+json": {
       "model_id": "3e6c0d8aa14f45e78fede8fc89e996b2",
       "version_major": 2,
       "version_minor": 0
      },
      "text/plain": [
       "Epoch 2:   0%|                                                              | 0/105 [00:00<?, ?it/s]"
      ]
     },
     "metadata": {},
     "output_type": "display_data"
    },
    {
     "name": "stdout",
     "output_type": "stream",
     "text": [
      "Epoch 2 Training Loss: 2.8569                                                                                                                                                                                                  \n",
      " 40%|██████████████████████████████████████████████████████████                                                                                       | 16/40 [7:31:59<13:14:49, 1987.07s/trial, best loss: 2.4323893545454136]"
     ]
    },
    {
     "data": {
      "application/vnd.jupyter.widget-view+json": {
       "model_id": "163d5dfdd9c24de092e36e44b6246761",
       "version_major": 2,
       "version_minor": 0
      },
      "text/plain": [
       "Epoch 3:   0%|                                                              | 0/105 [00:00<?, ?it/s]"
      ]
     },
     "metadata": {},
     "output_type": "display_data"
    },
    {
     "name": "stdout",
     "output_type": "stream",
     "text": [
      "Epoch 3 Training Loss: 2.8731                                                                                                                                                                                                  \n",
      " 40%|██████████████████████████████████████████████████████████                                                                                       | 16/40 [7:38:49<13:14:49, 1987.07s/trial, best loss: 2.4323893545454136]"
     ]
    },
    {
     "data": {
      "application/vnd.jupyter.widget-view+json": {
       "model_id": "14582b9791ce43aea18f140d6c38c4cd",
       "version_major": 2,
       "version_minor": 0
      },
      "text/plain": [
       "Epoch 4:   0%|                                                              | 0/105 [00:00<?, ?it/s]"
      ]
     },
     "metadata": {},
     "output_type": "display_data"
    },
    {
     "name": "stdout",
     "output_type": "stream",
     "text": [
      "Epoch 4 Training Loss: 2.8316                                                                                                                                                                                                  \n",
      " 40%|██████████████████████████████████████████████████████████                                                                                       | 16/40 [7:45:41<13:14:49, 1987.07s/trial, best loss: 2.4323893545454136]"
     ]
    },
    {
     "data": {
      "application/vnd.jupyter.widget-view+json": {
       "model_id": "98ac8ca41a31489b9e42d6762ae13484",
       "version_major": 2,
       "version_minor": 0
      },
      "text/plain": [
       "Epoch 5:   0%|                                                              | 0/105 [00:00<?, ?it/s]"
      ]
     },
     "metadata": {},
     "output_type": "display_data"
    },
    {
     "name": "stdout",
     "output_type": "stream",
     "text": [
      "Epoch 5 Training Loss: 2.8504                                                                                                                                                                                                  \n",
      "Validation Loss:                                                                                                                                                                                                               \n",
      "2.842034430042131                                                                                                                                                                                                              \n",
      "Validation Accuracy:                                                                                                                                                                                                           \n",
      "0.053339740509370494                                                                                                                                                                                                           \n",
      "Hyperparameters:                                                                                                                                                                                                               \n",
      "{'batch_size': 400.0, 'dropout_co_graph_enabled': True, 'dropout_final_enabled': False, 'dropout_fusion_enabled': True, 'dropout_rate_co_graph': 0.3096655072142992, 'dropout_rate_final': 0.2809654029162904, 'dropout_rate_fusion': 0.36473871066597274, 'dropout_rate_sent': 0.2448148796698551, 'dropout_rate_word': 0.43562266606438893, 'dropout_sent_enabled': True, 'dropout_word_enabled': True, 'gamma': 3.2284902474852073, 'hidden_dim': 225.0, 'learning_rate': 0.00010924184149885014, 'num_sentence_layers': 2.0, 'num_word_layers': 4.0, 'weight_decay': 3.240362314960578e-07}\n",
      "Loading existing valid indices from metadata                                                                                                                                                                                   \n",
      "Found 10409 processed documents                                                                                                                                                                                                \n",
      " 42%|█████████████████████████████████████████████████████████████▋                                                                                   | 17/40 [7:52:54<12:52:34, 2015.39s/trial, best loss: 2.4323893545454136]"
     ]
    },
    {
     "data": {
      "application/vnd.jupyter.widget-view+json": {
       "model_id": "bbf35382583047ef8be27dee8fd00e35",
       "version_major": 2,
       "version_minor": 0
      },
      "text/plain": [
       "Epoch 1:   0%|                                                               | 0/21 [00:00<?, ?it/s]"
      ]
     },
     "metadata": {},
     "output_type": "display_data"
    },
    {
     "name": "stdout",
     "output_type": "stream",
     "text": [
      "Epoch 1 Training Loss: 2.6313                                                                                                                                                                                                  \n",
      " 42%|█████████████████████████████████████████████████████████████▋                                                                                   | 17/40 [7:59:07<12:52:34, 2015.39s/trial, best loss: 2.4323893545454136]"
     ]
    },
    {
     "data": {
      "application/vnd.jupyter.widget-view+json": {
       "model_id": "3cc97dad247a4415a3a0348cf025d770",
       "version_major": 2,
       "version_minor": 0
      },
      "text/plain": [
       "Epoch 2:   0%|                                                               | 0/21 [00:00<?, ?it/s]"
      ]
     },
     "metadata": {},
     "output_type": "display_data"
    },
    {
     "name": "stdout",
     "output_type": "stream",
     "text": [
      "Epoch 2 Training Loss: 2.6250                                                                                                                                                                                                  \n",
      " 42%|█████████████████████████████████████████████████████████████▋                                                                                   | 17/40 [8:05:05<12:52:34, 2015.39s/trial, best loss: 2.4323893545454136]"
     ]
    },
    {
     "data": {
      "application/vnd.jupyter.widget-view+json": {
       "model_id": "498382f89fe34a888b611cc6afc217a0",
       "version_major": 2,
       "version_minor": 0
      },
      "text/plain": [
       "Epoch 3:   0%|                                                               | 0/21 [00:00<?, ?it/s]"
      ]
     },
     "metadata": {},
     "output_type": "display_data"
    },
    {
     "name": "stdout",
     "output_type": "stream",
     "text": [
      "Epoch 3 Training Loss: 2.6152                                                                                                                                                                                                  \n",
      " 42%|█████████████████████████████████████████████████████████████▋                                                                                   | 17/40 [8:11:17<12:52:34, 2015.39s/trial, best loss: 2.4323893545454136]"
     ]
    },
    {
     "data": {
      "application/vnd.jupyter.widget-view+json": {
       "model_id": "6dc8cdd9510440bb8c1018f491153b5b",
       "version_major": 2,
       "version_minor": 0
      },
      "text/plain": [
       "Epoch 4:   0%|                                                               | 0/21 [00:00<?, ?it/s]"
      ]
     },
     "metadata": {},
     "output_type": "display_data"
    },
    {
     "name": "stdout",
     "output_type": "stream",
     "text": [
      "Epoch 4 Training Loss: 2.6186                                                                                                                                                                                                  \n",
      " 42%|█████████████████████████████████████████████████████████████▋                                                                                   | 17/40 [8:17:19<12:52:34, 2015.39s/trial, best loss: 2.4323893545454136]"
     ]
    },
    {
     "data": {
      "application/vnd.jupyter.widget-view+json": {
       "model_id": "d523f471e8b2482fabb0559c9001e81a",
       "version_major": 2,
       "version_minor": 0
      },
      "text/plain": [
       "Epoch 5:   0%|                                                               | 0/21 [00:00<?, ?it/s]"
      ]
     },
     "metadata": {},
     "output_type": "display_data"
    },
    {
     "name": "stdout",
     "output_type": "stream",
     "text": [
      "Epoch 5 Training Loss: 2.6089                                                                                                                                                                                                  \n",
      "Validation Loss:                                                                                                                                                                                                               \n",
      "2.5940240953817555                                                                                                                                                                                                             \n",
      "Validation Accuracy:                                                                                                                                                                                                           \n",
      "0.04613166746756367                                                                                                                                                                                                            \n",
      "Hyperparameters:                                                                                                                                                                                                               \n",
      "{'batch_size': 128.0, 'dropout_co_graph_enabled': False, 'dropout_final_enabled': False, 'dropout_fusion_enabled': True, 'dropout_rate_co_graph': 0.45969711092179255, 'dropout_rate_final': 0.14330153845883623, 'dropout_rate_fusion': 0.3332452478772874, 'dropout_rate_sent': 0.11496144216566218, 'dropout_rate_word': 0.1892470515605718, 'dropout_sent_enabled': False, 'dropout_word_enabled': False, 'gamma': 3.879653749708911, 'hidden_dim': 124.0, 'learning_rate': 9.12592529537912e-05, 'num_sentence_layers': 3.0, 'num_word_layers': 1.0, 'weight_decay': 7.932633064532012e-07}\n",
      "Loading existing valid indices from metadata                                                                                                                                                                                   \n",
      "Found 10409 processed documents                                                                                                                                                                                                \n",
      " 45%|█████████████████████████████████████████████████████████████████▎                                                                               | 18/40 [8:23:38<12:00:07, 1963.98s/trial, best loss: 2.4323893545454136]"
     ]
    },
    {
     "data": {
      "application/vnd.jupyter.widget-view+json": {
       "model_id": "47a130c9f6bb46faa8fc5d1fd302937c",
       "version_major": 2,
       "version_minor": 0
      },
      "text/plain": [
       "Epoch 1:   0%|                                                               | 0/66 [00:00<?, ?it/s]"
      ]
     },
     "metadata": {},
     "output_type": "display_data"
    },
    {
     "name": "stdout",
     "output_type": "stream",
     "text": [
      "Epoch 1 Training Loss: 2.5573                                                                                                                                                                                                  \n",
      " 45%|█████████████████████████████████████████████████████████████████▎                                                                               | 18/40 [8:27:30<12:00:07, 1963.98s/trial, best loss: 2.4323893545454136]"
     ]
    },
    {
     "data": {
      "application/vnd.jupyter.widget-view+json": {
       "model_id": "edce8a2ac1c54d92b613a98fd2b4e39a",
       "version_major": 2,
       "version_minor": 0
      },
      "text/plain": [
       "Epoch 2:   0%|                                                               | 0/66 [00:00<?, ?it/s]"
      ]
     },
     "metadata": {},
     "output_type": "display_data"
    },
    {
     "name": "stdout",
     "output_type": "stream",
     "text": [
      "Epoch 2 Training Loss: 2.5400                                                                                                                                                                                                  \n",
      " 45%|█████████████████████████████████████████████████████████████████▎                                                                               | 18/40 [8:31:14<12:00:07, 1963.98s/trial, best loss: 2.4323893545454136]"
     ]
    },
    {
     "data": {
      "application/vnd.jupyter.widget-view+json": {
       "model_id": "284d4e18ae2947c480aa4557f7789481",
       "version_major": 2,
       "version_minor": 0
      },
      "text/plain": [
       "Epoch 3:   0%|                                                               | 0/66 [00:00<?, ?it/s]"
      ]
     },
     "metadata": {},
     "output_type": "display_data"
    },
    {
     "name": "stdout",
     "output_type": "stream",
     "text": [
      "Epoch 3 Training Loss: 2.5605                                                                                                                                                                                                  \n",
      " 45%|█████████████████████████████████████████████████████████████████▎                                                                               | 18/40 [8:34:58<12:00:07, 1963.98s/trial, best loss: 2.4323893545454136]"
     ]
    },
    {
     "data": {
      "application/vnd.jupyter.widget-view+json": {
       "model_id": "72a257a8c98548dd992c2f239ab3390d",
       "version_major": 2,
       "version_minor": 0
      },
      "text/plain": [
       "Epoch 4:   0%|                                                               | 0/66 [00:00<?, ?it/s]"
      ]
     },
     "metadata": {},
     "output_type": "display_data"
    },
    {
     "name": "stdout",
     "output_type": "stream",
     "text": [
      "Epoch 4 Training Loss: 2.5861                                                                                                                                                                                                  \n",
      " 45%|█████████████████████████████████████████████████████████████████▎                                                                               | 18/40 [8:38:47<12:00:07, 1963.98s/trial, best loss: 2.4323893545454136]"
     ]
    },
    {
     "data": {
      "application/vnd.jupyter.widget-view+json": {
       "model_id": "aa854e8ddef54a7f8b300dcf30a5c92e",
       "version_major": 2,
       "version_minor": 0
      },
      "text/plain": [
       "Epoch 5:   0%|                                                               | 0/66 [00:00<?, ?it/s]"
      ]
     },
     "metadata": {},
     "output_type": "display_data"
    },
    {
     "name": "stdout",
     "output_type": "stream",
     "text": [
      "Epoch 5 Training Loss: 2.5175                                                                                                                                                                                                  \n",
      "Validation Loss:                                                                                                                                                                                                               \n",
      "2.512448430004056                                                                                                                                                                                                              \n",
      "Validation Accuracy:                                                                                                                                                                                                           \n",
      "0.04517059106198943                                                                                                                                                                                                            \n",
      "Hyperparameters:                                                                                                                                                                                                               \n",
      "{'batch_size': 320.0, 'dropout_co_graph_enabled': True, 'dropout_final_enabled': True, 'dropout_fusion_enabled': True, 'dropout_rate_co_graph': 0.12272939949050428, 'dropout_rate_final': 0.17806035022804378, 'dropout_rate_fusion': 0.30130844591006983, 'dropout_rate_sent': 0.23785288403115887, 'dropout_rate_word': 0.10260545551950027, 'dropout_sent_enabled': False, 'dropout_word_enabled': False, 'gamma': 3.9946912304157736, 'hidden_dim': 87.0, 'learning_rate': 3.937568352294124e-05, 'num_sentence_layers': 5.0, 'num_word_layers': 4.0, 'weight_decay': 1.1391520803567808e-08}\n",
      "Loading existing valid indices from metadata                                                                                                                                                                                   \n",
      "Found 10409 processed documents                                                                                                                                                                                                \n",
      " 48%|████████████████████████████████████████████████████████████████████▉                                                                            | 19/40 [8:42:56<10:02:40, 1721.92s/trial, best loss: 2.4323893545454136]"
     ]
    },
    {
     "data": {
      "application/vnd.jupyter.widget-view+json": {
       "model_id": "b06c54c2d830445f9f2d261d99248e6f",
       "version_major": 2,
       "version_minor": 0
      },
      "text/plain": [
       "Epoch 1:   0%|                                                               | 0/27 [00:00<?, ?it/s]"
      ]
     },
     "metadata": {},
     "output_type": "display_data"
    },
    {
     "name": "stdout",
     "output_type": "stream",
     "text": [
      "Epoch 1 Training Loss: 2.5357                                                                                                                                                                                                  \n",
      " 48%|████████████████████████████████████████████████████████████████████▉                                                                            | 19/40 [8:47:26<10:02:40, 1721.92s/trial, best loss: 2.4323893545454136]"
     ]
    },
    {
     "data": {
      "application/vnd.jupyter.widget-view+json": {
       "model_id": "2047ed663c2a44b6a6cfa8e021651440",
       "version_major": 2,
       "version_minor": 0
      },
      "text/plain": [
       "Epoch 2:   0%|                                                               | 0/27 [00:00<?, ?it/s]"
      ]
     },
     "metadata": {},
     "output_type": "display_data"
    },
    {
     "name": "stdout",
     "output_type": "stream",
     "text": [
      "Epoch 2 Training Loss: 2.5119                                                                                                                                                                                                  \n",
      " 48%|████████████████████████████████████████████████████████████████████▉                                                                            | 19/40 [8:51:51<10:02:40, 1721.92s/trial, best loss: 2.4323893545454136]"
     ]
    },
    {
     "data": {
      "application/vnd.jupyter.widget-view+json": {
       "model_id": "6aa577bbf4dc437585be3e5d3198989e",
       "version_major": 2,
       "version_minor": 0
      },
      "text/plain": [
       "Epoch 3:   0%|                                                               | 0/27 [00:00<?, ?it/s]"
      ]
     },
     "metadata": {},
     "output_type": "display_data"
    },
    {
     "name": "stdout",
     "output_type": "stream",
     "text": [
      "Epoch 3 Training Loss: 2.5438                                                                                                                                                                                                  \n",
      " 48%|████████████████████████████████████████████████████████████████████▉                                                                            | 19/40 [8:56:16<10:02:40, 1721.92s/trial, best loss: 2.4323893545454136]"
     ]
    },
    {
     "data": {
      "application/vnd.jupyter.widget-view+json": {
       "model_id": "2bddc59d70ef45c792e8fb5468047492",
       "version_major": 2,
       "version_minor": 0
      },
      "text/plain": [
       "Epoch 4:   0%|                                                               | 0/27 [00:00<?, ?it/s]"
      ]
     },
     "metadata": {},
     "output_type": "display_data"
    },
    {
     "name": "stdout",
     "output_type": "stream",
     "text": [
      "Epoch 4 Training Loss: 2.5635                                                                                                                                                                                                  \n",
      " 48%|████████████████████████████████████████████████████████████████████▉                                                                            | 19/40 [9:00:41<10:02:40, 1721.92s/trial, best loss: 2.4323893545454136]"
     ]
    },
    {
     "data": {
      "application/vnd.jupyter.widget-view+json": {
       "model_id": "18887694a7d941f7b0da48e663a6dd89",
       "version_major": 2,
       "version_minor": 0
      },
      "text/plain": [
       "Epoch 5:   0%|                                                               | 0/27 [00:00<?, ?it/s]"
      ]
     },
     "metadata": {},
     "output_type": "display_data"
    },
    {
     "name": "stdout",
     "output_type": "stream",
     "text": [
      "Epoch 5 Training Loss: 2.5500                                                                                                                                                                                                  \n",
      "Validation Loss:                                                                                                                                                                                                               \n",
      "2.551234856870872                                                                                                                                                                                                              \n",
      "Validation Accuracy:                                                                                                                                                                                                           \n",
      "0.03652090341182124                                                                                                                                                                                                            \n",
      "Hyperparameters:                                                                                                                                                                                                               \n",
      "{'batch_size': 208.0, 'dropout_co_graph_enabled': True, 'dropout_final_enabled': True, 'dropout_fusion_enabled': False, 'dropout_rate_co_graph': 0.10638519316167407, 'dropout_rate_final': 0.10040981631963791, 'dropout_rate_fusion': 0.10223074234972011, 'dropout_rate_sent': 0.49621717315748454, 'dropout_rate_word': 0.16387214694982125, 'dropout_sent_enabled': True, 'dropout_word_enabled': False, 'gamma': 4.995803710663822, 'hidden_dim': 65.0, 'learning_rate': 0.0009257366833355212, 'num_sentence_layers': 2.0, 'num_word_layers': 5.0, 'weight_decay': 6.81489120956411e-08}\n",
      "Loading existing valid indices from metadata                                                                                                                                                                                   \n",
      "Found 10409 processed documents                                                                                                                                                                                                \n",
      " 50%|█████████████████████████████████████████████████████████████████████████                                                                         | 20/40 [9:05:31<8:57:06, 1611.33s/trial, best loss: 2.4323893545454136]"
     ]
    },
    {
     "data": {
      "application/vnd.jupyter.widget-view+json": {
       "model_id": "966f22a6286d41fb924f85b4abe13a8e",
       "version_major": 2,
       "version_minor": 0
      },
      "text/plain": [
       "Epoch 1:   0%|                                                               | 0/41 [00:00<?, ?it/s]"
      ]
     },
     "metadata": {},
     "output_type": "display_data"
    },
    {
     "name": "stdout",
     "output_type": "stream",
     "text": [
      "Epoch 1 Training Loss: 2.4793                                                                                                                                                                                                  \n",
      " 50%|█████████████████████████████████████████████████████████████████████████                                                                         | 20/40 [9:07:54<8:57:06, 1611.33s/trial, best loss: 2.4323893545454136]"
     ]
    },
    {
     "data": {
      "application/vnd.jupyter.widget-view+json": {
       "model_id": "87615c525a66473f84d6fb6e2874d4ad",
       "version_major": 2,
       "version_minor": 0
      },
      "text/plain": [
       "Epoch 2:   0%|                                                               | 0/41 [00:00<?, ?it/s]"
      ]
     },
     "metadata": {},
     "output_type": "display_data"
    },
    {
     "name": "stdout",
     "output_type": "stream",
     "text": [
      "Epoch 2 Training Loss: 2.4774                                                                                                                                                                                                  \n",
      " 50%|█████████████████████████████████████████████████████████████████████████                                                                         | 20/40 [9:10:14<8:57:06, 1611.33s/trial, best loss: 2.4323893545454136]"
     ]
    },
    {
     "data": {
      "application/vnd.jupyter.widget-view+json": {
       "model_id": "2fe8b3c894e6416f82881db0d47aa82b",
       "version_major": 2,
       "version_minor": 0
      },
      "text/plain": [
       "Epoch 3:   0%|                                                               | 0/41 [00:00<?, ?it/s]"
      ]
     },
     "metadata": {},
     "output_type": "display_data"
    },
    {
     "name": "stdout",
     "output_type": "stream",
     "text": [
      "Epoch 3 Training Loss: 2.4549                                                                                                                                                                                                  \n",
      " 50%|█████████████████████████████████████████████████████████████████████████                                                                         | 20/40 [9:12:35<8:57:06, 1611.33s/trial, best loss: 2.4323893545454136]"
     ]
    },
    {
     "data": {
      "application/vnd.jupyter.widget-view+json": {
       "model_id": "07eff64da3e24ad9973d8ee08038fb40",
       "version_major": 2,
       "version_minor": 0
      },
      "text/plain": [
       "Epoch 4:   0%|                                                               | 0/41 [00:00<?, ?it/s]"
      ]
     },
     "metadata": {},
     "output_type": "display_data"
    },
    {
     "name": "stdout",
     "output_type": "stream",
     "text": [
      "Epoch 4 Training Loss: 2.4351                                                                                                                                                                                                  \n",
      " 50%|█████████████████████████████████████████████████████████████████████████                                                                         | 20/40 [9:14:56<8:57:06, 1611.33s/trial, best loss: 2.4323893545454136]"
     ]
    },
    {
     "data": {
      "application/vnd.jupyter.widget-view+json": {
       "model_id": "06287e44c7014d77b0a5d416813072e4",
       "version_major": 2,
       "version_minor": 0
      },
      "text/plain": [
       "Epoch 5:   0%|                                                               | 0/41 [00:00<?, ?it/s]"
      ]
     },
     "metadata": {},
     "output_type": "display_data"
    },
    {
     "name": "stdout",
     "output_type": "stream",
     "text": [
      "Epoch 5 Training Loss: 2.4151                                                                                                                                                                                                  \n",
      "Validation Loss:                                                                                                                                                                                                               \n",
      "2.3762802164938974                                                                                                                                                                                                             \n",
      "Validation Accuracy:                                                                                                                                                                                                           \n",
      "0.05189812590100913                                                                                                                                                                                                            \n",
      "Hyperparameters:                                                                                                                                                                                                               \n",
      "{'batch_size': 208.0, 'dropout_co_graph_enabled': True, 'dropout_final_enabled': True, 'dropout_fusion_enabled': False, 'dropout_rate_co_graph': 0.10704733787502835, 'dropout_rate_final': 0.10108677369071492, 'dropout_rate_fusion': 0.10076665614661216, 'dropout_rate_sent': 0.4806510286063804, 'dropout_rate_word': 0.14773959593926156, 'dropout_sent_enabled': True, 'dropout_word_enabled': True, 'gamma': 4.835542189074925, 'hidden_dim': 68.0, 'learning_rate': 0.0003771083310683382, 'num_sentence_layers': 2.0, 'num_word_layers': 5.0, 'weight_decay': 6.677949427625384e-08}\n",
      "Loading existing valid indices from metadata                                                                                                                                                                                   \n",
      "Found 10409 processed documents                                                                                                                                                                                                \n",
      " 52%|████████████████████████████████████████████████████████████████████████████▋                                                                     | 21/40 [9:17:33<7:05:50, 1344.78s/trial, best loss: 2.3762802164938974]"
     ]
    },
    {
     "data": {
      "application/vnd.jupyter.widget-view+json": {
       "model_id": "dfcecced0fb04f11adc596223bec4395",
       "version_major": 2,
       "version_minor": 0
      },
      "text/plain": [
       "Epoch 1:   0%|                                                               | 0/41 [00:00<?, ?it/s]"
      ]
     },
     "metadata": {},
     "output_type": "display_data"
    },
    {
     "name": "stdout",
     "output_type": "stream",
     "text": [
      "Epoch 1 Training Loss: 2.5169                                                                                                                                                                                                  \n",
      " 52%|████████████████████████████████████████████████████████████████████████████▋                                                                     | 21/40 [9:19:59<7:05:50, 1344.78s/trial, best loss: 2.3762802164938974]"
     ]
    },
    {
     "data": {
      "application/vnd.jupyter.widget-view+json": {
       "model_id": "4d95c3e9412a450693b922ba8e5a353c",
       "version_major": 2,
       "version_minor": 0
      },
      "text/plain": [
       "Epoch 2:   0%|                                                               | 0/41 [00:00<?, ?it/s]"
      ]
     },
     "metadata": {},
     "output_type": "display_data"
    },
    {
     "name": "stdout",
     "output_type": "stream",
     "text": [
      "Epoch 2 Training Loss: 2.4770                                                                                                                                                                                                  \n",
      " 52%|████████████████████████████████████████████████████████████████████████████▋                                                                     | 21/40 [9:22:22<7:05:50, 1344.78s/trial, best loss: 2.3762802164938974]"
     ]
    },
    {
     "data": {
      "application/vnd.jupyter.widget-view+json": {
       "model_id": "b29454270cd64b01b8aed1c400e97bf7",
       "version_major": 2,
       "version_minor": 0
      },
      "text/plain": [
       "Epoch 3:   0%|                                                               | 0/41 [00:00<?, ?it/s]"
      ]
     },
     "metadata": {},
     "output_type": "display_data"
    },
    {
     "name": "stdout",
     "output_type": "stream",
     "text": [
      "Epoch 3 Training Loss: 2.4675                                                                                                                                                                                                  \n",
      " 52%|████████████████████████████████████████████████████████████████████████████▋                                                                     | 21/40 [9:24:46<7:05:50, 1344.78s/trial, best loss: 2.3762802164938974]"
     ]
    },
    {
     "data": {
      "application/vnd.jupyter.widget-view+json": {
       "model_id": "e2c8fc2e82304175acebc4d32eaae68f",
       "version_major": 2,
       "version_minor": 0
      },
      "text/plain": [
       "Epoch 4:   0%|                                                               | 0/41 [00:00<?, ?it/s]"
      ]
     },
     "metadata": {},
     "output_type": "display_data"
    },
    {
     "name": "stdout",
     "output_type": "stream",
     "text": [
      "Epoch 4 Training Loss: 2.4226                                                                                                                                                                                                  \n",
      " 52%|████████████████████████████████████████████████████████████████████████████▋                                                                     | 21/40 [9:27:09<7:05:50, 1344.78s/trial, best loss: 2.3762802164938974]"
     ]
    },
    {
     "data": {
      "application/vnd.jupyter.widget-view+json": {
       "model_id": "ed2eaad04daa476c861d0b0b9c9ce32a",
       "version_major": 2,
       "version_minor": 0
      },
      "text/plain": [
       "Epoch 5:   0%|                                                               | 0/41 [00:00<?, ?it/s]"
      ]
     },
     "metadata": {},
     "output_type": "display_data"
    },
    {
     "name": "stdout",
     "output_type": "stream",
     "text": [
      "Epoch 5 Training Loss: 2.4917                                                                                                                                                                                                  \n",
      "Validation Loss:                                                                                                                                                                                                               \n",
      "2.4073884535271177                                                                                                                                                                                                             \n",
      "Validation Accuracy:                                                                                                                                                                                                           \n",
      "0.071119654012494                                                                                                                                                                                                              \n",
      "Hyperparameters:                                                                                                                                                                                                               \n",
      "{'batch_size': 240.0, 'dropout_co_graph_enabled': True, 'dropout_final_enabled': True, 'dropout_fusion_enabled': False, 'dropout_rate_co_graph': 0.10623546112553808, 'dropout_rate_final': 0.106541556772482, 'dropout_rate_fusion': 0.11320272663409246, 'dropout_rate_sent': 0.4701567270628963, 'dropout_rate_word': 0.1496734931821181, 'dropout_sent_enabled': True, 'dropout_word_enabled': False, 'gamma': 4.978561778970458, 'hidden_dim': 65.0, 'learning_rate': 0.0005769075437211422, 'num_sentence_layers': 2.0, 'num_word_layers': 5.0, 'weight_decay': 5.954271980426222e-08}\n",
      "Loading existing valid indices from metadata                                                                                                                                                                                   \n",
      "Found 10409 processed documents                                                                                                                                                                                                \n",
      " 55%|████████████████████████████████████████████████████████████████████████████████▎                                                                 | 22/40 [9:29:50<5:48:38, 1162.16s/trial, best loss: 2.3762802164938974]"
     ]
    },
    {
     "data": {
      "application/vnd.jupyter.widget-view+json": {
       "model_id": "42840647600146c58321372674748d7f",
       "version_major": 2,
       "version_minor": 0
      },
      "text/plain": [
       "Epoch 1:   0%|                                                               | 0/35 [00:00<?, ?it/s]"
      ]
     },
     "metadata": {},
     "output_type": "display_data"
    },
    {
     "name": "stdout",
     "output_type": "stream",
     "text": [
      "Epoch 1 Training Loss: 2.4793                                                                                                                                                                                                  \n",
      " 55%|████████████████████████████████████████████████████████████████████████████████▎                                                                 | 22/40 [9:32:14<5:48:38, 1162.16s/trial, best loss: 2.3762802164938974]"
     ]
    },
    {
     "data": {
      "application/vnd.jupyter.widget-view+json": {
       "model_id": "38e7c28b99f846d4b2d488c546b2acff",
       "version_major": 2,
       "version_minor": 0
      },
      "text/plain": [
       "Epoch 2:   0%|                                                               | 0/35 [00:00<?, ?it/s]"
      ]
     },
     "metadata": {},
     "output_type": "display_data"
    },
    {
     "name": "stdout",
     "output_type": "stream",
     "text": [
      "Epoch 2 Training Loss: 2.4599                                                                                                                                                                                                  \n",
      " 55%|████████████████████████████████████████████████████████████████████████████████▎                                                                 | 22/40 [9:34:36<5:48:38, 1162.16s/trial, best loss: 2.3762802164938974]"
     ]
    },
    {
     "data": {
      "application/vnd.jupyter.widget-view+json": {
       "model_id": "94960fad14e84285abdff21008454d2b",
       "version_major": 2,
       "version_minor": 0
      },
      "text/plain": [
       "Epoch 3:   0%|                                                               | 0/35 [00:00<?, ?it/s]"
      ]
     },
     "metadata": {},
     "output_type": "display_data"
    },
    {
     "name": "stdout",
     "output_type": "stream",
     "text": [
      "Epoch 3 Training Loss: 2.4460                                                                                                                                                                                                  \n",
      " 55%|████████████████████████████████████████████████████████████████████████████████▎                                                                 | 22/40 [9:36:58<5:48:38, 1162.16s/trial, best loss: 2.3762802164938974]"
     ]
    },
    {
     "data": {
      "application/vnd.jupyter.widget-view+json": {
       "model_id": "5da6e3a353d94cf2a66663a2c71ecd63",
       "version_major": 2,
       "version_minor": 0
      },
      "text/plain": [
       "Epoch 4:   0%|                                                               | 0/35 [00:00<?, ?it/s]"
      ]
     },
     "metadata": {},
     "output_type": "display_data"
    },
    {
     "name": "stdout",
     "output_type": "stream",
     "text": [
      "Epoch 4 Training Loss: 2.4321                                                                                                                                                                                                  \n",
      " 55%|████████████████████████████████████████████████████████████████████████████████▎                                                                 | 22/40 [9:39:20<5:48:38, 1162.16s/trial, best loss: 2.3762802164938974]"
     ]
    },
    {
     "data": {
      "application/vnd.jupyter.widget-view+json": {
       "model_id": "116b571e514b486cad8b55127cb4c860",
       "version_major": 2,
       "version_minor": 0
      },
      "text/plain": [
       "Epoch 5:   0%|                                                               | 0/35 [00:00<?, ?it/s]"
      ]
     },
     "metadata": {},
     "output_type": "display_data"
    },
    {
     "name": "stdout",
     "output_type": "stream",
     "text": [
      "Epoch 5 Training Loss: 2.4314                                                                                                                                                                                                  \n",
      "Validation Loss:                                                                                                                                                                                                               \n",
      "2.390358309743497                                                                                                                                                                                                              \n",
      "Validation Accuracy:                                                                                                                                                                                                           \n",
      "0.05670350792888035                                                                                                                                                                                                            \n",
      "Hyperparameters:                                                                                                                                                                                                               \n",
      "{'batch_size': 240.0, 'dropout_co_graph_enabled': True, 'dropout_final_enabled': True, 'dropout_fusion_enabled': False, 'dropout_rate_co_graph': 0.14984005559605737, 'dropout_rate_final': 0.11175531950438078, 'dropout_rate_fusion': 0.10034819770729529, 'dropout_rate_sent': 0.48193700772931886, 'dropout_rate_word': 0.1621994100408986, 'dropout_sent_enabled': True, 'dropout_word_enabled': False, 'gamma': 4.629282366561152, 'hidden_dim': 69.0, 'learning_rate': 0.0006784606523181765, 'num_sentence_layers': 2.0, 'num_word_layers': 5.0, 'weight_decay': 6.639094314932125e-08}\n",
      "Loading existing valid indices from metadata                                                                                                                                                                                   \n",
      "Found 10409 processed documents                                                                                                                                                                                                \n",
      " 57%|███████████████████████████████████████████████████████████████████████████████████▉                                                              | 23/40 [9:42:00<4:52:31, 1032.46s/trial, best loss: 2.3762802164938974]"
     ]
    },
    {
     "data": {
      "application/vnd.jupyter.widget-view+json": {
       "model_id": "10c1cd6c47a74b769e8d8f2f8d72032c",
       "version_major": 2,
       "version_minor": 0
      },
      "text/plain": [
       "Epoch 1:   0%|                                                               | 0/35 [00:00<?, ?it/s]"
      ]
     },
     "metadata": {},
     "output_type": "display_data"
    },
    {
     "name": "stdout",
     "output_type": "stream",
     "text": [
      "Epoch 1 Training Loss: 2.4983                                                                                                                                                                                                  \n",
      " 57%|███████████████████████████████████████████████████████████████████████████████████▉                                                              | 23/40 [9:44:30<4:52:31, 1032.46s/trial, best loss: 2.3762802164938974]"
     ]
    },
    {
     "data": {
      "application/vnd.jupyter.widget-view+json": {
       "model_id": "8002c75dace84f9ba49303d87b90f416",
       "version_major": 2,
       "version_minor": 0
      },
      "text/plain": [
       "Epoch 2:   0%|                                                               | 0/35 [00:00<?, ?it/s]"
      ]
     },
     "metadata": {},
     "output_type": "display_data"
    },
    {
     "name": "stdout",
     "output_type": "stream",
     "text": [
      "Epoch 2 Training Loss: 2.4825                                                                                                                                                                                                  \n",
      " 57%|███████████████████████████████████████████████████████████████████████████████████▉                                                              | 23/40 [9:46:55<4:52:31, 1032.46s/trial, best loss: 2.3762802164938974]"
     ]
    },
    {
     "data": {
      "application/vnd.jupyter.widget-view+json": {
       "model_id": "aa15dd29239c48faa35273d571fe83f1",
       "version_major": 2,
       "version_minor": 0
      },
      "text/plain": [
       "Epoch 3:   0%|                                                               | 0/35 [00:00<?, ?it/s]"
      ]
     },
     "metadata": {},
     "output_type": "display_data"
    },
    {
     "name": "stdout",
     "output_type": "stream",
     "text": [
      "Epoch 3 Training Loss: 2.4716                                                                                                                                                                                                  \n",
      " 57%|███████████████████████████████████████████████████████████████████████████████████▉                                                              | 23/40 [9:49:21<4:52:31, 1032.46s/trial, best loss: 2.3762802164938974]"
     ]
    },
    {
     "data": {
      "application/vnd.jupyter.widget-view+json": {
       "model_id": "d59d05c8499748e89a8cd53ea55e74c4",
       "version_major": 2,
       "version_minor": 0
      },
      "text/plain": [
       "Epoch 4:   0%|                                                               | 0/35 [00:00<?, ?it/s]"
      ]
     },
     "metadata": {},
     "output_type": "display_data"
    },
    {
     "name": "stdout",
     "output_type": "stream",
     "text": [
      "Epoch 4 Training Loss: 2.4624                                                                                                                                                                                                  \n",
      " 57%|███████████████████████████████████████████████████████████████████████████████████▉                                                              | 23/40 [9:51:47<4:52:31, 1032.46s/trial, best loss: 2.3762802164938974]"
     ]
    },
    {
     "data": {
      "application/vnd.jupyter.widget-view+json": {
       "model_id": "c773fad2cc0640cf9c2fe49d1823cf99",
       "version_major": 2,
       "version_minor": 0
      },
      "text/plain": [
       "Epoch 5:   0%|                                                               | 0/35 [00:00<?, ?it/s]"
      ]
     },
     "metadata": {},
     "output_type": "display_data"
    },
    {
     "name": "stdout",
     "output_type": "stream",
     "text": [
      "Epoch 5 Training Loss: 2.4511                                                                                                                                                                                                  \n",
      "Validation Loss:                                                                                                                                                                                                               \n",
      "2.4573330616847877                                                                                                                                                                                                             \n",
      "Validation Accuracy:                                                                                                                                                                                                           \n",
      "0.04565112926477655                                                                                                                                                                                                            \n",
      "Hyperparameters:                                                                                                                                                                                                               \n",
      "{'batch_size': 240.0, 'dropout_co_graph_enabled': True, 'dropout_final_enabled': True, 'dropout_fusion_enabled': False, 'dropout_rate_co_graph': 0.10398099115054266, 'dropout_rate_final': 0.20605916146138142, 'dropout_rate_fusion': 0.10054665163063828, 'dropout_rate_sent': 0.44808795575751836, 'dropout_rate_word': 0.33066059718057006, 'dropout_sent_enabled': True, 'dropout_word_enabled': False, 'gamma': 4.503067836683116, 'hidden_dim': 64.0, 'learning_rate': 5.073623258524157e-05, 'num_sentence_layers': 2.0, 'num_word_layers': 5.0, 'weight_decay': 1.1781519473318674e-06}\n",
      "Loading existing valid indices from metadata                                                                                                                                                                                   \n",
      "Found 10409 processed documents                                                                                                                                                                                                \n",
      " 60%|████████████████████████████████████████████████████████████████████████████████████████▏                                                          | 24/40 [9:54:28<4:12:33, 947.11s/trial, best loss: 2.3762802164938974]"
     ]
    },
    {
     "data": {
      "application/vnd.jupyter.widget-view+json": {
       "model_id": "57fc86a02c044acdb837f6f5889ba6a8",
       "version_major": 2,
       "version_minor": 0
      },
      "text/plain": [
       "Epoch 1:   0%|                                                               | 0/35 [00:00<?, ?it/s]"
      ]
     },
     "metadata": {},
     "output_type": "display_data"
    },
    {
     "name": "stdout",
     "output_type": "stream",
     "text": [
      "Epoch 1 Training Loss: 2.5114                                                                                                                                                                                                  \n",
      " 60%|████████████████████████████████████████████████████████████████████████████████████████▏                                                          | 24/40 [9:56:49<4:12:33, 947.11s/trial, best loss: 2.3762802164938974]"
     ]
    },
    {
     "data": {
      "application/vnd.jupyter.widget-view+json": {
       "model_id": "c618ede0599548979350a0b50517a472",
       "version_major": 2,
       "version_minor": 0
      },
      "text/plain": [
       "Epoch 2:   0%|                                                               | 0/35 [00:00<?, ?it/s]"
      ]
     },
     "metadata": {},
     "output_type": "display_data"
    },
    {
     "name": "stdout",
     "output_type": "stream",
     "text": [
      "Epoch 2 Training Loss: 2.5115                                                                                                                                                                                                  \n",
      " 60%|████████████████████████████████████████████████████████████████████████████████████████▏                                                          | 24/40 [9:59:09<4:12:33, 947.11s/trial, best loss: 2.3762802164938974]"
     ]
    },
    {
     "data": {
      "application/vnd.jupyter.widget-view+json": {
       "model_id": "fecd979a219346ebb3368c49faa1b4ed",
       "version_major": 2,
       "version_minor": 0
      },
      "text/plain": [
       "Epoch 3:   0%|                                                               | 0/35 [00:00<?, ?it/s]"
      ]
     },
     "metadata": {},
     "output_type": "display_data"
    },
    {
     "name": "stdout",
     "output_type": "stream",
     "text": [
      "Epoch 3 Training Loss: 2.5103                                                                                                                                                                                                  \n",
      " 60%|███████████████████████████████████████████████████████████████████████████████████████▌                                                          | 24/40 [10:01:28<4:12:33, 947.11s/trial, best loss: 2.3762802164938974]"
     ]
    },
    {
     "data": {
      "application/vnd.jupyter.widget-view+json": {
       "model_id": "c603e5905d47494d94d0e14217287dad",
       "version_major": 2,
       "version_minor": 0
      },
      "text/plain": [
       "Epoch 4:   0%|                                                               | 0/35 [00:00<?, ?it/s]"
      ]
     },
     "metadata": {},
     "output_type": "display_data"
    },
    {
     "name": "stdout",
     "output_type": "stream",
     "text": [
      "Epoch 4 Training Loss: 2.5051                                                                                                                                                                                                  \n",
      " 60%|███████████████████████████████████████████████████████████████████████████████████████▌                                                          | 24/40 [10:03:48<4:12:33, 947.11s/trial, best loss: 2.3762802164938974]"
     ]
    },
    {
     "data": {
      "application/vnd.jupyter.widget-view+json": {
       "model_id": "cf5e73001a7545d4af15015516f0e392",
       "version_major": 2,
       "version_minor": 0
      },
      "text/plain": [
       "Epoch 5:   0%|                                                               | 0/35 [00:00<?, ?it/s]"
      ]
     },
     "metadata": {},
     "output_type": "display_data"
    },
    {
     "name": "stdout",
     "output_type": "stream",
     "text": [
      "Epoch 5 Training Loss: 2.5018                                                                                                                                                                                                  \n",
      "Validation Loss:                                                                                                                                                                                                               \n",
      "2.4998626149886505                                                                                                                                                                                                             \n",
      "Validation Accuracy:                                                                                                                                                                                                           \n",
      "0.035079288803459875                                                                                                                                                                                                           \n",
      "Hyperparameters:                                                                                                                                                                                                               \n",
      "{'batch_size': 32.0, 'dropout_co_graph_enabled': True, 'dropout_final_enabled': True, 'dropout_fusion_enabled': False, 'dropout_rate_co_graph': 0.13651228051260603, 'dropout_rate_final': 0.10746093180776206, 'dropout_rate_fusion': 0.24679499484425965, 'dropout_rate_sent': 0.495991526544662, 'dropout_rate_word': 0.27900443875210446, 'dropout_sent_enabled': True, 'dropout_word_enabled': False, 'gamma': 3.50027102477033, 'hidden_dim': 111.0, 'learning_rate': 0.0004947249416416377, 'num_sentence_layers': 1.0, 'num_word_layers': 2.0, 'weight_decay': 1.1205267887257785e-07}\n",
      "Loading existing valid indices from metadata                                                                                                                                                                                   \n",
      "Found 10409 processed documents                                                                                                                                                                                                \n",
      " 62%|███████████████████████████████████████████████████████████████████████████████████████████▎                                                      | 25/40 [10:06:24<3:39:30, 878.02s/trial, best loss: 2.3762802164938974]"
     ]
    },
    {
     "data": {
      "application/vnd.jupyter.widget-view+json": {
       "model_id": "7a4df32fab7a4515908d3efa33018b01",
       "version_major": 2,
       "version_minor": 0
      },
      "text/plain": [
       "Epoch 1:   0%|                                                              | 0/261 [00:00<?, ?it/s]"
      ]
     },
     "metadata": {},
     "output_type": "display_data"
    },
    {
     "name": "stdout",
     "output_type": "stream",
     "text": [
      "Epoch 1 Training Loss: 2.5947                                                                                                                                                                                                  \n",
      " 62%|███████████████████████████████████████████████████████████████████████████████████████████▎                                                      | 25/40 [10:08:29<3:39:30, 878.02s/trial, best loss: 2.3762802164938974]"
     ]
    },
    {
     "data": {
      "application/vnd.jupyter.widget-view+json": {
       "model_id": "4a4485cca641456fa9d74b85e8dba7ee",
       "version_major": 2,
       "version_minor": 0
      },
      "text/plain": [
       "Epoch 2:   0%|                                                              | 0/261 [00:00<?, ?it/s]"
      ]
     },
     "metadata": {},
     "output_type": "display_data"
    },
    {
     "name": "stdout",
     "output_type": "stream",
     "text": [
      "Epoch 2 Training Loss: 2.5721                                                                                                                                                                                                  \n",
      " 62%|███████████████████████████████████████████████████████████████████████████████████████████▎                                                      | 25/40 [10:10:31<3:39:30, 878.02s/trial, best loss: 2.3762802164938974]"
     ]
    },
    {
     "data": {
      "application/vnd.jupyter.widget-view+json": {
       "model_id": "dfff0975091c481387a47f58a3678558",
       "version_major": 2,
       "version_minor": 0
      },
      "text/plain": [
       "Epoch 3:   0%|                                                              | 0/261 [00:00<?, ?it/s]"
      ]
     },
     "metadata": {},
     "output_type": "display_data"
    },
    {
     "name": "stdout",
     "output_type": "stream",
     "text": [
      "Epoch 3 Training Loss: 2.5209                                                                                                                                                                                                  \n",
      " 62%|███████████████████████████████████████████████████████████████████████████████████████████▎                                                      | 25/40 [10:12:33<3:39:30, 878.02s/trial, best loss: 2.3762802164938974]"
     ]
    },
    {
     "data": {
      "application/vnd.jupyter.widget-view+json": {
       "model_id": "ba068ffc012b48a3a36051283c0d26e4",
       "version_major": 2,
       "version_minor": 0
      },
      "text/plain": [
       "Epoch 4:   0%|                                                              | 0/261 [00:00<?, ?it/s]"
      ]
     },
     "metadata": {},
     "output_type": "display_data"
    },
    {
     "name": "stdout",
     "output_type": "stream",
     "text": [
      "Epoch 4 Training Loss: 2.4103                                                                                                                                                                                                  \n",
      " 62%|███████████████████████████████████████████████████████████████████████████████████████████▎                                                      | 25/40 [10:14:35<3:39:30, 878.02s/trial, best loss: 2.3762802164938974]"
     ]
    },
    {
     "data": {
      "application/vnd.jupyter.widget-view+json": {
       "model_id": "ce39172ff9994d31ac3420511fe5a28f",
       "version_major": 2,
       "version_minor": 0
      },
      "text/plain": [
       "Epoch 5:   0%|                                                              | 0/261 [00:00<?, ?it/s]"
      ]
     },
     "metadata": {},
     "output_type": "display_data"
    },
    {
     "name": "stdout",
     "output_type": "stream",
     "text": [
      "Epoch 5 Training Loss: 2.3125                                                                                                                                                                                                  \n",
      "Validation Loss:                                                                                                                                                                                                               \n",
      "2.2381923359383302                                                                                                                                                                                                             \n",
      "Validation Accuracy:                                                                                                                                                                                                           \n",
      "0.10139356078808265                                                                                                                                                                                                            \n",
      "Hyperparameters:                                                                                                                                                                                                               \n",
      "{'batch_size': 16.0, 'dropout_co_graph_enabled': True, 'dropout_final_enabled': True, 'dropout_fusion_enabled': False, 'dropout_rate_co_graph': 0.14448746544769406, 'dropout_rate_final': 0.21097086484900832, 'dropout_rate_fusion': 0.24987692702845263, 'dropout_rate_sent': 0.36315278681485563, 'dropout_rate_word': 0.34894675358684535, 'dropout_sent_enabled': True, 'dropout_word_enabled': False, 'gamma': 3.4759970474210546, 'hidden_dim': 111.0, 'learning_rate': 0.000976993796465931, 'num_sentence_layers': 1.0, 'num_word_layers': 2.0, 'weight_decay': 1.460394278785796e-07}\n",
      "Loading existing valid indices from metadata                                                                                                                                                                                   \n",
      "Found 10409 processed documents                                                                                                                                                                                                \n",
      " 65%|██████████████████████████████████████████████████████████████████████████████████████████████▉                                                   | 26/40 [10:16:51<3:07:15, 802.52s/trial, best loss: 2.2381923359383302]"
     ]
    },
    {
     "data": {
      "application/vnd.jupyter.widget-view+json": {
       "model_id": "a505d3a4b30843029d4a47df0055eff9",
       "version_major": 2,
       "version_minor": 0
      },
      "text/plain": [
       "Epoch 1:   0%|                                                              | 0/521 [00:00<?, ?it/s]"
      ]
     },
     "metadata": {},
     "output_type": "display_data"
    },
    {
     "name": "stdout",
     "output_type": "stream",
     "text": [
      "Epoch 1 Training Loss: 2.5878                                                                                                                                                                                                  \n",
      " 65%|██████████████████████████████████████████████████████████████████████████████████████████████▉                                                   | 26/40 [10:19:06<3:07:15, 802.52s/trial, best loss: 2.2381923359383302]"
     ]
    },
    {
     "data": {
      "application/vnd.jupyter.widget-view+json": {
       "model_id": "bf4a1ab1e1eb49bd8bb7cbe0cce7669f",
       "version_major": 2,
       "version_minor": 0
      },
      "text/plain": [
       "Epoch 2:   0%|                                                              | 0/521 [00:00<?, ?it/s]"
      ]
     },
     "metadata": {},
     "output_type": "display_data"
    },
    {
     "name": "stdout",
     "output_type": "stream",
     "text": [
      "Epoch 2 Training Loss: 2.5743                                                                                                                                                                                                  \n",
      " 65%|██████████████████████████████████████████████████████████████████████████████████████████████▉                                                   | 26/40 [10:21:19<3:07:15, 802.52s/trial, best loss: 2.2381923359383302]"
     ]
    },
    {
     "data": {
      "application/vnd.jupyter.widget-view+json": {
       "model_id": "d1d6e90d8fa14361b5bba32ae2197f41",
       "version_major": 2,
       "version_minor": 0
      },
      "text/plain": [
       "Epoch 3:   0%|                                                              | 0/521 [00:00<?, ?it/s]"
      ]
     },
     "metadata": {},
     "output_type": "display_data"
    },
    {
     "name": "stdout",
     "output_type": "stream",
     "text": [
      "Epoch 3 Training Loss: 2.5052                                                                                                                                                                                                  \n",
      " 65%|██████████████████████████████████████████████████████████████████████████████████████████████▉                                                   | 26/40 [10:23:32<3:07:15, 802.52s/trial, best loss: 2.2381923359383302]"
     ]
    },
    {
     "data": {
      "application/vnd.jupyter.widget-view+json": {
       "model_id": "f703810dc4014b53b8a4278d07b26cd4",
       "version_major": 2,
       "version_minor": 0
      },
      "text/plain": [
       "Epoch 4:   0%|                                                              | 0/521 [00:00<?, ?it/s]"
      ]
     },
     "metadata": {},
     "output_type": "display_data"
    },
    {
     "name": "stdout",
     "output_type": "stream",
     "text": [
      "Epoch 4 Training Loss: 2.4072                                                                                                                                                                                                  \n",
      " 65%|██████████████████████████████████████████████████████████████████████████████████████████████▉                                                   | 26/40 [10:25:46<3:07:15, 802.52s/trial, best loss: 2.2381923359383302]"
     ]
    },
    {
     "data": {
      "application/vnd.jupyter.widget-view+json": {
       "model_id": "663f1f3855644260aafaf1b371e08e3f",
       "version_major": 2,
       "version_minor": 0
      },
      "text/plain": [
       "Epoch 5:   0%|                                                              | 0/521 [00:00<?, ?it/s]"
      ]
     },
     "metadata": {},
     "output_type": "display_data"
    },
    {
     "name": "stdout",
     "output_type": "stream",
     "text": [
      "Epoch 5 Training Loss: 2.3669                                                                                                                                                                                                  \n",
      "Validation Loss:                                                                                                                                                                                                               \n",
      "2.2931808845633674                                                                                                                                                                                                             \n",
      "Validation Accuracy:                                                                                                                                                                                                           \n",
      "0.06487265737626141                                                                                                                                                                                                            \n",
      "Hyperparameters:                                                                                                                                                                                                               \n",
      "{'batch_size': 16.0, 'dropout_co_graph_enabled': True, 'dropout_final_enabled': True, 'dropout_fusion_enabled': False, 'dropout_rate_co_graph': 0.4896761849299328, 'dropout_rate_final': 0.20183601719259187, 'dropout_rate_fusion': 0.25132901913206823, 'dropout_rate_sent': 0.30985585405319943, 'dropout_rate_word': 0.3574777096782181, 'dropout_sent_enabled': True, 'dropout_word_enabled': False, 'gamma': 3.4436079465182057, 'hidden_dim': 180.0, 'learning_rate': 0.0004918338758503151, 'num_sentence_layers': 1.0, 'num_word_layers': 2.0, 'weight_decay': 1.4002882747078131e-06}\n",
      "Loading existing valid indices from metadata                                                                                                                                                                                   \n",
      "Found 10409 processed documents                                                                                                                                                                                                \n",
      " 68%|██████████████████████████████████████████████████████████████████████████████████████████████████▌                                               | 27/40 [10:28:15<2:46:10, 766.94s/trial, best loss: 2.2381923359383302]"
     ]
    },
    {
     "data": {
      "application/vnd.jupyter.widget-view+json": {
       "model_id": "e5cd95a3ed484339b1f7b3008b15d3f4",
       "version_major": 2,
       "version_minor": 0
      },
      "text/plain": [
       "Epoch 1:   0%|                                                              | 0/521 [00:00<?, ?it/s]"
      ]
     },
     "metadata": {},
     "output_type": "display_data"
    },
    {
     "name": "stdout",
     "output_type": "stream",
     "text": [
      "Epoch 1 Training Loss: 2.5921                                                                                                                                                                                                  \n",
      " 68%|██████████████████████████████████████████████████████████████████████████████████████████████████▌                                               | 27/40 [10:31:49<2:46:10, 766.94s/trial, best loss: 2.2381923359383302]"
     ]
    },
    {
     "data": {
      "application/vnd.jupyter.widget-view+json": {
       "model_id": "e2a9fe309ae84d248ed589645231b0fc",
       "version_major": 2,
       "version_minor": 0
      },
      "text/plain": [
       "Epoch 2:   0%|                                                              | 0/521 [00:00<?, ?it/s]"
      ]
     },
     "metadata": {},
     "output_type": "display_data"
    },
    {
     "name": "stdout",
     "output_type": "stream",
     "text": [
      "Epoch 2 Training Loss: 2.5822                                                                                                                                                                                                  \n",
      " 68%|██████████████████████████████████████████████████████████████████████████████████████████████████▌                                               | 27/40 [10:35:22<2:46:10, 766.94s/trial, best loss: 2.2381923359383302]"
     ]
    },
    {
     "data": {
      "application/vnd.jupyter.widget-view+json": {
       "model_id": "2bc6b644749b4330b2492da731bee5a0",
       "version_major": 2,
       "version_minor": 0
      },
      "text/plain": [
       "Epoch 3:   0%|                                                              | 0/521 [00:00<?, ?it/s]"
      ]
     },
     "metadata": {},
     "output_type": "display_data"
    },
    {
     "name": "stdout",
     "output_type": "stream",
     "text": [
      "Epoch 3 Training Loss: 2.5758                                                                                                                                                                                                  \n",
      " 68%|██████████████████████████████████████████████████████████████████████████████████████████████████▌                                               | 27/40 [10:38:51<2:46:10, 766.94s/trial, best loss: 2.2381923359383302]"
     ]
    },
    {
     "data": {
      "application/vnd.jupyter.widget-view+json": {
       "model_id": "0fd440ef81cc4a5b98e67be042cc1aea",
       "version_major": 2,
       "version_minor": 0
      },
      "text/plain": [
       "Epoch 4:   0%|                                                              | 0/521 [00:00<?, ?it/s]"
      ]
     },
     "metadata": {},
     "output_type": "display_data"
    },
    {
     "name": "stdout",
     "output_type": "stream",
     "text": [
      "Epoch 4 Training Loss: 2.5702                                                                                                                                                                                                  \n",
      " 68%|██████████████████████████████████████████████████████████████████████████████████████████████████▌                                               | 27/40 [10:42:22<2:46:10, 766.94s/trial, best loss: 2.2381923359383302]"
     ]
    },
    {
     "data": {
      "application/vnd.jupyter.widget-view+json": {
       "model_id": "9c3cbf064a6942358e1c795bf0f01463",
       "version_major": 2,
       "version_minor": 0
      },
      "text/plain": [
       "Epoch 5:   0%|                                                              | 0/521 [00:00<?, ?it/s]"
      ]
     },
     "metadata": {},
     "output_type": "display_data"
    },
    {
     "name": "stdout",
     "output_type": "stream",
     "text": [
      "Epoch 5 Training Loss: 2.4826                                                                                                                                                                                                  \n",
      "Validation Loss:                                                                                                                                                                                                               \n",
      "2.4818199107862906                                                                                                                                                                                                             \n",
      "Validation Accuracy:                                                                                                                                                                                                           \n",
      "0.050937049495434886                                                                                                                                                                                                           \n",
      "Hyperparameters:                                                                                                                                                                                                               \n",
      "{'batch_size': 48.0, 'dropout_co_graph_enabled': True, 'dropout_final_enabled': True, 'dropout_fusion_enabled': False, 'dropout_rate_co_graph': 0.1558591217480599, 'dropout_rate_final': 0.33526266648521935, 'dropout_rate_fusion': 0.2662201557802103, 'dropout_rate_sent': 0.3697860469532311, 'dropout_rate_word': 0.28325171112972675, 'dropout_sent_enabled': True, 'dropout_word_enabled': False, 'gamma': 3.550211091816495, 'hidden_dim': 131.0, 'learning_rate': 8.446193254980043e-05, 'num_sentence_layers': 1.0, 'num_word_layers': 2.0, 'weight_decay': 1.8200469898138366e-07}\n",
      "Loading existing valid indices from metadata                                                                                                                                                                                   \n",
      "Found 10409 processed documents                                                                                                                                                                                                \n",
      " 70%|██████████████████████████████████████████████████████████████████████████████████████████████████████▏                                           | 28/40 [10:46:11<2:51:54, 859.57s/trial, best loss: 2.2381923359383302]"
     ]
    },
    {
     "data": {
      "application/vnd.jupyter.widget-view+json": {
       "model_id": "29b86493b5974af183a68c887fd077b0",
       "version_major": 2,
       "version_minor": 0
      },
      "text/plain": [
       "Epoch 1:   0%|                                                              | 0/174 [00:00<?, ?it/s]"
      ]
     },
     "metadata": {},
     "output_type": "display_data"
    },
    {
     "name": "stdout",
     "output_type": "stream",
     "text": [
      "Epoch 1 Training Loss: 2.5891                                                                                                                                                                                                  \n",
      " 70%|██████████████████████████████████████████████████████████████████████████████████████████████████████▏                                           | 28/40 [10:48:44<2:51:54, 859.57s/trial, best loss: 2.2381923359383302]"
     ]
    },
    {
     "data": {
      "application/vnd.jupyter.widget-view+json": {
       "model_id": "e6eb4a55b8174ac3a08c3155e2fd7d07",
       "version_major": 2,
       "version_minor": 0
      },
      "text/plain": [
       "Epoch 2:   0%|                                                              | 0/174 [00:00<?, ?it/s]"
      ]
     },
     "metadata": {},
     "output_type": "display_data"
    },
    {
     "name": "stdout",
     "output_type": "stream",
     "text": [
      "Epoch 2 Training Loss: 2.5761                                                                                                                                                                                                  \n",
      " 70%|██████████████████████████████████████████████████████████████████████████████████████████████████████▏                                           | 28/40 [10:51:23<2:51:54, 859.57s/trial, best loss: 2.2381923359383302]"
     ]
    },
    {
     "data": {
      "application/vnd.jupyter.widget-view+json": {
       "model_id": "9ab38103472e4f09802beb765b5647a4",
       "version_major": 2,
       "version_minor": 0
      },
      "text/plain": [
       "Epoch 3:   0%|                                                              | 0/174 [00:00<?, ?it/s]"
      ]
     },
     "metadata": {},
     "output_type": "display_data"
    },
    {
     "name": "stdout",
     "output_type": "stream",
     "text": [
      "Epoch 3 Training Loss: 2.5716                                                                                                                                                                                                  \n",
      " 70%|██████████████████████████████████████████████████████████████████████████████████████████████████████▏                                           | 28/40 [10:53:58<2:51:54, 859.57s/trial, best loss: 2.2381923359383302]"
     ]
    },
    {
     "data": {
      "application/vnd.jupyter.widget-view+json": {
       "model_id": "859750eb5b914e92bd3f17196e8544be",
       "version_major": 2,
       "version_minor": 0
      },
      "text/plain": [
       "Epoch 4:   0%|                                                              | 0/174 [00:00<?, ?it/s]"
      ]
     },
     "metadata": {},
     "output_type": "display_data"
    },
    {
     "name": "stdout",
     "output_type": "stream",
     "text": [
      "Epoch 4 Training Loss: 2.5599                                                                                                                                                                                                  \n",
      " 70%|██████████████████████████████████████████████████████████████████████████████████████████████████████▏                                           | 28/40 [10:56:35<2:51:54, 859.57s/trial, best loss: 2.2381923359383302]"
     ]
    },
    {
     "data": {
      "application/vnd.jupyter.widget-view+json": {
       "model_id": "a79c1a54fba04f8db1bf62a4f6a63fd9",
       "version_major": 2,
       "version_minor": 0
      },
      "text/plain": [
       "Epoch 5:   0%|                                                              | 0/174 [00:00<?, ?it/s]"
      ]
     },
     "metadata": {},
     "output_type": "display_data"
    },
    {
     "name": "stdout",
     "output_type": "stream",
     "text": [
      "Epoch 5 Training Loss: 2.5531                                                                                                                                                                                                  \n",
      "Validation Loss:                                                                                                                                                                                                               \n",
      "2.5483037239653967                                                                                                                                                                                                             \n",
      "Validation Accuracy:                                                                                                                                                                                                           \n",
      "0.06295050456511293                                                                                                                                                                                                            \n",
      "Hyperparameters:                                                                                                                                                                                                               \n",
      "{'batch_size': 48.0, 'dropout_co_graph_enabled': True, 'dropout_final_enabled': True, 'dropout_fusion_enabled': False, 'dropout_rate_co_graph': 0.20629930383280137, 'dropout_rate_final': 0.239952468532074, 'dropout_rate_fusion': 0.237207820271752, 'dropout_rate_sent': 0.3934874479157007, 'dropout_rate_word': 0.3743377153261378, 'dropout_sent_enabled': True, 'dropout_word_enabled': False, 'gamma': 3.1139542593286, 'hidden_dim': 111.0, 'learning_rate': 0.0009841767327191644, 'num_sentence_layers': 1.0, 'num_word_layers': 1.0, 'weight_decay': 2.646938537392353e-08}\n",
      "Loading existing valid indices from metadata                                                                                                                                                                                   \n",
      "Found 10409 processed documents                                                                                                                                                                                                \n",
      " 72%|█████████████████████████████████████████████████████████████████████████████████████████████████████████▊                                        | 29/40 [10:59:28<2:34:08, 840.74s/trial, best loss: 2.2381923359383302]"
     ]
    },
    {
     "data": {
      "application/vnd.jupyter.widget-view+json": {
       "model_id": "6d4162dbd7534e61ab8f32cf8d88c502",
       "version_major": 2,
       "version_minor": 0
      },
      "text/plain": [
       "Epoch 1:   0%|                                                              | 0/174 [00:00<?, ?it/s]"
      ]
     },
     "metadata": {},
     "output_type": "display_data"
    },
    {
     "name": "stdout",
     "output_type": "stream",
     "text": [
      "Epoch 1 Training Loss: 2.6270                                                                                                                                                                                                  \n",
      " 72%|█████████████████████████████████████████████████████████████████████████████████████████████████████████▊                                        | 29/40 [11:01:32<2:34:08, 840.74s/trial, best loss: 2.2381923359383302]"
     ]
    },
    {
     "data": {
      "application/vnd.jupyter.widget-view+json": {
       "model_id": "52a9555a985a49d1864c39cf0b2e8a2f",
       "version_major": 2,
       "version_minor": 0
      },
      "text/plain": [
       "Epoch 2:   0%|                                                              | 0/174 [00:00<?, ?it/s]"
      ]
     },
     "metadata": {},
     "output_type": "display_data"
    },
    {
     "name": "stdout",
     "output_type": "stream",
     "text": [
      "Epoch 2 Training Loss: 2.5941                                                                                                                                                                                                  \n",
      " 72%|█████████████████████████████████████████████████████████████████████████████████████████████████████████▊                                        | 29/40 [11:03:34<2:34:08, 840.74s/trial, best loss: 2.2381923359383302]"
     ]
    },
    {
     "data": {
      "application/vnd.jupyter.widget-view+json": {
       "model_id": "d16dbb36a1d14dfab28d21b411adaa6d",
       "version_major": 2,
       "version_minor": 0
      },
      "text/plain": [
       "Epoch 3:   0%|                                                              | 0/174 [00:00<?, ?it/s]"
      ]
     },
     "metadata": {},
     "output_type": "display_data"
    },
    {
     "name": "stdout",
     "output_type": "stream",
     "text": [
      "Epoch 3 Training Loss: 2.4983                                                                                                                                                                                                  \n",
      " 72%|█████████████████████████████████████████████████████████████████████████████████████████████████████████▊                                        | 29/40 [11:05:32<2:34:08, 840.74s/trial, best loss: 2.2381923359383302]"
     ]
    },
    {
     "data": {
      "application/vnd.jupyter.widget-view+json": {
       "model_id": "2a6c66ded5d5461aaedc87198cf518fc",
       "version_major": 2,
       "version_minor": 0
      },
      "text/plain": [
       "Epoch 4:   0%|                                                              | 0/174 [00:00<?, ?it/s]"
      ]
     },
     "metadata": {},
     "output_type": "display_data"
    },
    {
     "name": "stdout",
     "output_type": "stream",
     "text": [
      "Epoch 4 Training Loss: 2.3985                                                                                                                                                                                                  \n",
      " 72%|█████████████████████████████████████████████████████████████████████████████████████████████████████████▊                                        | 29/40 [11:07:30<2:34:08, 840.74s/trial, best loss: 2.2381923359383302]"
     ]
    },
    {
     "data": {
      "application/vnd.jupyter.widget-view+json": {
       "model_id": "4522c7f5b79c4b59ab5a1ec87d05b7bc",
       "version_major": 2,
       "version_minor": 0
      },
      "text/plain": [
       "Epoch 5:   0%|                                                              | 0/174 [00:00<?, ?it/s]"
      ]
     },
     "metadata": {},
     "output_type": "display_data"
    },
    {
     "name": "stdout",
     "output_type": "stream",
     "text": [
      "Epoch 5 Training Loss: 2.3015                                                                                                                                                                                                  \n",
      "Validation Loss:                                                                                                                                                                                                               \n",
      "2.1974068811912484                                                                                                                                                                                                             \n",
      "Validation Accuracy:                                                                                                                                                                                                           \n",
      "0.07544449783757809                                                                                                                                                                                                            \n",
      "Hyperparameters:                                                                                                                                                                                                               \n",
      "{'batch_size': 64.0, 'dropout_co_graph_enabled': True, 'dropout_final_enabled': True, 'dropout_fusion_enabled': False, 'dropout_rate_co_graph': 0.1994152088867324, 'dropout_rate_final': 0.24687294586836653, 'dropout_rate_fusion': 0.2251655080221102, 'dropout_rate_sent': 0.39762706727776703, 'dropout_rate_word': 0.39403889553559496, 'dropout_sent_enabled': True, 'dropout_word_enabled': False, 'gamma': 3.001355457297363, 'hidden_dim': 134.0, 'learning_rate': 0.0003305523664582662, 'num_sentence_layers': 1.0, 'num_word_layers': 1.0, 'weight_decay': 3.2312351061117055e-08}\n",
      "Loading existing valid indices from metadata                                                                                                                                                                                   \n",
      "Found 10409 processed documents                                                                                                                                                                                                \n",
      " 75%|█████████████████████████████████████████████████████████████████████████████████████████████████████████████▌                                    | 30/40 [11:09:42<2:08:49, 773.00s/trial, best loss: 2.1974068811912484]"
     ]
    },
    {
     "data": {
      "application/vnd.jupyter.widget-view+json": {
       "model_id": "aa92f87da7224ea49f9f225f64e0a5ef",
       "version_major": 2,
       "version_minor": 0
      },
      "text/plain": [
       "Epoch 1:   0%|                                                              | 0/131 [00:00<?, ?it/s]"
      ]
     },
     "metadata": {},
     "output_type": "display_data"
    },
    {
     "name": "stdout",
     "output_type": "stream",
     "text": [
      "Epoch 1 Training Loss: 2.6501                                                                                                                                                                                                  \n",
      " 75%|█████████████████████████████████████████████████████████████████████████████████████████████████████████████▌                                    | 30/40 [11:12:05<2:08:49, 773.00s/trial, best loss: 2.1974068811912484]"
     ]
    },
    {
     "data": {
      "application/vnd.jupyter.widget-view+json": {
       "model_id": "212f687a59db4eb1bdfe102c2e140c97",
       "version_major": 2,
       "version_minor": 0
      },
      "text/plain": [
       "Epoch 2:   0%|                                                              | 0/131 [00:00<?, ?it/s]"
      ]
     },
     "metadata": {},
     "output_type": "display_data"
    },
    {
     "name": "stdout",
     "output_type": "stream",
     "text": [
      "Epoch 2 Training Loss: 2.6145                                                                                                                                                                                                  \n",
      " 75%|█████████████████████████████████████████████████████████████████████████████████████████████████████████████▌                                    | 30/40 [11:14:34<2:08:49, 773.00s/trial, best loss: 2.1974068811912484]"
     ]
    },
    {
     "data": {
      "application/vnd.jupyter.widget-view+json": {
       "model_id": "1924f043a76d465cb705b1c15f6df759",
       "version_major": 2,
       "version_minor": 0
      },
      "text/plain": [
       "Epoch 3:   0%|                                                              | 0/131 [00:00<?, ?it/s]"
      ]
     },
     "metadata": {},
     "output_type": "display_data"
    },
    {
     "name": "stdout",
     "output_type": "stream",
     "text": [
      "Epoch 3 Training Loss: 2.5793                                                                                                                                                                                                  \n",
      " 75%|█████████████████████████████████████████████████████████████████████████████████████████████████████████████▌                                    | 30/40 [11:17:00<2:08:49, 773.00s/trial, best loss: 2.1974068811912484]"
     ]
    },
    {
     "data": {
      "application/vnd.jupyter.widget-view+json": {
       "model_id": "1651d6747fc542b2b4e8a52f47b7bec2",
       "version_major": 2,
       "version_minor": 0
      },
      "text/plain": [
       "Epoch 4:   0%|                                                              | 0/131 [00:00<?, ?it/s]"
      ]
     },
     "metadata": {},
     "output_type": "display_data"
    },
    {
     "name": "stdout",
     "output_type": "stream",
     "text": [
      "Epoch 4 Training Loss: 2.5474                                                                                                                                                                                                  \n",
      " 75%|█████████████████████████████████████████████████████████████████████████████████████████████████████████████▌                                    | 30/40 [11:19:26<2:08:49, 773.00s/trial, best loss: 2.1974068811912484]"
     ]
    },
    {
     "data": {
      "application/vnd.jupyter.widget-view+json": {
       "model_id": "5096affd93a1491182e970f302be338c",
       "version_major": 2,
       "version_minor": 0
      },
      "text/plain": [
       "Epoch 5:   0%|                                                              | 0/131 [00:00<?, ?it/s]"
      ]
     },
     "metadata": {},
     "output_type": "display_data"
    },
    {
     "name": "stdout",
     "output_type": "stream",
     "text": [
      "Epoch 5 Training Loss: 2.4590                                                                                                                                                                                                  \n",
      "Validation Loss:                                                                                                                                                                                                               \n",
      "2.4173746253366026                                                                                                                                                                                                             \n",
      "Validation Accuracy:                                                                                                                                                                                                           \n",
      "0.07400288322921672                                                                                                                                                                                                            \n",
      "Hyperparameters:                                                                                                                                                                                                               \n",
      "{'batch_size': 176.0, 'dropout_co_graph_enabled': True, 'dropout_final_enabled': True, 'dropout_fusion_enabled': False, 'dropout_rate_co_graph': 0.22242937713291766, 'dropout_rate_final': 0.3321857199799823, 'dropout_rate_fusion': 0.28162593705418393, 'dropout_rate_sent': 0.4426085974995167, 'dropout_rate_word': 0.49137334198351024, 'dropout_sent_enabled': True, 'dropout_word_enabled': False, 'gamma': 1.8848567383853352, 'hidden_dim': 117.0, 'learning_rate': 6.518167240937549e-05, 'num_sentence_layers': 1.0, 'num_word_layers': 1.0, 'weight_decay': 9.313934024011445e-05}\n",
      "Loading existing valid indices from metadata                                                                                                                                                                                   \n",
      "Found 10409 processed documents                                                                                                                                                                                                \n",
      " 78%|█████████████████████████████████████████████████████████████████████████████████████████████████████████████████▏                                | 31/40 [11:22:06<1:54:37, 764.15s/trial, best loss: 2.1974068811912484]"
     ]
    },
    {
     "data": {
      "application/vnd.jupyter.widget-view+json": {
       "model_id": "4c4cbc5aa8c64038b310fa3ba92870d0",
       "version_major": 2,
       "version_minor": 0
      },
      "text/plain": [
       "Epoch 1:   0%|                                                               | 0/48 [00:00<?, ?it/s]"
      ]
     },
     "metadata": {},
     "output_type": "display_data"
    },
    {
     "name": "stdout",
     "output_type": "stream",
     "text": [
      "Epoch 1 Training Loss: 2.7887                                                                                                                                                                                                  \n",
      " 78%|█████████████████████████████████████████████████████████████████████████████████████████████████████████████████▏                                | 31/40 [11:24:23<1:54:37, 764.15s/trial, best loss: 2.1974068811912484]"
     ]
    },
    {
     "data": {
      "application/vnd.jupyter.widget-view+json": {
       "model_id": "7ec0180349b94720883f8e696cddac9c",
       "version_major": 2,
       "version_minor": 0
      },
      "text/plain": [
       "Epoch 2:   0%|                                                               | 0/48 [00:00<?, ?it/s]"
      ]
     },
     "metadata": {},
     "output_type": "display_data"
    },
    {
     "name": "stdout",
     "output_type": "stream",
     "text": [
      "Epoch 2 Training Loss: 2.7804                                                                                                                                                                                                  \n",
      " 78%|█████████████████████████████████████████████████████████████████████████████████████████████████████████████████▏                                | 31/40 [11:26:36<1:54:37, 764.15s/trial, best loss: 2.1974068811912484]"
     ]
    },
    {
     "data": {
      "application/vnd.jupyter.widget-view+json": {
       "model_id": "93e810d468c840ee85973a88dcac05af",
       "version_major": 2,
       "version_minor": 0
      },
      "text/plain": [
       "Epoch 3:   0%|                                                               | 0/48 [00:00<?, ?it/s]"
      ]
     },
     "metadata": {},
     "output_type": "display_data"
    },
    {
     "name": "stdout",
     "output_type": "stream",
     "text": [
      "Epoch 3 Training Loss: 2.7775                                                                                                                                                                                                  \n",
      " 78%|█████████████████████████████████████████████████████████████████████████████████████████████████████████████████▏                                | 31/40 [11:28:51<1:54:37, 764.15s/trial, best loss: 2.1974068811912484]"
     ]
    },
    {
     "data": {
      "application/vnd.jupyter.widget-view+json": {
       "model_id": "3b3a3b870d014001bfb6607dff48ceff",
       "version_major": 2,
       "version_minor": 0
      },
      "text/plain": [
       "Epoch 4:   0%|                                                               | 0/48 [00:00<?, ?it/s]"
      ]
     },
     "metadata": {},
     "output_type": "display_data"
    },
    {
     "name": "stdout",
     "output_type": "stream",
     "text": [
      "Epoch 4 Training Loss: 2.7853                                                                                                                                                                                                  \n",
      " 78%|█████████████████████████████████████████████████████████████████████████████████████████████████████████████████▏                                | 31/40 [11:31:09<1:54:37, 764.15s/trial, best loss: 2.1974068811912484]"
     ]
    },
    {
     "data": {
      "application/vnd.jupyter.widget-view+json": {
       "model_id": "4de0e66d0f72490796ca4332fda437ab",
       "version_major": 2,
       "version_minor": 0
      },
      "text/plain": [
       "Epoch 5:   0%|                                                               | 0/48 [00:00<?, ?it/s]"
      ]
     },
     "metadata": {},
     "output_type": "display_data"
    },
    {
     "name": "stdout",
     "output_type": "stream",
     "text": [
      "Epoch 5 Training Loss: 2.7751                                                                                                                                                                                                  \n",
      "Validation Loss:                                                                                                                                                                                                               \n",
      "2.7608795179763934                                                                                                                                                                                                             \n",
      "Validation Accuracy:                                                                                                                                                                                                           \n",
      "0.06343104276790004                                                                                                                                                                                                            \n",
      "Hyperparameters:                                                                                                                                                                                                               \n",
      "{'batch_size': 32.0, 'dropout_co_graph_enabled': True, 'dropout_final_enabled': True, 'dropout_fusion_enabled': False, 'dropout_rate_co_graph': 0.1788084456196251, 'dropout_rate_final': 0.36924312797344466, 'dropout_rate_fusion': 0.3154662079582093, 'dropout_rate_sent': 0.3238091653137283, 'dropout_rate_word': 0.44712645410364993, 'dropout_sent_enabled': True, 'dropout_word_enabled': False, 'gamma': 2.2427911211343328, 'hidden_dim': 173.0, 'learning_rate': 0.00014141386745307162, 'num_sentence_layers': 3.0, 'num_word_layers': 1.0, 'weight_decay': 1.4616870010695812e-08}\n",
      "Loading existing valid indices from metadata                                                                                                                                                                                   \n",
      "Found 10409 processed documents                                                                                                                                                                                                \n",
      " 80%|████████████████████████████████████████████████████████████████████████████████████████████████████████████████████▊                             | 32/40 [11:33:39<1:39:03, 742.97s/trial, best loss: 2.1974068811912484]"
     ]
    },
    {
     "data": {
      "application/vnd.jupyter.widget-view+json": {
       "model_id": "2f441281628145d981fc9ce2897619d9",
       "version_major": 2,
       "version_minor": 0
      },
      "text/plain": [
       "Epoch 1:   0%|                                                              | 0/261 [00:00<?, ?it/s]"
      ]
     },
     "metadata": {},
     "output_type": "display_data"
    },
    {
     "name": "stdout",
     "output_type": "stream",
     "text": [
      "Epoch 1 Training Loss: 2.7346                                                                                                                                                                                                  \n",
      " 80%|████████████████████████████████████████████████████████████████████████████████████████████████████████████████████▊                             | 32/40 [11:39:05<1:39:03, 742.97s/trial, best loss: 2.1974068811912484]"
     ]
    },
    {
     "data": {
      "application/vnd.jupyter.widget-view+json": {
       "model_id": "d471776bb44246dab3fa92a8731f9326",
       "version_major": 2,
       "version_minor": 0
      },
      "text/plain": [
       "Epoch 2:   0%|                                                              | 0/261 [00:00<?, ?it/s]"
      ]
     },
     "metadata": {},
     "output_type": "display_data"
    },
    {
     "name": "stdout",
     "output_type": "stream",
     "text": [
      "Epoch 2 Training Loss: 2.7259                                                                                                                                                                                                  \n",
      " 80%|████████████████████████████████████████████████████████████████████████████████████████████████████████████████████▊                             | 32/40 [11:44:32<1:39:03, 742.97s/trial, best loss: 2.1974068811912484]"
     ]
    },
    {
     "data": {
      "application/vnd.jupyter.widget-view+json": {
       "model_id": "52669a8ec5a4498b990c2feb16cdc3df",
       "version_major": 2,
       "version_minor": 0
      },
      "text/plain": [
       "Epoch 3:   0%|                                                              | 0/261 [00:00<?, ?it/s]"
      ]
     },
     "metadata": {},
     "output_type": "display_data"
    },
    {
     "name": "stdout",
     "output_type": "stream",
     "text": [
      "Epoch 3 Training Loss: 2.7070                                                                                                                                                                                                  \n",
      " 80%|████████████████████████████████████████████████████████████████████████████████████████████████████████████████████▊                             | 32/40 [11:49:53<1:39:03, 742.97s/trial, best loss: 2.1974068811912484]"
     ]
    },
    {
     "data": {
      "application/vnd.jupyter.widget-view+json": {
       "model_id": "d41f93141ea24d8a85760e70e19a5c6f",
       "version_major": 2,
       "version_minor": 0
      },
      "text/plain": [
       "Epoch 4:   0%|                                                              | 0/261 [00:00<?, ?it/s]"
      ]
     },
     "metadata": {},
     "output_type": "display_data"
    },
    {
     "name": "stdout",
     "output_type": "stream",
     "text": [
      "Epoch 4 Training Loss: 2.6497                                                                                                                                                                                                  \n",
      " 80%|████████████████████████████████████████████████████████████████████████████████████████████████████████████████████▊                             | 32/40 [11:55:16<1:39:03, 742.97s/trial, best loss: 2.1974068811912484]"
     ]
    },
    {
     "data": {
      "application/vnd.jupyter.widget-view+json": {
       "model_id": "d5eb52afe9cb45fba6a98bfea536148f",
       "version_major": 2,
       "version_minor": 0
      },
      "text/plain": [
       "Epoch 5:   0%|                                                              | 0/261 [00:00<?, ?it/s]"
      ]
     },
     "metadata": {},
     "output_type": "display_data"
    },
    {
     "name": "stdout",
     "output_type": "stream",
     "text": [
      "Epoch 5 Training Loss: 2.6265                                                                                                                                                                                                  \n",
      "Validation Loss:                                                                                                                                                                                                               \n",
      "2.5811100659148156                                                                                                                                                                                                             \n",
      "Validation Accuracy:                                                                                                                                                                                                           \n",
      "0.05670350792888035                                                                                                                                                                                                            \n",
      "Hyperparameters:                                                                                                                                                                                                               \n",
      "{'batch_size': 112.0, 'dropout_co_graph_enabled': True, 'dropout_final_enabled': True, 'dropout_fusion_enabled': False, 'dropout_rate_co_graph': 0.23068156529581432, 'dropout_rate_final': 0.13201210139392733, 'dropout_rate_fusion': 0.15618792471427925, 'dropout_rate_sent': 0.2885392305838013, 'dropout_rate_word': 0.4071730472081865, 'dropout_sent_enabled': True, 'dropout_word_enabled': False, 'gamma': 4.374848837313943, 'hidden_dim': 144.0, 'learning_rate': 0.0006326668293426917, 'num_sentence_layers': 1.0, 'num_word_layers': 2.0, 'weight_decay': 1.1641221860143081e-05}\n",
      "Loading existing valid indices from metadata                                                                                                                                                                                   \n",
      "Found 10409 processed documents                                                                                                                                                                                                \n",
      " 82%|███████████████████████████████████████████████████████████████████████████████████████████████████████████████████████▋                         | 33/40 [12:01:07<1:58:20, 1014.43s/trial, best loss: 2.1974068811912484]"
     ]
    },
    {
     "data": {
      "application/vnd.jupyter.widget-view+json": {
       "model_id": "2466f1064291427c9d82522608551cc9",
       "version_major": 2,
       "version_minor": 0
      },
      "text/plain": [
       "Epoch 1:   0%|                                                               | 0/75 [00:00<?, ?it/s]"
      ]
     },
     "metadata": {},
     "output_type": "display_data"
    },
    {
     "name": "stdout",
     "output_type": "stream",
     "text": [
      "Epoch 1 Training Loss: 2.5018                                                                                                                                                                                                  \n",
      " 82%|███████████████████████████████████████████████████████████████████████████████████████████████████████████████████████▋                         | 33/40 [12:03:31<1:58:20, 1014.43s/trial, best loss: 2.1974068811912484]"
     ]
    },
    {
     "data": {
      "application/vnd.jupyter.widget-view+json": {
       "model_id": "20f901f5f8ca497bb46a097b73c5c339",
       "version_major": 2,
       "version_minor": 0
      },
      "text/plain": [
       "Epoch 2:   0%|                                                               | 0/75 [00:00<?, ?it/s]"
      ]
     },
     "metadata": {},
     "output_type": "display_data"
    },
    {
     "name": "stdout",
     "output_type": "stream",
     "text": [
      "Epoch 2 Training Loss: 2.4736                                                                                                                                                                                                  \n",
      " 82%|███████████████████████████████████████████████████████████████████████████████████████████████████████████████████████▋                         | 33/40 [12:05:58<1:58:20, 1014.43s/trial, best loss: 2.1974068811912484]"
     ]
    },
    {
     "data": {
      "application/vnd.jupyter.widget-view+json": {
       "model_id": "c0542091f6c04c45a6759bd84050ae82",
       "version_major": 2,
       "version_minor": 0
      },
      "text/plain": [
       "Epoch 3:   0%|                                                               | 0/75 [00:00<?, ?it/s]"
      ]
     },
     "metadata": {},
     "output_type": "display_data"
    },
    {
     "name": "stdout",
     "output_type": "stream",
     "text": [
      "Epoch 3 Training Loss: 2.4585                                                                                                                                                                                                  \n",
      " 82%|███████████████████████████████████████████████████████████████████████████████████████████████████████████████████████▋                         | 33/40 [12:08:23<1:58:20, 1014.43s/trial, best loss: 2.1974068811912484]"
     ]
    },
    {
     "data": {
      "application/vnd.jupyter.widget-view+json": {
       "model_id": "e72abfbeb9ca4474b6c04467a27107ff",
       "version_major": 2,
       "version_minor": 0
      },
      "text/plain": [
       "Epoch 4:   0%|                                                               | 0/75 [00:00<?, ?it/s]"
      ]
     },
     "metadata": {},
     "output_type": "display_data"
    },
    {
     "name": "stdout",
     "output_type": "stream",
     "text": [
      "Epoch 4 Training Loss: 2.4157                                                                                                                                                                                                  \n",
      " 82%|███████████████████████████████████████████████████████████████████████████████████████████████████████████████████████▋                         | 33/40 [12:10:51<1:58:20, 1014.43s/trial, best loss: 2.1974068811912484]"
     ]
    },
    {
     "data": {
      "application/vnd.jupyter.widget-view+json": {
       "model_id": "8da350aeb6894bd68abea95ae5c417d9",
       "version_major": 2,
       "version_minor": 0
      },
      "text/plain": [
       "Epoch 5:   0%|                                                               | 0/75 [00:00<?, ?it/s]"
      ]
     },
     "metadata": {},
     "output_type": "display_data"
    },
    {
     "name": "stdout",
     "output_type": "stream",
     "text": [
      "Epoch 5 Training Loss: 2.3279                                                                                                                                                                                                  \n",
      "Validation Loss:                                                                                                                                                                                                               \n",
      "2.2222583934356823                                                                                                                                                                                                             \n",
      "Validation Accuracy:                                                                                                                                                                                                           \n",
      "0.09082172032676598                                                                                                                                                                                                            \n",
      "Hyperparameters:                                                                                                                                                                                                               \n",
      "{'batch_size': 112.0, 'dropout_co_graph_enabled': True, 'dropout_final_enabled': True, 'dropout_fusion_enabled': False, 'dropout_rate_co_graph': 0.28296792364711143, 'dropout_rate_final': 0.17841235151564955, 'dropout_rate_fusion': 0.16427109669913637, 'dropout_rate_sent': 0.27513957654973514, 'dropout_rate_word': 0.39782019052951695, 'dropout_sent_enabled': True, 'dropout_word_enabled': False, 'gamma': 4.386239260678154, 'hidden_dim': 146.0, 'learning_rate': 0.0006655592895149966, 'num_sentence_layers': 1.0, 'num_word_layers': 1.0, 'weight_decay': 9.00468784054813e-06}\n",
      "Loading existing valid indices from metadata                                                                                                                                                                                   \n",
      "Found 10409 processed documents                                                                                                                                                                                                \n",
      " 85%|████████████████████████████████████████████████████████████████████████████████████████████████████████████████████████████                      | 34/40 [12:13:33<1:33:24, 934.02s/trial, best loss: 2.1974068811912484]"
     ]
    },
    {
     "data": {
      "application/vnd.jupyter.widget-view+json": {
       "model_id": "ecb8acef3eda46d69b76df11e818d62e",
       "version_major": 2,
       "version_minor": 0
      },
      "text/plain": [
       "Epoch 1:   0%|                                                               | 0/75 [00:00<?, ?it/s]"
      ]
     },
     "metadata": {},
     "output_type": "display_data"
    },
    {
     "name": "stdout",
     "output_type": "stream",
     "text": [
      "Epoch 1 Training Loss: 2.5088                                                                                                                                                                                                  \n",
      " 85%|████████████████████████████████████████████████████████████████████████████████████████████████████████████████████████████                      | 34/40 [12:15:51<1:33:24, 934.02s/trial, best loss: 2.1974068811912484]"
     ]
    },
    {
     "data": {
      "application/vnd.jupyter.widget-view+json": {
       "model_id": "2e02bd43fc574ee5b4b9c136740b1583",
       "version_major": 2,
       "version_minor": 0
      },
      "text/plain": [
       "Epoch 2:   0%|                                                               | 0/75 [00:00<?, ?it/s]"
      ]
     },
     "metadata": {},
     "output_type": "display_data"
    },
    {
     "name": "stdout",
     "output_type": "stream",
     "text": [
      "Epoch 2 Training Loss: 2.4788                                                                                                                                                                                                  \n",
      " 85%|████████████████████████████████████████████████████████████████████████████████████████████████████████████████████████████                      | 34/40 [12:18:08<1:33:24, 934.02s/trial, best loss: 2.1974068811912484]"
     ]
    },
    {
     "data": {
      "application/vnd.jupyter.widget-view+json": {
       "model_id": "68236c116caf4677a0e0b1b0fcd4b919",
       "version_major": 2,
       "version_minor": 0
      },
      "text/plain": [
       "Epoch 3:   0%|                                                               | 0/75 [00:00<?, ?it/s]"
      ]
     },
     "metadata": {},
     "output_type": "display_data"
    },
    {
     "name": "stdout",
     "output_type": "stream",
     "text": [
      "Epoch 3 Training Loss: 2.4630                                                                                                                                                                                                  \n",
      " 85%|████████████████████████████████████████████████████████████████████████████████████████████████████████████████████████████                      | 34/40 [12:20:24<1:33:24, 934.02s/trial, best loss: 2.1974068811912484]"
     ]
    },
    {
     "data": {
      "application/vnd.jupyter.widget-view+json": {
       "model_id": "bc5c6e41b5b34eb684d926f04335791c",
       "version_major": 2,
       "version_minor": 0
      },
      "text/plain": [
       "Epoch 4:   0%|                                                               | 0/75 [00:00<?, ?it/s]"
      ]
     },
     "metadata": {},
     "output_type": "display_data"
    },
    {
     "name": "stdout",
     "output_type": "stream",
     "text": [
      "Epoch 4 Training Loss: 2.4108                                                                                                                                                                                                  \n",
      " 85%|████████████████████████████████████████████████████████████████████████████████████████████████████████████████████████████                      | 34/40 [12:22:38<1:33:24, 934.02s/trial, best loss: 2.1974068811912484]"
     ]
    },
    {
     "data": {
      "application/vnd.jupyter.widget-view+json": {
       "model_id": "1f73d293607e419aa845f8f8faff1e30",
       "version_major": 2,
       "version_minor": 0
      },
      "text/plain": [
       "Epoch 5:   0%|                                                               | 0/75 [00:00<?, ?it/s]"
      ]
     },
     "metadata": {},
     "output_type": "display_data"
    },
    {
     "name": "stdout",
     "output_type": "stream",
     "text": [
      "Epoch 5 Training Loss: 2.3664                                                                                                                                                                                                  \n",
      "Validation Loss:                                                                                                                                                                                                               \n",
      "2.318425022255395                                                                                                                                                                                                              \n",
      "Validation Accuracy:                                                                                                                                                                                                           \n",
      "0.10379625180201826                                                                                                                                                                                                            \n",
      "Hyperparameters:                                                                                                                                                                                                               \n",
      "{'batch_size': 160.0, 'dropout_co_graph_enabled': True, 'dropout_final_enabled': True, 'dropout_fusion_enabled': False, 'dropout_rate_co_graph': 0.22759059451052313, 'dropout_rate_final': 0.2291697697957613, 'dropout_rate_fusion': 0.17453256781239343, 'dropout_rate_sent': 0.2934232443421179, 'dropout_rate_word': 0.3717541327473002, 'dropout_sent_enabled': True, 'dropout_word_enabled': False, 'gamma': 4.195137576598715, 'hidden_dim': 189.0, 'learning_rate': 0.0007463315175594447, 'num_sentence_layers': 2.0, 'num_word_layers': 3.0, 'weight_decay': 4.171458959147069e-05}\n",
      "Loading existing valid indices from metadata                                                                                                                                                                                   \n",
      "Found 10409 processed documents                                                                                                                                                                                                \n",
      " 88%|███████████████████████████████████████████████████████████████████████████████████████████████████████████████████████████████▊                  | 35/40 [12:25:10<1:11:51, 862.38s/trial, best loss: 2.1974068811912484]"
     ]
    },
    {
     "data": {
      "application/vnd.jupyter.widget-view+json": {
       "model_id": "c954b296795b4c3e8b17184bf623700e",
       "version_major": 2,
       "version_minor": 0
      },
      "text/plain": [
       "Epoch 1:   0%|                                                               | 0/53 [00:00<?, ?it/s]"
      ]
     },
     "metadata": {},
     "output_type": "display_data"
    },
    {
     "name": "stdout",
     "output_type": "stream",
     "text": [
      "Epoch 1 Training Loss: 2.5364                                                                                                                                                                                                  \n",
      " 88%|███████████████████████████████████████████████████████████████████████████████████████████████████████████████████████████████▊                  | 35/40 [12:30:55<1:11:51, 862.38s/trial, best loss: 2.1974068811912484]"
     ]
    },
    {
     "data": {
      "application/vnd.jupyter.widget-view+json": {
       "model_id": "fb5e086348144cb0b6ed870b9c59adfb",
       "version_major": 2,
       "version_minor": 0
      },
      "text/plain": [
       "Epoch 2:   0%|                                                               | 0/53 [00:00<?, ?it/s]"
      ]
     },
     "metadata": {},
     "output_type": "display_data"
    },
    {
     "name": "stdout",
     "output_type": "stream",
     "text": [
      "Epoch 2 Training Loss: 2.4823                                                                                                                                                                                                  \n",
      " 88%|███████████████████████████████████████████████████████████████████████████████████████████████████████████████████████████████▊                  | 35/40 [12:36:40<1:11:51, 862.38s/trial, best loss: 2.1974068811912484]"
     ]
    },
    {
     "data": {
      "application/vnd.jupyter.widget-view+json": {
       "model_id": "6c684a6b92a2440c9dbe44886e890c86",
       "version_major": 2,
       "version_minor": 0
      },
      "text/plain": [
       "Epoch 3:   0%|                                                               | 0/53 [00:00<?, ?it/s]"
      ]
     },
     "metadata": {},
     "output_type": "display_data"
    },
    {
     "name": "stdout",
     "output_type": "stream",
     "text": [
      "Epoch 3 Training Loss: 2.5272                                                                                                                                                                                                  \n",
      " 88%|███████████████████████████████████████████████████████████████████████████████████████████████████████████████████████████████▊                  | 35/40 [12:42:25<1:11:51, 862.38s/trial, best loss: 2.1974068811912484]"
     ]
    },
    {
     "data": {
      "application/vnd.jupyter.widget-view+json": {
       "model_id": "17ae4c9a07de47ed89f6c67b28596c1f",
       "version_major": 2,
       "version_minor": 0
      },
      "text/plain": [
       "Epoch 4:   0%|                                                               | 0/53 [00:00<?, ?it/s]"
      ]
     },
     "metadata": {},
     "output_type": "display_data"
    },
    {
     "name": "stdout",
     "output_type": "stream",
     "text": [
      "Epoch 4 Training Loss: 2.5062                                                                                                                                                                                                  \n",
      " 88%|███████████████████████████████████████████████████████████████████████████████████████████████████████████████████████████████▊                  | 35/40 [12:48:11<1:11:51, 862.38s/trial, best loss: 2.1974068811912484]"
     ]
    },
    {
     "data": {
      "application/vnd.jupyter.widget-view+json": {
       "model_id": "cb66d896831940eea1d2bb5292004523",
       "version_major": 2,
       "version_minor": 0
      },
      "text/plain": [
       "Epoch 5:   0%|                                                               | 0/53 [00:00<?, ?it/s]"
      ]
     },
     "metadata": {},
     "output_type": "display_data"
    },
    {
     "name": "stdout",
     "output_type": "stream",
     "text": [
      "Epoch 5 Training Loss: 2.4682                                                                                                                                                                                                  \n",
      "Validation Loss:                                                                                                                                                                                                               \n",
      "2.4762697139005714                                                                                                                                                                                                             \n",
      "Validation Accuracy:                                                                                                                                                                                                           \n",
      "0.0490148966842864                                                                                                                                                                                                             \n",
      "Hyperparameters:                                                                                                                                                                                                               \n",
      "{'batch_size': 80.0, 'dropout_co_graph_enabled': False, 'dropout_final_enabled': True, 'dropout_fusion_enabled': False, 'dropout_rate_co_graph': 0.3375679749337145, 'dropout_rate_final': 0.1313612562655431, 'dropout_rate_fusion': 0.2059608244926943, 'dropout_rate_sent': 0.3433055680301838, 'dropout_rate_word': 0.41136047633351885, 'dropout_sent_enabled': True, 'dropout_word_enabled': False, 'gamma': 1.7758843910272442, 'hidden_dim': 139.0, 'learning_rate': 2.947745509281637e-05, 'num_sentence_layers': 3.0, 'num_word_layers': 2.0, 'weight_decay': 1.2362761170453285e-05}\n",
      "Loading existing valid indices from metadata                                                                                                                                                                                   \n",
      "Found 10409 processed documents                                                                                                                                                                                                \n",
      " 90%|██████████████████████████████████████████████████████████████████████████████████████████████████████████████████████████████████▌              | 36/40 [12:54:14<1:15:08, 1127.16s/trial, best loss: 2.1974068811912484]"
     ]
    },
    {
     "data": {
      "application/vnd.jupyter.widget-view+json": {
       "model_id": "bd0b729001bd48b99e0d32809a4c4a3c",
       "version_major": 2,
       "version_minor": 0
      },
      "text/plain": [
       "Epoch 1:   0%|                                                              | 0/105 [00:00<?, ?it/s]"
      ]
     },
     "metadata": {},
     "output_type": "display_data"
    },
    {
     "name": "stdout",
     "output_type": "stream",
     "text": [
      "Epoch 1 Training Loss: 2.7922                                                                                                                                                                                                  \n",
      " 90%|██████████████████████████████████████████████████████████████████████████████████████████████████████████████████████████████████▌              | 36/40 [12:59:07<1:15:08, 1127.16s/trial, best loss: 2.1974068811912484]"
     ]
    },
    {
     "data": {
      "application/vnd.jupyter.widget-view+json": {
       "model_id": "d6c7627919d0429eb76b3cf84fc5eb26",
       "version_major": 2,
       "version_minor": 0
      },
      "text/plain": [
       "Epoch 2:   0%|                                                              | 0/105 [00:00<?, ?it/s]"
      ]
     },
     "metadata": {},
     "output_type": "display_data"
    },
    {
     "name": "stdout",
     "output_type": "stream",
     "text": [
      "Epoch 2 Training Loss: 2.8143                                                                                                                                                                                                  \n",
      " 90%|██████████████████████████████████████████████████████████████████████████████████████████████████████████████████████████████████▌              | 36/40 [13:04:00<1:15:08, 1127.16s/trial, best loss: 2.1974068811912484]"
     ]
    },
    {
     "data": {
      "application/vnd.jupyter.widget-view+json": {
       "model_id": "ed4aad267ae74a50afa13393b8c311d3",
       "version_major": 2,
       "version_minor": 0
      },
      "text/plain": [
       "Epoch 3:   0%|                                                              | 0/105 [00:00<?, ?it/s]"
      ]
     },
     "metadata": {},
     "output_type": "display_data"
    },
    {
     "name": "stdout",
     "output_type": "stream",
     "text": [
      "Epoch 3 Training Loss: 2.7905                                                                                                                                                                                                  \n",
      " 90%|██████████████████████████████████████████████████████████████████████████████████████████████████████████████████████████████████▌              | 36/40 [13:08:54<1:15:08, 1127.16s/trial, best loss: 2.1974068811912484]"
     ]
    },
    {
     "data": {
      "application/vnd.jupyter.widget-view+json": {
       "model_id": "309e0e7236264d8f81b1135dc53984f3",
       "version_major": 2,
       "version_minor": 0
      },
      "text/plain": [
       "Epoch 4:   0%|                                                              | 0/105 [00:00<?, ?it/s]"
      ]
     },
     "metadata": {},
     "output_type": "display_data"
    },
    {
     "name": "stdout",
     "output_type": "stream",
     "text": [
      "Epoch 4 Training Loss: 2.7893                                                                                                                                                                                                  \n",
      " 90%|██████████████████████████████████████████████████████████████████████████████████████████████████████████████████████████████████▌              | 36/40 [13:13:43<1:15:08, 1127.16s/trial, best loss: 2.1974068811912484]"
     ]
    },
    {
     "data": {
      "application/vnd.jupyter.widget-view+json": {
       "model_id": "5b814cd617714745b0aa76ff8228abfd",
       "version_major": 2,
       "version_minor": 0
      },
      "text/plain": [
       "Epoch 5:   0%|                                                              | 0/105 [00:00<?, ?it/s]"
      ]
     },
     "metadata": {},
     "output_type": "display_data"
    },
    {
     "name": "stdout",
     "output_type": "stream",
     "text": [
      "Epoch 5 Training Loss: 2.7762                                                                                                                                                                                                  \n",
      "Validation Loss:                                                                                                                                                                                                               \n",
      "2.763195795831859                                                                                                                                                                                                              \n",
      "Validation Accuracy:                                                                                                                                                                                                           \n",
      "0.026429601153291685                                                                                                                                                                                                           \n",
      "Hyperparameters:                                                                                                                                                                                                               \n",
      "{'batch_size': 112.0, 'dropout_co_graph_enabled': True, 'dropout_final_enabled': True, 'dropout_fusion_enabled': False, 'dropout_rate_co_graph': 0.2863665646389836, 'dropout_rate_final': 0.25983789227629495, 'dropout_rate_fusion': 0.1476007360502127, 'dropout_rate_sent': 0.3893334822663939, 'dropout_rate_word': 0.48127148556153926, 'dropout_sent_enabled': True, 'dropout_word_enabled': False, 'gamma': 2.9181021679300083, 'hidden_dim': 162.0, 'learning_rate': 0.00026133125415729597, 'num_sentence_layers': 1.0, 'num_word_layers': 1.0, 'weight_decay': 2.1920963004875952e-06}\n",
      "Loading existing valid indices from metadata                                                                                                                                                                                   \n",
      "Found 10409 processed documents                                                                                                                                                                                                \n",
      " 92%|██████████████████████████████████████████████████████████████████████████████████████████████████████████████████████████████████████▏          | 37/40 [13:18:57<1:01:41, 1233.98s/trial, best loss: 2.1974068811912484]"
     ]
    },
    {
     "data": {
      "application/vnd.jupyter.widget-view+json": {
       "model_id": "80312a7cfc9a4b78abc1cad7cfe20398",
       "version_major": 2,
       "version_minor": 0
      },
      "text/plain": [
       "Epoch 1:   0%|                                                               | 0/75 [00:00<?, ?it/s]"
      ]
     },
     "metadata": {},
     "output_type": "display_data"
    },
    {
     "name": "stdout",
     "output_type": "stream",
     "text": [
      "Epoch 1 Training Loss: 2.6419                                                                                                                                                                                                  \n",
      " 92%|██████████████████████████████████████████████████████████████████████████████████████████████████████████████████████████████████████▏          | 37/40 [13:21:15<1:01:41, 1233.98s/trial, best loss: 2.1974068811912484]"
     ]
    },
    {
     "data": {
      "application/vnd.jupyter.widget-view+json": {
       "model_id": "61f9cb89093b4e4abfbb766acdcfc23d",
       "version_major": 2,
       "version_minor": 0
      },
      "text/plain": [
       "Epoch 2:   0%|                                                               | 0/75 [00:00<?, ?it/s]"
      ]
     },
     "metadata": {},
     "output_type": "display_data"
    },
    {
     "name": "stdout",
     "output_type": "stream",
     "text": [
      "Epoch 2 Training Loss: 2.6311                                                                                                                                                                                                  \n",
      " 92%|██████████████████████████████████████████████████████████████████████████████████████████████████████████████████████████████████████▏          | 37/40 [13:23:30<1:01:41, 1233.98s/trial, best loss: 2.1974068811912484]"
     ]
    },
    {
     "data": {
      "application/vnd.jupyter.widget-view+json": {
       "model_id": "3578bf86bcea4dbaa6a44ba77e5d314f",
       "version_major": 2,
       "version_minor": 0
      },
      "text/plain": [
       "Epoch 3:   0%|                                                               | 0/75 [00:00<?, ?it/s]"
      ]
     },
     "metadata": {},
     "output_type": "display_data"
    },
    {
     "name": "stdout",
     "output_type": "stream",
     "text": [
      "Epoch 3 Training Loss: 2.6149                                                                                                                                                                                                  \n",
      " 92%|██████████████████████████████████████████████████████████████████████████████████████████████████████████████████████████████████████▏          | 37/40 [13:25:47<1:01:41, 1233.98s/trial, best loss: 2.1974068811912484]"
     ]
    },
    {
     "data": {
      "application/vnd.jupyter.widget-view+json": {
       "model_id": "102897cb6c0f4f5c9f3d9d79cfa07cad",
       "version_major": 2,
       "version_minor": 0
      },
      "text/plain": [
       "Epoch 4:   0%|                                                               | 0/75 [00:00<?, ?it/s]"
      ]
     },
     "metadata": {},
     "output_type": "display_data"
    },
    {
     "name": "stdout",
     "output_type": "stream",
     "text": [
      "Epoch 4 Training Loss: 2.6015                                                                                                                                                                                                  \n",
      " 92%|██████████████████████████████████████████████████████████████████████████████████████████████████████████████████████████████████████▏          | 37/40 [13:28:06<1:01:41, 1233.98s/trial, best loss: 2.1974068811912484]"
     ]
    },
    {
     "data": {
      "application/vnd.jupyter.widget-view+json": {
       "model_id": "2ba7df770f034ad2916141ecd5a50119",
       "version_major": 2,
       "version_minor": 0
      },
      "text/plain": [
       "Epoch 5:   0%|                                                               | 0/75 [00:00<?, ?it/s]"
      ]
     },
     "metadata": {},
     "output_type": "display_data"
    },
    {
     "name": "stdout",
     "output_type": "stream",
     "text": [
      "Epoch 5 Training Loss: 2.5773                                                                                                                                                                                                  \n",
      "Validation Loss:                                                                                                                                                                                                               \n",
      "2.5452378090616032                                                                                                                                                                                                             \n",
      "Validation Accuracy:                                                                                                                                                                                                           \n",
      "0.05478135511773186                                                                                                                                                                                                            \n",
      "Hyperparameters:                                                                                                                                                                                                               \n",
      "{'batch_size': 64.0, 'dropout_co_graph_enabled': True, 'dropout_final_enabled': True, 'dropout_fusion_enabled': False, 'dropout_rate_co_graph': 0.17964525588571398, 'dropout_rate_final': 0.17238043992586127, 'dropout_rate_fusion': 0.13226524975370313, 'dropout_rate_sent': 0.3025439243524128, 'dropout_rate_word': 0.4618594498930903, 'dropout_sent_enabled': True, 'dropout_word_enabled': False, 'gamma': 3.216189612726777, 'hidden_dim': 83.0, 'learning_rate': 0.0004330320686995464, 'num_sentence_layers': 2.0, 'num_word_layers': 3.0, 'weight_decay': 0.00013664168600271346}\n",
      "Loading existing valid indices from metadata                                                                                                                                                                                   \n",
      "Found 10409 processed documents                                                                                                                                                                                                \n",
      " 95%|███████████████████████████████████████████████████████████████████████████████████████████████████████████████████████████████████████████▋       | 38/40 [13:30:39<35:48, 1074.33s/trial, best loss: 2.1974068811912484]"
     ]
    },
    {
     "data": {
      "application/vnd.jupyter.widget-view+json": {
       "model_id": "0a70058758a748188bfc2490f0ba613f",
       "version_major": 2,
       "version_minor": 0
      },
      "text/plain": [
       "Epoch 1:   0%|                                                              | 0/131 [00:00<?, ?it/s]"
      ]
     },
     "metadata": {},
     "output_type": "display_data"
    },
    {
     "name": "stdout",
     "output_type": "stream",
     "text": [
      "Epoch 1 Training Loss: 2.6152                                                                                                                                                                                                  \n",
      " 95%|███████████████████████████████████████████████████████████████████████████████████████████████████████████████████████████████████████████▋       | 38/40 [13:33:11<35:48, 1074.33s/trial, best loss: 2.1974068811912484]"
     ]
    },
    {
     "data": {
      "application/vnd.jupyter.widget-view+json": {
       "model_id": "b53b002288e74d4192da4f95151d3e56",
       "version_major": 2,
       "version_minor": 0
      },
      "text/plain": [
       "Epoch 2:   0%|                                                              | 0/131 [00:00<?, ?it/s]"
      ]
     },
     "metadata": {},
     "output_type": "display_data"
    },
    {
     "name": "stdout",
     "output_type": "stream",
     "text": [
      "Epoch 2 Training Loss: 2.6145                                                                                                                                                                                                  \n",
      " 95%|███████████████████████████████████████████████████████████████████████████████████████████████████████████████████████████████████████████▋       | 38/40 [13:35:40<35:48, 1074.33s/trial, best loss: 2.1974068811912484]"
     ]
    },
    {
     "data": {
      "application/vnd.jupyter.widget-view+json": {
       "model_id": "f26198852fa841c1908458bb46b48c6d",
       "version_major": 2,
       "version_minor": 0
      },
      "text/plain": [
       "Epoch 3:   0%|                                                              | 0/131 [00:00<?, ?it/s]"
      ]
     },
     "metadata": {},
     "output_type": "display_data"
    },
    {
     "name": "stdout",
     "output_type": "stream",
     "text": [
      "Epoch 3 Training Loss: 2.6170                                                                                                                                                                                                  \n",
      " 95%|███████████████████████████████████████████████████████████████████████████████████████████████████████████████████████████████████████████▋       | 38/40 [13:38:09<35:48, 1074.33s/trial, best loss: 2.1974068811912484]"
     ]
    },
    {
     "data": {
      "application/vnd.jupyter.widget-view+json": {
       "model_id": "b6c87a7f49c941e38dfea3a69fa6f4b2",
       "version_major": 2,
       "version_minor": 0
      },
      "text/plain": [
       "Epoch 4:   0%|                                                              | 0/131 [00:00<?, ?it/s]"
      ]
     },
     "metadata": {},
     "output_type": "display_data"
    },
    {
     "name": "stdout",
     "output_type": "stream",
     "text": [
      "Epoch 4 Training Loss: 2.5959                                                                                                                                                                                                  \n",
      " 95%|███████████████████████████████████████████████████████████████████████████████████████████████████████████████████████████████████████████▋       | 38/40 [13:40:38<35:48, 1074.33s/trial, best loss: 2.1974068811912484]"
     ]
    },
    {
     "data": {
      "application/vnd.jupyter.widget-view+json": {
       "model_id": "d5a644949ecc4dadb334b0a23e832557",
       "version_major": 2,
       "version_minor": 0
      },
      "text/plain": [
       "Epoch 5:   0%|                                                              | 0/131 [00:00<?, ?it/s]"
      ]
     },
     "metadata": {},
     "output_type": "display_data"
    },
    {
     "name": "stdout",
     "output_type": "stream",
     "text": [
      "Epoch 5 Training Loss: 2.6029                                                                                                                                                                                                  \n",
      "Validation Loss:                                                                                                                                                                                                               \n",
      "2.6072625389814035                                                                                                                                                                                                             \n",
      "Validation Accuracy:                                                                                                                                                                                                           \n",
      "0.05382027871215762                                                                                                                                                                                                            \n",
      "Hyperparameters:                                                                                                                                                                                                               \n",
      "{'batch_size': 192.0, 'dropout_co_graph_enabled': False, 'dropout_final_enabled': True, 'dropout_fusion_enabled': True, 'dropout_rate_co_graph': 0.21933250124658557, 'dropout_rate_final': 0.22576132029341617, 'dropout_rate_fusion': 0.22695295223337672, 'dropout_rate_sent': 0.21044662117793925, 'dropout_rate_word': 0.32165095190113085, 'dropout_sent_enabled': True, 'dropout_word_enabled': False, 'gamma': 4.616844377377815, 'hidden_dim': 151.0, 'learning_rate': 0.00030878221102858584, 'num_sentence_layers': 1.0, 'num_word_layers': 2.0, 'weight_decay': 1.8837251908505343e-05}\n",
      "Loading existing valid indices from metadata                                                                                                                                                                                   \n",
      "Found 10409 processed documents                                                                                                                                                                                                \n",
      " 98%|████████████████████████████████████████████████████████████████████████████████████████████████████████████████████████████████████████████████▎   | 39/40 [13:43:24<16:21, 981.80s/trial, best loss: 2.1974068811912484]"
     ]
    },
    {
     "data": {
      "application/vnd.jupyter.widget-view+json": {
       "model_id": "d2b653b15f6e428391d0949cba0702d9",
       "version_major": 2,
       "version_minor": 0
      },
      "text/plain": [
       "Epoch 1:   0%|                                                               | 0/44 [00:00<?, ?it/s]"
      ]
     },
     "metadata": {},
     "output_type": "display_data"
    },
    {
     "name": "stdout",
     "output_type": "stream",
     "text": [
      "Epoch 1 Training Loss: 2.4904                                                                                                                                                                                                  \n",
      " 98%|████████████████████████████████████████████████████████████████████████████████████████████████████████████████████████████████████████████████▎   | 39/40 [13:45:58<16:21, 981.80s/trial, best loss: 2.1974068811912484]"
     ]
    },
    {
     "data": {
      "application/vnd.jupyter.widget-view+json": {
       "model_id": "95490c558ed94b36a54992d6d7b4691b",
       "version_major": 2,
       "version_minor": 0
      },
      "text/plain": [
       "Epoch 2:   0%|                                                               | 0/44 [00:00<?, ?it/s]"
      ]
     },
     "metadata": {},
     "output_type": "display_data"
    },
    {
     "name": "stdout",
     "output_type": "stream",
     "text": [
      "Epoch 2 Training Loss: 2.4866                                                                                                                                                                                                  \n",
      " 98%|████████████████████████████████████████████████████████████████████████████████████████████████████████████████████████████████████████████████▎   | 39/40 [13:48:25<16:21, 981.80s/trial, best loss: 2.1974068811912484]"
     ]
    },
    {
     "data": {
      "application/vnd.jupyter.widget-view+json": {
       "model_id": "625110b684b8446aa07922984832f7cd",
       "version_major": 2,
       "version_minor": 0
      },
      "text/plain": [
       "Epoch 3:   0%|                                                               | 0/44 [00:00<?, ?it/s]"
      ]
     },
     "metadata": {},
     "output_type": "display_data"
    },
    {
     "name": "stdout",
     "output_type": "stream",
     "text": [
      "Epoch 3 Training Loss: 2.4778                                                                                                                                                                                                  \n",
      " 98%|████████████████████████████████████████████████████████████████████████████████████████████████████████████████████████████████████████████████▎   | 39/40 [13:50:51<16:21, 981.80s/trial, best loss: 2.1974068811912484]"
     ]
    },
    {
     "data": {
      "application/vnd.jupyter.widget-view+json": {
       "model_id": "88a803d6e9d846039344a2244457a6fd",
       "version_major": 2,
       "version_minor": 0
      },
      "text/plain": [
       "Epoch 4:   0%|                                                               | 0/44 [00:00<?, ?it/s]"
      ]
     },
     "metadata": {},
     "output_type": "display_data"
    },
    {
     "name": "stdout",
     "output_type": "stream",
     "text": [
      "Epoch 4 Training Loss: 2.4549                                                                                                                                                                                                  \n",
      " 98%|████████████████████████████████████████████████████████████████████████████████████████████████████████████████████████████████████████████████▎   | 39/40 [13:53:23<16:21, 981.80s/trial, best loss: 2.1974068811912484]"
     ]
    },
    {
     "data": {
      "application/vnd.jupyter.widget-view+json": {
       "model_id": "0a81aa3df3884f63af69a8b7008f5dce",
       "version_major": 2,
       "version_minor": 0
      },
      "text/plain": [
       "Epoch 5:   0%|                                                               | 0/44 [00:00<?, ?it/s]"
      ]
     },
     "metadata": {},
     "output_type": "display_data"
    },
    {
     "name": "stdout",
     "output_type": "stream",
     "text": [
      "Epoch 5 Training Loss: 2.4526                                                                                                                                                                                                  \n",
      "Validation Loss:                                                                                                                                                                                                               \n",
      "2.411263514229565                                                                                                                                                                                                              \n",
      "Validation Accuracy:                                                                                                                                                                                                           \n",
      "0.060067275348390195                                                                                                                                                                                                           \n",
      "100%|███████████████████████████████████████████████████████████████████████████████████████████████████████████████████████████████████████████████████| 40/40 [13:56:04<00:00, 1254.12s/trial, best loss: 2.1974068811912484]\n",
      "Best hyperparameters: {'batch_size': np.float64(48.0), 'dropout_co_graph_enabled': np.int64(0), 'dropout_final_enabled': np.int64(0), 'dropout_fusion_enabled': np.int64(1), 'dropout_rate_co_graph': np.float64(0.20629930383280137), 'dropout_rate_final': np.float64(0.239952468532074), 'dropout_rate_fusion': np.float64(0.237207820271752), 'dropout_rate_sent': np.float64(0.3934874479157007), 'dropout_rate_word': np.float64(0.3743377153261378), 'dropout_sent_enabled': np.int64(0), 'dropout_word_enabled': np.int64(1), 'gamma': np.float64(3.1139542593286), 'hidden_dim': np.float64(111.0), 'learning_rate': np.float64(0.0009841767327191644), 'num_sentence_layers': np.float64(1.0), 'num_word_layers': np.float64(1.0), 'weight_decay': np.float64(2.646938537392353e-08)}\n"
     ]
    }
   ],
   "source": [
    "import torch\n",
    "import torch.nn as nn\n",
    "import json\n",
    "from torch_geometric.loader import DataLoader\n",
    "from pathlib import Path\n",
    "import numpy as np\n",
    "from tqdm.notebook import tqdm\n",
    "from hyperopt import fmin, tpe, hp, Trials, STATUS_OK\n",
    "\n",
    "# Import your existing modules\n",
    "from src.models import CoGraphNet\n",
    "from src.data.document_dataset import DocumentGraphDataset\n",
    "from src.train import FocalLoss\n",
    "\n",
    "# -------------------------\n",
    "# Utility Functions\n",
    "# -------------------------\n",
    "def get_all_categories(train_dir: str, test_dir: str):\n",
    "    \"\"\"Get all unique categories across all datasets.\"\"\"\n",
    "    categories = set()\n",
    "    for data_dir in [train_dir, test_dir]:\n",
    "        for file in Path(data_dir).glob('*.json'):\n",
    "            with open(file, 'r', encoding='utf-8') as f:\n",
    "                doc = json.load(f)\n",
    "                if 'text' in doc and 'category' in doc and doc['text'].strip() and doc['category'].strip():\n",
    "                    categories.add(doc['category'])\n",
    "    return categories\n",
    "\n",
    "def create_dataloaders(root: str, train_dir: str, test_dir: str, batch_size: int):\n",
    "    \"\"\"Create DataLoader instances with a train/validation split.\"\"\"\n",
    "    all_categories = get_all_categories(train_dir, test_dir)\n",
    "    category_to_idx = {cat: idx for idx, cat in enumerate(sorted(all_categories))}\n",
    "    num_classes = len(category_to_idx)\n",
    "    \n",
    "    full_train_dataset = DocumentGraphDataset(\n",
    "        f\"{root}/train\", \n",
    "        train_dir, \n",
    "        category_to_idx=category_to_idx\n",
    "    )\n",
    "    \n",
    "    # Use 80% for training and 20% for validation.\n",
    "    dataset_size = len(full_train_dataset)\n",
    "    val_size = int(dataset_size * 0.2)\n",
    "    train_size = dataset_size - val_size\n",
    "    train_dataset, val_dataset = torch.utils.data.random_split(full_train_dataset, [train_size, val_size])\n",
    "    \n",
    "    train_loader = DataLoader(\n",
    "        train_dataset,\n",
    "        batch_size=batch_size,\n",
    "        shuffle=True,\n",
    "        num_workers=4,\n",
    "        pin_memory=True\n",
    "    )\n",
    "    \n",
    "    val_loader = DataLoader(\n",
    "        val_dataset,\n",
    "        batch_size=batch_size,\n",
    "        shuffle=False,\n",
    "        num_workers=4,\n",
    "        pin_memory=True\n",
    "    )\n",
    "    \n",
    "    return train_loader, val_loader, num_classes, category_to_idx\n",
    "\n",
    "def objective(params):\n",
    "    \"\"\"\n",
    "    Hyperopt objective function.\n",
    "    Trains the model for a few epochs using the provided hyperparameters and returns the validation loss.\n",
    "    \"\"\"\n",
    "    print(\"Hyperparameters:\", params)\n",
    "    device = torch.device(\"cuda\" if torch.cuda.is_available() else \"cpu\")\n",
    "    \n",
    "    # Convert batch_size to integer\n",
    "    batch_size = int(params['batch_size'])\n",
    "    root = \"processed_graphs_ohsumed\"\n",
    "    train_dir = \"processed_data_ohsumed/train\"\n",
    "    test_dir = \"processed_data_ohsumed/test\"\n",
    "    \n",
    "    # Create dataloaders\n",
    "    train_loader, val_loader, num_classes, category_to_idx = create_dataloaders(root, train_dir, test_dir, batch_size)\n",
    "    \n",
    "    # Create dropout configuration from hyperparameters\n",
    "    dropout_config = {\n",
    "        'word': params['dropout_word_enabled'],\n",
    "        'sent': params['dropout_sent_enabled'],\n",
    "        'fusion': params['dropout_fusion_enabled'],\n",
    "        'co_graph': params['dropout_co_graph_enabled'],\n",
    "        'final': params['dropout_final_enabled']\n",
    "    }\n",
    "    \n",
    "    dropout_rate = {\n",
    "        'word': params['dropout_rate_word'],\n",
    "        'sent': params['dropout_rate_sent'],\n",
    "        'fusion': params['dropout_rate_fusion'],\n",
    "        'co_graph': params['dropout_rate_co_graph'],\n",
    "        'final': params['dropout_rate_final']\n",
    "    }\n",
    "    \n",
    "    # Build the model using the hyperparameters\n",
    "    model = CoGraphNet(\n",
    "        word_in_channels=768,\n",
    "        sent_in_channels=768,\n",
    "        hidden_channels=int(params['hidden_dim']),\n",
    "        num_word_layers=int(params['num_word_layers']),\n",
    "        num_sent_layers=int(params['num_sentence_layers']),\n",
    "        num_classes=num_classes,\n",
    "        dropout_config=dropout_config,\n",
    "        dropout_rate=dropout_rate\n",
    "    ).to(device)\n",
    "    \n",
    "    # Setup optimizer and criterion\n",
    "    optimizer = torch.optim.Adam(model.parameters(), lr=params['learning_rate'], weight_decay=params['weight_decay'])\n",
    "    \n",
    "    # Compute separate class weights for training and validation sets\n",
    "    train_labels = torch.tensor([data.y.item() for data in train_loader.dataset])\n",
    "    train_class_counts = torch.bincount(train_labels, minlength=num_classes)\n",
    "    train_total_samples = len(train_labels)\n",
    "    train_class_weights = train_total_samples / (num_classes * train_class_counts.float())\n",
    "    train_class_weights = train_class_weights.to(device)\n",
    "\n",
    "    val_labels = torch.tensor([data.y.item() for data in val_loader.dataset])\n",
    "    val_class_counts = torch.bincount(val_labels, minlength=num_classes)\n",
    "    val_total_samples = len(val_labels)\n",
    "    val_class_weights = val_total_samples / (num_classes * val_class_counts.float())\n",
    "    val_class_weights = val_class_weights.to(device)\n",
    "    \n",
    "    # Create separate loss functions for training and validation\n",
    "    train_criterion = FocalLoss(gamma=params['gamma'], weight=train_class_weights)\n",
    "    val_criterion = FocalLoss(gamma=params['gamma'], weight=val_class_weights)\n",
    "    \n",
    "    num_epochs = 5  # Use a small number of epochs for hyperparameter tuning\n",
    "    for epoch in range(num_epochs):\n",
    "        model.train()\n",
    "        epoch_loss = 0.0\n",
    "        for batch in tqdm(train_loader, desc=f\"Epoch {epoch+1}\", leave=False, ncols=100):\n",
    "            # Move data to device\n",
    "            word_x = batch['word'].x.to(device)\n",
    "            word_edge_index = batch['word', 'co_occurs', 'word'].edge_index.to(device)\n",
    "            word_edge_weight = batch['word', 'co_occurs', 'word'].edge_attr.to(device)\n",
    "            word_batch = batch['word'].batch.to(device)\n",
    "            \n",
    "            sent_x = batch['sentence'].x.to(device)\n",
    "            sent_edge_index = batch['sentence', 'related_to', 'sentence'].edge_index.to(device)\n",
    "            sent_edge_weight = batch['sentence', 'related_to', 'sentence'].edge_attr.to(device)\n",
    "            sent_batch = batch['sentence'].batch.to(device)\n",
    "            \n",
    "            optimizer.zero_grad()\n",
    "            outputs = model(\n",
    "                word_x, word_edge_index, word_batch, word_edge_weight,\n",
    "                sent_x, sent_edge_index, sent_batch, sent_edge_weight\n",
    "            )\n",
    "            batch = batch.to(device)\n",
    "            curr_batch_size = batch.y.size(0)\n",
    "            loss = train_criterion(outputs[:curr_batch_size], batch.y)\n",
    "            loss.backward()\n",
    "            optimizer.step()\n",
    "            epoch_loss += loss.item()\n",
    "        print(f\"Epoch {epoch+1} Training Loss: {epoch_loss/len(train_loader):.4f}\")\n",
    "    \n",
    "    # Evaluate on validation set\n",
    "    model.eval()\n",
    "    total_loss = 0\n",
    "    correct = 0\n",
    "    total = 0\n",
    "    with torch.no_grad():\n",
    "        for batch in val_loader:\n",
    "            word_x = batch['word'].x.to(device)\n",
    "            word_edge_index = batch['word', 'co_occurs', 'word'].edge_index.to(device)\n",
    "            word_edge_weight = batch['word', 'co_occurs', 'word'].edge_attr.to(device)\n",
    "            word_batch = batch['word'].batch.to(device)\n",
    "            \n",
    "            sent_x = batch['sentence'].x.to(device)\n",
    "            sent_edge_index = batch['sentence', 'related_to', 'sentence'].edge_index.to(device)\n",
    "            sent_edge_weight = batch['sentence', 'related_to', 'sentence'].edge_attr.to(device)\n",
    "            sent_batch = batch['sentence'].batch.to(device)\n",
    "            \n",
    "            outputs = model(\n",
    "                word_x, word_edge_index, word_batch, word_edge_weight,\n",
    "                sent_x, sent_edge_index, sent_batch, sent_edge_weight\n",
    "            )\n",
    "            batch = batch.to(device)\n",
    "            curr_batch_size = batch.y.size(0)\n",
    "            loss = val_criterion(outputs[:curr_batch_size], batch.y)\n",
    "            total_loss += loss.item() * curr_batch_size\n",
    "            preds = outputs[:curr_batch_size].argmax(dim=1)\n",
    "            correct += (preds == batch.y).sum().item()\n",
    "            total += curr_batch_size\n",
    "    \n",
    "    val_loss = total_loss / total\n",
    "    val_acc = correct / total\n",
    "    print(\"Validation Loss:\", val_loss, \"Validation Accuracy:\", val_acc)\n",
    "    \n",
    "    # Hyperopt minimizes the objective, so we return the validation loss.\n",
    "    return {'loss': val_loss, 'status': STATUS_OK}\n",
    "\n",
    "if __name__ == \"__main__\":\n",
    "    # Define the hyperopt search space including batch_size and dropout_rate\n",
    "    space = {\n",
    "        'learning_rate': hp.loguniform('learning_rate', np.log(1e-5), np.log(1e-3)),\n",
    "        'gamma': hp.uniform('gamma', 0.5, 5.0),\n",
    "        'weight_decay': hp.loguniform('weight_decay', np.log(1e-8), np.log(1e-3)),\n",
    "        'hidden_dim': hp.quniform('hidden_dim', 64, 256, 1),\n",
    "        'num_word_layers': hp.quniform('num_word_layers', 1, 5, 1),\n",
    "        'num_sentence_layers': hp.quniform('num_sentence_layers', 1, 5, 1),\n",
    "        'batch_size': hp.quniform('batch_size', 16, 512, 16),\n",
    "        \n",
    "        # Dropout enable/disable flags\n",
    "        'dropout_word_enabled': hp.choice('dropout_word_enabled', [True, False]),\n",
    "        'dropout_sent_enabled': hp.choice('dropout_sent_enabled', [True, False]),\n",
    "        'dropout_fusion_enabled': hp.choice('dropout_fusion_enabled', [True, False]),\n",
    "        'dropout_co_graph_enabled': hp.choice('dropout_co_graph_enabled', [True, False]),\n",
    "        'dropout_final_enabled': hp.choice('dropout_final_enabled', [True, False]),\n",
    "        \n",
    "        # Dropout rates for each component\n",
    "        'dropout_rate_word': hp.uniform('dropout_rate_word', 0.1, 0.5),\n",
    "        'dropout_rate_sent': hp.uniform('dropout_rate_sent', 0.1, 0.5),\n",
    "        'dropout_rate_fusion': hp.uniform('dropout_rate_fusion', 0.1, 0.5),\n",
    "        'dropout_rate_co_graph': hp.uniform('dropout_rate_co_graph', 0.1, 0.5),\n",
    "        'dropout_rate_final': hp.uniform('dropout_rate_final', 0.1, 0.5)\n",
    "    }\n",
    "    \n",
    "    trials = Trials()\n",
    "    best = fmin(fn=objective, space=space, algo=tpe.suggest, max_evals=40, trials=trials)\n",
    "    print(\"Best hyperparameters:\", best)\n"
   ]
  },
  {
   "cell_type": "code",
   "execution_count": null,
   "id": "0d310757-6a18-433d-8c21-ed25cb7dd03b",
   "metadata": {},
   "outputs": [],
   "source": []
  }
 ],
 "metadata": {
  "kernelspec": {
   "display_name": "Python 3 (ipykernel)",
   "language": "python",
   "name": "python3"
  },
  "language_info": {
   "codemirror_mode": {
    "name": "ipython",
    "version": 3
   },
   "file_extension": ".py",
   "mimetype": "text/x-python",
   "name": "python",
   "nbconvert_exporter": "python",
   "pygments_lexer": "ipython3",
   "version": "3.12.9"
  }
 },
 "nbformat": 4,
 "nbformat_minor": 5
}
